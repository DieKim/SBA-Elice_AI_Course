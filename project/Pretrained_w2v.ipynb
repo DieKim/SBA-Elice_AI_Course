{
  "nbformat": 4,
  "nbformat_minor": 0,
  "metadata": {
    "accelerator": "GPU",
    "colab": {
      "name": "Pretrained_w2v.ipynb",
      "provenance": [],
      "collapsed_sections": [],
      "toc_visible": true,
      "include_colab_link": true
    },
    "kernelspec": {
      "display_name": "Python 3",
      "language": "python",
      "name": "python3"
    },
    "language_info": {
      "codemirror_mode": {
        "name": "ipython",
        "version": 3
      },
      "file_extension": ".py",
      "mimetype": "text/x-python",
      "name": "python",
      "nbconvert_exporter": "python",
      "pygments_lexer": "ipython3",
      "version": "3.7.3"
    }
  },
  "cells": [
    {
      "cell_type": "markdown",
      "metadata": {
        "id": "view-in-github",
        "colab_type": "text"
      },
      "source": [
        "<a href=\"https://colab.research.google.com/github/DieKim/SBA-Elice_Project_NLP/blob/main/sba_project_emoing/Pretrained_w2v.ipynb\" target=\"_parent\"><img src=\"https://colab.research.google.com/assets/colab-badge.svg\" alt=\"Open In Colab\"/></a>"
      ]
    },
    {
      "cell_type": "markdown",
      "metadata": {
        "id": "YithpZ4EkGuU"
      },
      "source": [
        "# 기본적인 데이터 전처리"
      ]
    },
    {
      "cell_type": "code",
      "metadata": {
        "colab": {
          "base_uri": "https://localhost:8080/"
        },
        "id": "6iI4aQw6huqR",
        "outputId": "455b47d3-542d-454a-89d9-66d38c888edf"
      },
      "source": [
        "from google.colab import drive\n",
        "drive.mount('/content/drive/')\n",
        "\n",
        "import numpy as np\n",
        "import keras\n",
        "from  keras.preprocessing.text import Tokenizer\n",
        "from keras.preprocessing.sequence import pad_sequences\n",
        "import os\n",
        "import pandas as pd\n",
        "from keras.utils import to_categorical\n",
        "import matplotlib.pyplot as plt\n",
        "from sklearn.metrics import classification_report\n",
        "\n",
        "df_train = pd.read_csv('/content/drive/MyDrive/sentimental_analysis_project/data/train.txt', header =None, sep =';', names = ['Sentence','Emotion'], encoding='utf-8')\n",
        "df_test = pd.read_csv('/content/drive/MyDrive/sentimental_analysis_project/data/test.txt', header = None, sep =';', names = ['Sentence','Emotion'],encoding='utf-8')\n",
        "df_val=pd.read_csv('/content/drive/MyDrive/sentimental_analysis_project/data/val.txt',header=None,sep=';',names=['Sentence','Emotion'],encoding='utf-8')\n",
        "\n",
        "import nltk\n",
        "from nltk.corpus import stopwords\n",
        "from nltk import sent_tokenize, word_tokenize\n",
        "from wordcloud import WordCloud, STOPWORDS, ImageColorGenerator\n",
        "from collections import Counter\n",
        "from nltk.tokenize import RegexpTokenizer\n",
        "import re"
      ],
      "execution_count": null,
      "outputs": [
        {
          "output_type": "stream",
          "text": [
            "Drive already mounted at /content/drive/; to attempt to forcibly remount, call drive.mount(\"/content/drive/\", force_remount=True).\n"
          ],
          "name": "stdout"
        }
      ]
    },
    {
      "cell_type": "code",
      "metadata": {
        "colab": {
          "base_uri": "https://localhost:8080/"
        },
        "id": "L2d1Js_biXJQ",
        "outputId": "5050f554-3590-484a-fbbd-53d38c5a733c"
      },
      "source": [
        "# findall 함수를 사용하여 띄어 쓰기 단위로 글자만을 가져옵니다.(소문자로 변환도 수행)\n",
        "tokens = re.findall(\"[\\w']+\", df_train['Sentence'].str.lower().str.cat(sep=' ')) \n",
        "\n",
        "# nltk에서 지원하는 'stopwords'를 다운받습니다.\n",
        "nltk.download('stopwords')\n",
        "\n",
        "# 영어 'stopwords'를 가져옵니다.\n",
        "en_stops = set(stopwords.words('english'))\n",
        "\n",
        "# tokens에서 'stopwords'에 해당되지 않는 단어를 골라내어 filtered_sentence에 저장합니다.\n",
        "filtered_sentence = [word for word in tokens if word not in stopwords.words('english')]\n",
        "\n",
        "#filtered_sentence\n",
        "\n",
        "nltk.download('punkt')\n",
        "from nltk.tokenize import word_tokenize"
      ],
      "execution_count": null,
      "outputs": [
        {
          "output_type": "stream",
          "text": [
            "[nltk_data] Downloading package stopwords to /root/nltk_data...\n",
            "[nltk_data]   Package stopwords is already up-to-date!\n",
            "[nltk_data] Downloading package punkt to /root/nltk_data...\n",
            "[nltk_data]   Package punkt is already up-to-date!\n"
          ],
          "name": "stdout"
        }
      ]
    },
    {
      "cell_type": "code",
      "metadata": {
        "id": "gn8RJqFqi7kD"
      },
      "source": [
        "\n",
        "\n",
        "# 분리된 토큰들이 저장될 list를 초기화 합니다.\n",
        "token_sentence = []\n",
        "\n",
        "for sentence in df_train['Sentence']:\n",
        "    # word_tokenize 함수를 사용하여 문장을 토큰으로 분리합니다.\n",
        "    # word_tokenize 사용\n",
        "    i = word_tokenize(sentence)\n",
        "    # 분리된 토큰들을 저장합니다.\n",
        "\n",
        "    # token_sentence에 저장\n",
        "    token_sentence.append(i)\n",
        "    \n",
        "filtered_sentence = []\n",
        "stop_words = set(stopwords.words('english'))\n",
        "for sentence in token_sentence:\n",
        "    # stopword 제거\n",
        "    word_token = [word for word in sentence if word not in stopwords.words('english')]\n",
        "    filtered_sentence.append(word_token)\n",
        "\n",
        "from nltk.stem import PorterStemmer\n",
        "stemmer = PorterStemmer()\n",
        "stemming_sentence = []\n",
        "\n",
        "for sentence in filtered_sentence:\n",
        "    # stemmer의 사용법을 검색하여 word를 stemming해주세요\n",
        "    word_token = [stemmer.stem(i) for i in sentence]\n",
        "    stemming_sentence.append(word_token)\n",
        "\n",
        "from  keras.preprocessing.text import Tokenizer\n",
        "\n",
        "tokenizer=Tokenizer(oov_token='UNK')\n",
        "## tokenizer를 이용하여 BoW만들기\n",
        "tokenizer.fit_on_texts(stemming_sentence)\n",
        "\n"
      ],
      "execution_count": null,
      "outputs": []
    },
    {
      "cell_type": "code",
      "metadata": {
        "id": "KGzbrjzZgQk9"
      },
      "source": [
        "stemming_sentence_train = []\n",
        "stemming_sentence_val = []\n",
        "stemming_sentence_test = []\n",
        "\n",
        "\n",
        "\n",
        "for sentence in df_train['Sentence']:\n",
        "    ## training데이터에서 했던것처럼, word_tokenizer와 stemmer를 사용하여 word token sequence로 만들어주세요\n",
        "    i = word_tokenize(sentence)\n",
        "    word_token = [word for word in i if word not in stopwords.words('english')]\n",
        "    word_token = [stemmer.stem(j) for j in word_token]\n",
        "    stemming_sentence_train.append(word_token)\n",
        "\n",
        "for sentence in df_val['Sentence']:\n",
        "    ## training데이터에서 했던것처럼, word_tokenizer와 stemmer를 사용하여 word token sequence로 만들어주세요\n",
        "    i = word_tokenize(sentence)\n",
        "    word_token = [word for word in i if word not in stopwords.words('english')]\n",
        "    word_token = [stemmer.stem(j) for j in word_token]\n",
        "    stemming_sentence_val.append(word_token)\n",
        "    \n",
        "for sentence in df_test['Sentence']:\n",
        "    ## training데이터에서 했던것처럼, word_tokenizer와 stemmer를 사용하여 word token sequence로 만들어주세요\n",
        "    i = word_tokenize(sentence)\n",
        "    word_token = [word for word in i if word not in stopwords.words('english')]\n",
        "    word_token = [stemmer.stem(j) for j in word_token]\n",
        "    stemming_sentence_test.append(word_token)\n",
        "\n",
        "## stemming_sentence_val, test를 bow로 표현하기\n",
        "\n",
        "X_train=tokenizer.texts_to_sequences(stemming_sentence_train)\n",
        "X_val=tokenizer.texts_to_sequences(stemming_sentence_val)\n",
        "X_test=tokenizer.texts_to_sequences(stemming_sentence_test)\n",
        "\n",
        "## X_vala과 X_test를 padding을 붙여 일정길이로 만들어주기\n",
        "X_train_pad=pad_sequences(X_train, maxlen=35, padding='post')\n",
        "X_val_pad=pad_sequences(X_val, maxlen=35, padding='post')\n",
        "X_test_pad=pad_sequences(X_test, maxlen=35, padding='post')\n",
        "\n",
        "try:\n",
        "    df_train['Emotion']=df_train['Emotion'].replace({'joy':0,'anger':1,'love':2,'sadness':3,'fear':4,'surprise':5})\n",
        "    df_val['Emotion']=df_val['Emotion'].replace({'joy':0,'anger':1,'love':2,'sadness':3,'fear':4,'surprise':5})\n",
        "    df_test['Emotion']=df_test['Emotion'].replace({'joy':0,'anger':1,'love':2,'sadness':3,'fear':4,'surprise':5})\n",
        "except: pass\n",
        "\n",
        "y_train = np.array(df_train['Emotion'].values)\n",
        "y_val = np.array(df_val['Emotion'].values)\n",
        "y_test = np.array(df_test['Emotion'].values)"
      ],
      "execution_count": null,
      "outputs": []
    },
    {
      "cell_type": "code",
      "metadata": {
        "id": "J3qHa4OiinaY"
      },
      "source": [
        "import tensorflow as tf\n",
        "from tensorflow.keras.models import Sequential, Model\n",
        "from tensorflow.keras.layers import Dense,Input, concatenate\n",
        "from tensorflow.keras.layers import LSTM, GRU, SimpleRNN, Dropout, BatchNormalization, Activation, Conv1D, GlobalMaxPooling1D, MaxPooling1D\n",
        "from tensorflow.keras.layers import Embedding, Bidirectional, Flatten\n",
        "from tensorflow.keras.preprocessing import sequence\n",
        "from tensorflow.keras.callbacks import Callback"
      ],
      "execution_count": null,
      "outputs": []
    },
    {
      "cell_type": "markdown",
      "metadata": {
        "id": "oqegqNso2fEl"
      },
      "source": [
        "# 일반 모델"
      ]
    },
    {
      "cell_type": "code",
      "metadata": {
        "id": "QeitqHszkWE8"
      },
      "source": [
        "sequence_length = 35 # max(num_token_per_sentence)\n",
        "vocabulary_size = len(tokenizer.word_index)+1 # 10376\n",
        "embedding_dim = 256"
      ],
      "execution_count": null,
      "outputs": []
    },
    {
      "cell_type": "code",
      "metadata": {
        "colab": {
          "base_uri": "https://localhost:8080/"
        },
        "id": "fZ6G8j2E3xpj",
        "outputId": "55d34f5f-9b87-4802-ca07-4076298127e5"
      },
      "source": [
        "## 기본모델, 임베딩 레이어 위에 LSTM모델이 두 층, 그 위에 덴스레이어가 위치하도록 모델을 디자인해주세요\n",
        "model = Sequential()\n",
        "model.add(Embedding(input_dim=vocabulary_size, output_dim=embedding_dim, input_length=sequence_length, mask_zero=True))\n",
        "model.add(LSTM(80, return_sequences=True))\n",
        "model.add(LSTM(160))\n",
        "model.add(Dense(6,activation='softmax'))\n",
        "\n",
        "## 모델구조보기\n",
        "print(model.summary())"
      ],
      "execution_count": null,
      "outputs": [
        {
          "output_type": "stream",
          "text": [
            "Model: \"sequential_6\"\n",
            "_________________________________________________________________\n",
            "Layer (type)                 Output Shape              Param #   \n",
            "=================================================================\n",
            "embedding_12 (Embedding)     (None, 35, 256)           2656512   \n",
            "_________________________________________________________________\n",
            "lstm_20 (LSTM)               (None, 35, 80)            107840    \n",
            "_________________________________________________________________\n",
            "lstm_21 (LSTM)               (None, 160)               154240    \n",
            "_________________________________________________________________\n",
            "dense_17 (Dense)             (None, 6)                 966       \n",
            "=================================================================\n",
            "Total params: 2,919,558\n",
            "Trainable params: 2,919,558\n",
            "Non-trainable params: 0\n",
            "_________________________________________________________________\n",
            "None\n"
          ],
          "name": "stdout"
        }
      ]
    },
    {
      "cell_type": "code",
      "metadata": {
        "id": "81T4VmILkXlq"
      },
      "source": [
        "input_ = Input(shape=((sequence_length)))\n",
        "x1 = Embedding(input_dim=vocabulary_size, output_dim=embedding_dim, input_length=sequence_length, mask_zero=True)(input_)\n",
        "x1 = Dropout(0.3)(x1)\n",
        "\n",
        "\n",
        "#x2 = LSTM(64, return_sequences=True)(x1)\n",
        "#x2 = LSTM(128)(x2)\n",
        "x2 = Bidirectional(LSTM(64, return_sequences=True))(x1)\n",
        "x2 = Bidirectional(LSTM(128))(x2)\n",
        "x2 = Dense(128, activation='relu', kernel_regularizer=keras.regularizers.l2(0.05), bias_regularizer=keras.regularizers.l2(0.05))(x2)\n",
        "x2_model = Model(input_, x2)\n",
        "\n",
        "x3 = Conv1D(128, 3, activation='relu', padding='valid', use_bias = True)(x1)\n",
        "x3 = GlobalMaxPooling1D()(x3)\n",
        "x3 = Dense(128, activation='relu', kernel_regularizer=keras.regularizers.l2(0.05), bias_regularizer=keras.regularizers.l2(0.05))(x3)\n",
        "x3_model = Model(input_, x3)\n",
        "\n",
        "x4 = concatenate([x2_model.output,x3_model.output])\n",
        "x4 = Dropout(0.5)(x4)\n",
        "x4 = Dense(6,activation='softmax')(x4)\n",
        "\n",
        "model = Model(input_, x4)\n",
        "tf.keras.utils.plot_model(model, show_shapes=True)\n",
        "#print(model.summary())"
      ],
      "execution_count": null,
      "outputs": []
    },
    {
      "cell_type": "code",
      "metadata": {
        "id": "Fk9OC5NUnBY7"
      },
      "source": [
        "model = Sequential()\n",
        "model.add(Embedding(input_dim=vocabulary_size, output_dim=embedding_dim, input_length=sequence_length, mask_zero=True))\n",
        "model.add(Dropout(0.6))\n",
        "model.add(Bidirectional(LSTM(80, return_sequences=True)))\n",
        "model.add(Bidirectional(LSTM(160)))\n",
        "#model.add(Dense(256, activation='swish', kernel_regularizer=keras.regularizers.l2(0.05), bias_regularizer=keras.regularizers.l2(0.05)))\n",
        "#model.add(Dropout(0.5))\n",
        "#model.add(Dense(128, activation='swish', kernel_regularizer=keras.regularizers.l2(0.05), bias_regularizer=keras.regularizers.l2(0.05)))\n",
        "#model.add(Dropout(0.5))\n",
        "model.add(Dense(6,activation='softmax'))"
      ],
      "execution_count": null,
      "outputs": []
    },
    {
      "cell_type": "markdown",
      "metadata": {
        "id": "stAljuuo2WkS"
      },
      "source": [
        "# 모델 학습"
      ]
    },
    {
      "cell_type": "code",
      "metadata": {
        "colab": {
          "base_uri": "https://localhost:8080/"
        },
        "id": "knl7fsKUkaKz",
        "outputId": "1794e00b-cb16-492f-939b-8b6d6f7b0d9d"
      },
      "source": [
        "## 모델 compile option주기 tf.keras.optimizers.RMSprop(learning_rate=0.001)\n",
        "#model.compile(optimizer='RMSprop', loss='sparse_categorical_crossentropy', metrics=['accuracy'])\n",
        "model.compile(optimizer='adam', loss='sparse_categorical_crossentropy', metrics=['accuracy'])\n",
        "#from tensorflow.keras.callbacks import ModelCheckpoink              val_accuracy\n",
        "filepath = '/content/drive/MyDrive/sentimental_analysis_project/best_modelwv.hdf5'\n",
        "callbacks = [tf.keras.callbacks.ModelCheckpoint(filepath=filepath, monitor = 'val_loss', verbose =1, save_best_only = True),]\n",
        "             #tf.keras.callbacks.EarlyStopping(monitor='val_loss', patience=8, verbose=1, mode='auto'),]\n",
        "             #tf.keras.callbacks.ReduceLROnPlateau(monitor='val_loss', factor=0.2, patience=1, verbose=1, min_lr=0)]\n",
        "\n",
        "## 모델 학습하기\n",
        "# X_val_pad, y_val을 가지고 validation성능을 확인하며 학습할 수 있도록 해주세요.\n",
        "history = model.fit(X_train_pad, y_train, validation_data=(X_val_pad, y_val), batch_size=64, epochs=10)#, callbacks=callbacks)\n",
        "#history = model.fit(concatenate((X_train_pad,X_val_pad),axis=0), concatenate((y_train,y_val),axis=0), validation_data=(X_test_pad, y_test), batch_size=64, epochs=30, callbacks=callbacks)\n",
        "#history = model.fit(X_all_pad, y_all, validation_data=(X_val_pad, y_val), batch_size=64, epochs=10)#, callbacks=callbacks)\n",
        "#history = model.fit(X_test_pad, y_test, batch_size=64, epochs=100, validation_data=(X_test_pad, y_test), callbacks=[tf.keras.callbacks.ModelCheckpoint(filepath=filepath, monitor = 'val_accuracy', verbose =1, save_best_only = True),tf.keras.callbacks.EarlyStopping(monitor='val_accuracy', patience=7, verbose=1, mode='auto')])\n",
        "\n",
        "test_loss, test_accuracy = model.evaluate(X_test_pad, y_test)\n",
        "print('test set accuracy: ', test_accuracy)"
      ],
      "execution_count": null,
      "outputs": [
        {
          "output_type": "stream",
          "text": [
            "Epoch 1/10\n",
            "250/250 [==============================] - 16s 43ms/step - loss: 1.3660 - accuracy: 0.4504 - val_loss: 0.4588 - val_accuracy: 0.8490\n",
            "Epoch 2/10\n",
            "250/250 [==============================] - 9s 35ms/step - loss: 0.2753 - accuracy: 0.9063 - val_loss: 0.3391 - val_accuracy: 0.8875\n",
            "Epoch 3/10\n",
            "250/250 [==============================] - 9s 35ms/step - loss: 0.1328 - accuracy: 0.9512 - val_loss: 0.3217 - val_accuracy: 0.8860\n",
            "Epoch 4/10\n",
            "250/250 [==============================] - 9s 34ms/step - loss: 0.0914 - accuracy: 0.9672 - val_loss: 0.3509 - val_accuracy: 0.8915\n",
            "Epoch 5/10\n",
            "250/250 [==============================] - 9s 35ms/step - loss: 0.0627 - accuracy: 0.9770 - val_loss: 0.3803 - val_accuracy: 0.8880\n",
            "Epoch 6/10\n",
            "250/250 [==============================] - 9s 34ms/step - loss: 0.0453 - accuracy: 0.9827 - val_loss: 0.4144 - val_accuracy: 0.8900\n",
            "Epoch 7/10\n",
            "250/250 [==============================] - 9s 35ms/step - loss: 0.0515 - accuracy: 0.9810 - val_loss: 0.4730 - val_accuracy: 0.8840\n",
            "Epoch 8/10\n",
            "250/250 [==============================] - 9s 35ms/step - loss: 0.0327 - accuracy: 0.9882 - val_loss: 0.4371 - val_accuracy: 0.8865\n",
            "Epoch 9/10\n",
            "250/250 [==============================] - 9s 35ms/step - loss: 0.0263 - accuracy: 0.9906 - val_loss: 0.4354 - val_accuracy: 0.8885\n",
            "Epoch 10/10\n",
            "250/250 [==============================] - 9s 34ms/step - loss: 0.0318 - accuracy: 0.9888 - val_loss: 0.4642 - val_accuracy: 0.8820\n",
            "63/63 [==============================] - 0s 5ms/step - loss: 0.4859 - accuracy: 0.8785\n",
            "test set accuracy:  0.8784999847412109\n"
          ],
          "name": "stdout"
        }
      ]
    },
    {
      "cell_type": "code",
      "metadata": {
        "colab": {
          "base_uri": "https://localhost:8080/"
        },
        "id": "dFaiZEJ_kxIr",
        "outputId": "1eb056b1-f584-45ec-adeb-fdd95bf9ac6b"
      },
      "source": [
        "test_loss, test_accuracy = model.evaluate(X_test_pad, y_test)\n",
        "print('test set accuracy: ', test_accuracy)"
      ],
      "execution_count": null,
      "outputs": [
        {
          "output_type": "stream",
          "text": [
            "63/63 [==============================] - 1s 8ms/step - loss: 0.1607 - accuracy: 0.9325\n",
            "test set accuracy:  0.9325000047683716\n"
          ],
          "name": "stdout"
        }
      ]
    },
    {
      "cell_type": "code",
      "metadata": {
        "colab": {
          "base_uri": "https://localhost:8080/",
          "height": 499
        },
        "id": "CqZ4KABuk2LA",
        "outputId": "6afddbcd-f79c-4e66-b4fa-d5661a01efdd"
      },
      "source": [
        "accuracy = history.history['accuracy']\n",
        "val_accuracy = history.history['val_accuracy']\n",
        "\n",
        "loss=history.history['loss']\n",
        "val_loss=history.history['val_loss']\n",
        "\n",
        "epochs_range = range(30)\n",
        "\n",
        "plt.figure(figsize=(16, 8))\n",
        "plt.subplot(1, 2, 1)\n",
        "plt.plot(epochs_range, accuracy, label='Training Accuracy')\n",
        "plt.plot(epochs_range, val_accuracy, label='Validation Accuracy')\n",
        "plt.legend(loc='lower right')\n",
        "plt.title('Training and Validation Accuracy')\n",
        "\n",
        "plt.subplot(1, 2, 2)\n",
        "plt.plot(epochs_range, loss, label='Training Loss')\n",
        "plt.plot(epochs_range, val_loss, label='Validation Loss')\n",
        "plt.legend(loc='upper right')\n",
        "plt.title('Training and Validation Loss')\n",
        "plt.show()"
      ],
      "execution_count": null,
      "outputs": [
        {
          "output_type": "display_data",
          "data": {
            "image/png": "[encoded data removed]",
            "text/plain": [
              "<Figure size 1152x576 with 2 Axes>"
            ]
          },
          "metadata": {
            "tags": [],
            "needs_background": "light"
          }
        }
      ]
    },
    {
      "cell_type": "markdown",
      "metadata": {
        "id": "48aGXYRunwnp"
      },
      "source": [
        "# Pretrained W2V 적용하기"
      ]
    },
    {
      "cell_type": "code",
      "metadata": {
        "id": "J3FfnxbznyTG"
      },
      "source": [
        "\n",
        "\n",
        "# 분리된 토큰들이 저장될 list를 초기화 합니다.\n",
        "token_sentence = []\n",
        "\n",
        "for sentence in df_train['Sentence']:\n",
        "    # word_tokenize 함수를 사용하여 문장을 토큰으로 분리합니다.\n",
        "    # word_tokenize 사용\n",
        "    i = word_tokenize(sentence)\n",
        "    # 분리된 토큰들을 저장합니다.\n",
        "\n",
        "    # token_sentence에 저장\n",
        "    token_sentence.append(i)\n",
        "    \n",
        "filtered_sentence = []\n",
        "stop_words = set(stopwords.words('english'))\n",
        "for sentence in token_sentence:\n",
        "    # stopword 제거\n",
        "    word_token = [word for word in sentence if word not in stopwords.words('english')]\n",
        "    filtered_sentence.append(word_token)\n",
        "\n",
        "from nltk.stem import PorterStemmer\n",
        "stemmer = PorterStemmer()\n",
        "stemming_sentence = []\n",
        "\n",
        "for sentence in filtered_sentence:\n",
        "    # stemmer의 사용법을 검색하여 word를 stemming해주세요\n",
        "    word_token = [stemmer.stem(i) for i in sentence]\n",
        "    stemming_sentence.append(word_token)\n",
        "\n",
        "from  keras.preprocessing.text import Tokenizer\n",
        "\n",
        "tokenizer=Tokenizer(oov_token='UNK')\n",
        "## tokenizer를 이용하여 BoW만들기\n",
        "tokenizer.fit_on_texts(stemming_sentence)\n",
        "\n"
      ],
      "execution_count": null,
      "outputs": []
    },
    {
      "cell_type": "code",
      "metadata": {
        "id": "xRZahdKpoZtE"
      },
      "source": [
        "!wget http://nlp.stanford.edu/data/glove.6B.zip\n",
        "!unzip glove*.zip"
      ],
      "execution_count": null,
      "outputs": []
    },
    {
      "cell_type": "code",
      "metadata": {
        "id": "eAglToYuoa5K"
      },
      "source": [
        "embedding_dict = dict()\n",
        "f = open(os.path.join('glove.6B.300d.txt'), encoding='utf-8')\n",
        "for line in f:\n",
        "    word_vector = line.split()\n",
        "    word = word_vector[0]\n",
        "    word_vector_arr = np.asarray(word_vector[1:], dtype='float32') \n",
        "    embedding_dict[word] = word_vector_arr\n",
        "f.close()"
      ],
      "execution_count": null,
      "outputs": []
    },
    {
      "cell_type": "code",
      "metadata": {
        "id": "hp7sHR1doh_N"
      },
      "source": [
        "#사전 훈련된 wv로 단어사전 만들기\n",
        "from  keras.preprocessing.text import Tokenizer\n",
        "a=[]\n",
        "for key, value in embedding_dict.items():\n",
        "    a.append(key)\n",
        "\n",
        "tokenizer=Tokenizer(oov_token='UNK')\n",
        "tokenizer.fit_on_texts([a])\n",
        "vocabulary_size = len(tokenizer.word_index)+1"
      ],
      "execution_count": null,
      "outputs": []
    },
    {
      "cell_type": "code",
      "metadata": {
        "colab": {
          "base_uri": "https://localhost:8080/"
        },
        "id": "FRPJiST4o59a",
        "outputId": "e8fc6a76-3098-42f7-a40e-0c6971ac3851"
      },
      "source": [
        "embedding_dim = 300\n",
        "embedding_matrix = np.zeros((vocabulary_size, embedding_dim))\n",
        "count=0\n",
        "noword=[]\n",
        "noi=[]\n",
        "\n",
        "for word, i in tokenizer.word_index.items():\n",
        "    embedding_vector = embedding_dict.get(word)\n",
        "    if embedding_vector is not None:\n",
        "        embedding_matrix[i] = embedding_vector\n",
        "    else: count +=1; noword.append(word);noi.append(i)\n",
        "print(count)\n",
        "print(noword)\n",
        "print(noi)"
      ],
      "execution_count": null,
      "outputs": [
        {
          "output_type": "stream",
          "text": [
            "1\n",
            "['UNK']\n",
            "[1]\n"
          ],
          "name": "stdout"
        }
      ]
    },
    {
      "cell_type": "code",
      "metadata": {
        "id": "iFOxEShToF85"
      },
      "source": [
        "stemming_sentence_train = []\n",
        "stemming_sentence_val = []\n",
        "stemming_sentence_test = []\n",
        "\n",
        "\n",
        "\n",
        "for sentence in df_train['Sentence']:\n",
        "    ## training데이터에서 했던것처럼, word_tokenizer와 stemmer를 사용하여 word token sequence로 만들어주세요\n",
        "    i = word_tokenize(sentence)\n",
        "    word_token = [word for word in i if word not in stopwords.words('english')]\n",
        "    stemming_sentence_train.append(word_token)\n",
        "\n",
        "for sentence in df_val['Sentence']:\n",
        "    ## training데이터에서 했던것처럼, word_tokenizer와 stemmer를 사용하여 word token sequence로 만들어주세요\n",
        "    i = word_tokenize(sentence)\n",
        "    word_token = [word for word in i if word not in stopwords.words('english')]\n",
        "    stemming_sentence_val.append(word_token)\n",
        "    \n",
        "for sentence in df_test['Sentence']:\n",
        "    ## training데이터에서 했던것처럼, word_tokenizer와 stemmer를 사용하여 word token sequence로 만들어주세요\n",
        "    i = word_tokenize(sentence)\n",
        "    word_token = [word for word in i if word not in stopwords.words('english')]\n",
        "    stemming_sentence_test.append(word_token)\n",
        "\n",
        "## stemming_sentence_val, test를 bow로 표현하기\n",
        "\n",
        "X_train=tokenizer.texts_to_sequences(stemming_sentence_train)\n",
        "X_val=tokenizer.texts_to_sequences(stemming_sentence_val)\n",
        "X_test=tokenizer.texts_to_sequences(stemming_sentence_test)\n",
        "\n",
        "## X_vala과 X_test를 padding을 붙여 일정길이로 만들어주기\n",
        "X_train_pad=pad_sequences(X_train, maxlen=35, padding='post')\n",
        "X_val_pad=pad_sequences(X_val, maxlen=35, padding='post')\n",
        "X_test_pad=pad_sequences(X_test, maxlen=35, padding='post')\n",
        "\n",
        "try:\n",
        "    df_train['Emotion']=df_train['Emotion'].replace({'joy':0,'anger':1,'love':2,'sadness':3,'fear':4,'surprise':5})\n",
        "    df_val['Emotion']=df_val['Emotion'].replace({'joy':0,'anger':1,'love':2,'sadness':3,'fear':4,'surprise':5})\n",
        "    df_test['Emotion']=df_test['Emotion'].replace({'joy':0,'anger':1,'love':2,'sadness':3,'fear':4,'surprise':5})\n",
        "except: pass\n",
        "\n",
        "y_train = np.array(df_train['Emotion'].values)\n",
        "y_val = np.array(df_val['Emotion'].values)\n",
        "y_test = np.array(df_test['Emotion'].values)"
      ],
      "execution_count": null,
      "outputs": []
    },
    {
      "cell_type": "code",
      "metadata": {
        "id": "4U8N94Y8_6Ia"
      },
      "source": [
        "# 반드시 눌러주셔야 합니다!!\n",
        "sequence_length = 35 # max(num_token_per_sentence)\n",
        "vocabulary_size = len(tokenizer.word_index)+1 \n",
        "embedding_dim = 300"
      ],
      "execution_count": null,
      "outputs": []
    },
    {
      "cell_type": "markdown",
      "metadata": {
        "id": "3-uJiQGD2H6m"
      },
      "source": [
        "# W2V 데이터 모델"
      ]
    },
    {
      "cell_type": "code",
      "metadata": {
        "id": "o43U9aLs2OwT"
      },
      "source": [
        "sequence_length = 35 # max(num_token_per_sentence)\n",
        "vocabulary_size = len(tokenizer.word_index)+1 \n",
        "embedding_dim = 300"
      ],
      "execution_count": null,
      "outputs": []
    },
    {
      "cell_type": "code",
      "metadata": {
        "id": "Gmcy0ZSF2oIn"
      },
      "source": [
        "input_ = Input(shape=((sequence_length)))\n",
        "x1 = Embedding( input_dim=vocabulary_size, output_dim=embedding_dim, weights=[embedding_matrix], input_length=sequence_length, trainable=False, mask_zero=True)(input_)\n",
        "x1 = Dropout(0)(x1)\n",
        "\n",
        "\n",
        "#x2 = LSTM(64, return_sequences=True)(x1)\n",
        "#x2 = LSTM(128)(x2)\n",
        "x2 = Bidirectional(LSTM(64, return_sequences=True))(x1)\n",
        "x2 = Bidirectional(LSTM(128))(x2)\n",
        "x2 = Dense(128, activation='relu', kernel_regularizer=keras.regularizers.l2(0.05), bias_regularizer=keras.regularizers.l2(0.05))(x2)\n",
        "x2_model = Model(input_, x2)\n",
        "\n",
        "x3 = Conv1D(128, 3, activation='relu', padding='valid', use_bias = True)(x1)\n",
        "x3 = GlobalMaxPooling1D()(x3)\n",
        "x3 = Dense(128, activation='relu', kernel_regularizer=keras.regularizers.l2(0.05), bias_regularizer=keras.regularizers.l2(0.05))(x3)\n",
        "x3_model = Model(input_, x3)\n",
        "\n",
        "x4 = concatenate([x2_model.output,x3_model.output])\n",
        "x4 = Dropout(0.5)(x4)\n",
        "x4 = Dense(6,activation='softmax')(x4)\n",
        "\n",
        "model = Model(input_, x4)\n",
        "tf.keras.utils.plot_model(model, show_shapes=True)\n",
        "#print(model.summary())"
      ],
      "execution_count": null,
      "outputs": []
    },
    {
      "cell_type": "code",
      "metadata": {
        "id": "HE4tjxbC7vKc"
      },
      "source": [
        "model = Sequential()\n",
        "model.add(Embedding(input_dim=vocabulary_size, output_dim=embedding_dim, weights=[embedding_matrix], input_length=sequence_length, trainable=False, mask_zero=True))\n",
        "model.add(Dropout(0.6))\n",
        "model.add(Bidirectional(LSTM(80, return_sequences=True)))\n",
        "model.add(Bidirectional(LSTM(160)))\n",
        "#model.add(Dense(256, activation='swish', kernel_regularizer=keras.regularizers.l2(0.05), bias_regularizer=keras.regularizers.l2(0.05)))\n",
        "#model.add(Dropout(0.5))\n",
        "#model.add(Dense(128, activation='swish', kernel_regularizer=keras.regularizers.l2(0.05), bias_regularizer=keras.regularizers.l2(0.05)))\n",
        "#model.add(Dropout(0.5))\n",
        "model.add(Dense(6,activation='softmax'))"
      ],
      "execution_count": null,
      "outputs": []
    },
    {
      "cell_type": "code",
      "metadata": {
        "id": "TECg8F8X_8TX"
      },
      "source": [
        ""
      ],
      "execution_count": null,
      "outputs": []
    },
    {
      "cell_type": "markdown",
      "metadata": {
        "id": "V69PITmAu2hC"
      },
      "source": [
        "# 스코어 데이터 예측하기"
      ]
    },
    {
      "cell_type": "code",
      "metadata": {
        "id": "eV-ekqhJu3L5"
      },
      "source": [
        "df_score = pd.read_csv(\"/content/drive/MyDrive/sentimental_analysis_project/score.csv\")#,header=0, sep=';',names=['Sentence'],encoding='utf-8'))\n",
        "df_score\n",
        "#df_score = pd.read_csv(‘/content/drive/MyDrive/sentimental_analysis_project/score.csv’,header=0, sep=’;’,names=[‘Sentence’],encoding=’utf-8’))\t\n",
        "stemming_sentence_score = []\t\n",
        "\n",
        "for sentence in df_score['Sentence']:\t\n",
        "## training데이터에서 했던것처럼, word_tokenizer와 stemmer를 사용하여 word token sequence로 만들어주세요\t\n",
        "    i = word_tokenize(sentence)\n",
        "    word_token = [word for word in i if word not in stopwords.words('english')]\n",
        "#    word_token = [stemmer.stem(j) for j in word_token]\n",
        "    stemming_sentence_score.append(word_token)\n",
        "    \n",
        "\n",
        "#    word_token = word_tokenize(sentence) # toknize\t\n",
        "#    word_token = [word for word in word_token if not word in stop_words] # remove stopwords\t\n",
        "#    word_token = [stemmer.stem(word) for word in word_token] # stemming(어간추출)\t\n",
        "#\t  stemming_sentence_score.append(word_token)\n",
        "\t\n",
        "X_score = tokenizer.texts_to_sequences(stemming_sentence_score)\t\n",
        "\t\n",
        "X_score_pad = pad_sequences(X_score, maxlen=35, padding='post')\t\n",
        "\t\n",
        "score_prediction = model.predict(X_score_pad)\t\n",
        "\t\n",
        "score_prediction_label = [np.argmax(score_prediction[i]) for i in range(len(score_prediction))]\t\n",
        "len(score_prediction_label)\t\n",
        "\t\n",
        "submission_df = pd.DataFrame({'Emotion' : score_prediction_label})\t\n",
        "submission_df\t\n",
        "\t\n",
        "submission_df.to_csv('/content/drive/MyDrive/sentimental_analysis_project/submission.csv', index=False,)\t"
      ],
      "execution_count": null,
      "outputs": []
    },
    {
      "cell_type": "code",
      "metadata": {
        "id": "e0KsB7F03L7s"
      },
      "source": [
        "df_score = pd.read_csv(\"/content/drive/MyDrive/sentimental_analysis_project/score.csv\")#,header=0, sep=';',names=['Sentence'],encoding='utf-8'))\n",
        "df_score\n",
        "#df_score = pd.read_csv(‘/content/drive/MyDrive/sentimental_analysis_project/score.csv’,header=0, sep=’;’,names=[‘Sentence’],encoding=’utf-8’))\t\n",
        "stemming_sentence_score = []\t\n",
        "\n",
        "for sentence in df_score['Sentence']:\t\n",
        "## training데이터에서 했던것처럼, word_tokenizer와 stemmer를 사용하여 word token sequence로 만들어주세요\t\n",
        "    i = word_tokenize(sentence)\n",
        "    word_token = [word for word in i if word not in stopwords.words('english')]\n",
        "#    word_token = [stemmer.stem(j) for j in word_token]\n",
        "    stemming_sentence_score.append(word_token)\n",
        "    \n",
        "\n",
        "#    word_token = word_tokenize(sentence) # toknize\t\n",
        "#    word_token = [word for word in word_token if not word in stop_words] # remove stopwords\t\n",
        "#    word_token = [stemmer.stem(word) for word in word_token] # stemming(어간추출)\t\n",
        "#\t  stemming_sentence_score.append(word_token)\n",
        "\t\n",
        "X_score = tokenizer.texts_to_sequences(stemming_sentence_score)\t\n",
        "\t\n",
        "X_score_pad = pad_sequences(X_score, maxlen=35, padding='post')\t\n",
        "\t\n",
        "score_prediction = model.predict(X_score_pad)\t\n",
        "np.save('/content/drive/MyDrive/sentimental_analysis_project/LSTM&CNN1D.npy',score_prediction )\n",
        "\n"
      ],
      "execution_count": null,
      "outputs": []
    },
    {
      "cell_type": "code",
      "metadata": {
        "colab": {
          "base_uri": "https://localhost:8080/"
        },
        "id": "xtFF9m5149ZV",
        "outputId": "093dc66f-94b2-4de9-d1de-ad054fa89ebe"
      },
      "source": [
        "ll = np.load('/content/drive/MyDrive/sentimental_analysis_project/LSTM&CNN1D.npy')\n",
        "ll"
      ],
      "execution_count": null,
      "outputs": [
        {
          "output_type": "execute_result",
          "data": {
            "text/plain": [
              "array([[9.9975926e-01, 8.1503576e-06, 7.3266950e-05, 1.3238897e-04,\n",
              "        1.5985233e-06, 2.5355952e-05],\n",
              "       [9.9979228e-01, 9.4350225e-06, 1.0698529e-04, 4.7954087e-05,\n",
              "        8.2188940e-08, 4.3268199e-05],\n",
              "       [4.4939024e-03, 3.3364472e-06, 9.9420071e-01, 9.2084624e-04,\n",
              "        3.5307626e-04, 2.8115232e-05],\n",
              "       ...,\n",
              "       [2.9845646e-06, 1.7020750e-05, 2.0035166e-06, 2.6773467e-05,\n",
              "        9.9982244e-01, 1.2879238e-04],\n",
              "       [2.0985362e-01, 1.6654173e-03, 3.6561799e-03, 2.9422881e-03,\n",
              "        9.3717668e-03, 7.7251077e-01],\n",
              "       [2.3504961e-04, 1.4460851e-04, 4.9762679e-05, 9.9952793e-01,\n",
              "        3.4636967e-05, 8.0715699e-06]], dtype=float32)"
            ]
          },
          "metadata": {
            "tags": []
          },
          "execution_count": 203
        }
      ]
    },
    {
      "cell_type": "markdown",
      "metadata": {
        "id": "ov_H-wjACsjF"
      },
      "source": [
        "# Kfold 가져온 코드"
      ]
    },
    {
      "cell_type": "code",
      "metadata": {
        "id": "LJQzn_wfC0IV"
      },
      "source": [
        "from tensorflow.keras.models import Sequential\n",
        "from tensorflow.keras.layers import Dense\n",
        "from tensorflow.keras.layers import LSTM, SimpleRNN, Dropout\n",
        "from tensorflow.keras.layers import Embedding\n",
        "from tensorflow.keras.preprocessing import sequence"
      ],
      "execution_count": null,
      "outputs": []
    },
    {
      "cell_type": "code",
      "metadata": {
        "id": "OenKf1klC6T4"
      },
      "source": [
        "sequence_length = 35 # max(num_token_per_sentence)\n",
        "vocabulary_size = len(tokenizer.word_index)+1 # 10376\n",
        "embedding_dim = 256"
      ],
      "execution_count": null,
      "outputs": []
    },
    {
      "cell_type": "code",
      "metadata": {
        "id": "NmagYT8fC8fo"
      },
      "source": [
        "## https://www.tensorflow.org/tutorials/text/text_classification_rnn\n",
        "\n",
        "from tensorflow.keras.layers import Bidirectional\n",
        "\n",
        "model = Sequential([            \n",
        "  Embedding(vocabulary_size, embedding_dim, mask_zero=True),\n",
        "  Bidirectional(LSTM(64,  return_sequences=True)),\n",
        "  Bidirectional(LSTM(32)),\n",
        "  Dense(64, activation='relu'),\n",
        "  Dropout(0.5),\n",
        "  Dense(6, activation = 'softmax')\n",
        "])\n",
        "\n",
        "# 모델구조보기\n",
        "print(model.summary())\n",
        "\n",
        "## 모델 compile option주기\n",
        "model.compile(optimizer='adam', loss = 'categorical_crossentropy', metrics=['accuracy'])"
      ],
      "execution_count": null,
      "outputs": []
    },
    {
      "cell_type": "code",
      "metadata": {
        "id": "dBlny5WUEFH9"
      },
      "source": [
        "model = Sequential()\n",
        "model.add(Embedding(input_dim=vocabulary_size, output_dim=embedding_dim, weights=[embedding_matrix], input_length=sequence_length, trainable=False, mask_zero=True))\n",
        "model.add(Dropout(0.6))\n",
        "model.add(Bidirectional(LSTM(80, return_sequences=True)))\n",
        "model.add(Bidirectional(LSTM(160)))\n",
        "model.add(Dense(6,activation='softmax'))\n",
        "model.compile(optimizer='adam', loss='sparse_categorical_crossentropy', metrics=['accuracy'])"
      ],
      "execution_count": null,
      "outputs": []
    },
    {
      "cell_type": "code",
      "metadata": {
        "id": "Zu-IgPAVDHRv"
      },
      "source": [
        "import numpy as np\n",
        "\n",
        "X_all_pad= np.concatenate((X_train_pad,X_val_pad,X_test_pad),axis=0)\n",
        "y_all = np.concatenate((y_train,y_val,y_test),axis=0)"
      ],
      "execution_count": null,
      "outputs": []
    },
    {
      "cell_type": "code",
      "metadata": {
        "colab": {
          "base_uri": "https://localhost:8080/"
        },
        "id": "kWlYCIQ_QbA0",
        "outputId": "0ccc290e-c3ba-44a5-a6c8-e0c9959832d8"
      },
      "source": [
        "print(X_train_pad)\n",
        "print('-----')\n",
        "print(X_all_pad)\n",
        "print('-----')\n",
        "print(y_train)\n",
        "print('-----')\n",
        "print(y_all)"
      ],
      "execution_count": null,
      "outputs": [
        {
          "output_type": "stream",
          "text": [
            "[[93327  1000 18631 ...     0     0     0]\n",
            " [  244  2520 21215 ...     0     0     0]\n",
            " [14665 14195  1216 ...     0     0     0]\n",
            " ...\n",
            " [ 1000   564   221 ...     0     0     0]\n",
            " [ 1000   119 16693 ...     0     0     0]\n",
            " [  348   532  1000 ...     0     0     0]]\n",
            "-----\n",
            "[[ 59   2   1 ...   0   0   0]\n",
            " [ 10   1 383 ...   0   0   0]\n",
            " [  4   1   1 ...   0   0   0]\n",
            " ...\n",
            " [  2   1   1 ...   0   0   0]\n",
            " [  4   1   1 ...   0   0   0]\n",
            " [  2 171 403 ...   0   0   0]]\n",
            "-----\n",
            "[3 3 1 ... 0 1 3]\n",
            "-----\n",
            "[3 3 1 ... 0 0 4]\n"
          ],
          "name": "stdout"
        }
      ]
    },
    {
      "cell_type": "code",
      "metadata": {
        "colab": {
          "base_uri": "https://localhost:8080/"
        },
        "id": "Qtvptxwbrp1_",
        "outputId": "7d74415a-3cf3-45a5-f641-5becb32ac228"
      },
      "source": [
        "test_loss, test_accuracy = model.evaluate(X_test_pad, y_test)\n",
        "print('test set accuracy: ', test_accuracy)"
      ],
      "execution_count": null,
      "outputs": [
        {
          "output_type": "stream",
          "text": [
            "63/63 [==============================] - 1s 8ms/step - loss: 0.1870 - accuracy: 0.9315\n",
            "test set accuracy:  0.9315000176429749\n"
          ],
          "name": "stdout"
        }
      ]
    },
    {
      "cell_type": "code",
      "metadata": {
        "id": "QJ7HwUpKDLmY"
      },
      "source": [
        "# to split train/test datasets having equal classes proportion >> StratifiedKFold \n",
        "from sklearn.model_selection import StratifiedKFold \n",
        "\n",
        "skf = StratifiedKFold(shuffle=True, random_state=42) # n_splits = 5\n",
        "\n",
        "# Define per-fold score containers\n",
        "acc_per_fold = []\n",
        "loss_per_fold = []\n",
        "\n",
        "fold_no = 1\n",
        "for train_idx, test_idx in skf.split(X_train_pad, y_train):\n",
        "  print(\"TRAIN:\", train_idx, \"TEST:\", test_idx)\n",
        "\n",
        "  X_trainsp, X_testsp, y_trainsp, y_testsp = X_train_pad[train_idx], X_train_pad[test_idx], y_train[train_idx], y_train[test_idx]\n",
        "  \n",
        "  # Generate a print\n",
        "  print('------------------------------------------------------------------------')\n",
        "  print(f'Training for fold {fold_no} ...')\n",
        "  \n",
        "  # Fit data to model\n",
        "  history = model.fit(X_train_pad[train_idx], y_train[train_idx], batch_size=64, epochs=2, validation_data=(X_val_pad, y_val))#, callbacks=callbacks\n",
        "\n",
        "  # Generate generalization metrics\n",
        "  scores = model.evaluate(X_train_pad[test_idx], y_train[test_idx], verbose=0)\n",
        "  print(f'Score for fold {fold_no}: {model.metrics_names[0]} of {scores[0]}; {model.metrics_names[1]} of {scores[1]*100}%')\n",
        "  acc_per_fold.append(scores[1] * 100)\n",
        "  loss_per_fold.append(scores[0])\n",
        "\n",
        "  # Increase fold number\n",
        "  fold_no = fold_no + 1\n",
        "\n",
        "# == Provide average scores ==\n",
        "print('------------------------------------------------------------------------')\n",
        "print('Score per fold')\n",
        "for i in range(0, len(acc_per_fold)):\n",
        "  print('------------------------------------------------------------------------')\n",
        "  print(f'> Fold {i+1} - Loss: {loss_per_fold[i]} - Accuracy: {acc_per_fold[i]}%')\n",
        "print('------------------------------------------------------------------------')\n",
        "print('Average scores for all folds:')\n",
        "print(f'> Accuracy: {np.mean(acc_per_fold)} (+- {np.std(acc_per_fold)})')\n",
        "print(f'> Loss: {np.mean(loss_per_fold)}')\n",
        "print('------------------------------------------------------------------------')\n"
      ],
      "execution_count": null,
      "outputs": []
    },
    {
      "cell_type": "code",
      "metadata": {
        "id": "X-RCmL5dDMlh"
      },
      "source": [
        "# 합친 데이터로 학습\n",
        "# to split train/test datasets having equal classes proportion >> StratifiedKFold \n",
        "from sklearn.model_selection import StratifiedKFold \n",
        "\n",
        "skf = StratifiedKFold(shuffle=True, random_state=42) # n_splits = 5\n",
        "\n",
        "# Define per-fold score containers\n",
        "acc_per_fold = []\n",
        "loss_per_fold = []\n",
        "\n",
        "fold_no = 1\n",
        "for train_idx, test_idx in skf.split(X_all_pad, y_all):\n",
        "  print(\"TRAIN:\", train_idx, \"TEST:\", test_idx)\n",
        "\n",
        "  #X_trainsp, X_testsp, y_trainsp, y_testsp = X_all_pad[train_idx], X_all_pad[test_idx], y_all[train_idx], y_all[test_idx]\n",
        "  \n",
        "  # Generate a print\n",
        "  print('------------------------------------------------------------------------')\n",
        "  print(f'Training for fold {fold_no} ...')\n",
        "  \n",
        "  # Fit data to model\n",
        "  history = model.fit(X_all_pad[train_idx], y_all[train_idx], batch_size=64, epochs=10)  #, callbacks=callbacks, validation_data=(X_all_pad[test_idx], y_all[test_idx])\n",
        "\n",
        "  # Generate generalization metrics\n",
        "  scores = model.evaluate(X_all_pad[test_idx], y_all[test_idx], verbose=0)\n",
        "  print(f'Score for fold {fold_no}: {model.metrics_names[0]} of {scores[0]}; {model.metrics_names[1]} of {scores[1]*100}%')\n",
        "  acc_per_fold.append(scores[1] * 100)\n",
        "  loss_per_fold.append(scores[0])\n",
        "\n",
        "  # Increase fold number\n",
        "  fold_no = fold_no + 1\n",
        "\n",
        "# == Provide average scores ==\n",
        "print('------------------------------------------------------------------------')\n",
        "print('Score per fold')\n",
        "for i in range(0, len(acc_per_fold)):\n",
        "  print('------------------------------------------------------------------------')\n",
        "  print(f'> Fold {i+1} - Loss: {loss_per_fold[i]} - Accuracy: {acc_per_fold[i]}%')\n",
        "print('------------------------------------------------------------------------')\n",
        "print('Average scores for all folds:')\n",
        "print(f'> Accuracy: {np.mean(acc_per_fold)} (+- {np.std(acc_per_fold)})')\n",
        "print(f'> Loss: {np.mean(loss_per_fold)}')\n",
        "print('------------------------------------------------------------------------')"
      ],
      "execution_count": null,
      "outputs": []
    },
    {
      "cell_type": "code",
      "metadata": {
        "colab": {
          "base_uri": "https://localhost:8080/"
        },
        "id": "6kdb7G6GgLn_",
        "outputId": "ead986ab-fd63-4edb-d899-8ac5d73bbf8f"
      },
      "source": [
        "print(df_score['Sentence'][720])\n",
        "print(df_test['Sentence'][2])\n",
        "print(df_test['Sentence'][2]==df_score['Sentence'][720])"
      ],
      "execution_count": null,
      "outputs": [
        {
          "output_type": "stream",
          "text": [
            "i never make her separate from me because i don t ever want her to feel like i m ashamed with her\n",
            "i never make her separate from me because i don t ever want her to feel like i m ashamed with her\n",
            "True\n"
          ],
          "name": "stdout"
        }
      ]
    },
    {
      "cell_type": "code",
      "metadata": {
        "colab": {
          "base_uri": "https://localhost:8080/"
        },
        "id": "Ap9x0TTyh-K0",
        "outputId": "34e9aff9-7bf0-4727-b276-70f16ac46001"
      },
      "source": [
        "l=[]\n",
        "for i in range(len(df_test['Sentence'])): \n",
        "  for j in range(len(df_score['Sentence'])):\n",
        "    if df_test['Sentence'][i] == df_score['Sentence'][j]: l.append((i,j))\n",
        "\n",
        "#print('전체 스코어데이터 수 : ', len(df_score['Sentence']))\n",
        "print('테스트셋에 있는 스코어데이터 / 전체 스코어데이터 : ', len(l)/len(df_score['Sentence']))\n",
        "print('테스트데이터 중 스코어 데이터에 포함된 데이터의 번호(test, score):', l)\n"
      ],
      "execution_count": null,
      "outputs": [
        {
          "output_type": "stream",
          "text": [
            "테스트셋에 있는 스코어데이터 / 전체 스코어데이터 :  1.0\n",
            "테스트데이터 중 스코어 데이터에 포함된 데이터의 번호(test, score): [(0, 91), (2, 720), (3, 529), (4, 274), (11, 503), (12, 656), (14, 153), (15, 773), (16, 62), (17, 883), (18, 556), (20, 662), (21, 814), (22, 270), (23, 292), (25, 197), (27, 673), (28, 577), (29, 543), (31, 693), (32, 441), (34, 407), (35, 417), (36, 13), (37, 24), (40, 791), (42, 990), (43, 41), (45, 889), (50, 75), (51, 77), (53, 986), (54, 97), (56, 871), (57, 161), (60, 841), (61, 708), (63, 255), (71, 398), (72, 431), (73, 333), (77, 538), (78, 397), (80, 447), (84, 136), (86, 666), (89, 112), (90, 399), (91, 219), (92, 305), (94, 314), (95, 991), (99, 335), (100, 631), (101, 279), (102, 177), (105, 908), (109, 915), (110, 306), (111, 783), (115, 815), (116, 597), (118, 273), (119, 743), (120, 459), (121, 493), (123, 294), (125, 383), (127, 165), (128, 276), (135, 816), (136, 948), (140, 93), (141, 64), (143, 569), (145, 507), (147, 109), (148, 830), (149, 829), (150, 951), (151, 94), (152, 139), (153, 592), (155, 850), (157, 351), (158, 345), (162, 777), (163, 659), (165, 500), (167, 591), (169, 172), (171, 957), (172, 563), (174, 975), (175, 579), (177, 964), (178, 498), (179, 982), (182, 296), (183, 947), (184, 929), (187, 164), (188, 233), (189, 326), (190, 938), (192, 42), (193, 446), (194, 625), (195, 821), (196, 989), (199, 665), (202, 393), (206, 260), (213, 419), (214, 471), (216, 894), (218, 188), (219, 128), (221, 216), (222, 268), (223, 757), (224, 663), (225, 363), (226, 204), (227, 119), (229, 347), (232, 624), (233, 795), (234, 888), (235, 594), (237, 931), (238, 224), (239, 372), (241, 787), (242, 354), (247, 22), (248, 450), (249, 996), (251, 10), (252, 753), (253, 282), (254, 588), (255, 835), (260, 436), (261, 132), (262, 833), (263, 700), (264, 246), (271, 434), (272, 971), (273, 824), (274, 9), (276, 580), (277, 303), (278, 3), (279, 802), (280, 208), (283, 443), (286, 798), (288, 60), (290, 727), (292, 928), (294, 511), (295, 479), (296, 944), (297, 54), (299, 626), (302, 506), (304, 640), (306, 178), (307, 856), (308, 822), (310, 716), (312, 761), (315, 183), (318, 635), (319, 149), (320, 424), (321, 475), (323, 846), (325, 890), (327, 904), (329, 414), (331, 583), (332, 358), (333, 321), (334, 176), (335, 432), (336, 632), (338, 368), (342, 380), (343, 912), (344, 574), (345, 16), (348, 320), (350, 905), (351, 627), (355, 566), (356, 83), (357, 999), (358, 344), (362, 549), (365, 127), (367, 713), (368, 90), (373, 643), (375, 404), (378, 634), (379, 325), (382, 837), (386, 703), (387, 510), (391, 981), (395, 133), (401, 239), (402, 349), (405, 339), (407, 28), (409, 169), (415, 886), (416, 430), (420, 679), (422, 21), (423, 283), (424, 36), (425, 622), (427, 495), (433, 968), (434, 800), (435, 604), (437, 31), (443, 812), (446, 228), (449, 823), (450, 217), (451, 788), (457, 661), (464, 61), (465, 39), (468, 987), (474, 629), (476, 5), (478, 914), (482, 735), (488, 400), (489, 564), (490, 696), (491, 277), (494, 935), (496, 7), (497, 721), (498, 328), (500, 873), (503, 963), (505, 867), (507, 167), (508, 803), (509, 740), (510, 766), (511, 724), (515, 866), (516, 311), (519, 256), (521, 360), (522, 698), (523, 226), (524, 792), (525, 552), (528, 137), (531, 107), (533, 907), (534, 159), (535, 318), (539, 949), (544, 6), (545, 19), (546, 138), (548, 818), (549, 457), (551, 976), (553, 461), (555, 57), (556, 876), (560, 559), (562, 148), (565, 584), (567, 284), (568, 313), (569, 531), (570, 828), (573, 147), (576, 817), (580, 585), (581, 943), (585, 67), (591, 772), (593, 89), (595, 34), (596, 851), (598, 521), (600, 858), (601, 201), (603, 508), (606, 453), (608, 572), (615, 630), (617, 607), (618, 114), (619, 496), (620, 582), (624, 438), (626, 52), (630, 301), (631, 711), (633, 108), (634, 980), (637, 646), (638, 485), (639, 751), (644, 567), (646, 445), (648, 439), (650, 746), (651, 48), (652, 44), (656, 423), (659, 878), (660, 88), (662, 308), (663, 425), (665, 922), (666, 548), (667, 189), (668, 8), (672, 903), (674, 838), (677, 770), (679, 806), (680, 442), (681, 897), (682, 847), (683, 644), (687, 645), (688, 619), (689, 728), (692, 533), (693, 70), (695, 312), (697, 769), (698, 451), (699, 978), (701, 69), (703, 649), (704, 361), (706, 539), (707, 220), (708, 705), (710, 168), (712, 193), (713, 701), (718, 872), (720, 747), (722, 402), (724, 110), (726, 881), (727, 146), (728, 760), (730, 737), (732, 125), (733, 628), (735, 281), (738, 181), (739, 759), (742, 501), (744, 779), (745, 861), (746, 492), (752, 672), (756, 23), (757, 923), (758, 317), (759, 983), (760, 79), (765, 668), (768, 45), (769, 322), (770, 382), (772, 418), (773, 405), (775, 116), (776, 223), (779, 514), (781, 319), (784, 433), (785, 826), (786, 47), (787, 513), (789, 489), (790, 608), (791, 941), (792, 702), (798, 516), (801, 933), (802, 474), (803, 581), (804, 473), (807, 365), (808, 395), (810, 122), (811, 456), (813, 875), (815, 27), (820, 240), (823, 266), (824, 212), (826, 29), (832, 295), (834, 741), (835, 142), (836, 869), (838, 175), (840, 748), (842, 884), (847, 263), (849, 960), (851, 600), (853, 280), (855, 767), (857, 557), (858, 143), (860, 377), (864, 615), (867, 827), (868, 286), (870, 831), (872, 84), (874, 264), (877, 729), (883, 797), (884, 870), (887, 688), (888, 269), (889, 932), (891, 682), (892, 895), (894, 801), (899, 782), (900, 298), (902, 254), (904, 845), (906, 598), (908, 40), (912, 385), (913, 350), (914, 515), (915, 880), (917, 340), (922, 911), (924, 300), (926, 73), (927, 304), (930, 221), (932, 191), (933, 517), (936, 237), (937, 995), (938, 487), (940, 535), (942, 179), (943, 962), (945, 927), (946, 144), (948, 855), (953, 324), (959, 946), (962, 207), (963, 56), (964, 754), (972, 924), (973, 196), (974, 752), (976, 411), (978, 190), (979, 38), (981, 229), (986, 994), (989, 455), (990, 712), (991, 463), (992, 251), (993, 781), (994, 429), (995, 925), (996, 258), (998, 667), (999, 357), (1000, 66), (1001, 369), (1002, 341), (1006, 472), (1009, 206), (1010, 123), (1011, 243), (1015, 422), (1016, 524), (1018, 997), (1022, 406), (1023, 154), (1026, 959), (1028, 49), (1030, 859), (1033, 776), (1035, 707), (1037, 834), (1038, 738), (1040, 764), (1041, 387), (1043, 744), (1044, 210), (1047, 621), (1048, 218), (1049, 771), (1050, 618), (1055, 410), (1056, 162), (1057, 449), (1058, 157), (1059, 653), (1060, 348), (1062, 227), (1064, 338), (1067, 171), (1068, 589), (1069, 697), (1072, 551), (1078, 103), (1082, 187), (1084, 134), (1086, 843), (1087, 355), (1091, 794), (1092, 491), (1093, 467), (1098, 765), (1100, 104), (1105, 249), (1106, 98), (1113, 536), (1115, 30), (1116, 641), (1118, 213), (1119, 32), (1121, 623), (1123, 396), (1124, 359), (1127, 900), (1128, 885), (1131, 257), (1132, 899), (1133, 633), (1134, 849), (1135, 863), (1138, 160), (1139, 343), (1143, 203), (1148, 891), (1150, 898), (1151, 483), (1155, 562), (1156, 488), (1157, 718), (1158, 155), (1159, 409), (1161, 51), (1164, 448), (1165, 974), (1167, 954), (1168, 180), (1172, 677), (1174, 940), (1176, 454), (1177, 477), (1180, 977), (1182, 452), (1185, 852), (1187, 785), (1190, 730), (1191, 437), (1192, 603), (1193, 921), (1194, 214), (1195, 18), (1197, 145), (1198, 973), (1199, 252), (1200, 464), (1202, 106), (1205, 267), (1211, 381), (1212, 95), (1215, 832), (1216, 896), (1218, 388), (1219, 26), (1223, 192), (1226, 901), (1227, 337), (1228, 599), (1231, 462), (1232, 611), (1234, 906), (1240, 384), (1242, 353), (1243, 421), (1244, 375), (1248, 497), (1249, 33), (1252, 664), (1254, 100), (1256, 416), (1257, 919), (1259, 102), (1261, 790), (1263, 272), (1264, 617), (1266, 984), (1268, 315), (1271, 82), (1272, 685), (1274, 570), (1275, 571), (1276, 502), (1277, 135), (1278, 825), (1282, 111), (1284, 71), (1285, 158), (1287, 440), (1289, 639), (1292, 532), (1293, 920), (1296, 205), (1300, 275), (1301, 244), (1302, 247), (1303, 238), (1307, 726), (1311, 278), (1313, 55), (1314, 654), (1315, 444), (1317, 739), (1318, 593), (1319, 648), (1320, 820), (1321, 695), (1322, 789), (1323, 309), (1324, 367), (1331, 401), (1333, 745), (1334, 775), (1335, 297), (1338, 376), (1339, 117), (1341, 265), (1349, 394), (1350, 542), (1352, 374), (1357, 17), (1358, 934), (1360, 131), (1363, 420), (1366, 170), (1368, 43), (1370, 2), (1372, 152), (1373, 755), (1375, 652), (1376, 526), (1379, 541), (1381, 854), (1385, 166), (1387, 130), (1388, 774), (1389, 840), (1391, 235), (1393, 586), (1395, 793), (1396, 958), (1398, 78), (1400, 804), (1401, 610), (1402, 330), (1404, 758), (1406, 879), (1408, 658), (1409, 37), (1410, 63), (1412, 988), (1413, 478), (1415, 956), (1416, 200), (1418, 692), (1419, 916), (1420, 993), (1423, 76), (1429, 844), (1432, 689), (1433, 209), (1434, 540), (1435, 248), (1437, 723), (1438, 970), (1439, 331), (1443, 231), (1444, 68), (1446, 484), (1450, 992), (1452, 709), (1453, 544), (1455, 573), (1457, 316), (1458, 842), (1459, 299), (1465, 523), (1466, 836), (1469, 742), (1471, 862), (1472, 250), (1474, 458), (1475, 575), (1478, 519), (1479, 469), (1480, 522), (1482, 953), (1483, 636), (1485, 86), (1488, 805), (1490, 211), (1492, 199), (1493, 182), (1494, 926), (1497, 126), (1501, 413), (1508, 362), (1511, 731), (1513, 848), (1514, 386), (1515, 601), (1516, 415), (1518, 578), (1519, 681), (1521, 99), (1522, 476), (1523, 25), (1524, 799), (1532, 271), (1533, 690), (1534, 113), (1535, 784), (1536, 687), (1537, 979), (1540, 512), (1542, 195), (1545, 225), (1546, 550), (1553, 156), (1554, 202), (1558, 651), (1560, 527), (1563, 291), (1565, 53), (1566, 334), (1567, 528), (1568, 80), (1569, 972), (1570, 245), (1581, 547), (1582, 332), (1583, 118), (1589, 72), (1591, 392), (1593, 285), (1596, 839), (1598, 163), (1600, 638), (1602, 342), (1605, 595), (1606, 520), (1610, 554), (1611, 675), (1612, 684), (1613, 346), (1616, 412), (1619, 35), (1624, 756), (1626, 810), (1627, 699), (1630, 969), (1633, 356), (1634, 81), (1637, 174), (1640, 719), (1643, 253), (1644, 786), (1651, 302), (1654, 602), (1655, 14), (1656, 46), (1658, 647), (1659, 809), (1662, 391), (1663, 85), (1665, 129), (1666, 185), (1669, 288), (1671, 194), (1674, 910), (1675, 650), (1677, 613), (1678, 371), (1680, 955), (1681, 115), (1682, 614), (1688, 50), (1689, 749), (1691, 620), (1694, 671), (1695, 323), (1696, 917), (1699, 58), (1702, 494), (1706, 966), (1709, 686), (1714, 811), (1715, 518), (1718, 763), (1719, 470), (1722, 561), (1726, 460), (1729, 15), (1731, 676), (1732, 262), (1733, 952), (1734, 998), (1736, 714), (1737, 560), (1738, 486), (1739, 965), (1741, 796), (1742, 596), (1745, 609), (1746, 669), (1747, 366), (1750, 961), (1752, 12), (1754, 780), (1755, 173), (1759, 105), (1764, 390), (1765, 234), (1768, 373), (1770, 1), (1772, 352), (1776, 725), (1780, 587), (1782, 530), (1783, 236), (1784, 482), (1785, 428), (1786, 706), (1788, 717), (1789, 310), (1790, 124), (1791, 65), (1792, 857), (1793, 568), (1795, 655), (1796, 902), (1797, 96), (1805, 918), (1806, 670), (1808, 768), (1809, 942), (1810, 704), (1811, 985), (1812, 887), (1813, 865), (1814, 950), (1815, 241), (1817, 762), (1818, 778), (1819, 465), (1820, 468), (1821, 893), (1822, 555), (1823, 616), (1824, 427), (1825, 327), (1826, 576), (1827, 426), (1828, 378), (1829, 92), (1832, 967), (1834, 0), (1839, 307), (1840, 101), (1843, 909), (1844, 151), (1847, 379), (1848, 120), (1850, 874), (1851, 813), (1852, 674), (1856, 215), (1857, 546), (1858, 657), (1862, 882), (1864, 808), (1865, 141), (1869, 232), (1870, 877), (1871, 287), (1872, 230), (1874, 490), (1876, 945), (1877, 660), (1878, 864), (1879, 565), (1880, 121), (1881, 807), (1882, 545), (1883, 750), (1884, 683), (1885, 509), (1887, 11), (1888, 505), (1890, 558), (1891, 819), (1893, 293), (1895, 364), (1897, 715), (1899, 435), (1900, 537), (1901, 913), (1902, 4), (1904, 87), (1905, 736), (1909, 389), (1910, 499), (1912, 691), (1913, 892), (1914, 186), (1916, 732), (1920, 930), (1921, 336), (1923, 642), (1924, 74), (1925, 937), (1926, 20), (1930, 936), (1933, 259), (1934, 198), (1935, 480), (1937, 860), (1940, 733), (1941, 694), (1942, 612), (1944, 553), (1945, 853), (1946, 403), (1949, 525), (1951, 466), (1952, 678), (1955, 868), (1961, 504), (1962, 329), (1963, 481), (1965, 637), (1966, 59), (1967, 734), (1971, 290), (1972, 605), (1974, 242), (1978, 140), (1980, 722), (1981, 939), (1982, 289), (1985, 534), (1988, 222), (1989, 370), (1990, 710), (1991, 261), (1993, 590), (1994, 184), (1995, 680), (1997, 606), (1998, 408), (1999, 150)]\n"
          ],
          "name": "stdout"
        }
      ]
    }
  ]
}
