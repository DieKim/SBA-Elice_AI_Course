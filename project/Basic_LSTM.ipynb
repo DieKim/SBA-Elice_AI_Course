{
  "nbformat": 4,
  "nbformat_minor": 0,
  "metadata": {
    "accelerator": "GPU",
    "colab": {
      "name": "Basic_LSTM.ipynb",
      "provenance": [],
      "collapsed_sections": [
        "3svT9ygLa3og",
        "2dnDJDfqa3or",
        "7YvDvxAJa3os",
        "bULcw1YJa3ot",
        "c6kSmnkDa3ou",
        "b-ZCJlwIa3ox",
        "8Nz5Xk3na3o4"
      ],
      "include_colab_link": true
    },
    "kernelspec": {
      "display_name": "Python 3",
      "language": "python",
      "name": "python3"
    },
    "language_info": {
      "codemirror_mode": {
        "name": "ipython",
        "version": 3
      },
      "file_extension": ".py",
      "mimetype": "text/x-python",
      "name": "python",
      "nbconvert_exporter": "python",
      "pygments_lexer": "ipython3",
      "version": "3.7.3"
    },
    "toc": {
      "base_numbering": 1,
      "nav_menu": {},
      "number_sections": false,
      "sideBar": true,
      "skip_h1_title": false,
      "title_cell": "Table of Contents",
      "title_sidebar": "Contents",
      "toc_cell": false,
      "toc_position": {
        "height": "calc(100% - 180px)",
        "left": "10px",
        "top": "150px",
        "width": "384px"
      },
      "toc_section_display": true,
      "toc_window_display": true
    }
  },
  "cells": [
    {
      "cell_type": "markdown",
      "metadata": {
        "id": "view-in-github",
        "colab_type": "text"
      },
      "source": [
        "<a href=\"https://colab.research.google.com/github/DieKim/SBA-Elice_Project_NLP/blob/main/sba_project_emoing/Basic_LSTM.ipynb\" target=\"_parent\"><img src=\"https://colab.research.google.com/assets/colab-badge.svg\" alt=\"Open In Colab\"/></a>"
      ]
    },
    {
      "cell_type": "markdown",
      "metadata": {
        "id": "xw7ocQhva3o0"
      },
      "source": [
        "### 3-1. 모델 설정"
      ]
    },
    {
      "cell_type": "markdown",
      "metadata": {
        "id": "AWR9Oi2za3o0"
      },
      "source": [
        "감정 분류를 위한 딥러닝 모델로 LSTM을 사용하여 2개의 layer를 쌓고 6개를 출력을 갖는 softmax 층으로 구성합니다."
      ]
    },
    {
      "cell_type": "code",
      "metadata": {
        "id": "MXPYF7U0a3o0"
      },
      "source": [
        "from tensorflow.keras.models import Sequential\n",
        "from tensorflow.keras.layers import Dense\n",
        "from tensorflow.keras.layers import LSTM, SimpleRNN, Dropout\n",
        "from tensorflow.keras.layers import Embedding\n",
        "from tensorflow.keras.preprocessing import sequence"
      ],
      "execution_count": null,
      "outputs": []
    },
    {
      "cell_type": "code",
      "metadata": {
        "id": "Ns-B5zHsa3o0"
      },
      "source": [
        "sequence_length = 35 # max(num_token_per_sentence)\n",
        "vocabulary_size = len(tokenizer.word_index)+1 # 10376\n",
        "embedding_dim = 256"
      ],
      "execution_count": null,
      "outputs": []
    },
    {
      "cell_type": "code",
      "metadata": {
        "colab": {
          "base_uri": "https://localhost:8080/"
        },
        "id": "BxbaHt4Ua3o1",
        "outputId": "16552691-a80c-485a-f242-5fbe8fd82263"
      },
      "source": [
        "# ## 기본모델, 임베딩 레이어 위에 LSTM모델이 두 층, 그 위에 덴스레이어가 위치하도록 모델을 디자인해주세요\n",
        "# model = Sequential()\n",
        "# model.add(Embedding(input_dim=vocabulary_size, output_dim=embedding_dim, input_length=sequence_length)) \n",
        "# # LSTM 2개 쌓는 것 구글링 필요\n",
        "# model.add(LSTM(units=128, return_sequences=True, recurrent_dropout=0.4))\n",
        "# # dropout - https://machinelearningmastery.com/how-to-reduce-overfitting-with-dropout-regularization-in-keras/ \n",
        "# # recurrent_dropout - https://stackoverflow.com/questions/43843538/prevent-over-fitting-of-text-classification-using-word-embedding-with-lstm \n",
        "# model.add(Dropout(0.5))\n",
        "# model.add(LSTM(units=64, dropout=0.5, recurrent_dropout=0.3))\n",
        "# # 6개로 분류해야 하므로, 6개 각각 확률을 구해야 하므로 unit=6\n",
        "# # 수업 시간에는 긍정/부정만 분류하면 되므로 1개만 썼다. 근데 수업 시간 예제도 units=2로 할 수도 있다.\n",
        "# model.add(Dense(units=6, activation='softmax'))\n",
        "# # 이진분류는 sigmoid, 지금은 분류니까 1~6번 확률을 다 더하면 1이 나오도록.\n",
        "# # sequence_lengh 쓰는 레이어가 있다! -> Embedding인듯...\n",
        "\n",
        "# ## 모델구조보기\n",
        "# print(model.summary())\n",
        "\n",
        "##### 기본 LSTM\n",
        "## 기본모델, 임베딩 레이어 위에 LSTM모델이 두 층, 그 위에 덴스레이어가 위치하도록 모델을 디자인해주세요\n",
        "model = Sequential()\n",
        "model.add(Embedding(input_dim=vocabulary_size, output_dim=embedding_dim, input_length=sequence_length, mask_zero=True))\n",
        "model.add(Dropout(0.25)) \n",
        "# LSTM 2개 쌓는 것 구글링 필요\n",
        "model.add(LSTM(units=50, return_sequences=True))\n",
        "model.add(LSTM(units=100))\n",
        "model.add(Dense(units=6, activation='softmax'))\n",
        "## 모델구조보기\n",
        "print(model.summary())"
      ],
      "execution_count": null,
      "outputs": [
        {
          "output_type": "stream",
          "text": [
            "Model: \"sequential_1\"\n",
            "_________________________________________________________________\n",
            "Layer (type)                 Output Shape              Param #   \n",
            "=================================================================\n",
            "embedding_1 (Embedding)      (None, 35, 256)           2656512   \n",
            "_________________________________________________________________\n",
            "dropout_1 (Dropout)          (None, 35, 256)           0         \n",
            "_________________________________________________________________\n",
            "lstm_2 (LSTM)                (None, 35, 50)            61400     \n",
            "_________________________________________________________________\n",
            "lstm_3 (LSTM)                (None, 100)               60400     \n",
            "_________________________________________________________________\n",
            "dense_1 (Dense)              (None, 6)                 606       \n",
            "=================================================================\n",
            "Total params: 2,778,918\n",
            "Trainable params: 2,778,918\n",
            "Non-trainable params: 0\n",
            "_________________________________________________________________\n",
            "None\n"
          ],
          "name": "stdout"
        }
      ]
    },
    {
      "cell_type": "markdown",
      "metadata": {
        "id": "4UMOfdwha3o1"
      },
      "source": [
        "optimizer는 adam으로, loss는 6개 분류 이기에 sparse_categorical_crossentropy 으로 설정합니다. metrics은 accuracy로 설정합니다"
      ]
    },
    {
      "cell_type": "code",
      "metadata": {
        "id": "8CDedcA_a3o1"
      },
      "source": [
        "## 모델 compile option주기\n",
        "model.compile(optimizer='adam', loss='sparse_categorical_crossentropy', metrics=['acc']\n",
        ")"
      ],
      "execution_count": null,
      "outputs": []
    },
    {
      "cell_type": "markdown",
      "metadata": {
        "id": "c5S2Ldmpa3o1"
      },
      "source": [
        "### 3-2. 학습 수행"
      ]
    },
    {
      "cell_type": "markdown",
      "metadata": {
        "id": "foT90p3Za3o1"
      },
      "source": [
        "epochs는 10, batch_size는 64로 설정하고 train, val 데이터를 사용하여 학습을 수행합니다. "
      ]
    },
    {
      "cell_type": "code",
      "metadata": {
        "colab": {
          "base_uri": "https://localhost:8080/"
        },
        "id": "IvqXhFuNa3o1",
        "outputId": "73497420-2e07-4972-8f8f-abbc0e21fe45"
      },
      "source": [
        "## 모델 학습하기\n",
        "# X_val_pad, y_val을 가지고 validation성능을 확인하며 학습할 수 있도록 해주세요.\n",
        "# Failed to find data adapter that can handle input 오류가 나서 np.asarray 사용.\n",
        "# https://stackoverflow.com/questions/57874436/tensorflow-data-adapter-error-valueerror-failed-to-find-data-adapter-that-can \n",
        "X_train_pad = np.asarray(X_train_pad) \n",
        "y_train = np.asarray(y_train)\n",
        "X_val_pad = np.asarray(X_val_pad) \n",
        "y_val = np.asarray(y_val)\n",
        "history = model.fit(X_train_pad, y_train, epochs=10, batch_size=64, validation_data=(X_val_pad, y_val))\n"
      ],
      "execution_count": null,
      "outputs": [
        {
          "output_type": "stream",
          "text": [
            "Epoch 1/10\n",
            "250/250 [==============================] - 19s 39ms/step - loss: 1.4182 - acc: 0.4344 - val_loss: 0.4694 - val_acc: 0.8400\n",
            "Epoch 2/10\n",
            "250/250 [==============================] - 8s 32ms/step - loss: 0.2759 - acc: 0.9057 - val_loss: 0.3209 - val_acc: 0.8825\n",
            "Epoch 3/10\n",
            "250/250 [==============================] - 8s 32ms/step - loss: 0.1439 - acc: 0.9483 - val_loss: 0.3333 - val_acc: 0.8905\n",
            "Epoch 4/10\n",
            "250/250 [==============================] - 8s 32ms/step - loss: 0.0906 - acc: 0.9664 - val_loss: 0.3512 - val_acc: 0.8915\n",
            "Epoch 5/10\n",
            "250/250 [==============================] - 8s 32ms/step - loss: 0.0706 - acc: 0.9758 - val_loss: 0.3640 - val_acc: 0.8855\n",
            "Epoch 6/10\n",
            "250/250 [==============================] - 8s 33ms/step - loss: 0.0571 - acc: 0.9783 - val_loss: 0.4129 - val_acc: 0.8860\n",
            "Epoch 7/10\n",
            "250/250 [==============================] - 8s 32ms/step - loss: 0.0471 - acc: 0.9829 - val_loss: 0.4111 - val_acc: 0.8825\n",
            "Epoch 8/10\n",
            "250/250 [==============================] - 8s 32ms/step - loss: 0.0439 - acc: 0.9838 - val_loss: 0.4475 - val_acc: 0.8830\n",
            "Epoch 9/10\n",
            "250/250 [==============================] - 8s 32ms/step - loss: 0.0406 - acc: 0.9846 - val_loss: 0.4586 - val_acc: 0.8865\n",
            "Epoch 10/10\n",
            "250/250 [==============================] - 8s 32ms/step - loss: 0.0342 - acc: 0.9872 - val_loss: 0.4379 - val_acc: 0.8890\n"
          ],
          "name": "stdout"
        }
      ]
    },
    {
      "cell_type": "markdown",
      "metadata": {
        "id": "V_qjryOha3o2"
      },
      "source": [
        "학습 결과를 출력하면 다음과 같습니다."
      ]
    },
    {
      "cell_type": "code",
      "metadata": {
        "colab": {
          "base_uri": "https://localhost:8080/",
          "height": 499
        },
        "id": "toTxJ9Wua3o2",
        "outputId": "2e4c6c81-6d02-471c-f0d4-aefa2d3f50ac"
      },
      "source": [
        "# https://needneo.tistory.com/30 \n",
        "# acc <-> accuracy KeyError\n",
        "accuracy = history.history['acc']\n",
        "val_accuracy = history.history['val_acc']\n",
        "\n",
        "loss=history.history['loss']\n",
        "val_loss=history.history['val_loss']\n",
        "\n",
        "epochs_range = range(10)\n",
        "\n",
        "plt.figure(figsize=(16, 8))\n",
        "plt.subplot(1, 2, 1)\n",
        "plt.plot(epochs_range, accuracy, label='Training Accuracy')\n",
        "plt.plot(epochs_range, val_accuracy, label='Validation Accuracy')\n",
        "plt.legend(loc='lower right')\n",
        "plt.title('Training and Validation Accuracy')\n",
        "\n",
        "plt.subplot(1, 2, 2)\n",
        "plt.plot(epochs_range, loss, label='Training Loss')\n",
        "plt.plot(epochs_range, val_loss, label='Validation Loss')\n",
        "plt.legend(loc='upper right')\n",
        "plt.title('Training and Validation Loss')\n",
        "plt.show()"
      ],
      "execution_count": null,
      "outputs": [
        {
          "output_type": "display_data",
          "data": {
            "image/png": "[encoded data removed]",
            "text/plain": [
              "<Figure size 1152x576 with 2 Axes>"
            ]
          },
          "metadata": {
            "tags": [],
            "needs_background": "light"
          }
        }
      ]
    },
    {
      "cell_type": "markdown",
      "metadata": {
        "id": "dI_S63b0a3o2"
      },
      "source": [
        "### 3-3. 평가 및 예측"
      ]
    },
    {
      "cell_type": "markdown",
      "metadata": {
        "id": "Bn4tshpia3o2"
      },
      "source": [
        "학습된 결과를 바탕으로 test 데이터에서의 성능을 살펴봅시다."
      ]
    },
    {
      "cell_type": "code",
      "metadata": {
        "colab": {
          "base_uri": "https://localhost:8080/"
        },
        "id": "_xQjEDOZa3o2",
        "outputId": "0e7fc388-584d-4097-91ac-8e0211b93ad0"
      },
      "source": [
        "X_test_pad = np.asarray(X_test_pad)\n",
        "y_test = np.asarray(y_test)\n",
        "test_loss, test_accuracy = model.evaluate(X_test_pad, y_test)\n",
        "\n",
        "print('test set accuracy: ', test_accuracy)"
      ],
      "execution_count": null,
      "outputs": [
        {
          "output_type": "stream",
          "text": [
            "63/63 [==============================] - 0s 5ms/step - loss: 0.5640 - acc: 0.8710\n",
            "test set accuracy:  0.8709999918937683\n"
          ],
          "name": "stdout"
        }
      ]
    },
    {
      "cell_type": "markdown",
      "metadata": {
        "id": "Nh_o7Ku8a3o2"
      },
      "source": [
        "test 데이터의 예측된 감정을 `test_prediction`에 저장하고 5개의 샘플을 출력해봅시다."
      ]
    },
    {
      "cell_type": "code",
      "metadata": {
        "id": "_GjN4Yv6a3o3"
      },
      "source": [
        "## model에서 label 추측하기 (여러 클래스 예측할 때 어떤 method를 쓰는지 검색하여 찾아볼 것)\n",
        "# predict_classes가 deprecated 되었다고 한다.\n",
        "test_prediction = np.argmax(model.predict(X_test_pad), axis=-1)"
      ],
      "execution_count": null,
      "outputs": []
    },
    {
      "cell_type": "code",
      "metadata": {
        "colab": {
          "base_uri": "https://localhost:8080/"
        },
        "id": "Qc7_rTJ4a3o3",
        "outputId": "dfde7b75-6691-4a1a-e2a2-c188ef7ba653"
      },
      "source": [
        "test_prediction"
      ],
      "execution_count": null,
      "outputs": [
        {
          "output_type": "execute_result",
          "data": {
            "text/plain": [
              "array([3, 3, 3, ..., 0, 2, 4])"
            ]
          },
          "metadata": {
            "tags": []
          },
          "execution_count": 89
        }
      ]
    },
    {
      "cell_type": "code",
      "metadata": {
        "colab": {
          "base_uri": "https://localhost:8080/"
        },
        "id": "Bt2Ypxt4-J-m",
        "outputId": "fd1d767b-57f5-4d42-bc95-08b653df20d6"
      },
      "source": [
        "y_test"
      ],
      "execution_count": null,
      "outputs": [
        {
          "output_type": "execute_result",
          "data": {
            "text/plain": [
              "array([3, 3, 3, ..., 0, 0, 4])"
            ]
          },
          "metadata": {
            "tags": []
          },
          "execution_count": 90
        }
      ]
    },
    {
      "cell_type": "code",
      "metadata": {
        "colab": {
          "base_uri": "https://localhost:8080/"
        },
        "id": "C5J-Sy4Ka3o3",
        "outputId": "7601bddd-6453-4188-83fc-a8a61ef5f430"
      },
      "source": [
        "# 0번부터 4번까지 5개를 출력해보겠습니다.\n",
        "for i in range(5): \n",
        "    \n",
        "    # 사용하였습니다.\n",
        "    test_prediction\n",
        "    print(\"{} 번째 테스트 데이터 문장: \\n{}\".format(i, df_test['Sentence'][i]))\n",
        "    print(\"{} 번째 테스트 데이터의 예측 결과: {}, 실제 데이터: {}\\n\".format(i, test_prediction[i], df_test['Emotion'][i]))"
      ],
      "execution_count": null,
      "outputs": [
        {
          "output_type": "stream",
          "text": [
            "0 번째 테스트 데이터 문장: \n",
            "im feeling rather rotten so im not very ambitious right now\n",
            "0 번째 테스트 데이터의 예측 결과: 3, 실제 데이터: 3\n",
            "\n",
            "1 번째 테스트 데이터 문장: \n",
            "im updating my blog because i feel shitty\n",
            "1 번째 테스트 데이터의 예측 결과: 3, 실제 데이터: 3\n",
            "\n",
            "2 번째 테스트 데이터 문장: \n",
            "i never make her separate from me because i don t ever want her to feel like i m ashamed with her\n",
            "2 번째 테스트 데이터의 예측 결과: 3, 실제 데이터: 3\n",
            "\n",
            "3 번째 테스트 데이터 문장: \n",
            "i left with my bouquet of red and yellow tulips under my arm feeling slightly more optimistic than when i arrived\n",
            "3 번째 테스트 데이터의 예측 결과: 0, 실제 데이터: 0\n",
            "\n",
            "4 번째 테스트 데이터 문장: \n",
            "i was feeling a little vain when i did this one\n",
            "4 번째 테스트 데이터의 예측 결과: 3, 실제 데이터: 3\n",
            "\n"
          ],
          "name": "stdout"
        }
      ]
    },
    {
      "cell_type": "markdown",
      "metadata": {
        "id": "i3omG8Osa3o3"
      },
      "source": [
        "마지막으로 confusion matrix를 사용하여 accuracy에서 알 수 없었던 오분류 정보에 대해서 살펴봅니다."
      ]
    },
    {
      "cell_type": "code",
      "metadata": {
        "colab": {
          "base_uri": "https://localhost:8080/",
          "height": 1000
        },
        "id": "tm2vPjl4a3o3",
        "outputId": "28443697-c4b7-439c-bae5-bcb78093602e"
      },
      "source": [
        "import seaborn as sns\n",
        "from sklearn.metrics import confusion_matrix\n",
        "cm = confusion_matrix(test_prediction, y_test)\n",
        "plt.figure(figsize = (20, 20))\n",
        "sns.heatmap(cm, annot = True)"
      ],
      "execution_count": null,
      "outputs": [
        {
          "output_type": "execute_result",
          "data": {
            "text/plain": [
              "<matplotlib.axes._subplots.AxesSubplot at 0x7f3834a5b190>"
            ]
          },
          "metadata": {
            "tags": []
          },
          "execution_count": 97
        },
        {
          "output_type": "display_data",
          "data": {
            "image/png": "[encoded data removed]",
            "text/plain": [
              "<Figure size 1440x1440 with 2 Axes>"
            ]
          },
          "metadata": {
            "tags": [],
            "needs_background": "light"
          }
        }
      ]
    },
    {
      "cell_type": "markdown",
      "metadata": {
        "id": "-yLybMtKYNhY"
      },
      "source": [
        "### 감정 맞추기"
      ]
    },
    {
      "cell_type": "markdown",
      "metadata": {
        "id": "C2ENOrlza3o3"
      },
      "source": [
        " "
      ]
    },
    {
      "cell_type": "code",
      "metadata": {
        "colab": {
          "base_uri": "https://localhost:8080/"
        },
        "id": "WCa05Xe-hpAa",
        "outputId": "fdabe71e-330e-49f5-9afa-91747d7210b0"
      },
      "source": [
        "user_input = input()\n",
        "small_df = pd.DataFrame({\"Sentence\":user_input}, columns=['Sentence'], index=[0])\n",
        "# 전처리\n",
        "stemming_sentence_small_feature = []\n",
        "\n",
        "for sentence in small_df['Sentence']:\n",
        "    ## training데이터에서 했던것처럼, word_tokenizer와 stemmer를 사용하여 word token sequence로 만들어주세요\n",
        "    word_token = [token for token in word_tokenize(sentence) if token not in stop_words]\n",
        "    word_token = [stemmer.stem(token) for token in word_token]\n",
        "    stemming_sentence_small_feature.append(word_token)\n",
        "\n",
        "## stemming_sentence_val, test를 bow로 표현하기\n",
        "X_small_feature=tokenizer.texts_to_sequences(stemming_sentence_small_feature)\n",
        "\n",
        "## X_vala과 X_test를 padding을 붙여 일정길이로 만들어주기\n",
        "X_small_pad_feature = [(x_list + 35 * [0])[:35] for x_list in X_small_feature]\n",
        "score_prediction = np.argmax(model.predict(X_small_pad_feature), axis=-1)\n",
        "emotions = {0:'joy',1:'anger',2:'love',3:'sadness',4:'fear',5:'surprise'}\n",
        "print(\"RNN says it is \", emotions[score_prediction[0]])"
      ],
      "execution_count": null,
      "outputs": [
        {
          "output_type": "stream",
          "text": [
            "What a cute puppy!\n",
            "RNN says it is  joy\n"
          ],
          "name": "stdout"
        }
      ]
    }
  ]
}
