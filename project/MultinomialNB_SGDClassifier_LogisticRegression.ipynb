{
  "nbformat": 4,
  "nbformat_minor": 0,
  "metadata": {
    "accelerator": "GPU",
    "colab": {
      "name": "MultinomialNB_SGDClassifier_LogisticRegression.ipynb",
      "provenance": [],
      "collapsed_sections": [
        "1SUTR-UEa3oe",
        "Iy_hfgx2a3oi",
        "n_TuKn7Ja3op",
        "fdwOqkVn03xT",
        "qCG3Q_xE1Scz",
        "hvF_UvSG7aeV",
        "d2-tNxIK7jN6",
        "LlWOA1c8_to3",
        "hE4ZWgr7Kjxy",
        "uZbs_ZeblCyE",
        "0GpeZEt_a3o3",
        "8Nz5Xk3na3o4"
      ],
      "include_colab_link": true
    },
    "kernelspec": {
      "display_name": "Python 3",
      "language": "python",
      "name": "python3"
    },
    "language_info": {
      "codemirror_mode": {
        "name": "ipython",
        "version": 3
      },
      "file_extension": ".py",
      "mimetype": "text/x-python",
      "name": "python",
      "nbconvert_exporter": "python",
      "pygments_lexer": "ipython3",
      "version": "3.7.3"
    },
    "toc": {
      "base_numbering": 1,
      "nav_menu": {},
      "number_sections": false,
      "sideBar": true,
      "skip_h1_title": false,
      "title_cell": "Table of Contents",
      "title_sidebar": "Contents",
      "toc_cell": false,
      "toc_position": {
        "height": "calc(100% - 180px)",
        "left": "10px",
        "top": "150px",
        "width": "384px"
      },
      "toc_section_display": true,
      "toc_window_display": true
    }
  },
  "cells": [
    {
      "cell_type": "markdown",
      "metadata": {
        "id": "view-in-github",
        "colab_type": "text"
      },
      "source": [
        "<a href=\"https://colab.research.google.com/github/DieKim/SBA-Elice_Project_NLP/blob/main/sba_project_emoing/MultinomialNB_SGDClassifier_LogisticRegression.ipynb\" target=\"_parent\"><img src=\"https://colab.research.google.com/assets/colab-badge.svg\" alt=\"Open In Colab\"/></a>"
      ]
    },
    {
      "cell_type": "markdown",
      "metadata": {
        "id": "BxUo_PUgWVaN"
      },
      "source": [
        "# Term frequency  \n",
        "https://www.kaggle.com/divsinha/sentiment-analysis-countvectorizer-tf-idf "
      ]
    },
    {
      "cell_type": "markdown",
      "metadata": {
        "id": "fdwOqkVn03xT"
      },
      "source": [
        "## Check phrase length"
      ]
    },
    {
      "cell_type": "code",
      "metadata": {
        "colab": {
          "base_uri": "https://localhost:8080/",
          "height": 204
        },
        "id": "LK8FO8j21KnC",
        "outputId": "c69c30b4-ce5c-42af-9bb5-2ba6842f01f3"
      },
      "source": [
        "df_train['sentence_len'] = [len(t) for t in df_train.Sentence]\n",
        "df_train.head()"
      ],
      "execution_count": null,
      "outputs": [
        {
          "output_type": "execute_result",
          "data": {
            "text/html": [
              "<div>\n",
              "<style scoped>\n",
              "    .dataframe tbody tr th:only-of-type {\n",
              "        vertical-align: middle;\n",
              "    }\n",
              "\n",
              "    .dataframe tbody tr th {\n",
              "        vertical-align: top;\n",
              "    }\n",
              "\n",
              "    .dataframe thead th {\n",
              "        text-align: right;\n",
              "    }\n",
              "</style>\n",
              "<table border=\"1\" class=\"dataframe\">\n",
              "  <thead>\n",
              "    <tr style=\"text-align: right;\">\n",
              "      <th></th>\n",
              "      <th>Sentence</th>\n",
              "      <th>Emotion</th>\n",
              "      <th>sentence_len</th>\n",
              "    </tr>\n",
              "  </thead>\n",
              "  <tbody>\n",
              "    <tr>\n",
              "      <th>0</th>\n",
              "      <td>i didnt feel humiliated</td>\n",
              "      <td>sadness</td>\n",
              "      <td>23</td>\n",
              "    </tr>\n",
              "    <tr>\n",
              "      <th>1</th>\n",
              "      <td>i can go from feeling so hopeless to so damned...</td>\n",
              "      <td>sadness</td>\n",
              "      <td>108</td>\n",
              "    </tr>\n",
              "    <tr>\n",
              "      <th>2</th>\n",
              "      <td>im grabbing a minute to post i feel greedy wrong</td>\n",
              "      <td>anger</td>\n",
              "      <td>48</td>\n",
              "    </tr>\n",
              "    <tr>\n",
              "      <th>3</th>\n",
              "      <td>i am ever feeling nostalgic about the fireplac...</td>\n",
              "      <td>love</td>\n",
              "      <td>92</td>\n",
              "    </tr>\n",
              "    <tr>\n",
              "      <th>4</th>\n",
              "      <td>i am feeling grouchy</td>\n",
              "      <td>anger</td>\n",
              "      <td>20</td>\n",
              "    </tr>\n",
              "  </tbody>\n",
              "</table>\n",
              "</div>"
            ],
            "text/plain": [
              "                                            Sentence  Emotion  sentence_len\n",
              "0                            i didnt feel humiliated  sadness            23\n",
              "1  i can go from feeling so hopeless to so damned...  sadness           108\n",
              "2   im grabbing a minute to post i feel greedy wrong    anger            48\n",
              "3  i am ever feeling nostalgic about the fireplac...     love            92\n",
              "4                               i am feeling grouchy    anger            20"
            ]
          },
          "metadata": {
            "tags": []
          },
          "execution_count": 33
        }
      ]
    },
    {
      "cell_type": "markdown",
      "metadata": {
        "id": "qCG3Q_xE1Scz"
      },
      "source": [
        "## Term frequencies of each Sentiment class"
      ]
    },
    {
      "cell_type": "code",
      "metadata": {
        "id": "994u8jJwaz8S"
      },
      "source": [
        "# https://www.kaggle.com/divsinha/sentiment-analysis-countvectorizer-tf-idf\n",
        "# https://wikidocs.net/22892"
      ],
      "execution_count": null,
      "outputs": []
    },
    {
      "cell_type": "code",
      "metadata": {
        "id": "whhKe5ZtawPs"
      },
      "source": [
        "from sklearn.feature_extraction.text import CountVectorizer"
      ],
      "execution_count": null,
      "outputs": []
    },
    {
      "cell_type": "code",
      "metadata": {
        "colab": {
          "base_uri": "https://localhost:8080/"
        },
        "id": "Kw6vdQfYaz_6",
        "outputId": "d127265d-7f82-4a1f-98f6-a1aa17d38aeb"
      },
      "source": [
        "cvector = CountVectorizer(min_df = 0.0, max_df = 1.0, ngram_range=(1,2))\n",
        "cvector.fit(df_train.Sentence)"
      ],
      "execution_count": null,
      "outputs": [
        {
          "output_type": "execute_result",
          "data": {
            "text/plain": [
              "CountVectorizer(analyzer='word', binary=False, decode_error='strict',\n",
              "                dtype=<class 'numpy.int64'>, encoding='utf-8', input='content',\n",
              "                lowercase=True, max_df=1.0, max_features=None, min_df=0.0,\n",
              "                ngram_range=(1, 2), preprocessor=None, stop_words=None,\n",
              "                strip_accents=None, token_pattern='(?u)\\\\b\\\\w\\\\w+\\\\b',\n",
              "                tokenizer=None, vocabulary=None)"
            ]
          },
          "metadata": {
            "tags": []
          },
          "execution_count": 36
        }
      ]
    },
    {
      "cell_type": "code",
      "metadata": {
        "id": "xMFVgIkhaz4j"
      },
      "source": [
        "sadness_matrix = cvector.transform(df_train[df_train.Emotion == 'sadness'].Sentence)\n",
        "anger_matrix = cvector.transform(df_train[df_train.Emotion == 'anger'].Sentence)\n",
        "love_matrix = cvector.transform(df_train[df_train.Emotion == 'love'].Sentence)\n",
        "fear_matrix = cvector.transform(df_train[df_train.Emotion == 'fear'].Sentence)\n",
        "joy_matrix = cvector.transform(df_train[df_train.Emotion == 'joy'].Sentence)\n",
        "surprise_matrix = cvector.transform(df_train[df_train.Emotion == 'surprise'].Sentence)"
      ],
      "execution_count": null,
      "outputs": []
    },
    {
      "cell_type": "markdown",
      "metadata": {
        "id": "hvF_UvSG7aeV"
      },
      "source": [
        "## Term frequency for sadness"
      ]
    },
    {
      "cell_type": "code",
      "metadata": {
        "id": "Qc2HP8Puaz0s"
      },
      "source": [
        "sadness_words = sadness_matrix.sum(axis=0)"
      ],
      "execution_count": null,
      "outputs": []
    },
    {
      "cell_type": "code",
      "metadata": {
        "colab": {
          "base_uri": "https://localhost:8080/"
        },
        "id": "I3w2fBvXazui",
        "outputId": "b0d36841-d451-4090-894a-9fb3d5687464"
      },
      "source": [
        "sadness_words"
      ],
      "execution_count": null,
      "outputs": [
        {
          "output_type": "execute_result",
          "data": {
            "text/plain": [
              "matrix([[1, 0, 1, ..., 0, 1, 1]], dtype=int64)"
            ]
          },
          "metadata": {
            "tags": []
          },
          "execution_count": 39
        }
      ]
    },
    {
      "cell_type": "code",
      "metadata": {
        "id": "P33BhFDk5ox-"
      },
      "source": [
        "sadness_words_freq = [(word, sadness_words[0, idx]) for word, idx in cvector.vocabulary_.items()]"
      ],
      "execution_count": null,
      "outputs": []
    },
    {
      "cell_type": "code",
      "metadata": {
        "colab": {
          "base_uri": "https://localhost:8080/"
        },
        "id": "U_ap5cdA565q",
        "outputId": "a2bdf92a-e3e4-40b9-a4fb-21756fd2a02a"
      },
      "source": [
        "sadness_words_freq"
      ],
      "execution_count": null,
      "outputs": [
        {
          "output_type": "execute_result",
          "data": {
            "text/plain": [
              "[('didnt', 96),\n",
              " ('feel', 3299),\n",
              " ('humiliated', 49),\n",
              " ('didnt feel', 33),\n",
              " ('feel humiliated', 24),\n",
              " ('can', 267),\n",
              " ('go', 106),\n",
              " ('from', 214),\n",
              " ('feeling', 1523),\n",
              " ('so', 826),\n",
              " ('hopeless', 59),\n",
              " ('to', 2335),\n",
              " ('damned', 2),\n",
              " ('hopeful', 4),\n",
              " ('just', 422),\n",
              " ('being', 223),\n",
              " ('around', 72),\n",
              " ('someone', 70),\n",
              " ('who', 160),\n",
              " ('cares', 8),\n",
              " ('and', 2692),\n",
              " ('is', 530),\n",
              " ('awake', 8),\n",
              " ('can go', 3),\n",
              " ('go from', 1),\n",
              " ('from feeling', 4),\n",
              " ('feeling so', 91),\n",
              " ('so hopeless', 5),\n",
              " ('hopeless to', 2),\n",
              " ('to so', 1),\n",
              " ('so damned', 1),\n",
              " ('damned hopeful', 1),\n",
              " ('hopeful just', 1),\n",
              " ('just from', 2),\n",
              " ('from being', 4),\n",
              " ('being around', 2),\n",
              " ('around someone', 1),\n",
              " ('someone who', 9),\n",
              " ('who cares', 3),\n",
              " ('cares and', 1),\n",
              " ('and is', 5),\n",
              " ('is awake', 1),\n",
              " ('im', 683),\n",
              " ('grabbing', 1),\n",
              " ('minute', 9),\n",
              " ('post', 34),\n",
              " ('greedy', 1),\n",
              " ('wrong', 26),\n",
              " ('im grabbing', 0),\n",
              " ('grabbing minute', 0),\n",
              " ('minute to', 1),\n",
              " ('to post', 7),\n",
              " ('post feel', 0),\n",
              " ('feel greedy', 0),\n",
              " ('greedy wrong', 0),\n",
              " ('am', 578),\n",
              " ('ever', 58),\n",
              " ('nostalgic', 0),\n",
              " ('about', 430),\n",
              " ('the', 2155),\n",
              " ('fireplace', 0),\n",
              " ('will', 165),\n",
              " ('know', 275),\n",
              " ('that', 1299),\n",
              " ('it', 866),\n",
              " ('still', 200),\n",
              " ('on', 429),\n",
              " ('property', 1),\n",
              " ('am ever', 0),\n",
              " ('ever feeling', 1),\n",
              " ('feeling nostalgic', 0),\n",
              " ('nostalgic about', 0),\n",
              " ('about the', 45),\n",
              " ('the fireplace', 0),\n",
              " ('fireplace will', 0),\n",
              " ('will know', 2),\n",
              " ('know that', 37),\n",
              " ('that it', 26),\n",
              " ('it is', 69),\n",
              " ('is still', 9),\n",
              " ('still on', 1),\n",
              " ('on the', 85),\n",
              " ('the property', 1),\n",
              " ('grouchy', 0),\n",
              " ('am feeling', 130),\n",
              " ('feeling grouchy', 0),\n",
              " ('ive', 217),\n",
              " ('been', 293),\n",
              " ('little', 194),\n",
              " ('burdened', 60),\n",
              " ('lately', 33),\n",
              " ('wasnt', 29),\n",
              " ('sure', 42),\n",
              " ('why', 76),\n",
              " ('was', 673),\n",
              " ('ive been', 92),\n",
              " ('been feeling', 91),\n",
              " ('feeling little', 61),\n",
              " ('little burdened', 1),\n",
              " ('burdened lately', 1),\n",
              " ('lately wasnt', 1),\n",
              " ('wasnt sure', 1),\n",
              " ('sure why', 6),\n",
              " ('why that', 1),\n",
              " ('that was', 37),\n",
              " ('taking', 26),\n",
              " ('or', 371),\n",
              " ('milligrams', 0),\n",
              " ('times', 71),\n",
              " ('recommended', 0),\n",
              " ('amount', 8),\n",
              " ('fallen', 3),\n",
              " ('asleep', 6),\n",
              " ('lot', 78),\n",
              " ('faster', 3),\n",
              " ('but', 670),\n",
              " ('also', 77),\n",
              " ('like', 864),\n",
              " ('funny', 10),\n",
              " ('been taking', 1),\n",
              " ('taking or', 0),\n",
              " ('or milligrams', 0),\n",
              " ('milligrams or', 0),\n",
              " ('or times', 0),\n",
              " ('times recommended', 0),\n",
              " ('recommended amount', 0),\n",
              " ('amount and', 0),\n",
              " ('and ive', 4),\n",
              " ('ive fallen', 1),\n",
              " ('fallen asleep', 1),\n",
              " ('asleep lot', 0),\n",
              " ('lot faster', 0),\n",
              " ('faster but', 0),\n",
              " ('but also', 11),\n",
              " ('also feel', 21),\n",
              " ('feel like', 514),\n",
              " ('like so', 1),\n",
              " ('so funny', 0),\n",
              " ('as', 392),\n",
              " ('confused', 9),\n",
              " ('life', 176),\n",
              " ('teenager', 3),\n",
              " ('jaded', 41),\n",
              " ('year', 44),\n",
              " ('old', 30),\n",
              " ('man', 17),\n",
              " ('feel as', 48),\n",
              " ('as confused', 0),\n",
              " ('confused about', 0),\n",
              " ('about life', 5),\n",
              " ('life as', 1),\n",
              " ('as teenager', 0),\n",
              " ('teenager or', 0),\n",
              " ('or as', 0),\n",
              " ('as jaded', 0),\n",
              " ('jaded as', 0),\n",
              " ('as year', 0),\n",
              " ('year old', 10),\n",
              " ('old man', 0),\n",
              " ('have', 614),\n",
              " ('with', 496),\n",
              " ('petronas', 0),\n",
              " ('for', 764),\n",
              " ('years', 52),\n",
              " ('has', 108),\n",
              " ('performed', 0),\n",
              " ('well', 47),\n",
              " ('made', 92),\n",
              " ('huge', 8),\n",
              " ('profit', 0),\n",
              " ('have been', 95),\n",
              " ('been with', 1),\n",
              " ('with petronas', 0),\n",
              " ('petronas for', 0),\n",
              " ('for years', 5),\n",
              " ('years feel', 1),\n",
              " ('feel that', 107),\n",
              " ('that petronas', 0),\n",
              " ('petronas has', 0),\n",
              " ('has performed', 0),\n",
              " ('performed well', 0),\n",
              " ('well and', 3),\n",
              " ('and made', 3),\n",
              " ('made huge', 0),\n",
              " ('huge profit', 0),\n",
              " ('romantic', 4),\n",
              " ('too', 123),\n",
              " ('feel romantic', 0),\n",
              " ('romantic too', 0),\n",
              " ('make', 139),\n",
              " ('suffering', 40),\n",
              " ('seeing', 13),\n",
              " ('mean', 29),\n",
              " ('something', 141),\n",
              " ('like have', 31),\n",
              " ('have to', 80),\n",
              " ('to make', 56),\n",
              " ('make the', 6),\n",
              " ('the suffering', 4),\n",
              " ('suffering seeing', 1),\n",
              " ('seeing mean', 1),\n",
              " ('mean something', 1),\n",
              " ('do', 311),\n",
              " ('running', 21),\n",
              " ('divine', 1),\n",
              " ('experience', 17),\n",
              " ('expect', 10),\n",
              " ('some', 149),\n",
              " ('type', 10),\n",
              " ('of', 1422),\n",
              " ('spiritual', 3),\n",
              " ('encounter', 1),\n",
              " ('do feel', 33),\n",
              " ('that running', 0),\n",
              " ('running is', 0),\n",
              " ('is divine', 0),\n",
              " ('divine experience', 0),\n",
              " ('experience and', 0),\n",
              " ('and that', 53),\n",
              " ('that can', 16),\n",
              " ('can expect', 1),\n",
              " ('expect to', 3),\n",
              " ('to have', 42),\n",
              " ('have some', 2),\n",
              " ('some type', 0),\n",
              " ('type of', 6),\n",
              " ('of spiritual', 1),\n",
              " ('spiritual encounter', 0),\n",
              " ('think', 175),\n",
              " ('easiest', 0),\n",
              " ('time', 199),\n",
              " ('dissatisfied', 0),\n",
              " ('think it', 8),\n",
              " ('it the', 12),\n",
              " ('the easiest', 0),\n",
              " ('easiest time', 0),\n",
              " ('time of', 1),\n",
              " ('of year', 1),\n",
              " ('year to', 1),\n",
              " ('to feel', 220),\n",
              " ('feel dissatisfied', 0),\n",
              " ('low', 74),\n",
              " ('energy', 21),\n",
              " ('thirsty', 2),\n",
              " ('feel low', 9),\n",
              " ('low energy', 2),\n",
              " ('energy just', 1),\n",
              " ('just thirsty', 1),\n",
              " ('immense', 1),\n",
              " ('sympathy', 5),\n",
              " ('general', 9),\n",
              " ('point', 37),\n",
              " ('possible', 9),\n",
              " ('proto', 0),\n",
              " ('writer', 3),\n",
              " ('trying', 53),\n",
              " ('find', 58),\n",
              " ('write', 37),\n",
              " ('in', 919),\n",
              " ('corners', 0),\n",
              " ('no', 149),\n",
              " ('sign', 2),\n",
              " ('an', 192),\n",
              " ('agent', 1),\n",
              " ('let', 44),\n",
              " ('alone', 105),\n",
              " ('publishing', 1),\n",
              " ('contract', 1),\n",
              " ('this', 563),\n",
              " ('feels', 73),\n",
              " ('precious', 5),\n",
              " ('have immense', 0),\n",
              " ('immense sympathy', 0),\n",
              " ('sympathy with', 0),\n",
              " ('with the', 73),\n",
              " ('the general', 0),\n",
              " ('general point', 0),\n",
              " ('point but', 1),\n",
              " ('but as', 5),\n",
              " ('as possible', 6),\n",
              " ('possible proto', 0),\n",
              " ('proto writer', 0),\n",
              " ('writer trying', 0),\n",
              " ('trying to', 43),\n",
              " ('to find', 14),\n",
              " ('find time', 0),\n",
              " ('time to', 11),\n",
              " ('to write', 19),\n",
              " ('write in', 0),\n",
              " ('in the', 191),\n",
              " ('the corners', 0),\n",
              " ('corners of', 0),\n",
              " ('of life', 9),\n",
              " ('life and', 16),\n",
              " ('and with', 10),\n",
              " ('with no', 5),\n",
              " ('no sign', 0),\n",
              " ('sign of', 0),\n",
              " ('of an', 5),\n",
              " ('an agent', 0),\n",
              " ('agent let', 0),\n",
              " ('let alone', 2),\n",
              " ('alone publishing', 0),\n",
              " ('publishing contract', 0),\n",
              " ('contract this', 0),\n",
              " ('this feels', 0),\n",
              " ('feels little', 0),\n",
              " ('little precious', 0),\n",
              " ('not', 519),\n",
              " ('reassured', 0),\n",
              " ('anxiety', 9),\n",
              " ('each', 21),\n",
              " ('side', 18),\n",
              " ('do not', 38),\n",
              " ('not feel', 38),\n",
              " ('feel reassured', 0),\n",
              " ('reassured anxiety', 0),\n",
              " ('anxiety is', 1),\n",
              " ('is on', 4),\n",
              " ('on each', 0),\n",
              " ('each side', 1),\n",
              " ('really', 276),\n",
              " ('embarrassed', 60),\n",
              " ('didnt really', 2),\n",
              " ('really feel', 22),\n",
              " ('that embarrassed', 1),\n",
              " ('pretty', 120),\n",
              " ('pathetic', 52),\n",
              " ('most', 71),\n",
              " ('feel pretty', 23),\n",
              " ('pretty pathetic', 3),\n",
              " ('pathetic most', 1),\n",
              " ('most of', 18),\n",
              " ('of the', 185),\n",
              " ('the time', 43),\n",
              " ('started', 48),\n",
              " ('sentimental', 34),\n",
              " ('dolls', 2),\n",
              " ('had', 231),\n",
              " ('child', 21),\n",
              " ('began', 16),\n",
              " ('collection', 4),\n",
              " ('vintage', 2),\n",
              " ('barbie', 1),\n",
              " ('sixties', 1),\n",
              " ('started feeling', 11),\n",
              " ('feeling sentimental', 9),\n",
              " ('sentimental about', 7),\n",
              " ('about dolls', 1),\n",
              " ('dolls had', 1),\n",
              " ('had as', 1),\n",
              " ('as child', 5),\n",
              " ('child and', 1),\n",
              " ('and so', 23),\n",
              " ('so began', 1),\n",
              " ('began collection', 1),\n",
              " ('collection of', 2),\n",
              " ('of vintage', 1),\n",
              " ('vintage barbie', 1),\n",
              " ('barbie dolls', 1),\n",
              " ('dolls from', 1),\n",
              " ('from the', 46),\n",
              " ('the sixties', 1),\n",
              " ('now', 200),\n",
              " ('compromised', 0),\n",
              " ('skeptical', 0),\n",
              " ('value', 4),\n",
              " ('every', 76),\n",
              " ('unit', 0),\n",
              " ('work', 94),\n",
              " ('put', 37),\n",
              " ('now feel', 21),\n",
              " ('feel compromised', 0),\n",
              " ('compromised and', 0),\n",
              " ('and skeptical', 0),\n",
              " ('skeptical of', 0),\n",
              " ('the value', 0),\n",
              " ('value of', 0),\n",
              " ('of every', 0),\n",
              " ('every unit', 0),\n",
              " ('unit of', 0),\n",
              " ('of work', 2),\n",
              " ('work put', 0),\n",
              " ('put in', 3),\n",
              " ('irritated', 4),\n",
              " ('rejected', 55),\n",
              " ('without', 72),\n",
              " ('anyone', 46),\n",
              " ('doing', 75),\n",
              " ('anything', 66),\n",
              " ('saying', 22),\n",
              " ('feel irritated', 0),\n",
              " ('irritated and', 0),\n",
              " ('and rejected', 2),\n",
              " ('rejected without', 0),\n",
              " ('without anyone', 0),\n",
              " ('anyone doing', 0),\n",
              " ('doing anything', 1),\n",
              " ('anything or', 2),\n",
              " ('or saying', 0),\n",
              " ('saying anything', 0),\n",
              " ('completely', 49),\n",
              " ('overwhelmed', 13),\n",
              " ('two', 43),\n",
              " ('strategies', 0),\n",
              " ('help', 75),\n",
              " ('me', 640),\n",
              " ('grounded', 0),\n",
              " ('pour', 1),\n",
              " ('my', 1245),\n",
              " ('heart', 57),\n",
              " ('out', 242),\n",
              " ('journal', 3),\n",
              " ('form', 7),\n",
              " ('letter', 5),\n",
              " ('god', 19),\n",
              " ('then', 107),\n",
              " ('end', 50),\n",
              " ('list', 12),\n",
              " ('five', 8),\n",
              " ('things', 155),\n",
              " ('grateful', 5),\n",
              " ('feeling completely', 10),\n",
              " ('completely overwhelmed', 0),\n",
              " ('overwhelmed have', 0),\n",
              " ('have two', 0),\n",
              " ('two strategies', 0),\n",
              " ('strategies that', 0),\n",
              " ('that help', 0),\n",
              " ('help me', 8),\n",
              " ('me to', 37),\n",
              " ('feel grounded', 0),\n",
              " ('grounded pour', 0),\n",
              " ('pour my', 1),\n",
              " ('my heart', 40),\n",
              " ('heart out', 1),\n",
              " ('out in', 2),\n",
              " ('in my', 127),\n",
              " ('my journal', 1),\n",
              " ('journal in', 0),\n",
              " ('the form', 0),\n",
              " ('form of', 1),\n",
              " ('of letter', 0),\n",
              " ('letter to', 0),\n",
              " ('to god', 4),\n",
              " ('god and', 6),\n",
              " ('and then', 38),\n",
              " ('then end', 0),\n",
              " ('end with', 0),\n",
              " ('with list', 0),\n",
              " ('list of', 2),\n",
              " ('of five', 0),\n",
              " ('five things', 0),\n",
              " ('things am', 0),\n",
              " ('am most', 1),\n",
              " ('most grateful', 0),\n",
              " ('grateful for', 2),\n",
              " ('she', 114),\n",
              " ('amused', 0),\n",
              " ('delighted', 0),\n",
              " ('have the', 14),\n",
              " ('the feeling', 49),\n",
              " ('feeling she', 1),\n",
              " ('she was', 17),\n",
              " ('was amused', 0),\n",
              " ('amused and', 0),\n",
              " ('and delighted', 0),\n",
              " ('able', 41),\n",
              " ('chai', 0),\n",
              " ('lifeline', 0),\n",
              " ('your', 73),\n",
              " ('support', 8),\n",
              " ('encouragement', 2),\n",
              " ('great', 29),\n",
              " ('glad', 8),\n",
              " ('you', 344),\n",
              " ('were', 72),\n",
              " ('was able', 5),\n",
              " ('able to', 41),\n",
              " ('to help', 11),\n",
              " ('help chai', 0),\n",
              " ('chai lifeline', 0),\n",
              " ('lifeline with', 0),\n",
              " ('with your', 4),\n",
              " ('your support', 0),\n",
              " ('support and', 1),\n",
              " ('and encouragement', 0),\n",
              " ('encouragement is', 0),\n",
              " ('is great', 4),\n",
              " ('great feeling', 0),\n",
              " ('feeling and', 9),\n",
              " ('and am', 26),\n",
              " ('am so', 17),\n",
              " ('so glad', 0),\n",
              " ('glad you', 0),\n",
              " ('you were', 4),\n",
              " ('were able', 0),\n",
              " ('already', 47),\n",
              " ('fucked', 1),\n",
              " ('up', 281),\n",
              " ('though', 76),\n",
              " ('because', 367),\n",
              " ('dont', 158),\n",
              " ('usually', 26),\n",
              " ('eat', 22),\n",
              " ('at', 375),\n",
              " ('all', 362),\n",
              " ('morning', 46),\n",
              " ('already feel', 2),\n",
              " ('like fucked', 0),\n",
              " ('fucked up', 1),\n",
              " ('up though', 0),\n",
              " ('though because', 0),\n",
              " ('because dont', 6),\n",
              " ('dont usually', 0),\n",
              " ('usually eat', 0),\n",
              " ('eat at', 1),\n",
              " ('at all', 32),\n",
              " ('all in', 6),\n",
              " ('the morning', 8),\n",
              " ('love', 111),\n",
              " ('wish', 24),\n",
              " ('best', 30),\n",
              " ('him', 155),\n",
              " ('longer', 16),\n",
              " ('tolerate', 1),\n",
              " ('effect', 2),\n",
              " ('bm', 1),\n",
              " ('our', 58),\n",
              " ('lives', 9),\n",
              " ('fact', 35),\n",
              " ('turned', 8),\n",
              " ('into', 92),\n",
              " ('bitter', 4),\n",
              " ('angry', 19),\n",
              " ('person', 59),\n",
              " ('always', 107),\n",
              " ('particularly', 16),\n",
              " ('kind', 77),\n",
              " ('people', 176),\n",
              " ('when', 406),\n",
              " ('he', 193),\n",
              " ('stressed', 74),\n",
              " ('still love', 1),\n",
              " ('love my', 8),\n",
              " ('my so', 2),\n",
              " ('so and', 2),\n",
              " ('and wish', 3),\n",
              " ('wish the', 1),\n",
              " ('the best', 13),\n",
              " ('best for', 3),\n",
              " ('for him', 15),\n",
              " ('him can', 1),\n",
              " ('can no', 1),\n",
              " ('no longer', 11),\n",
              " ('longer tolerate', 1),\n",
              " ('tolerate the', 1),\n",
              " ('the effect', 2),\n",
              " ('effect that', 1),\n",
              " ('that bm', 1),\n",
              " ('bm has', 1),\n",
              " ('has on', 1),\n",
              " ('on our', 5),\n",
              " ('our lives', 2),\n",
              " ('lives and', 1),\n",
              " ('and the', 61),\n",
              " ('the fact', 25),\n",
              " ('fact that', 22),\n",
              " ('that is', 25),\n",
              " ('is has', 1),\n",
              " ('has turned', 1),\n",
              " ('turned my', 1),\n",
              " ('so into', 1),\n",
              " ('into bitter', 1),\n",
              " ('bitter angry', 1),\n",
              " ('angry person', 1),\n",
              " ('person who', 7),\n",
              " ('who is', 10),\n",
              " ('is not', 20),\n",
              " ('not always', 2),\n",
              " ('always particularly', 1),\n",
              " ('particularly kind', 1),\n",
              " ('kind to', 1),\n",
              " ('to the', 100),\n",
              " ('the people', 15),\n",
              " ('people around', 3),\n",
              " ('around him', 2),\n",
              " ('him when', 4),\n",
              " ('when he', 11),\n",
              " ('he is', 18),\n",
              " ('is feeling', 9),\n",
              " ('feeling stressed', 19),\n",
              " ('inhibited', 18),\n",
              " ('elses', 5),\n",
              " ('kitchen', 4),\n",
              " ('painting', 1),\n",
              " ('picture', 9),\n",
              " ('feel so', 288),\n",
              " ('so inhibited', 2),\n",
              " ('inhibited in', 5),\n",
              " ('in someone', 1),\n",
              " ('someone elses', 3),\n",
              " ('elses kitchen', 1),\n",
              " ('kitchen like', 1),\n",
              " ('like im', 62),\n",
              " ('im painting', 1),\n",
              " ('painting on', 1),\n",
              " ('on someone', 2),\n",
              " ('elses picture', 1),\n",
              " ('become', 23),\n",
              " ('defeated', 47),\n",
              " ('become overwhelmed', 1),\n",
              " ('overwhelmed and', 1),\n",
              " ('and feel', 120),\n",
              " ('feel defeated', 12),\n",
              " ('kinda', 26),\n",
              " ('appalled', 0),\n",
              " ('needs', 17),\n",
              " ('explain', 13),\n",
              " ('wide', 0),\n",
              " ('lenghth', 0),\n",
              " ('her', 165),\n",
              " ('body', 41),\n",
              " ('measures', 1),\n",
              " ('etc', 19),\n",
              " ('pp', 0),\n",
              " ('feel kinda', 8),\n",
              " ('kinda appalled', 0),\n",
              " ('appalled that', 0),\n",
              " ('that she', 13),\n",
              " ('she feels', 2),\n",
              " ('feels like', 17),\n",
              " ('like she', 10),\n",
              " ('she needs', 0),\n",
              " ('needs to', 9),\n",
              " ('to explain', 5),\n",
              " ('explain in', 0),\n",
              " ('in wide', 0),\n",
              " ('wide and', 0),\n",
              " ('and lenghth', 0),\n",
              " ('lenghth her', 0),\n",
              " ('her body', 1),\n",
              " ('body measures', 0),\n",
              " ('measures etc', 0),\n",
              " ('etc pp', 0),\n",
              " ('more', 230),\n",
              " ('superior', 0),\n",
              " ('dead', 10),\n",
              " ('chicken', 2),\n",
              " ('grieving', 0),\n",
              " ('feel more', 20),\n",
              " ('more superior', 0),\n",
              " ('superior dead', 0),\n",
              " ('dead chicken', 0),\n",
              " ('chicken or', 0),\n",
              " ('or grieving', 0),\n",
              " ('grieving child', 0),\n",
              " ('get', 225),\n",
              " ('giddy', 1),\n",
              " ('over', 95),\n",
              " ('elegant', 0),\n",
              " ('perfectly', 4),\n",
              " ('fitted', 0),\n",
              " ('pencil', 0),\n",
              " ('skirt', 0),\n",
              " ('get giddy', 0),\n",
              " ('giddy over', 0),\n",
              " ('over feeling', 1),\n",
              " ('feeling elegant', 0),\n",
              " ('elegant in', 0),\n",
              " ('in perfectly', 0),\n",
              " ('perfectly fitted', 0),\n",
              " ('fitted pencil', 0),\n",
              " ('pencil skirt', 0),\n",
              " ('remember', 54),\n",
              " ('acutely', 2),\n",
              " ('distressed', 0),\n",
              " ('few', 45),\n",
              " ('days', 87),\n",
              " ('remember feeling', 18),\n",
              " ('feeling acutely', 0),\n",
              " ('acutely distressed', 0),\n",
              " ('distressed for', 0),\n",
              " ('for few', 4),\n",
              " ('few days', 8),\n",
              " ('seen', 11),\n",
              " ('heard', 10),\n",
              " ('read', 30),\n",
              " ('past', 37),\n",
              " ('couple', 15),\n",
              " ('left', 69),\n",
              " ('impressed', 0),\n",
              " ('by', 251),\n",
              " ('than', 104),\n",
              " ('companies', 1),\n",
              " ('have seen', 0),\n",
              " ('seen heard', 1),\n",
              " ('heard and', 1),\n",
              " ('and read', 0),\n",
              " ('read over', 0),\n",
              " ('over the', 20),\n",
              " ('the past', 21),\n",
              " ('past couple', 2),\n",
              " ('couple of', 10),\n",
              " ('of days', 3),\n",
              " ('days am', 1),\n",
              " ('am left', 5),\n",
              " ('left feeling', 21),\n",
              " ('feeling impressed', 0),\n",
              " ('impressed by', 0),\n",
              " ('by more', 0),\n",
              " ('more than', 26),\n",
              " ('than few', 1),\n",
              " ('few companies', 0),\n",
              " ('climbed', 1),\n",
              " ('hill', 1),\n",
              " ('frustrated', 14),\n",
              " ('id', 31),\n",
              " ('much', 152),\n",
              " ('paced', 0),\n",
              " ('entirely', 7),\n",
              " ('course', 8),\n",
              " ('factor', 0),\n",
              " ('never', 84),\n",
              " ('hampered', 0),\n",
              " ('such', 44),\n",
              " ('dent', 1),\n",
              " ('day', 137),\n",
              " ('climbed the', 0),\n",
              " ('the hill', 0),\n",
              " ('hill feeling', 0),\n",
              " ('feeling frustrated', 0),\n",
              " ('frustrated that', 1),\n",
              " ('that id', 1),\n",
              " ('id pretty', 0),\n",
              " ('pretty much', 11),\n",
              " ('much paced', 0),\n",
              " ('paced entirely', 0),\n",
              " ('entirely wrong', 0),\n",
              " ('wrong for', 0),\n",
              " ('for this', 14),\n",
              " ('this course', 0),\n",
              " ('course and', 0),\n",
              " ('that factor', 0),\n",
              " ('factor that', 0),\n",
              " ('that has', 6),\n",
              " ('has never', 1),\n",
              " ('never ever', 1),\n",
              " ('ever hampered', 0),\n",
              " ('hampered me', 0),\n",
              " ('me had', 0),\n",
              " ('had made', 3),\n",
              " ('made such', 0),\n",
              " ('such dent', 0),\n",
              " ('dent in', 0),\n",
              " ('the day', 32),\n",
              " ('imagine', 11),\n",
              " ('real', 30),\n",
              " ('scenario', 2),\n",
              " ('where', 64),\n",
              " ('would', 203),\n",
              " ('be', 395),\n",
              " ('emotionally', 17),\n",
              " ('connected', 2),\n",
              " ('enough', 56),\n",
              " ('totally', 36),\n",
              " ('accepted', 2),\n",
              " ('safe', 2),\n",
              " ('morally', 0),\n",
              " ('acceptable', 2),\n",
              " ('close', 16),\n",
              " ('prolonged', 0),\n",
              " ('physical', 13),\n",
              " ('contact', 3),\n",
              " ('sex', 7),\n",
              " ('won', 9),\n",
              " ('expected', 7),\n",
              " ('subsequently', 0),\n",
              " ('can imagine', 1),\n",
              " ('imagine real', 0),\n",
              " ('real life', 5),\n",
              " ('life scenario', 0),\n",
              " ('scenario where', 0),\n",
              " ('where would', 0),\n",
              " ('would be', 37),\n",
              " ('be emotionally', 0),\n",
              " ('emotionally connected', 0),\n",
              " ('connected enough', 0),\n",
              " ('enough with', 0),\n",
              " ('with someone', 3),\n",
              " ('someone to', 4),\n",
              " ('feel totally', 13),\n",
              " ('totally accepted', 0),\n",
              " ('accepted and', 1),\n",
              " ('and safe', 0),\n",
              " ('safe where', 0),\n",
              " ('where it', 2),\n",
              " ('it it', 1),\n",
              " ('it morally', 0),\n",
              " ('morally acceptable', 0),\n",
              " ('acceptable for', 0),\n",
              " ('for me', 44),\n",
              " ('have close', 0),\n",
              " ('close and', 0),\n",
              " ('and prolonged', 0),\n",
              " ('prolonged physical', 0),\n",
              " ('physical contact', 0),\n",
              " ('contact and', 0),\n",
              " ('and where', 2),\n",
              " ('where sex', 0),\n",
              " ('sex won', 0),\n",
              " ('won be', 0),\n",
              " ('be expected', 1),\n",
              " ('expected subsequently', 0),\n",
              " ('what', 201),\n",
              " ('content', 4),\n",
              " ('if', 206),\n",
              " ('am not', 25),\n",
              " ('not sure', 13),\n",
              " ('sure what', 0),\n",
              " ('what would', 3),\n",
              " ('would make', 7),\n",
              " ('make me', 28),\n",
              " ('me feel', 116),\n",
              " ('feel content', 0),\n",
              " ('content if', 0),\n",
              " ('if anything', 0),\n",
              " ('need', 100),\n",
              " ('creative', 4),\n",
              " ('feeling the', 9),\n",
              " ('the need', 20),\n",
              " ('need to', 59),\n",
              " ('to be', 163),\n",
              " ('be creative', 0),\n",
              " ('however', 11),\n",
              " ('want', 179),\n",
              " ('causing', 4),\n",
              " ('less', 67),\n",
              " ('splendid', 0),\n",
              " ('self', 30),\n",
              " ('step', 10),\n",
              " ('away', 70),\n",
              " ('them', 174),\n",
              " ('do however', 2),\n",
              " ('however want', 0),\n",
              " ('want you', 2),\n",
              " ('you to', 13),\n",
              " ('to know', 25),\n",
              " ('that if', 11),\n",
              " ('if something', 1),\n",
              " ('something someone', 0),\n",
              " ('someone is', 2),\n",
              " ('is causing', 1),\n",
              " ('causing you', 0),\n",
              " ('feel less', 21),\n",
              " ('less then', 0),\n",
              " ('then your', 0),\n",
              " ('your splendid', 0),\n",
              " ('splendid self', 0),\n",
              " ('self step', 0),\n",
              " ('step away', 0),\n",
              " ('away from', 19),\n",
              " ('from them', 6),\n",
              " ('bit', 169),\n",
              " ('rude', 2),\n",
              " ('writing', 32),\n",
              " ('elderly', 0),\n",
              " ('gentleman', 0),\n",
              " ('ask', 10),\n",
              " ('gifts', 0),\n",
              " ('christmas', 9),\n",
              " ('mild', 2),\n",
              " ('greed', 1),\n",
              " ('feel bit', 48),\n",
              " ('bit rude', 0),\n",
              " ('rude writing', 0),\n",
              " ('writing to', 0),\n",
              " ('to an', 3),\n",
              " ('an elderly', 0),\n",
              " ('elderly gentleman', 0),\n",
              " ('gentleman to', 0),\n",
              " ('to ask', 2),\n",
              " ('ask for', 3),\n",
              " ('for gifts', 0),\n",
              " ('gifts because', 0),\n",
              " ('because feel', 39),\n",
              " ('bit greedy', 0),\n",
              " ('greedy but', 0),\n",
              " ('but what', 2),\n",
              " ('what is', 8),\n",
              " ('is christmas', 0),\n",
              " ('christmas about', 0),\n",
              " ('about if', 0),\n",
              " ('if not', 4),\n",
              " ('not mild', 0),\n",
              " ('mild greed', 0),\n",
              " ('protected', 0),\n",
              " ('small', 13),\n",
              " ('myself', 257),\n",
              " ('season', 5),\n",
              " ('words', 33),\n",
              " ('need you', 3),\n",
              " ('you need', 0),\n",
              " ('need someone', 0),\n",
              " ('someone need', 1),\n",
              " ('be protected', 0),\n",
              " ('protected and', 0),\n",
              " ('feel safe', 0),\n",
              " ('safe am', 0),\n",
              " ('am small', 0),\n",
              " ('small now', 0),\n",
              " ('now find', 0),\n",
              " ('find myself', 14),\n",
              " ('myself in', 5),\n",
              " ('in season', 1),\n",
              " ('season of', 0),\n",
              " ('of no', 1),\n",
              " ('no words', 1),\n",
              " ('plan', 7),\n",
              " ('share', 15),\n",
              " ('everyday', 11),\n",
              " ('stories', 9),\n",
              " ('traveling', 2),\n",
              " ('adventures', 0),\n",
              " ('inspirations', 0),\n",
              " ('handmade', 0),\n",
              " ('creations', 0),\n",
              " ('hope', 35),\n",
              " ('inspired', 3),\n",
              " ('plan to', 4),\n",
              " ('to share', 10),\n",
              " ('share my', 4),\n",
              " ('my everyday', 0),\n",
              " ('everyday life', 2),\n",
              " ('life stories', 0),\n",
              " ('stories traveling', 0),\n",
              " ('traveling adventures', 0),\n",
              " ('adventures inspirations', 0),\n",
              " ('inspirations and', 0),\n",
              " ('and handmade', 0),\n",
              " ('handmade creations', 0),\n",
              " ('creations with', 0),\n",
              " ('with you', 2),\n",
              " ('you and', 4),\n",
              " ('and hope', 4),\n",
              " ('hope you', 3),\n",
              " ('you will', 6),\n",
              " ('will also', 1),\n",
              " ('feel inspired', 0),\n",
              " ('trees', 1),\n",
              " ('got', 61),\n",
              " ('festive', 0),\n",
              " ('which', 103),\n",
              " ('spurring', 0),\n",
              " ('book', 18),\n",
              " ('already have', 0),\n",
              " ('have my', 2),\n",
              " ('my christmas', 0),\n",
              " ('christmas trees', 0),\n",
              " ('trees up', 0),\n",
              " ('up got', 0),\n",
              " ('got two', 1),\n",
              " ('two and', 1),\n",
              " ('feeling festive', 0),\n",
              " ('festive which', 0),\n",
              " ('which sure', 0),\n",
              " ('sure is', 0),\n",
              " ('is spurring', 0),\n",
              " ('spurring me', 0),\n",
              " ('to get', 72),\n",
              " ('get started', 0),\n",
              " ('started on', 1),\n",
              " ('on this', 13),\n",
              " ('this book', 5),\n",
              " ('worn', 5),\n",
              " ('once', 40),\n",
              " ('its', 141),\n",
              " ('own', 60),\n",
              " ('concealer', 0),\n",
              " ('brave', 1),\n",
              " ('pale', 0),\n",
              " ('perfect', 6),\n",
              " ('ive worn', 0),\n",
              " ('worn it', 0),\n",
              " ('it once', 0),\n",
              " ('once on', 0),\n",
              " ('on its', 1),\n",
              " ('its own', 0),\n",
              " ('own with', 0),\n",
              " ('with little', 3),\n",
              " ('little concealer', 0),\n",
              " ('concealer and', 0),\n",
              " ('and for', 10),\n",
              " ('for the', 92),\n",
              " ('the days', 6),\n",
              " ('days im', 0),\n",
              " ('im feeling', 211),\n",
              " ('feeling brave', 0),\n",
              " ('brave but', 0),\n",
              " ('but dont', 7),\n",
              " ...]"
            ]
          },
          "metadata": {
            "tags": []
          },
          "execution_count": 41
        }
      ]
    },
    {
      "cell_type": "code",
      "metadata": {
        "id": "4JAdP4fLazjv"
      },
      "source": [
        "sadness_tf = pd.DataFrame(list(sorted(sadness_words_freq, key = lambda x: x[1], reverse=True)),columns=['Terms','sadness'])"
      ],
      "execution_count": null,
      "outputs": []
    },
    {
      "cell_type": "code",
      "metadata": {
        "colab": {
          "base_uri": "https://localhost:8080/",
          "height": 204
        },
        "id": "QhiKknlI5f_z",
        "outputId": "54e0a7fb-74ed-405d-c222-637dade78cf6"
      },
      "source": [
        "sadness_tf.head()"
      ],
      "execution_count": null,
      "outputs": [
        {
          "output_type": "execute_result",
          "data": {
            "text/html": [
              "<div>\n",
              "<style scoped>\n",
              "    .dataframe tbody tr th:only-of-type {\n",
              "        vertical-align: middle;\n",
              "    }\n",
              "\n",
              "    .dataframe tbody tr th {\n",
              "        vertical-align: top;\n",
              "    }\n",
              "\n",
              "    .dataframe thead th {\n",
              "        text-align: right;\n",
              "    }\n",
              "</style>\n",
              "<table border=\"1\" class=\"dataframe\">\n",
              "  <thead>\n",
              "    <tr style=\"text-align: right;\">\n",
              "      <th></th>\n",
              "      <th>Terms</th>\n",
              "      <th>sadness</th>\n",
              "    </tr>\n",
              "  </thead>\n",
              "  <tbody>\n",
              "    <tr>\n",
              "      <th>0</th>\n",
              "      <td>feel</td>\n",
              "      <td>3299</td>\n",
              "    </tr>\n",
              "    <tr>\n",
              "      <th>1</th>\n",
              "      <td>and</td>\n",
              "      <td>2692</td>\n",
              "    </tr>\n",
              "    <tr>\n",
              "      <th>2</th>\n",
              "      <td>to</td>\n",
              "      <td>2335</td>\n",
              "    </tr>\n",
              "    <tr>\n",
              "      <th>3</th>\n",
              "      <td>the</td>\n",
              "      <td>2155</td>\n",
              "    </tr>\n",
              "    <tr>\n",
              "      <th>4</th>\n",
              "      <td>feeling</td>\n",
              "      <td>1523</td>\n",
              "    </tr>\n",
              "  </tbody>\n",
              "</table>\n",
              "</div>"
            ],
            "text/plain": [
              "     Terms  sadness\n",
              "0     feel     3299\n",
              "1      and     2692\n",
              "2       to     2335\n",
              "3      the     2155\n",
              "4  feeling     1523"
            ]
          },
          "metadata": {
            "tags": []
          },
          "execution_count": 43
        }
      ]
    },
    {
      "cell_type": "code",
      "metadata": {
        "colab": {
          "base_uri": "https://localhost:8080/",
          "height": 235
        },
        "id": "pNaLHdAJ5glJ",
        "outputId": "d29feec1-d0d0-4716-afe7-9eb0e7f80521"
      },
      "source": [
        "sadness_tf_df = sadness_tf.set_index('Terms')\n",
        "sadness_tf_df.head()"
      ],
      "execution_count": null,
      "outputs": [
        {
          "output_type": "execute_result",
          "data": {
            "text/html": [
              "<div>\n",
              "<style scoped>\n",
              "    .dataframe tbody tr th:only-of-type {\n",
              "        vertical-align: middle;\n",
              "    }\n",
              "\n",
              "    .dataframe tbody tr th {\n",
              "        vertical-align: top;\n",
              "    }\n",
              "\n",
              "    .dataframe thead th {\n",
              "        text-align: right;\n",
              "    }\n",
              "</style>\n",
              "<table border=\"1\" class=\"dataframe\">\n",
              "  <thead>\n",
              "    <tr style=\"text-align: right;\">\n",
              "      <th></th>\n",
              "      <th>sadness</th>\n",
              "    </tr>\n",
              "    <tr>\n",
              "      <th>Terms</th>\n",
              "      <th></th>\n",
              "    </tr>\n",
              "  </thead>\n",
              "  <tbody>\n",
              "    <tr>\n",
              "      <th>feel</th>\n",
              "      <td>3299</td>\n",
              "    </tr>\n",
              "    <tr>\n",
              "      <th>and</th>\n",
              "      <td>2692</td>\n",
              "    </tr>\n",
              "    <tr>\n",
              "      <th>to</th>\n",
              "      <td>2335</td>\n",
              "    </tr>\n",
              "    <tr>\n",
              "      <th>the</th>\n",
              "      <td>2155</td>\n",
              "    </tr>\n",
              "    <tr>\n",
              "      <th>feeling</th>\n",
              "      <td>1523</td>\n",
              "    </tr>\n",
              "  </tbody>\n",
              "</table>\n",
              "</div>"
            ],
            "text/plain": [
              "         sadness\n",
              "Terms           \n",
              "feel        3299\n",
              "and         2692\n",
              "to          2335\n",
              "the         2155\n",
              "feeling     1523"
            ]
          },
          "metadata": {
            "tags": []
          },
          "execution_count": 44
        }
      ]
    },
    {
      "cell_type": "markdown",
      "metadata": {
        "id": "d2-tNxIK7jN6"
      },
      "source": [
        "## Term frequency for anger, love, fear, joy, surprise"
      ]
    },
    {
      "cell_type": "code",
      "metadata": {
        "colab": {
          "base_uri": "https://localhost:8080/"
        },
        "id": "CbptnT285gie",
        "outputId": "318d24e2-d694-42c3-b197-b2b2b9bf0d90"
      },
      "source": [
        "anger_words = anger_matrix.sum(axis=0)\n",
        "anger_words_freq = [(word, anger_words[0, idx]) for word, idx in cvector.vocabulary_.items()]\n",
        "anger_tf = pd.DataFrame(list(sorted(anger_words_freq, key = lambda x: x[1], reverse=True)),columns=['Terms','anger'])\n",
        "anger_tf_df = anger_tf.set_index('Terms')\n",
        "anger_tf_df.head(50)"
      ],
      "execution_count": null,
      "outputs": [
        {
          "output_type": "execute_result",
          "data": {
            "text/html": [
              "<div>\n",
              "<style scoped>\n",
              "    .dataframe tbody tr th:only-of-type {\n",
              "        vertical-align: middle;\n",
              "    }\n",
              "\n",
              "    .dataframe tbody tr th {\n",
              "        vertical-align: top;\n",
              "    }\n",
              "\n",
              "    .dataframe thead th {\n",
              "        text-align: right;\n",
              "    }\n",
              "</style>\n",
              "<table border=\"1\" class=\"dataframe\">\n",
              "  <thead>\n",
              "    <tr style=\"text-align: right;\">\n",
              "      <th></th>\n",
              "      <th>anger</th>\n",
              "    </tr>\n",
              "    <tr>\n",
              "      <th>Terms</th>\n",
              "      <th></th>\n",
              "    </tr>\n",
              "  </thead>\n",
              "  <tbody>\n",
              "    <tr>\n",
              "      <th>feel</th>\n",
              "      <td>1459</td>\n",
              "    </tr>\n",
              "    <tr>\n",
              "      <th>and</th>\n",
              "      <td>1258</td>\n",
              "    </tr>\n",
              "    <tr>\n",
              "      <th>to</th>\n",
              "      <td>1162</td>\n",
              "    </tr>\n",
              "    <tr>\n",
              "      <th>the</th>\n",
              "      <td>1109</td>\n",
              "    </tr>\n",
              "    <tr>\n",
              "      <th>feeling</th>\n",
              "      <td>721</td>\n",
              "    </tr>\n",
              "    <tr>\n",
              "      <th>that</th>\n",
              "      <td>705</td>\n",
              "    </tr>\n",
              "    <tr>\n",
              "      <th>of</th>\n",
              "      <td>630</td>\n",
              "    </tr>\n",
              "    <tr>\n",
              "      <th>my</th>\n",
              "      <td>573</td>\n",
              "    </tr>\n",
              "    <tr>\n",
              "      <th>it</th>\n",
              "      <td>443</td>\n",
              "    </tr>\n",
              "    <tr>\n",
              "      <th>in</th>\n",
              "      <td>418</td>\n",
              "    </tr>\n",
              "    <tr>\n",
              "      <th>like</th>\n",
              "      <td>384</td>\n",
              "    </tr>\n",
              "    <tr>\n",
              "      <th>me</th>\n",
              "      <td>351</td>\n",
              "    </tr>\n",
              "    <tr>\n",
              "      <th>im</th>\n",
              "      <td>342</td>\n",
              "    </tr>\n",
              "    <tr>\n",
              "      <th>so</th>\n",
              "      <td>338</td>\n",
              "    </tr>\n",
              "    <tr>\n",
              "      <th>with</th>\n",
              "      <td>336</td>\n",
              "    </tr>\n",
              "    <tr>\n",
              "      <th>but</th>\n",
              "      <td>333</td>\n",
              "    </tr>\n",
              "    <tr>\n",
              "      <th>was</th>\n",
              "      <td>332</td>\n",
              "    </tr>\n",
              "    <tr>\n",
              "      <th>for</th>\n",
              "      <td>305</td>\n",
              "    </tr>\n",
              "    <tr>\n",
              "      <th>this</th>\n",
              "      <td>290</td>\n",
              "    </tr>\n",
              "    <tr>\n",
              "      <th>have</th>\n",
              "      <td>272</td>\n",
              "    </tr>\n",
              "    <tr>\n",
              "      <th>is</th>\n",
              "      <td>270</td>\n",
              "    </tr>\n",
              "    <tr>\n",
              "      <th>am</th>\n",
              "      <td>264</td>\n",
              "    </tr>\n",
              "    <tr>\n",
              "      <th>not</th>\n",
              "      <td>258</td>\n",
              "    </tr>\n",
              "    <tr>\n",
              "      <th>feel like</th>\n",
              "      <td>253</td>\n",
              "    </tr>\n",
              "    <tr>\n",
              "      <th>be</th>\n",
              "      <td>240</td>\n",
              "    </tr>\n",
              "    <tr>\n",
              "      <th>at</th>\n",
              "      <td>233</td>\n",
              "    </tr>\n",
              "    <tr>\n",
              "      <th>about</th>\n",
              "      <td>226</td>\n",
              "    </tr>\n",
              "    <tr>\n",
              "      <th>just</th>\n",
              "      <td>220</td>\n",
              "    </tr>\n",
              "    <tr>\n",
              "      <th>when</th>\n",
              "      <td>219</td>\n",
              "    </tr>\n",
              "    <tr>\n",
              "      <th>or</th>\n",
              "      <td>205</td>\n",
              "    </tr>\n",
              "    <tr>\n",
              "      <th>as</th>\n",
              "      <td>199</td>\n",
              "    </tr>\n",
              "    <tr>\n",
              "      <th>you</th>\n",
              "      <td>199</td>\n",
              "    </tr>\n",
              "    <tr>\n",
              "      <th>on</th>\n",
              "      <td>187</td>\n",
              "    </tr>\n",
              "    <tr>\n",
              "      <th>because</th>\n",
              "      <td>182</td>\n",
              "    </tr>\n",
              "    <tr>\n",
              "      <th>all</th>\n",
              "      <td>171</td>\n",
              "    </tr>\n",
              "    <tr>\n",
              "      <th>do</th>\n",
              "      <td>162</td>\n",
              "    </tr>\n",
              "    <tr>\n",
              "      <th>up</th>\n",
              "      <td>158</td>\n",
              "    </tr>\n",
              "    <tr>\n",
              "      <th>by</th>\n",
              "      <td>157</td>\n",
              "    </tr>\n",
              "    <tr>\n",
              "      <th>can</th>\n",
              "      <td>133</td>\n",
              "    </tr>\n",
              "    <tr>\n",
              "      <th>myself</th>\n",
              "      <td>129</td>\n",
              "    </tr>\n",
              "    <tr>\n",
              "      <th>really</th>\n",
              "      <td>124</td>\n",
              "    </tr>\n",
              "    <tr>\n",
              "      <th>being</th>\n",
              "      <td>122</td>\n",
              "    </tr>\n",
              "    <tr>\n",
              "      <th>get</th>\n",
              "      <td>121</td>\n",
              "    </tr>\n",
              "    <tr>\n",
              "      <th>time</th>\n",
              "      <td>118</td>\n",
              "    </tr>\n",
              "    <tr>\n",
              "      <th>if</th>\n",
              "      <td>118</td>\n",
              "    </tr>\n",
              "    <tr>\n",
              "      <th>been</th>\n",
              "      <td>117</td>\n",
              "    </tr>\n",
              "    <tr>\n",
              "      <th>im feeling</th>\n",
              "      <td>116</td>\n",
              "    </tr>\n",
              "    <tr>\n",
              "      <th>know</th>\n",
              "      <td>115</td>\n",
              "    </tr>\n",
              "    <tr>\n",
              "      <th>out</th>\n",
              "      <td>114</td>\n",
              "    </tr>\n",
              "    <tr>\n",
              "      <th>to feel</th>\n",
              "      <td>111</td>\n",
              "    </tr>\n",
              "  </tbody>\n",
              "</table>\n",
              "</div>"
            ],
            "text/plain": [
              "            anger\n",
              "Terms            \n",
              "feel         1459\n",
              "and          1258\n",
              "to           1162\n",
              "the          1109\n",
              "feeling       721\n",
              "that          705\n",
              "of            630\n",
              "my            573\n",
              "it            443\n",
              "in            418\n",
              "like          384\n",
              "me            351\n",
              "im            342\n",
              "so            338\n",
              "with          336\n",
              "but           333\n",
              "was           332\n",
              "for           305\n",
              "this          290\n",
              "have          272\n",
              "is            270\n",
              "am            264\n",
              "not           258\n",
              "feel like     253\n",
              "be            240\n",
              "at            233\n",
              "about         226\n",
              "just          220\n",
              "when          219\n",
              "or            205\n",
              "as            199\n",
              "you           199\n",
              "on            187\n",
              "because       182\n",
              "all           171\n",
              "do            162\n",
              "up            158\n",
              "by            157\n",
              "can           133\n",
              "myself        129\n",
              "really        124\n",
              "being         122\n",
              "get           121\n",
              "time          118\n",
              "if            118\n",
              "been          117\n",
              "im feeling    116\n",
              "know          115\n",
              "out           114\n",
              "to feel       111"
            ]
          },
          "metadata": {
            "tags": []
          },
          "execution_count": 45
        }
      ]
    },
    {
      "cell_type": "code",
      "metadata": {
        "colab": {
          "base_uri": "https://localhost:8080/"
        },
        "id": "PlsssMcz5ggF",
        "outputId": "edf8c08c-68bc-4f1e-b567-b30afb2e34d2"
      },
      "source": [
        "love_words = love_matrix.sum(axis=0)\n",
        "love_words_freq = [(word, love_words[0, idx]) for word, idx in cvector.vocabulary_.items()]\n",
        "love_tf = pd.DataFrame(list(sorted(love_words_freq, key = lambda x: x[1], reverse=True)),columns=['Terms','love'])\n",
        "love_tf_df = love_tf.set_index('Terms')\n",
        "love_tf_df.head()"
      ],
      "execution_count": null,
      "outputs": [
        {
          "output_type": "execute_result",
          "data": {
            "text/html": [
              "<div>\n",
              "<style scoped>\n",
              "    .dataframe tbody tr th:only-of-type {\n",
              "        vertical-align: middle;\n",
              "    }\n",
              "\n",
              "    .dataframe tbody tr th {\n",
              "        vertical-align: top;\n",
              "    }\n",
              "\n",
              "    .dataframe thead th {\n",
              "        text-align: right;\n",
              "    }\n",
              "</style>\n",
              "<table border=\"1\" class=\"dataframe\">\n",
              "  <thead>\n",
              "    <tr style=\"text-align: right;\">\n",
              "      <th></th>\n",
              "      <th>love</th>\n",
              "    </tr>\n",
              "    <tr>\n",
              "      <th>Terms</th>\n",
              "      <th></th>\n",
              "    </tr>\n",
              "  </thead>\n",
              "  <tbody>\n",
              "    <tr>\n",
              "      <th>feel</th>\n",
              "      <td>929</td>\n",
              "    </tr>\n",
              "    <tr>\n",
              "      <th>and</th>\n",
              "      <td>902</td>\n",
              "    </tr>\n",
              "    <tr>\n",
              "      <th>to</th>\n",
              "      <td>860</td>\n",
              "    </tr>\n",
              "    <tr>\n",
              "      <th>the</th>\n",
              "      <td>780</td>\n",
              "    </tr>\n",
              "    <tr>\n",
              "      <th>of</th>\n",
              "      <td>482</td>\n",
              "    </tr>\n",
              "  </tbody>\n",
              "</table>\n",
              "</div>"
            ],
            "text/plain": [
              "       love\n",
              "Terms      \n",
              "feel    929\n",
              "and     902\n",
              "to      860\n",
              "the     780\n",
              "of      482"
            ]
          },
          "metadata": {
            "tags": []
          },
          "execution_count": 46
        }
      ]
    },
    {
      "cell_type": "code",
      "metadata": {
        "colab": {
          "base_uri": "https://localhost:8080/"
        },
        "id": "2W0a9vB96_tN",
        "outputId": "9692e330-aafd-4315-bf30-baae69979433"
      },
      "source": [
        "fear_words = fear_matrix.sum(axis=0)\n",
        "fear_words_freq = [(word, fear_words[0, idx]) for word, idx in cvector.vocabulary_.items()]\n",
        "fear_tf = pd.DataFrame(list(sorted(fear_words_freq, key = lambda x: x[1], reverse=True)),columns=['Terms','fear'])\n",
        "fear_tf_df = fear_tf.set_index('Terms')\n",
        "fear_tf_df.head()"
      ],
      "execution_count": null,
      "outputs": [
        {
          "output_type": "execute_result",
          "data": {
            "text/html": [
              "<div>\n",
              "<style scoped>\n",
              "    .dataframe tbody tr th:only-of-type {\n",
              "        vertical-align: middle;\n",
              "    }\n",
              "\n",
              "    .dataframe tbody tr th {\n",
              "        vertical-align: top;\n",
              "    }\n",
              "\n",
              "    .dataframe thead th {\n",
              "        text-align: right;\n",
              "    }\n",
              "</style>\n",
              "<table border=\"1\" class=\"dataframe\">\n",
              "  <thead>\n",
              "    <tr style=\"text-align: right;\">\n",
              "      <th></th>\n",
              "      <th>fear</th>\n",
              "    </tr>\n",
              "    <tr>\n",
              "      <th>Terms</th>\n",
              "      <th></th>\n",
              "    </tr>\n",
              "  </thead>\n",
              "  <tbody>\n",
              "    <tr>\n",
              "      <th>feel</th>\n",
              "      <td>1212</td>\n",
              "    </tr>\n",
              "    <tr>\n",
              "      <th>to</th>\n",
              "      <td>1116</td>\n",
              "    </tr>\n",
              "    <tr>\n",
              "      <th>and</th>\n",
              "      <td>1110</td>\n",
              "    </tr>\n",
              "    <tr>\n",
              "      <th>the</th>\n",
              "      <td>1000</td>\n",
              "    </tr>\n",
              "    <tr>\n",
              "      <th>feeling</th>\n",
              "      <td>742</td>\n",
              "    </tr>\n",
              "  </tbody>\n",
              "</table>\n",
              "</div>"
            ],
            "text/plain": [
              "         fear\n",
              "Terms        \n",
              "feel     1212\n",
              "to       1116\n",
              "and      1110\n",
              "the      1000\n",
              "feeling   742"
            ]
          },
          "metadata": {
            "tags": []
          },
          "execution_count": 47
        }
      ]
    },
    {
      "cell_type": "code",
      "metadata": {
        "colab": {
          "base_uri": "https://localhost:8080/"
        },
        "id": "Lv0wJnG57K0H",
        "outputId": "386cb153-284d-4fcc-d26b-c0fbfc8e1653"
      },
      "source": [
        "joy_words = joy_matrix.sum(axis=0)\n",
        "joy_words_freq = [(word, joy_words[0, idx]) for word, idx in cvector.vocabulary_.items()]\n",
        "joy_tf = pd.DataFrame(list(sorted(joy_words_freq, key = lambda x: x[1], reverse=True)),columns=['Terms','joy'])\n",
        "joy_tf_df = joy_tf.set_index('Terms')\n",
        "joy_tf_df.head()"
      ],
      "execution_count": null,
      "outputs": [
        {
          "output_type": "execute_result",
          "data": {
            "text/html": [
              "<div>\n",
              "<style scoped>\n",
              "    .dataframe tbody tr th:only-of-type {\n",
              "        vertical-align: middle;\n",
              "    }\n",
              "\n",
              "    .dataframe tbody tr th {\n",
              "        vertical-align: top;\n",
              "    }\n",
              "\n",
              "    .dataframe thead th {\n",
              "        text-align: right;\n",
              "    }\n",
              "</style>\n",
              "<table border=\"1\" class=\"dataframe\">\n",
              "  <thead>\n",
              "    <tr style=\"text-align: right;\">\n",
              "      <th></th>\n",
              "      <th>joy</th>\n",
              "    </tr>\n",
              "    <tr>\n",
              "      <th>Terms</th>\n",
              "      <th></th>\n",
              "    </tr>\n",
              "  </thead>\n",
              "  <tbody>\n",
              "    <tr>\n",
              "      <th>feel</th>\n",
              "      <td>3928</td>\n",
              "    </tr>\n",
              "    <tr>\n",
              "      <th>and</th>\n",
              "      <td>3273</td>\n",
              "    </tr>\n",
              "    <tr>\n",
              "      <th>to</th>\n",
              "      <td>3232</td>\n",
              "    </tr>\n",
              "    <tr>\n",
              "      <th>the</th>\n",
              "      <td>2991</td>\n",
              "    </tr>\n",
              "    <tr>\n",
              "      <th>that</th>\n",
              "      <td>1905</td>\n",
              "    </tr>\n",
              "  </tbody>\n",
              "</table>\n",
              "</div>"
            ],
            "text/plain": [
              "        joy\n",
              "Terms      \n",
              "feel   3928\n",
              "and    3273\n",
              "to     3232\n",
              "the    2991\n",
              "that   1905"
            ]
          },
          "metadata": {
            "tags": []
          },
          "execution_count": 48
        }
      ]
    },
    {
      "cell_type": "code",
      "metadata": {
        "colab": {
          "base_uri": "https://localhost:8080/"
        },
        "id": "8eR_QNeK71qw",
        "outputId": "c6ed476d-5bf7-4826-bfe1-e62021a2beab"
      },
      "source": [
        "surprise_words = surprise_matrix.sum(axis=0)\n",
        "surprise_words_freq = [(word, surprise_words[0, idx]) for word, idx in cvector.vocabulary_.items()]\n",
        "surprise_tf = pd.DataFrame(list(sorted(surprise_words_freq, key = lambda x: x[1], reverse=True)),columns=['Terms','surprise'])\n",
        "surprise_tf_df = surprise_tf.set_index('Terms')\n",
        "surprise_tf_df.head()"
      ],
      "execution_count": null,
      "outputs": [
        {
          "output_type": "execute_result",
          "data": {
            "text/html": [
              "<div>\n",
              "<style scoped>\n",
              "    .dataframe tbody tr th:only-of-type {\n",
              "        vertical-align: middle;\n",
              "    }\n",
              "\n",
              "    .dataframe tbody tr th {\n",
              "        vertical-align: top;\n",
              "    }\n",
              "\n",
              "    .dataframe thead th {\n",
              "        text-align: right;\n",
              "    }\n",
              "</style>\n",
              "<table border=\"1\" class=\"dataframe\">\n",
              "  <thead>\n",
              "    <tr style=\"text-align: right;\">\n",
              "      <th></th>\n",
              "      <th>surprise</th>\n",
              "    </tr>\n",
              "    <tr>\n",
              "      <th>Terms</th>\n",
              "      <th></th>\n",
              "    </tr>\n",
              "  </thead>\n",
              "  <tbody>\n",
              "    <tr>\n",
              "      <th>feel</th>\n",
              "      <td>356</td>\n",
              "    </tr>\n",
              "    <tr>\n",
              "      <th>and</th>\n",
              "      <td>354</td>\n",
              "    </tr>\n",
              "    <tr>\n",
              "      <th>the</th>\n",
              "      <td>335</td>\n",
              "    </tr>\n",
              "    <tr>\n",
              "      <th>to</th>\n",
              "      <td>267</td>\n",
              "    </tr>\n",
              "    <tr>\n",
              "      <th>that</th>\n",
              "      <td>212</td>\n",
              "    </tr>\n",
              "  </tbody>\n",
              "</table>\n",
              "</div>"
            ],
            "text/plain": [
              "       surprise\n",
              "Terms          \n",
              "feel        356\n",
              "and         354\n",
              "the         335\n",
              "to          267\n",
              "that        212"
            ]
          },
          "metadata": {
            "tags": []
          },
          "execution_count": 49
        }
      ]
    },
    {
      "cell_type": "markdown",
      "metadata": {
        "id": "LlWOA1c8_to3"
      },
      "source": [
        "## Total Term Frequency of all 6 emotions"
      ]
    },
    {
      "cell_type": "code",
      "metadata": {
        "id": "PJA9w-kn8pHj"
      },
      "source": [
        "term_freq_df = pd.concat([sadness_tf_df,anger_tf_df,love_tf_df,fear_tf_df,joy_tf_df, surprise_tf_df],axis=1)"
      ],
      "execution_count": null,
      "outputs": []
    },
    {
      "cell_type": "code",
      "metadata": {
        "colab": {
          "base_uri": "https://localhost:8080/",
          "height": 204
        },
        "id": "EM7cJn7P8MV7",
        "outputId": "36a5d17f-15a8-4c75-d773-8531a5931093"
      },
      "source": [
        "term_freq_df['total'] = term_freq_df['sadness'] + term_freq_df['anger'] + term_freq_df['love'] + term_freq_df['fear'] + term_freq_df['joy'] + term_freq_df['surprise'] \n",
        "term_freq_df.sort_values(by='total', ascending=False).head()"
      ],
      "execution_count": null,
      "outputs": [
        {
          "output_type": "execute_result",
          "data": {
            "text/html": [
              "<div>\n",
              "<style scoped>\n",
              "    .dataframe tbody tr th:only-of-type {\n",
              "        vertical-align: middle;\n",
              "    }\n",
              "\n",
              "    .dataframe tbody tr th {\n",
              "        vertical-align: top;\n",
              "    }\n",
              "\n",
              "    .dataframe thead th {\n",
              "        text-align: right;\n",
              "    }\n",
              "</style>\n",
              "<table border=\"1\" class=\"dataframe\">\n",
              "  <thead>\n",
              "    <tr style=\"text-align: right;\">\n",
              "      <th></th>\n",
              "      <th>sadness</th>\n",
              "      <th>anger</th>\n",
              "      <th>love</th>\n",
              "      <th>fear</th>\n",
              "      <th>joy</th>\n",
              "      <th>surprise</th>\n",
              "      <th>total</th>\n",
              "    </tr>\n",
              "  </thead>\n",
              "  <tbody>\n",
              "    <tr>\n",
              "      <th>feel</th>\n",
              "      <td>3299</td>\n",
              "      <td>1459</td>\n",
              "      <td>929</td>\n",
              "      <td>1212</td>\n",
              "      <td>3928</td>\n",
              "      <td>356</td>\n",
              "      <td>11183</td>\n",
              "    </tr>\n",
              "    <tr>\n",
              "      <th>and</th>\n",
              "      <td>2692</td>\n",
              "      <td>1258</td>\n",
              "      <td>902</td>\n",
              "      <td>1110</td>\n",
              "      <td>3273</td>\n",
              "      <td>354</td>\n",
              "      <td>9589</td>\n",
              "    </tr>\n",
              "    <tr>\n",
              "      <th>to</th>\n",
              "      <td>2335</td>\n",
              "      <td>1162</td>\n",
              "      <td>860</td>\n",
              "      <td>1116</td>\n",
              "      <td>3232</td>\n",
              "      <td>267</td>\n",
              "      <td>8972</td>\n",
              "    </tr>\n",
              "    <tr>\n",
              "      <th>the</th>\n",
              "      <td>2155</td>\n",
              "      <td>1109</td>\n",
              "      <td>780</td>\n",
              "      <td>1000</td>\n",
              "      <td>2991</td>\n",
              "      <td>335</td>\n",
              "      <td>8370</td>\n",
              "    </tr>\n",
              "    <tr>\n",
              "      <th>feeling</th>\n",
              "      <td>1523</td>\n",
              "      <td>721</td>\n",
              "      <td>378</td>\n",
              "      <td>742</td>\n",
              "      <td>1539</td>\n",
              "      <td>209</td>\n",
              "      <td>5112</td>\n",
              "    </tr>\n",
              "  </tbody>\n",
              "</table>\n",
              "</div>"
            ],
            "text/plain": [
              "         sadness  anger  love  fear   joy  surprise  total\n",
              "feel        3299   1459   929  1212  3928       356  11183\n",
              "and         2692   1258   902  1110  3273       354   9589\n",
              "to          2335   1162   860  1116  3232       267   8972\n",
              "the         2155   1109   780  1000  2991       335   8370\n",
              "feeling     1523    721   378   742  1539       209   5112"
            ]
          },
          "metadata": {
            "tags": []
          },
          "execution_count": 51
        }
      ]
    },
    {
      "cell_type": "markdown",
      "metadata": {
        "id": "slGy5izhtujL"
      },
      "source": [
        "# 전처리"
      ]
    },
    {
      "cell_type": "markdown",
      "metadata": {
        "id": "hE4ZWgr7Kjxy"
      },
      "source": [
        "## label 데이터 변환"
      ]
    },
    {
      "cell_type": "code",
      "metadata": {
        "id": "kpxbGS41KoOS"
      },
      "source": [
        "try:\n",
        "  df_train['Emotion']=df_train['Emotion'].replace({'joy':0,'anger':1,'love':2,'sadness':3,'fear':4,'surprise':5})\n",
        "  df_val['Emotion']=df_val['Emotion'].replace({'joy':0,'anger':1,'love':2,'sadness':3,'fear':4,'surprise':5})\n",
        "  df_test['Emotion']=df_test['Emotion'].replace({'joy':0,'anger':1,'love':2,'sadness':3,'fear':4,'surprise':5})\n",
        "except:\n",
        "  pass"
      ],
      "execution_count": null,
      "outputs": []
    },
    {
      "cell_type": "code",
      "metadata": {
        "id": "Q_1c5pjBBDWh"
      },
      "source": [
        "X_train = np.array(df_train[\"Sentence\"])\n",
        "y_train = np.array(df_train[\"Emotion\"])"
      ],
      "execution_count": null,
      "outputs": []
    },
    {
      "cell_type": "code",
      "metadata": {
        "id": "SYMafWcVCBAV"
      },
      "source": [
        "X_val = np.array(df_val[\"Sentence\"])\n",
        "y_val = np.array(df_val[\"Emotion\"])"
      ],
      "execution_count": null,
      "outputs": []
    },
    {
      "cell_type": "code",
      "metadata": {
        "id": "oSpYTDmMCBk6"
      },
      "source": [
        "X_test = np.array(df_test[\"Sentence\"])\n",
        "y_test = np.array(df_test[\"Emotion\"])"
      ],
      "execution_count": null,
      "outputs": []
    },
    {
      "cell_type": "markdown",
      "metadata": {
        "id": "cSl-tW9C9Umy"
      },
      "source": [
        "## CountVectorizer, TfidfTransformer"
      ]
    },
    {
      "cell_type": "code",
      "metadata": {
        "id": "RnBFQ9AcAQP4"
      },
      "source": [
        "from sklearn.feature_extraction.text import CountVectorizer, TfidfTransformer\n",
        "\n",
        "## Build Bag-Of-Words on train sentences\n",
        "dtm_vector = CountVectorizer(stop_words='english', ngram_range=(1,3))\n",
        "X_train_dtm = dtm_vector.fit_transform(X_train)"
      ],
      "execution_count": null,
      "outputs": []
    },
    {
      "cell_type": "code",
      "metadata": {
        "id": "EJldHZu8Avij"
      },
      "source": [
        "# build TFIDF features on train sentences\n",
        "tfidf_vector = TfidfTransformer()\n",
        "X_train_tfidf = tfidf_vector.fit_transform(X_train_dtm)"
      ],
      "execution_count": null,
      "outputs": []
    },
    {
      "cell_type": "code",
      "metadata": {
        "colab": {
          "base_uri": "https://localhost:8080/"
        },
        "id": "I0QOHhdf-6fO",
        "outputId": "0c1bbe97-1953-4a46-9ad1-816937828d98"
      },
      "source": [
        "X_train_tfidf"
      ],
      "execution_count": null,
      "outputs": [
        {
          "output_type": "execute_result",
          "data": {
            "text/plain": [
              "<16000x357839 sparse matrix of type '<class 'numpy.float64'>'\n",
              "\twith 511596 stored elements in Compressed Sparse Row format>"
            ]
          },
          "metadata": {
            "tags": []
          },
          "execution_count": 110
        }
      ]
    },
    {
      "cell_type": "code",
      "metadata": {
        "id": "o1Qjq3u4Axoa"
      },
      "source": [
        "# transform validation, test sentences into features\n",
        "X_val_dtm = dtm_vector.transform(X_val)\n",
        "X_val_tfidf = tfidf_vector.transform(X_val_dtm)\n",
        "\n",
        "X_test_dtm = dtm_vector.transform(X_test)\n",
        "X_test_tfidf = tfidf_vector.transform(X_test_dtm)"
      ],
      "execution_count": null,
      "outputs": []
    },
    {
      "cell_type": "code",
      "metadata": {
        "colab": {
          "base_uri": "https://localhost:8080/"
        },
        "id": "odQJ7pHoC8u8",
        "outputId": "988e1799-8b6a-4846-ac01-a867a330145d"
      },
      "source": [
        "print('BOW model:> Train features shape:', X_train_dtm.shape, ' Validation features shape:', X_val_dtm.shape, 'Test features shape:', X_test_dtm.shape)\n",
        "print('TFIDF model:> Train features shape:', X_train_tfidf.shape, ' Validation features shape:', X_val_tfidf.shape, ' Test features shape:', X_test_tfidf.shape)"
      ],
      "execution_count": null,
      "outputs": [
        {
          "output_type": "stream",
          "text": [
            "BOW model:> Train features shape: (16000, 357839)  Validation features shape: (2000, 357839) Test features shape: (2000, 357839)\n",
            "TFIDF model:> Train features shape: (16000, 357839)  Validation features shape: (2000, 357839)  Test features shape: (2000, 357839)\n"
          ],
          "name": "stdout"
        }
      ]
    },
    {
      "cell_type": "markdown",
      "metadata": {
        "id": "uZbs_ZeblCyE"
      },
      "source": [
        "## concat train + val"
      ]
    },
    {
      "cell_type": "code",
      "metadata": {
        "id": "LWn-2Kjxdgft"
      },
      "source": [
        "X_train_val = np.concatenate((X_train, X_val), axis=0)\n",
        "y_train_val = np.concatenate((y_train, y_val), axis=0)"
      ],
      "execution_count": null,
      "outputs": []
    },
    {
      "cell_type": "code",
      "metadata": {
        "id": "cS2N6iuufwdp"
      },
      "source": [
        "X_train_val_dtm = dtm_vector.transform(X_train_val)\n",
        "X_train_val_tfidf = tfidf_vector.transform(X_train_val_dtm)"
      ],
      "execution_count": null,
      "outputs": []
    },
    {
      "cell_type": "markdown",
      "metadata": {
        "id": "rXiG2NQSWkEC"
      },
      "source": [
        "# Classification\n",
        "### MultinomialNB https://wikidocs.net/22892\n",
        "### SGDClassifier https://scikit-learn.org/stable/tutorial/text_analytics/working_with_text_data.html \n",
        "### LogisticRegression https://scikit-learn.org/stable/modules/generated/sklearn.linear_model.LogisticRegression.html"
      ]
    },
    {
      "cell_type": "markdown",
      "metadata": {
        "id": "KuA1vMPcV_R0"
      },
      "source": [
        "## train -> MultinomialNB\n",
        "https://wikidocs.net/22892"
      ]
    },
    {
      "cell_type": "code",
      "metadata": {
        "id": "HzQ86MXiDnGf"
      },
      "source": [
        "from sklearn.naive_bayes import MultinomialNB # 다항분포 나이브 베이즈 모델\n",
        "from sklearn.metrics import accuracy_score #정확도 계산"
      ],
      "execution_count": null,
      "outputs": []
    },
    {
      "cell_type": "code",
      "metadata": {
        "colab": {
          "base_uri": "https://localhost:8080/"
        },
        "id": "CWqktXt2FUlx",
        "outputId": "36faaad5-7788-473b-9b3c-f437a733d4ec"
      },
      "source": [
        "mod_nb = MultinomialNB(alpha=1.0, class_prior=None, fit_prior=True)\n",
        "mod_nb.fit(X_train_tfidf, y_train)\n",
        "\n",
        "predicted = mod_nb.predict(X_test_tfidf)\n",
        "print(\"train 정확도: \", accuracy_score(y_test, predicted))\n",
        "\n",
        "mod_nb_train_val = MultinomialNB(alpha=1.0, class_prior=None, fit_prior=False)\n",
        "mod_nb_train_val.fit(X_train_val_tfidf, y_train_val)\n",
        "\n",
        "predicted = mod_nb_train_val.predict(X_test_tfidf)\n",
        "print(\"train + val 정확도: \", accuracy_score(y_test, predicted))"
      ],
      "execution_count": null,
      "outputs": [
        {
          "output_type": "stream",
          "text": [
            "train 정확도:  0.6755\n",
            "train + val 정확도:  0.765\n"
          ],
          "name": "stdout"
        }
      ]
    },
    {
      "cell_type": "code",
      "metadata": {
        "colab": {
          "base_uri": "https://localhost:8080/"
        },
        "id": "vrwqguStTm-z",
        "outputId": "4e743ae2-5a03-449c-8291-8499799300d8"
      },
      "source": [
        "predicted"
      ],
      "execution_count": null,
      "outputs": [
        {
          "output_type": "execute_result",
          "data": {
            "text/plain": [
              "array([3, 3, 3, ..., 0, 0, 0])"
            ]
          },
          "metadata": {
            "tags": []
          },
          "execution_count": 83
        }
      ]
    },
    {
      "cell_type": "markdown",
      "metadata": {
        "id": "I1ZX5oq4h6aB"
      },
      "source": [
        "## train -> SGD\n",
        " https://scikit-learn.org/stable/tutorial/text_analytics/working_with_text_data.html"
      ]
    },
    {
      "cell_type": "code",
      "metadata": {
        "colab": {
          "base_uri": "https://localhost:8080/"
        },
        "id": "FpqxdVlEWHSZ",
        "outputId": "a380475d-992b-48cb-a19d-be68476a00ed"
      },
      "source": [
        "# 각 파라미터 설명 - https://scikit-learn.org/stable/modules/sgd.html\n",
        "from sklearn.linear_model import SGDClassifier\n",
        "mod_sgd = SGDClassifier(loss='hinge', penalty='elasticnet', alpha=1e-4, random_state=10, max_iter=5, tol=1e-3, verbose=0)\n",
        "mod_sgd.fit(X_train_tfidf, y_train)\n",
        "predicted_sgd = mod_sgd.predict(X_test_tfidf)\n",
        "print(\"정확도: \", accuracy_score(y_test, predicted_sgd))"
      ],
      "execution_count": null,
      "outputs": [
        {
          "output_type": "stream",
          "text": [
            "정확도:  0.9055\n"
          ],
          "name": "stdout"
        },
        {
          "output_type": "stream",
          "text": [
            "/usr/local/lib/python3.7/dist-packages/sklearn/linear_model/_stochastic_gradient.py:557: ConvergenceWarning: Maximum number of iteration reached before convergence. Consider increasing max_iter to improve the fit.\n",
            "  ConvergenceWarning)\n"
          ],
          "name": "stderr"
        }
      ]
    },
    {
      "cell_type": "markdown",
      "metadata": {
        "id": "QWB8yVtodb3S"
      },
      "source": [
        "## train + val -> SGD"
      ]
    },
    {
      "cell_type": "code",
      "metadata": {
        "colab": {
          "base_uri": "https://localhost:8080/"
        },
        "id": "wtB9F6IcghzH",
        "outputId": "3654c7cb-2e7b-43eb-a73d-191f2a49a42d"
      },
      "source": [
        "# validation_fraction\n",
        "mod_sgd_train_val = SGDClassifier(loss='hinge', penalty='elasticnet', alpha=1e-4, random_state=10, max_iter=5, tol=1e-3, verbose=0)\n",
        "mod_sgd_train_val.fit(X_train_val_tfidf, y_train_val)\n",
        "predicted_sgd_fraction = mod_sgd_train_val.predict(X_test_tfidf)\n",
        "print(\"정확도: \", accuracy_score(y_test, predicted_sgd_fraction))"
      ],
      "execution_count": null,
      "outputs": [
        {
          "output_type": "stream",
          "text": [
            "정확도:  0.9055\n"
          ],
          "name": "stdout"
        },
        {
          "output_type": "stream",
          "text": [
            "/usr/local/lib/python3.7/dist-packages/sklearn/linear_model/_stochastic_gradient.py:557: ConvergenceWarning: Maximum number of iteration reached before convergence. Consider increasing max_iter to improve the fit.\n",
            "  ConvergenceWarning)\n"
          ],
          "name": "stderr"
        }
      ]
    },
    {
      "cell_type": "markdown",
      "metadata": {
        "id": "OwMMz-RUh_cI"
      },
      "source": [
        "## train + val -> LogisticRegression\n",
        "https://scikit-learn.org/stable/modules/generated/sklearn.linear_model.LogisticRegression.html"
      ]
    },
    {
      "cell_type": "code",
      "metadata": {
        "colab": {
          "base_uri": "https://localhost:8080/"
        },
        "id": "DgpZzFEqiTk2",
        "outputId": "326fd32e-018d-405e-f130-0dcd960edb85"
      },
      "source": [
        "from sklearn.linear_model import LogisticRegression\n",
        "# only train\n",
        "mod_logistic = LogisticRegression(random_state=0, C=1, n_jobs=-1, penalty='l1', solver='saga', verbose=2)\n",
        "mod_logistic.fit(X_train_tfidf, y_train)\n",
        "predicted_logistic = mod_logistic.predict(X_test_tfidf)\n",
        "print(\"train 정확도: \", accuracy_score(y_test, predicted_logistic))\n",
        "# train + val\n",
        "mod_logistic_train_val = LogisticRegression(random_state=0, C=1, n_jobs=-1, penalty='l1', solver='saga', verbose=1)\n",
        "mod_logistic_train_val.fit(X_train_val_tfidf, y_train_val)\n",
        "predicted_logistic_train_val = mod_logistic_train_val.predict(X_test_tfidf)\n",
        "print(\"정확도: \", accuracy_score(y_test, predicted_logistic_train_val))\n",
        "# 얘가 Cross Validation 돌린애보다 acc가 높다? -> 그럴 땐 CV 돌린 값을 신뢰해야 한다. \n",
        "# 왜냐? CV는 데이터를 5등분해서 1,2,3,4 / 1,2,3,5 / 1,2,4,5 이런식으로 알아서 데이터를 쪼개고 평균낸 값이다. \n",
        "# 반면에 지금 셀에서 돌린 결과값 0.8995는 test데이터셋에 대한 값이다. test데이터에 대해 더 잘 반응한 걸수도 있다."
      ],
      "execution_count": null,
      "outputs": [
        {
          "output_type": "stream",
          "text": [
            "[Parallel(n_jobs=-1)]: Using backend ThreadingBackend with 2 concurrent workers.\n"
          ],
          "name": "stderr"
        },
        {
          "output_type": "stream",
          "text": [
            "max_iter reached after 13 seconds\n",
            "train 정확도:  0.8865\n"
          ],
          "name": "stdout"
        },
        {
          "output_type": "stream",
          "text": [
            "/usr/local/lib/python3.7/dist-packages/sklearn/linear_model/_sag.py:330: ConvergenceWarning: The max_iter was reached which means the coef_ did not converge\n",
            "  \"the coef_ did not converge\", ConvergenceWarning)\n",
            "[Parallel(n_jobs=-1)]: Done   1 out of   1 | elapsed:   13.6s finished\n",
            "[Parallel(n_jobs=-1)]: Using backend ThreadingBackend with 2 concurrent workers.\n"
          ],
          "name": "stderr"
        },
        {
          "output_type": "stream",
          "text": [
            "max_iter reached after 15 seconds\n",
            "정확도:  0.8945\n"
          ],
          "name": "stdout"
        },
        {
          "output_type": "stream",
          "text": [
            "/usr/local/lib/python3.7/dist-packages/sklearn/linear_model/_sag.py:330: ConvergenceWarning: The max_iter was reached which means the coef_ did not converge\n",
            "  \"the coef_ did not converge\", ConvergenceWarning)\n",
            "[Parallel(n_jobs=-1)]: Done   1 out of   1 | elapsed:   14.7s finished\n"
          ],
          "name": "stderr"
        }
      ]
    },
    {
      "cell_type": "code",
      "metadata": {
        "id": "yQsruF8XtoE-"
      },
      "source": [
        "# Grid search cross validation\n",
        "from sklearn.model_selection import GridSearchCV"
      ],
      "execution_count": null,
      "outputs": []
    },
    {
      "cell_type": "markdown",
      "metadata": {
        "id": "VVJWq60Wvhm0"
      },
      "source": [
        "## GridSearchCV: SGD"
      ]
    },
    {
      "cell_type": "code",
      "metadata": {
        "id": "P4WHx8lkvmaT"
      },
      "source": [
        "params = {\n",
        "    \"loss\" : [\"hinge\", \"log\", \"squared_hinge\", \"modified_huber\"],\n",
        "    \"alpha\" : [0.0001, 0.001, 0.01, 0.1],\n",
        "    \"penalty\" : [\"l2\", \"l1\", \"none\", \"elasticnet\"],\n",
        "    # \"learning_rate\":['constant', 'optimal','invscaling','adaptive']\n",
        "}\n",
        "# change max_iter from 100 to 1000 \n",
        "model_sgd = SGDClassifier(max_iter=1000)\n",
        "cv_sgd = GridSearchCV(model_sgd, param_grid=params, verbose=3)"
      ],
      "execution_count": null,
      "outputs": []
    },
    {
      "cell_type": "code",
      "metadata": {
        "colab": {
          "base_uri": "https://localhost:8080/"
        },
        "id": "staE1dtBv3BL",
        "outputId": "adc31e28-44a3-48f4-a202-09d83c989b0e"
      },
      "source": [
        "cv_sgd.fit(X_train_val_tfidf, y_train_val)\n",
        "print(cv_sgd.best_score_)\n",
        "print(cv_sgd.best_estimator_)"
      ],
      "execution_count": null,
      "outputs": [
        {
          "output_type": "stream",
          "text": [
            "Fitting 5 folds for each of 64 candidates, totalling 320 fits\n",
            "[CV] alpha=0.0001, loss=hinge, penalty=l2 ............................\n"
          ],
          "name": "stdout"
        },
        {
          "output_type": "stream",
          "text": [
            "[Parallel(n_jobs=1)]: Using backend SequentialBackend with 1 concurrent workers.\n"
          ],
          "name": "stderr"
        },
        {
          "output_type": "stream",
          "text": [
            "[CV]  alpha=0.0001, loss=hinge, penalty=l2, score=0.871, total=   0.5s\n",
            "[CV] alpha=0.0001, loss=hinge, penalty=l2 ............................\n"
          ],
          "name": "stdout"
        },
        {
          "output_type": "stream",
          "text": [
            "[Parallel(n_jobs=1)]: Done   1 out of   1 | elapsed:    0.5s remaining:    0.0s\n"
          ],
          "name": "stderr"
        },
        {
          "output_type": "stream",
          "text": [
            "[CV]  alpha=0.0001, loss=hinge, penalty=l2, score=0.869, total=   0.5s\n",
            "[CV] alpha=0.0001, loss=hinge, penalty=l2 ............................\n"
          ],
          "name": "stdout"
        },
        {
          "output_type": "stream",
          "text": [
            "[Parallel(n_jobs=1)]: Done   2 out of   2 | elapsed:    1.0s remaining:    0.0s\n"
          ],
          "name": "stderr"
        },
        {
          "output_type": "stream",
          "text": [
            "[CV]  alpha=0.0001, loss=hinge, penalty=l2, score=0.857, total=   0.5s\n",
            "[CV] alpha=0.0001, loss=hinge, penalty=l2 ............................\n",
            "[CV]  alpha=0.0001, loss=hinge, penalty=l2, score=0.869, total=   0.5s\n",
            "[CV] alpha=0.0001, loss=hinge, penalty=l2 ............................\n",
            "[CV]  alpha=0.0001, loss=hinge, penalty=l2, score=0.891, total=   0.5s\n",
            "[CV] alpha=0.0001, loss=hinge, penalty=l1 ............................\n",
            "[CV]  alpha=0.0001, loss=hinge, penalty=l1, score=0.889, total=   0.6s\n",
            "[CV] alpha=0.0001, loss=hinge, penalty=l1 ............................\n",
            "[CV]  alpha=0.0001, loss=hinge, penalty=l1, score=0.889, total=   0.6s\n",
            "[CV] alpha=0.0001, loss=hinge, penalty=l1 ............................\n",
            "[CV]  alpha=0.0001, loss=hinge, penalty=l1, score=0.874, total=   0.6s\n",
            "[CV] alpha=0.0001, loss=hinge, penalty=l1 ............................\n",
            "[CV]  alpha=0.0001, loss=hinge, penalty=l1, score=0.891, total=   0.7s\n",
            "[CV] alpha=0.0001, loss=hinge, penalty=l1 ............................\n",
            "[CV]  alpha=0.0001, loss=hinge, penalty=l1, score=0.895, total=   0.7s\n",
            "[CV] alpha=0.0001, loss=hinge, penalty=none ..........................\n",
            "[CV]  alpha=0.0001, loss=hinge, penalty=none, score=0.898, total=   0.3s\n",
            "[CV] alpha=0.0001, loss=hinge, penalty=none ..........................\n",
            "[CV]  alpha=0.0001, loss=hinge, penalty=none, score=0.893, total=   0.3s\n",
            "[CV] alpha=0.0001, loss=hinge, penalty=none ..........................\n",
            "[CV]  alpha=0.0001, loss=hinge, penalty=none, score=0.882, total=   0.3s\n",
            "[CV] alpha=0.0001, loss=hinge, penalty=none ..........................\n",
            "[CV]  alpha=0.0001, loss=hinge, penalty=none, score=0.897, total=   0.3s\n",
            "[CV] alpha=0.0001, loss=hinge, penalty=none ..........................\n",
            "[CV]  alpha=0.0001, loss=hinge, penalty=none, score=0.904, total=   0.3s\n",
            "[CV] alpha=0.0001, loss=hinge, penalty=elasticnet ....................\n",
            "[CV]  alpha=0.0001, loss=hinge, penalty=elasticnet, score=0.899, total=   0.5s\n",
            "[CV] alpha=0.0001, loss=hinge, penalty=elasticnet ....................\n",
            "[CV]  alpha=0.0001, loss=hinge, penalty=elasticnet, score=0.900, total=   0.5s\n",
            "[CV] alpha=0.0001, loss=hinge, penalty=elasticnet ....................\n",
            "[CV]  alpha=0.0001, loss=hinge, penalty=elasticnet, score=0.883, total=   0.5s\n",
            "[CV] alpha=0.0001, loss=hinge, penalty=elasticnet ....................\n",
            "[CV]  alpha=0.0001, loss=hinge, penalty=elasticnet, score=0.899, total=   0.5s\n",
            "[CV] alpha=0.0001, loss=hinge, penalty=elasticnet ....................\n",
            "[CV]  alpha=0.0001, loss=hinge, penalty=elasticnet, score=0.908, total=   0.5s\n",
            "[CV] alpha=0.0001, loss=log, penalty=l2 ..............................\n",
            "[CV] .. alpha=0.0001, loss=log, penalty=l2, score=0.664, total=   0.5s\n",
            "[CV] alpha=0.0001, loss=log, penalty=l2 ..............................\n",
            "[CV] .. alpha=0.0001, loss=log, penalty=l2, score=0.664, total=   0.5s\n",
            "[CV] alpha=0.0001, loss=log, penalty=l2 ..............................\n",
            "[CV] .. alpha=0.0001, loss=log, penalty=l2, score=0.648, total=   0.5s\n",
            "[CV] alpha=0.0001, loss=log, penalty=l2 ..............................\n",
            "[CV] .. alpha=0.0001, loss=log, penalty=l2, score=0.651, total=   0.5s\n",
            "[CV] alpha=0.0001, loss=log, penalty=l2 ..............................\n",
            "[CV] .. alpha=0.0001, loss=log, penalty=l2, score=0.723, total=   0.5s\n",
            "[CV] alpha=0.0001, loss=log, penalty=l1 ..............................\n",
            "[CV] .. alpha=0.0001, loss=log, penalty=l1, score=0.787, total=   1.1s\n",
            "[CV] alpha=0.0001, loss=log, penalty=l1 ..............................\n",
            "[CV] .. alpha=0.0001, loss=log, penalty=l1, score=0.787, total=   1.1s\n",
            "[CV] alpha=0.0001, loss=log, penalty=l1 ..............................\n",
            "[CV] .. alpha=0.0001, loss=log, penalty=l1, score=0.776, total=   1.1s\n",
            "[CV] alpha=0.0001, loss=log, penalty=l1 ..............................\n",
            "[CV] .. alpha=0.0001, loss=log, penalty=l1, score=0.791, total=   1.1s\n",
            "[CV] alpha=0.0001, loss=log, penalty=l1 ..............................\n",
            "[CV] .. alpha=0.0001, loss=log, penalty=l1, score=0.831, total=   1.2s\n",
            "[CV] alpha=0.0001, loss=log, penalty=none ............................\n",
            "[CV]  alpha=0.0001, loss=log, penalty=none, score=0.848, total=   0.9s\n",
            "[CV] alpha=0.0001, loss=log, penalty=none ............................\n",
            "[CV]  alpha=0.0001, loss=log, penalty=none, score=0.839, total=   0.8s\n",
            "[CV] alpha=0.0001, loss=log, penalty=none ............................\n",
            "[CV]  alpha=0.0001, loss=log, penalty=none, score=0.823, total=   0.9s\n",
            "[CV] alpha=0.0001, loss=log, penalty=none ............................\n",
            "[CV]  alpha=0.0001, loss=log, penalty=none, score=0.842, total=   0.9s\n",
            "[CV] alpha=0.0001, loss=log, penalty=none ............................\n",
            "[CV]  alpha=0.0001, loss=log, penalty=none, score=0.868, total=   0.9s\n",
            "[CV] alpha=0.0001, loss=log, penalty=elasticnet ......................\n",
            "[CV]  alpha=0.0001, loss=log, penalty=elasticnet, score=0.677, total=   0.6s\n",
            "[CV] alpha=0.0001, loss=log, penalty=elasticnet ......................\n",
            "[CV]  alpha=0.0001, loss=log, penalty=elasticnet, score=0.674, total=   0.6s\n",
            "[CV] alpha=0.0001, loss=log, penalty=elasticnet ......................\n",
            "[CV]  alpha=0.0001, loss=log, penalty=elasticnet, score=0.662, total=   0.6s\n",
            "[CV] alpha=0.0001, loss=log, penalty=elasticnet ......................\n",
            "[CV]  alpha=0.0001, loss=log, penalty=elasticnet, score=0.660, total=   0.6s\n",
            "[CV] alpha=0.0001, loss=log, penalty=elasticnet ......................\n",
            "[CV]  alpha=0.0001, loss=log, penalty=elasticnet, score=0.741, total=   0.7s\n",
            "[CV] alpha=0.0001, loss=squared_hinge, penalty=l2 ....................\n",
            "[CV]  alpha=0.0001, loss=squared_hinge, penalty=l2, score=0.846, total=   0.4s\n",
            "[CV] alpha=0.0001, loss=squared_hinge, penalty=l2 ....................\n",
            "[CV]  alpha=0.0001, loss=squared_hinge, penalty=l2, score=0.859, total=   0.3s\n",
            "[CV] alpha=0.0001, loss=squared_hinge, penalty=l2 ....................\n",
            "[CV]  alpha=0.0001, loss=squared_hinge, penalty=l2, score=0.845, total=   0.3s\n",
            "[CV] alpha=0.0001, loss=squared_hinge, penalty=l2 ....................\n",
            "[CV]  alpha=0.0001, loss=squared_hinge, penalty=l2, score=0.863, total=   0.3s\n",
            "[CV] alpha=0.0001, loss=squared_hinge, penalty=l2 ....................\n",
            "[CV]  alpha=0.0001, loss=squared_hinge, penalty=l2, score=0.891, total=   0.3s\n",
            "[CV] alpha=0.0001, loss=squared_hinge, penalty=l1 ....................\n",
            "[CV]  alpha=0.0001, loss=squared_hinge, penalty=l1, score=0.880, total=   0.9s\n",
            "[CV] alpha=0.0001, loss=squared_hinge, penalty=l1 ....................\n",
            "[CV]  alpha=0.0001, loss=squared_hinge, penalty=l1, score=0.878, total=   0.9s\n",
            "[CV] alpha=0.0001, loss=squared_hinge, penalty=l1 ....................\n",
            "[CV]  alpha=0.0001, loss=squared_hinge, penalty=l1, score=0.859, total=   0.9s\n",
            "[CV] alpha=0.0001, loss=squared_hinge, penalty=l1 ....................\n",
            "[CV]  alpha=0.0001, loss=squared_hinge, penalty=l1, score=0.861, total=   1.4s\n",
            "[CV] alpha=0.0001, loss=squared_hinge, penalty=l1 ....................\n",
            "[CV]  alpha=0.0001, loss=squared_hinge, penalty=l1, score=0.906, total=   0.6s\n",
            "[CV] alpha=0.0001, loss=squared_hinge, penalty=none ..................\n",
            "[CV]  alpha=0.0001, loss=squared_hinge, penalty=none, score=0.838, total=   0.4s\n",
            "[CV] alpha=0.0001, loss=squared_hinge, penalty=none ..................\n",
            "[CV]  alpha=0.0001, loss=squared_hinge, penalty=none, score=0.818, total=   0.3s\n",
            "[CV] alpha=0.0001, loss=squared_hinge, penalty=none ..................\n",
            "[CV]  alpha=0.0001, loss=squared_hinge, penalty=none, score=0.826, total=   0.3s\n",
            "[CV] alpha=0.0001, loss=squared_hinge, penalty=none ..................\n",
            "[CV]  alpha=0.0001, loss=squared_hinge, penalty=none, score=0.835, total=   0.3s\n",
            "[CV] alpha=0.0001, loss=squared_hinge, penalty=none ..................\n",
            "[CV]  alpha=0.0001, loss=squared_hinge, penalty=none, score=0.860, total=   0.3s\n",
            "[CV] alpha=0.0001, loss=squared_hinge, penalty=elasticnet ............\n",
            "[CV]  alpha=0.0001, loss=squared_hinge, penalty=elasticnet, score=0.890, total=   0.7s\n",
            "[CV] alpha=0.0001, loss=squared_hinge, penalty=elasticnet ............\n",
            "[CV]  alpha=0.0001, loss=squared_hinge, penalty=elasticnet, score=0.884, total=   0.6s\n",
            "[CV] alpha=0.0001, loss=squared_hinge, penalty=elasticnet ............\n",
            "[CV]  alpha=0.0001, loss=squared_hinge, penalty=elasticnet, score=0.870, total=   0.5s\n",
            "[CV] alpha=0.0001, loss=squared_hinge, penalty=elasticnet ............\n",
            "[CV]  alpha=0.0001, loss=squared_hinge, penalty=elasticnet, score=0.887, total=   0.5s\n",
            "[CV] alpha=0.0001, loss=squared_hinge, penalty=elasticnet ............\n",
            "[CV]  alpha=0.0001, loss=squared_hinge, penalty=elasticnet, score=0.901, total=   0.6s\n",
            "[CV] alpha=0.0001, loss=modified_huber, penalty=l2 ...................\n",
            "[CV]  alpha=0.0001, loss=modified_huber, penalty=l2, score=0.867, total=   0.3s\n",
            "[CV] alpha=0.0001, loss=modified_huber, penalty=l2 ...................\n",
            "[CV]  alpha=0.0001, loss=modified_huber, penalty=l2, score=0.861, total=   0.3s\n",
            "[CV] alpha=0.0001, loss=modified_huber, penalty=l2 ...................\n",
            "[CV]  alpha=0.0001, loss=modified_huber, penalty=l2, score=0.850, total=   0.3s\n",
            "[CV] alpha=0.0001, loss=modified_huber, penalty=l2 ...................\n",
            "[CV]  alpha=0.0001, loss=modified_huber, penalty=l2, score=0.864, total=   0.3s\n",
            "[CV] alpha=0.0001, loss=modified_huber, penalty=l2 ...................\n",
            "[CV]  alpha=0.0001, loss=modified_huber, penalty=l2, score=0.891, total=   0.3s\n",
            "[CV] alpha=0.0001, loss=modified_huber, penalty=l1 ...................\n",
            "[CV]  alpha=0.0001, loss=modified_huber, penalty=l1, score=0.901, total=   0.5s\n",
            "[CV] alpha=0.0001, loss=modified_huber, penalty=l1 ...................\n",
            "[CV]  alpha=0.0001, loss=modified_huber, penalty=l1, score=0.895, total=   0.5s\n",
            "[CV] alpha=0.0001, loss=modified_huber, penalty=l1 ...................\n",
            "[CV]  alpha=0.0001, loss=modified_huber, penalty=l1, score=0.882, total=   0.5s\n",
            "[CV] alpha=0.0001, loss=modified_huber, penalty=l1 ...................\n",
            "[CV]  alpha=0.0001, loss=modified_huber, penalty=l1, score=0.901, total=   0.5s\n",
            "[CV] alpha=0.0001, loss=modified_huber, penalty=l1 ...................\n",
            "[CV]  alpha=0.0001, loss=modified_huber, penalty=l1, score=0.906, total=   0.5s\n",
            "[CV] alpha=0.0001, loss=modified_huber, penalty=none .................\n",
            "[CV]  alpha=0.0001, loss=modified_huber, penalty=none, score=0.876, total=   0.3s\n",
            "[CV] alpha=0.0001, loss=modified_huber, penalty=none .................\n",
            "[CV]  alpha=0.0001, loss=modified_huber, penalty=none, score=0.874, total=   0.3s\n",
            "[CV] alpha=0.0001, loss=modified_huber, penalty=none .................\n",
            "[CV]  alpha=0.0001, loss=modified_huber, penalty=none, score=0.854, total=   0.3s\n",
            "[CV] alpha=0.0001, loss=modified_huber, penalty=none .................\n",
            "[CV]  alpha=0.0001, loss=modified_huber, penalty=none, score=0.871, total=   0.3s\n",
            "[CV] alpha=0.0001, loss=modified_huber, penalty=none .................\n",
            "[CV]  alpha=0.0001, loss=modified_huber, penalty=none, score=0.890, total=   0.3s\n",
            "[CV] alpha=0.0001, loss=modified_huber, penalty=elasticnet ...........\n",
            "[CV]  alpha=0.0001, loss=modified_huber, penalty=elasticnet, score=0.896, total=   0.5s\n",
            "[CV] alpha=0.0001, loss=modified_huber, penalty=elasticnet ...........\n",
            "[CV]  alpha=0.0001, loss=modified_huber, penalty=elasticnet, score=0.889, total=   0.5s\n",
            "[CV] alpha=0.0001, loss=modified_huber, penalty=elasticnet ...........\n",
            "[CV]  alpha=0.0001, loss=modified_huber, penalty=elasticnet, score=0.874, total=   0.5s\n",
            "[CV] alpha=0.0001, loss=modified_huber, penalty=elasticnet ...........\n",
            "[CV]  alpha=0.0001, loss=modified_huber, penalty=elasticnet, score=0.887, total=   0.5s\n",
            "[CV] alpha=0.0001, loss=modified_huber, penalty=elasticnet ...........\n",
            "[CV]  alpha=0.0001, loss=modified_huber, penalty=elasticnet, score=0.905, total=   0.6s\n",
            "[CV] alpha=0.001, loss=hinge, penalty=l2 .............................\n",
            "[CV] . alpha=0.001, loss=hinge, penalty=l2, score=0.864, total=   0.3s\n",
            "[CV] alpha=0.001, loss=hinge, penalty=l2 .............................\n",
            "[CV] . alpha=0.001, loss=hinge, penalty=l2, score=0.865, total=   0.3s\n",
            "[CV] alpha=0.001, loss=hinge, penalty=l2 .............................\n",
            "[CV] . alpha=0.001, loss=hinge, penalty=l2, score=0.849, total=   0.3s\n",
            "[CV] alpha=0.001, loss=hinge, penalty=l2 .............................\n",
            "[CV] . alpha=0.001, loss=hinge, penalty=l2, score=0.869, total=   0.3s\n",
            "[CV] alpha=0.001, loss=hinge, penalty=l2 .............................\n",
            "[CV] . alpha=0.001, loss=hinge, penalty=l2, score=0.884, total=   0.3s\n",
            "[CV] alpha=0.001, loss=hinge, penalty=l1 .............................\n",
            "[CV] . alpha=0.001, loss=hinge, penalty=l1, score=0.360, total=   0.4s\n",
            "[CV] alpha=0.001, loss=hinge, penalty=l1 .............................\n",
            "[CV] . alpha=0.001, loss=hinge, penalty=l1, score=0.106, total=   0.5s\n",
            "[CV] alpha=0.001, loss=hinge, penalty=l1 .............................\n",
            "[CV] . alpha=0.001, loss=hinge, penalty=l1, score=0.156, total=   0.4s\n",
            "[CV] alpha=0.001, loss=hinge, penalty=l1 .............................\n",
            "[CV] . alpha=0.001, loss=hinge, penalty=l1, score=0.057, total=   0.4s\n",
            "[CV] alpha=0.001, loss=hinge, penalty=l1 .............................\n",
            "[CV] . alpha=0.001, loss=hinge, penalty=l1, score=0.344, total=   0.5s\n",
            "[CV] alpha=0.001, loss=hinge, penalty=none ...........................\n",
            "[CV]  alpha=0.001, loss=hinge, penalty=none, score=0.858, total=   0.7s\n",
            "[CV] alpha=0.001, loss=hinge, penalty=none ...........................\n",
            "[CV]  alpha=0.001, loss=hinge, penalty=none, score=0.861, total=   0.7s\n",
            "[CV] alpha=0.001, loss=hinge, penalty=none ...........................\n",
            "[CV]  alpha=0.001, loss=hinge, penalty=none, score=0.839, total=   0.7s\n",
            "[CV] alpha=0.001, loss=hinge, penalty=none ...........................\n",
            "[CV]  alpha=0.001, loss=hinge, penalty=none, score=0.859, total=   0.7s\n",
            "[CV] alpha=0.001, loss=hinge, penalty=none ...........................\n",
            "[CV]  alpha=0.001, loss=hinge, penalty=none, score=0.877, total=   0.8s\n",
            "[CV] alpha=0.001, loss=hinge, penalty=elasticnet .....................\n",
            "[CV]  alpha=0.001, loss=hinge, penalty=elasticnet, score=0.866, total=   0.5s\n",
            "[CV] alpha=0.001, loss=hinge, penalty=elasticnet .....................\n",
            "[CV]  alpha=0.001, loss=hinge, penalty=elasticnet, score=0.861, total=   0.5s\n",
            "[CV] alpha=0.001, loss=hinge, penalty=elasticnet .....................\n",
            "[CV]  alpha=0.001, loss=hinge, penalty=elasticnet, score=0.847, total=   0.5s\n",
            "[CV] alpha=0.001, loss=hinge, penalty=elasticnet .....................\n",
            "[CV]  alpha=0.001, loss=hinge, penalty=elasticnet, score=0.860, total=   0.5s\n",
            "[CV] alpha=0.001, loss=hinge, penalty=elasticnet .....................\n",
            "[CV]  alpha=0.001, loss=hinge, penalty=elasticnet, score=0.871, total=   0.5s\n",
            "[CV] alpha=0.001, loss=log, penalty=l2 ...............................\n",
            "[CV] ... alpha=0.001, loss=log, penalty=l2, score=0.409, total=   0.4s\n",
            "[CV] alpha=0.001, loss=log, penalty=l2 ...............................\n",
            "[CV] ... alpha=0.001, loss=log, penalty=l2, score=0.403, total=   0.4s\n",
            "[CV] alpha=0.001, loss=log, penalty=l2 ...............................\n",
            "[CV] ... alpha=0.001, loss=log, penalty=l2, score=0.408, total=   0.4s\n",
            "[CV] alpha=0.001, loss=log, penalty=l2 ...............................\n",
            "[CV] ... alpha=0.001, loss=log, penalty=l2, score=0.405, total=   0.4s\n",
            "[CV] alpha=0.001, loss=log, penalty=l2 ...............................\n",
            "[CV] ... alpha=0.001, loss=log, penalty=l2, score=0.464, total=   0.4s\n",
            "[CV] alpha=0.001, loss=log, penalty=l1 ...............................\n",
            "[CV] ... alpha=0.001, loss=log, penalty=l1, score=0.337, total=   0.6s\n",
            "[CV] alpha=0.001, loss=log, penalty=l1 ...............................\n",
            "[CV] ... alpha=0.001, loss=log, penalty=l1, score=0.337, total=   0.6s\n",
            "[CV] alpha=0.001, loss=log, penalty=l1 ...............................\n",
            "[CV] ... alpha=0.001, loss=log, penalty=l1, score=0.337, total=   0.6s\n",
            "[CV] alpha=0.001, loss=log, penalty=l1 ...............................\n",
            "[CV] ... alpha=0.001, loss=log, penalty=l1, score=0.337, total=   0.6s\n",
            "[CV] alpha=0.001, loss=log, penalty=l1 ...............................\n",
            "[CV] ... alpha=0.001, loss=log, penalty=l1, score=0.337, total=   0.6s\n",
            "[CV] alpha=0.001, loss=log, penalty=none .............................\n",
            "[CV] . alpha=0.001, loss=log, penalty=none, score=0.652, total=   0.9s\n",
            "[CV] alpha=0.001, loss=log, penalty=none .............................\n",
            "[CV] . alpha=0.001, loss=log, penalty=none, score=0.655, total=   0.9s\n",
            "[CV] alpha=0.001, loss=log, penalty=none .............................\n",
            "[CV] . alpha=0.001, loss=log, penalty=none, score=0.643, total=   0.9s\n",
            "[CV] alpha=0.001, loss=log, penalty=none .............................\n",
            "[CV] . alpha=0.001, loss=log, penalty=none, score=0.643, total=   0.9s\n",
            "[CV] alpha=0.001, loss=log, penalty=none .............................\n",
            "[CV] . alpha=0.001, loss=log, penalty=none, score=0.691, total=   0.9s\n",
            "[CV] alpha=0.001, loss=log, penalty=elasticnet .......................\n",
            "[CV]  alpha=0.001, loss=log, penalty=elasticnet, score=0.355, total=   0.6s\n",
            "[CV] alpha=0.001, loss=log, penalty=elasticnet .......................\n",
            "[CV]  alpha=0.001, loss=log, penalty=elasticnet, score=0.358, total=   0.7s\n",
            "[CV] alpha=0.001, loss=log, penalty=elasticnet .......................\n",
            "[CV]  alpha=0.001, loss=log, penalty=elasticnet, score=0.359, total=   0.6s\n",
            "[CV] alpha=0.001, loss=log, penalty=elasticnet .......................\n",
            "[CV]  alpha=0.001, loss=log, penalty=elasticnet, score=0.357, total=   0.7s\n",
            "[CV] alpha=0.001, loss=log, penalty=elasticnet .......................\n",
            "[CV]  alpha=0.001, loss=log, penalty=elasticnet, score=0.376, total=   0.6s\n",
            "[CV] alpha=0.001, loss=squared_hinge, penalty=l2 .....................\n",
            "[CV]  alpha=0.001, loss=squared_hinge, penalty=l2, score=0.684, total=   0.4s\n",
            "[CV] alpha=0.001, loss=squared_hinge, penalty=l2 .....................\n",
            "[CV]  alpha=0.001, loss=squared_hinge, penalty=l2, score=0.687, total=   0.4s\n",
            "[CV] alpha=0.001, loss=squared_hinge, penalty=l2 .....................\n",
            "[CV]  alpha=0.001, loss=squared_hinge, penalty=l2, score=0.677, total=   0.4s\n",
            "[CV] alpha=0.001, loss=squared_hinge, penalty=l2 .....................\n",
            "[CV]  alpha=0.001, loss=squared_hinge, penalty=l2, score=0.677, total=   0.4s\n",
            "[CV] alpha=0.001, loss=squared_hinge, penalty=l2 .....................\n",
            "[CV]  alpha=0.001, loss=squared_hinge, penalty=l2, score=0.759, total=   0.4s\n",
            "[CV] alpha=0.001, loss=squared_hinge, penalty=l1 .....................\n",
            "[CV]  alpha=0.001, loss=squared_hinge, penalty=l1, score=0.690, total=   0.9s\n",
            "[CV] alpha=0.001, loss=squared_hinge, penalty=l1 .....................\n",
            "[CV]  alpha=0.001, loss=squared_hinge, penalty=l1, score=0.691, total=   0.8s\n",
            "[CV] alpha=0.001, loss=squared_hinge, penalty=l1 .....................\n",
            "[CV]  alpha=0.001, loss=squared_hinge, penalty=l1, score=0.692, total=   0.9s\n",
            "[CV] alpha=0.001, loss=squared_hinge, penalty=l1 .....................\n",
            "[CV]  alpha=0.001, loss=squared_hinge, penalty=l1, score=0.687, total=   0.9s\n",
            "[CV] alpha=0.001, loss=squared_hinge, penalty=l1 .....................\n",
            "[CV]  alpha=0.001, loss=squared_hinge, penalty=l1, score=0.720, total=   0.8s\n",
            "[CV] alpha=0.001, loss=squared_hinge, penalty=none ...................\n",
            "[CV]  alpha=0.001, loss=squared_hinge, penalty=none, score=0.873, total=   0.6s\n",
            "[CV] alpha=0.001, loss=squared_hinge, penalty=none ...................\n",
            "[CV]  alpha=0.001, loss=squared_hinge, penalty=none, score=0.870, total=   0.6s\n",
            "[CV] alpha=0.001, loss=squared_hinge, penalty=none ...................\n",
            "[CV]  alpha=0.001, loss=squared_hinge, penalty=none, score=0.856, total=   0.6s\n",
            "[CV] alpha=0.001, loss=squared_hinge, penalty=none ...................\n",
            "[CV]  alpha=0.001, loss=squared_hinge, penalty=none, score=0.872, total=   0.6s\n",
            "[CV] alpha=0.001, loss=squared_hinge, penalty=none ...................\n",
            "[CV]  alpha=0.001, loss=squared_hinge, penalty=none, score=0.882, total=   0.7s\n",
            "[CV] alpha=0.001, loss=squared_hinge, penalty=elasticnet .............\n",
            "[CV]  alpha=0.001, loss=squared_hinge, penalty=elasticnet, score=0.682, total=   0.6s\n",
            "[CV] alpha=0.001, loss=squared_hinge, penalty=elasticnet .............\n",
            "[CV]  alpha=0.001, loss=squared_hinge, penalty=elasticnet, score=0.676, total=   0.6s\n",
            "[CV] alpha=0.001, loss=squared_hinge, penalty=elasticnet .............\n",
            "[CV]  alpha=0.001, loss=squared_hinge, penalty=elasticnet, score=0.657, total=   0.5s\n",
            "[CV] alpha=0.001, loss=squared_hinge, penalty=elasticnet .............\n",
            "[CV]  alpha=0.001, loss=squared_hinge, penalty=elasticnet, score=0.669, total=   0.6s\n",
            "[CV] alpha=0.001, loss=squared_hinge, penalty=elasticnet .............\n",
            "[CV]  alpha=0.001, loss=squared_hinge, penalty=elasticnet, score=0.752, total=   0.6s\n",
            "[CV] alpha=0.001, loss=modified_huber, penalty=l2 ....................\n",
            "[CV]  alpha=0.001, loss=modified_huber, penalty=l2, score=0.687, total=   0.4s\n",
            "[CV] alpha=0.001, loss=modified_huber, penalty=l2 ....................\n",
            "[CV]  alpha=0.001, loss=modified_huber, penalty=l2, score=0.688, total=   0.4s\n",
            "[CV] alpha=0.001, loss=modified_huber, penalty=l2 ....................\n",
            "[CV]  alpha=0.001, loss=modified_huber, penalty=l2, score=0.676, total=   0.4s\n",
            "[CV] alpha=0.001, loss=modified_huber, penalty=l2 ....................\n",
            "[CV]  alpha=0.001, loss=modified_huber, penalty=l2, score=0.679, total=   0.4s\n",
            "[CV] alpha=0.001, loss=modified_huber, penalty=l2 ....................\n",
            "[CV]  alpha=0.001, loss=modified_huber, penalty=l2, score=0.755, total=   0.4s\n",
            "[CV] alpha=0.001, loss=modified_huber, penalty=l1 ....................\n",
            "[CV]  alpha=0.001, loss=modified_huber, penalty=l1, score=0.686, total=   0.8s\n",
            "[CV] alpha=0.001, loss=modified_huber, penalty=l1 ....................\n",
            "[CV]  alpha=0.001, loss=modified_huber, penalty=l1, score=0.683, total=   0.9s\n",
            "[CV] alpha=0.001, loss=modified_huber, penalty=l1 ....................\n",
            "[CV]  alpha=0.001, loss=modified_huber, penalty=l1, score=0.694, total=   0.8s\n",
            "[CV] alpha=0.001, loss=modified_huber, penalty=l1 ....................\n",
            "[CV]  alpha=0.001, loss=modified_huber, penalty=l1, score=0.686, total=   0.9s\n",
            "[CV] alpha=0.001, loss=modified_huber, penalty=l1 ....................\n",
            "[CV]  alpha=0.001, loss=modified_huber, penalty=l1, score=0.730, total=   0.9s\n",
            "[CV] alpha=0.001, loss=modified_huber, penalty=none ..................\n",
            "[CV]  alpha=0.001, loss=modified_huber, penalty=none, score=0.871, total=   0.6s\n",
            "[CV] alpha=0.001, loss=modified_huber, penalty=none ..................\n",
            "[CV]  alpha=0.001, loss=modified_huber, penalty=none, score=0.873, total=   0.6s\n",
            "[CV] alpha=0.001, loss=modified_huber, penalty=none ..................\n",
            "[CV]  alpha=0.001, loss=modified_huber, penalty=none, score=0.852, total=   0.6s\n",
            "[CV] alpha=0.001, loss=modified_huber, penalty=none ..................\n",
            "[CV]  alpha=0.001, loss=modified_huber, penalty=none, score=0.873, total=   0.7s\n",
            "[CV] alpha=0.001, loss=modified_huber, penalty=none ..................\n",
            "[CV]  alpha=0.001, loss=modified_huber, penalty=none, score=0.884, total=   0.7s\n",
            "[CV] alpha=0.001, loss=modified_huber, penalty=elasticnet ............\n",
            "[CV]  alpha=0.001, loss=modified_huber, penalty=elasticnet, score=0.681, total=   0.5s\n",
            "[CV] alpha=0.001, loss=modified_huber, penalty=elasticnet ............\n",
            "[CV]  alpha=0.001, loss=modified_huber, penalty=elasticnet, score=0.674, total=   0.5s\n",
            "[CV] alpha=0.001, loss=modified_huber, penalty=elasticnet ............\n",
            "[CV]  alpha=0.001, loss=modified_huber, penalty=elasticnet, score=0.660, total=   0.5s\n",
            "[CV] alpha=0.001, loss=modified_huber, penalty=elasticnet ............\n",
            "[CV]  alpha=0.001, loss=modified_huber, penalty=elasticnet, score=0.664, total=   0.6s\n",
            "[CV] alpha=0.001, loss=modified_huber, penalty=elasticnet ............\n",
            "[CV]  alpha=0.001, loss=modified_huber, penalty=elasticnet, score=0.751, total=   0.6s\n",
            "[CV] alpha=0.01, loss=hinge, penalty=l2 ..............................\n",
            "[CV] .. alpha=0.01, loss=hinge, penalty=l2, score=0.865, total=   0.3s\n",
            "[CV] alpha=0.01, loss=hinge, penalty=l2 ..............................\n",
            "[CV] .. alpha=0.01, loss=hinge, penalty=l2, score=0.865, total=   0.3s\n",
            "[CV] alpha=0.01, loss=hinge, penalty=l2 ..............................\n",
            "[CV] .. alpha=0.01, loss=hinge, penalty=l2, score=0.850, total=   0.3s\n",
            "[CV] alpha=0.01, loss=hinge, penalty=l2 ..............................\n",
            "[CV] .. alpha=0.01, loss=hinge, penalty=l2, score=0.868, total=   0.3s\n",
            "[CV] alpha=0.01, loss=hinge, penalty=l2 ..............................\n",
            "[CV] .. alpha=0.01, loss=hinge, penalty=l2, score=0.885, total=   0.3s\n",
            "[CV] alpha=0.01, loss=hinge, penalty=l1 ..............................\n",
            "[CV] .. alpha=0.01, loss=hinge, penalty=l1, score=0.290, total=   0.5s\n",
            "[CV] alpha=0.01, loss=hinge, penalty=l1 ..............................\n",
            "[CV] .. alpha=0.01, loss=hinge, penalty=l1, score=0.290, total=   0.4s\n",
            "[CV] alpha=0.01, loss=hinge, penalty=l1 ..............................\n",
            "[CV] .. alpha=0.01, loss=hinge, penalty=l1, score=0.135, total=   0.5s\n",
            "[CV] alpha=0.01, loss=hinge, penalty=l1 ..............................\n",
            "[CV] .. alpha=0.01, loss=hinge, penalty=l1, score=0.290, total=   0.4s\n",
            "[CV] alpha=0.01, loss=hinge, penalty=l1 ..............................\n",
            "[CV] .. alpha=0.01, loss=hinge, penalty=l1, score=0.082, total=   0.5s\n",
            "[CV] alpha=0.01, loss=hinge, penalty=none ............................\n",
            "[CV]  alpha=0.01, loss=hinge, penalty=none, score=0.721, total=   0.4s\n",
            "[CV] alpha=0.01, loss=hinge, penalty=none ............................\n",
            "[CV]  alpha=0.01, loss=hinge, penalty=none, score=0.718, total=   0.4s\n",
            "[CV] alpha=0.01, loss=hinge, penalty=none ............................\n",
            "[CV]  alpha=0.01, loss=hinge, penalty=none, score=0.699, total=   0.4s\n",
            "[CV] alpha=0.01, loss=hinge, penalty=none ............................\n",
            "[CV]  alpha=0.01, loss=hinge, penalty=none, score=0.716, total=   0.4s\n",
            "[CV] alpha=0.01, loss=hinge, penalty=none ............................\n",
            "[CV]  alpha=0.01, loss=hinge, penalty=none, score=0.751, total=   0.4s\n",
            "[CV] alpha=0.01, loss=hinge, penalty=elasticnet ......................\n",
            "[CV]  alpha=0.01, loss=hinge, penalty=elasticnet, score=0.290, total=   0.5s\n",
            "[CV] alpha=0.01, loss=hinge, penalty=elasticnet ......................\n",
            "[CV]  alpha=0.01, loss=hinge, penalty=elasticnet, score=0.083, total=   0.4s\n",
            "[CV] alpha=0.01, loss=hinge, penalty=elasticnet ......................\n",
            "[CV]  alpha=0.01, loss=hinge, penalty=elasticnet, score=0.337, total=   0.5s\n",
            "[CV] alpha=0.01, loss=hinge, penalty=elasticnet ......................\n",
            "[CV]  alpha=0.01, loss=hinge, penalty=elasticnet, score=0.082, total=   0.4s\n",
            "[CV] alpha=0.01, loss=hinge, penalty=elasticnet ......................\n",
            "[CV]  alpha=0.01, loss=hinge, penalty=elasticnet, score=0.337, total=   0.5s\n",
            "[CV] alpha=0.01, loss=log, penalty=l2 ................................\n",
            "[CV] .... alpha=0.01, loss=log, penalty=l2, score=0.337, total=   0.6s\n",
            "[CV] alpha=0.01, loss=log, penalty=l2 ................................\n",
            "[CV] .... alpha=0.01, loss=log, penalty=l2, score=0.337, total=   0.6s\n",
            "[CV] alpha=0.01, loss=log, penalty=l2 ................................\n",
            "[CV] .... alpha=0.01, loss=log, penalty=l2, score=0.337, total=   0.6s\n",
            "[CV] alpha=0.01, loss=log, penalty=l2 ................................\n",
            "[CV] .... alpha=0.01, loss=log, penalty=l2, score=0.337, total=   0.6s\n",
            "[CV] alpha=0.01, loss=log, penalty=l2 ................................\n",
            "[CV] .... alpha=0.01, loss=log, penalty=l2, score=0.337, total=   0.6s\n",
            "[CV] alpha=0.01, loss=log, penalty=l1 ................................\n",
            "[CV] .... alpha=0.01, loss=log, penalty=l1, score=0.337, total=   0.8s\n",
            "[CV] alpha=0.01, loss=log, penalty=l1 ................................\n",
            "[CV] .... alpha=0.01, loss=log, penalty=l1, score=0.337, total=   0.8s\n",
            "[CV] alpha=0.01, loss=log, penalty=l1 ................................\n",
            "[CV] .... alpha=0.01, loss=log, penalty=l1, score=0.337, total=   0.8s\n",
            "[CV] alpha=0.01, loss=log, penalty=l1 ................................\n",
            "[CV] .... alpha=0.01, loss=log, penalty=l1, score=0.337, total=   0.8s\n",
            "[CV] alpha=0.01, loss=log, penalty=l1 ................................\n",
            "[CV] .... alpha=0.01, loss=log, penalty=l1, score=0.337, total=   0.8s\n",
            "[CV] alpha=0.01, loss=log, penalty=none ..............................\n",
            "[CV] .. alpha=0.01, loss=log, penalty=none, score=0.424, total=   0.6s\n",
            "[CV] alpha=0.01, loss=log, penalty=none ..............................\n",
            "[CV] .. alpha=0.01, loss=log, penalty=none, score=0.430, total=   0.6s\n",
            "[CV] alpha=0.01, loss=log, penalty=none ..............................\n",
            "[CV] .. alpha=0.01, loss=log, penalty=none, score=0.415, total=   0.6s\n",
            "[CV] alpha=0.01, loss=log, penalty=none ..............................\n",
            "[CV] .. alpha=0.01, loss=log, penalty=none, score=0.415, total=   0.7s\n",
            "[CV] alpha=0.01, loss=log, penalty=none ..............................\n",
            "[CV] .. alpha=0.01, loss=log, penalty=none, score=0.457, total=   0.6s\n",
            "[CV] alpha=0.01, loss=log, penalty=elasticnet ........................\n",
            "[CV]  alpha=0.01, loss=log, penalty=elasticnet, score=0.337, total=   0.8s\n",
            "[CV] alpha=0.01, loss=log, penalty=elasticnet ........................\n",
            "[CV]  alpha=0.01, loss=log, penalty=elasticnet, score=0.337, total=   0.9s\n",
            "[CV] alpha=0.01, loss=log, penalty=elasticnet ........................\n",
            "[CV]  alpha=0.01, loss=log, penalty=elasticnet, score=0.337, total=   0.9s\n",
            "[CV] alpha=0.01, loss=log, penalty=elasticnet ........................\n",
            "[CV]  alpha=0.01, loss=log, penalty=elasticnet, score=0.337, total=   0.8s\n",
            "[CV] alpha=0.01, loss=log, penalty=elasticnet ........................\n",
            "[CV]  alpha=0.01, loss=log, penalty=elasticnet, score=0.337, total=   0.9s\n",
            "[CV] alpha=0.01, loss=squared_hinge, penalty=l2 ......................\n",
            "[CV]  alpha=0.01, loss=squared_hinge, penalty=l2, score=0.401, total=   0.3s\n",
            "[CV] alpha=0.01, loss=squared_hinge, penalty=l2 ......................\n",
            "[CV]  alpha=0.01, loss=squared_hinge, penalty=l2, score=0.393, total=   0.3s\n",
            "[CV] alpha=0.01, loss=squared_hinge, penalty=l2 ......................\n",
            "[CV]  alpha=0.01, loss=squared_hinge, penalty=l2, score=0.403, total=   0.3s\n",
            "[CV] alpha=0.01, loss=squared_hinge, penalty=l2 ......................\n",
            "[CV]  alpha=0.01, loss=squared_hinge, penalty=l2, score=0.396, total=   0.3s\n",
            "[CV] alpha=0.01, loss=squared_hinge, penalty=l2 ......................\n",
            "[CV]  alpha=0.01, loss=squared_hinge, penalty=l2, score=0.457, total=   0.4s\n",
            "[CV] alpha=0.01, loss=squared_hinge, penalty=l1 ......................\n",
            "[CV]  alpha=0.01, loss=squared_hinge, penalty=l1, score=0.337, total=   0.5s\n",
            "[CV] alpha=0.01, loss=squared_hinge, penalty=l1 ......................\n",
            "[CV]  alpha=0.01, loss=squared_hinge, penalty=l1, score=0.337, total=   0.5s\n",
            "[CV] alpha=0.01, loss=squared_hinge, penalty=l1 ......................\n",
            "[CV]  alpha=0.01, loss=squared_hinge, penalty=l1, score=0.337, total=   0.5s\n",
            "[CV] alpha=0.01, loss=squared_hinge, penalty=l1 ......................\n",
            "[CV]  alpha=0.01, loss=squared_hinge, penalty=l1, score=0.337, total=   0.5s\n",
            "[CV] alpha=0.01, loss=squared_hinge, penalty=l1 ......................\n",
            "[CV]  alpha=0.01, loss=squared_hinge, penalty=l1, score=0.337, total=   0.6s\n",
            "[CV] alpha=0.01, loss=squared_hinge, penalty=none ....................\n",
            "[CV]  alpha=0.01, loss=squared_hinge, penalty=none, score=0.701, total=   0.8s\n",
            "[CV] alpha=0.01, loss=squared_hinge, penalty=none ....................\n",
            "[CV]  alpha=0.01, loss=squared_hinge, penalty=none, score=0.701, total=   0.8s\n",
            "[CV] alpha=0.01, loss=squared_hinge, penalty=none ....................\n",
            "[CV]  alpha=0.01, loss=squared_hinge, penalty=none, score=0.676, total=   0.8s\n",
            "[CV] alpha=0.01, loss=squared_hinge, penalty=none ....................\n",
            "[CV]  alpha=0.01, loss=squared_hinge, penalty=none, score=0.678, total=   0.8s\n",
            "[CV] alpha=0.01, loss=squared_hinge, penalty=none ....................\n",
            "[CV]  alpha=0.01, loss=squared_hinge, penalty=none, score=0.733, total=   0.8s\n",
            "[CV] alpha=0.01, loss=squared_hinge, penalty=elasticnet ..............\n",
            "[CV]  alpha=0.01, loss=squared_hinge, penalty=elasticnet, score=0.337, total=   0.5s\n",
            "[CV] alpha=0.01, loss=squared_hinge, penalty=elasticnet ..............\n",
            "[CV]  alpha=0.01, loss=squared_hinge, penalty=elasticnet, score=0.337, total=   0.5s\n",
            "[CV] alpha=0.01, loss=squared_hinge, penalty=elasticnet ..............\n",
            "[CV]  alpha=0.01, loss=squared_hinge, penalty=elasticnet, score=0.337, total=   0.5s\n",
            "[CV] alpha=0.01, loss=squared_hinge, penalty=elasticnet ..............\n",
            "[CV]  alpha=0.01, loss=squared_hinge, penalty=elasticnet, score=0.337, total=   0.5s\n",
            "[CV] alpha=0.01, loss=squared_hinge, penalty=elasticnet ..............\n",
            "[CV]  alpha=0.01, loss=squared_hinge, penalty=elasticnet, score=0.337, total=   0.5s\n",
            "[CV] alpha=0.01, loss=modified_huber, penalty=l2 .....................\n",
            "[CV]  alpha=0.01, loss=modified_huber, penalty=l2, score=0.401, total=   0.3s\n",
            "[CV] alpha=0.01, loss=modified_huber, penalty=l2 .....................\n",
            "[CV]  alpha=0.01, loss=modified_huber, penalty=l2, score=0.393, total=   0.3s\n",
            "[CV] alpha=0.01, loss=modified_huber, penalty=l2 .....................\n",
            "[CV]  alpha=0.01, loss=modified_huber, penalty=l2, score=0.402, total=   0.3s\n",
            "[CV] alpha=0.01, loss=modified_huber, penalty=l2 .....................\n",
            "[CV]  alpha=0.01, loss=modified_huber, penalty=l2, score=0.396, total=   0.3s\n",
            "[CV] alpha=0.01, loss=modified_huber, penalty=l2 .....................\n",
            "[CV]  alpha=0.01, loss=modified_huber, penalty=l2, score=0.457, total=   0.3s\n",
            "[CV] alpha=0.01, loss=modified_huber, penalty=l1 .....................\n",
            "[CV]  alpha=0.01, loss=modified_huber, penalty=l1, score=0.337, total=   0.5s\n",
            "[CV] alpha=0.01, loss=modified_huber, penalty=l1 .....................\n",
            "[CV]  alpha=0.01, loss=modified_huber, penalty=l1, score=0.337, total=   0.5s\n",
            "[CV] alpha=0.01, loss=modified_huber, penalty=l1 .....................\n",
            "[CV]  alpha=0.01, loss=modified_huber, penalty=l1, score=0.337, total=   0.5s\n",
            "[CV] alpha=0.01, loss=modified_huber, penalty=l1 .....................\n",
            "[CV]  alpha=0.01, loss=modified_huber, penalty=l1, score=0.337, total=   0.5s\n",
            "[CV] alpha=0.01, loss=modified_huber, penalty=l1 .....................\n",
            "[CV]  alpha=0.01, loss=modified_huber, penalty=l1, score=0.337, total=   0.5s\n",
            "[CV] alpha=0.01, loss=modified_huber, penalty=none ...................\n",
            "[CV]  alpha=0.01, loss=modified_huber, penalty=none, score=0.704, total=   0.8s\n",
            "[CV] alpha=0.01, loss=modified_huber, penalty=none ...................\n",
            "[CV]  alpha=0.01, loss=modified_huber, penalty=none, score=0.694, total=   0.8s\n",
            "[CV] alpha=0.01, loss=modified_huber, penalty=none ...................\n",
            "[CV]  alpha=0.01, loss=modified_huber, penalty=none, score=0.671, total=   0.8s\n",
            "[CV] alpha=0.01, loss=modified_huber, penalty=none ...................\n",
            "[CV]  alpha=0.01, loss=modified_huber, penalty=none, score=0.693, total=   0.8s\n",
            "[CV] alpha=0.01, loss=modified_huber, penalty=none ...................\n",
            "[CV]  alpha=0.01, loss=modified_huber, penalty=none, score=0.725, total=   0.8s\n",
            "[CV] alpha=0.01, loss=modified_huber, penalty=elasticnet .............\n",
            "[CV]  alpha=0.01, loss=modified_huber, penalty=elasticnet, score=0.337, total=   0.5s\n",
            "[CV] alpha=0.01, loss=modified_huber, penalty=elasticnet .............\n",
            "[CV]  alpha=0.01, loss=modified_huber, penalty=elasticnet, score=0.337, total=   0.5s\n",
            "[CV] alpha=0.01, loss=modified_huber, penalty=elasticnet .............\n",
            "[CV]  alpha=0.01, loss=modified_huber, penalty=elasticnet, score=0.337, total=   0.5s\n",
            "[CV] alpha=0.01, loss=modified_huber, penalty=elasticnet .............\n",
            "[CV]  alpha=0.01, loss=modified_huber, penalty=elasticnet, score=0.337, total=   0.5s\n",
            "[CV] alpha=0.01, loss=modified_huber, penalty=elasticnet .............\n",
            "[CV]  alpha=0.01, loss=modified_huber, penalty=elasticnet, score=0.337, total=   0.5s\n",
            "[CV] alpha=0.1, loss=hinge, penalty=l2 ...............................\n",
            "[CV] ... alpha=0.1, loss=hinge, penalty=l2, score=0.337, total=   1.1s\n",
            "[CV] alpha=0.1, loss=hinge, penalty=l2 ...............................\n",
            "[CV] ... alpha=0.1, loss=hinge, penalty=l2, score=0.337, total=   1.2s\n",
            "[CV] alpha=0.1, loss=hinge, penalty=l2 ...............................\n",
            "[CV] ... alpha=0.1, loss=hinge, penalty=l2, score=0.337, total=   1.1s\n",
            "[CV] alpha=0.1, loss=hinge, penalty=l2 ...............................\n",
            "[CV] ... alpha=0.1, loss=hinge, penalty=l2, score=0.337, total=   1.3s\n",
            "[CV] alpha=0.1, loss=hinge, penalty=l2 ...............................\n",
            "[CV] ... alpha=0.1, loss=hinge, penalty=l2, score=0.337, total=   1.2s\n",
            "[CV] alpha=0.1, loss=hinge, penalty=l1 ...............................\n",
            "[CV] ... alpha=0.1, loss=hinge, penalty=l1, score=0.337, total=   2.0s\n",
            "[CV] alpha=0.1, loss=hinge, penalty=l1 ...............................\n",
            "[CV] ... alpha=0.1, loss=hinge, penalty=l1, score=0.337, total=   1.9s\n",
            "[CV] alpha=0.1, loss=hinge, penalty=l1 ...............................\n",
            "[CV] ... alpha=0.1, loss=hinge, penalty=l1, score=0.337, total=   2.0s\n",
            "[CV] alpha=0.1, loss=hinge, penalty=l1 ...............................\n",
            "[CV] ... alpha=0.1, loss=hinge, penalty=l1, score=0.337, total=   1.8s\n",
            "[CV] alpha=0.1, loss=hinge, penalty=l1 ...............................\n",
            "[CV] ... alpha=0.1, loss=hinge, penalty=l1, score=0.337, total=   2.1s\n",
            "[CV] alpha=0.1, loss=hinge, penalty=none .............................\n",
            "[CV] . alpha=0.1, loss=hinge, penalty=none, score=0.339, total=   0.8s\n",
            "[CV] alpha=0.1, loss=hinge, penalty=none .............................\n",
            "[CV] . alpha=0.1, loss=hinge, penalty=none, score=0.338, total=   0.8s\n",
            "[CV] alpha=0.1, loss=hinge, penalty=none .............................\n",
            "[CV] . alpha=0.1, loss=hinge, penalty=none, score=0.343, total=   0.8s\n",
            "[CV] alpha=0.1, loss=hinge, penalty=none .............................\n",
            "[CV] . alpha=0.1, loss=hinge, penalty=none, score=0.346, total=   0.8s\n",
            "[CV] alpha=0.1, loss=hinge, penalty=none .............................\n",
            "[CV] . alpha=0.1, loss=hinge, penalty=none, score=0.347, total=   0.9s\n",
            "[CV] alpha=0.1, loss=hinge, penalty=elasticnet .......................\n",
            "[CV]  alpha=0.1, loss=hinge, penalty=elasticnet, score=0.337, total=   2.0s\n",
            "[CV] alpha=0.1, loss=hinge, penalty=elasticnet .......................\n",
            "[CV]  alpha=0.1, loss=hinge, penalty=elasticnet, score=0.337, total=   2.0s\n",
            "[CV] alpha=0.1, loss=hinge, penalty=elasticnet .......................\n",
            "[CV]  alpha=0.1, loss=hinge, penalty=elasticnet, score=0.337, total=   2.0s\n",
            "[CV] alpha=0.1, loss=hinge, penalty=elasticnet .......................\n",
            "[CV]  alpha=0.1, loss=hinge, penalty=elasticnet, score=0.337, total=   2.0s\n",
            "[CV] alpha=0.1, loss=hinge, penalty=elasticnet .......................\n",
            "[CV]  alpha=0.1, loss=hinge, penalty=elasticnet, score=0.337, total=   2.1s\n",
            "[CV] alpha=0.1, loss=log, penalty=l2 .................................\n",
            "[CV] ..... alpha=0.1, loss=log, penalty=l2, score=0.337, total=   0.6s\n",
            "[CV] alpha=0.1, loss=log, penalty=l2 .................................\n",
            "[CV] ..... alpha=0.1, loss=log, penalty=l2, score=0.359, total=   0.6s\n",
            "[CV] alpha=0.1, loss=log, penalty=l2 .................................\n",
            "[CV] ..... alpha=0.1, loss=log, penalty=l2, score=0.337, total=   0.6s\n",
            "[CV] alpha=0.1, loss=log, penalty=l2 .................................\n",
            "[CV] ..... alpha=0.1, loss=log, penalty=l2, score=0.337, total=   0.6s\n",
            "[CV] alpha=0.1, loss=log, penalty=l2 .................................\n",
            "[CV] ..... alpha=0.1, loss=log, penalty=l2, score=0.337, total=   0.6s\n",
            "[CV] alpha=0.1, loss=log, penalty=l1 .................................\n",
            "[CV] ..... alpha=0.1, loss=log, penalty=l1, score=0.337, total=   0.9s\n",
            "[CV] alpha=0.1, loss=log, penalty=l1 .................................\n",
            "[CV] ..... alpha=0.1, loss=log, penalty=l1, score=0.337, total=   0.9s\n",
            "[CV] alpha=0.1, loss=log, penalty=l1 .................................\n",
            "[CV] ..... alpha=0.1, loss=log, penalty=l1, score=0.337, total=   0.9s\n",
            "[CV] alpha=0.1, loss=log, penalty=l1 .................................\n",
            "[CV] ..... alpha=0.1, loss=log, penalty=l1, score=0.337, total=   0.9s\n",
            "[CV] alpha=0.1, loss=log, penalty=l1 .................................\n",
            "[CV] ..... alpha=0.1, loss=log, penalty=l1, score=0.337, total=   1.0s\n",
            "[CV] alpha=0.1, loss=log, penalty=none ...............................\n",
            "[CV] ... alpha=0.1, loss=log, penalty=none, score=0.341, total=   0.7s\n",
            "[CV] alpha=0.1, loss=log, penalty=none ...............................\n",
            "[CV] ... alpha=0.1, loss=log, penalty=none, score=0.360, total=   0.7s\n",
            "[CV] alpha=0.1, loss=log, penalty=none ...............................\n",
            "[CV] ... alpha=0.1, loss=log, penalty=none, score=0.491, total=   0.7s\n",
            "[CV] alpha=0.1, loss=log, penalty=none ...............................\n",
            "[CV] ... alpha=0.1, loss=log, penalty=none, score=0.486, total=   0.7s\n",
            "[CV] alpha=0.1, loss=log, penalty=none ...............................\n",
            "[CV] ... alpha=0.1, loss=log, penalty=none, score=0.470, total=   0.7s\n",
            "[CV] alpha=0.1, loss=log, penalty=elasticnet .........................\n",
            "[CV]  alpha=0.1, loss=log, penalty=elasticnet, score=0.337, total=   0.9s\n",
            "[CV] alpha=0.1, loss=log, penalty=elasticnet .........................\n",
            "[CV]  alpha=0.1, loss=log, penalty=elasticnet, score=0.337, total=   0.9s\n",
            "[CV] alpha=0.1, loss=log, penalty=elasticnet .........................\n",
            "[CV]  alpha=0.1, loss=log, penalty=elasticnet, score=0.337, total=   0.9s\n",
            "[CV] alpha=0.1, loss=log, penalty=elasticnet .........................\n",
            "[CV]  alpha=0.1, loss=log, penalty=elasticnet, score=0.337, total=   0.9s\n",
            "[CV] alpha=0.1, loss=log, penalty=elasticnet .........................\n",
            "[CV]  alpha=0.1, loss=log, penalty=elasticnet, score=0.337, total=   1.0s\n",
            "[CV] alpha=0.1, loss=squared_hinge, penalty=l2 .......................\n",
            "[CV]  alpha=0.1, loss=squared_hinge, penalty=l2, score=0.337, total=   0.4s\n",
            "[CV] alpha=0.1, loss=squared_hinge, penalty=l2 .......................\n",
            "[CV]  alpha=0.1, loss=squared_hinge, penalty=l2, score=0.337, total=   0.4s\n",
            "[CV] alpha=0.1, loss=squared_hinge, penalty=l2 .......................\n",
            "[CV]  alpha=0.1, loss=squared_hinge, penalty=l2, score=0.337, total=   0.4s\n",
            "[CV] alpha=0.1, loss=squared_hinge, penalty=l2 .......................\n",
            "[CV]  alpha=0.1, loss=squared_hinge, penalty=l2, score=0.337, total=   0.4s\n",
            "[CV] alpha=0.1, loss=squared_hinge, penalty=l2 .......................\n",
            "[CV]  alpha=0.1, loss=squared_hinge, penalty=l2, score=0.337, total=   0.4s\n",
            "[CV] alpha=0.1, loss=squared_hinge, penalty=l1 .......................\n",
            "[CV]  alpha=0.1, loss=squared_hinge, penalty=l1, score=0.337, total=   0.7s\n",
            "[CV] alpha=0.1, loss=squared_hinge, penalty=l1 .......................\n",
            "[CV]  alpha=0.1, loss=squared_hinge, penalty=l1, score=0.337, total=   0.7s\n",
            "[CV] alpha=0.1, loss=squared_hinge, penalty=l1 .......................\n",
            "[CV]  alpha=0.1, loss=squared_hinge, penalty=l1, score=0.337, total=   0.7s\n",
            "[CV] alpha=0.1, loss=squared_hinge, penalty=l1 .......................\n",
            "[CV]  alpha=0.1, loss=squared_hinge, penalty=l1, score=0.337, total=   0.7s\n",
            "[CV] alpha=0.1, loss=squared_hinge, penalty=l1 .......................\n",
            "[CV]  alpha=0.1, loss=squared_hinge, penalty=l1, score=0.337, total=   0.7s\n",
            "[CV] alpha=0.1, loss=squared_hinge, penalty=none .....................\n",
            "[CV]  alpha=0.1, loss=squared_hinge, penalty=none, score=0.413, total=   0.5s\n",
            "[CV] alpha=0.1, loss=squared_hinge, penalty=none .....................\n",
            "[CV]  alpha=0.1, loss=squared_hinge, penalty=none, score=0.452, total=   0.4s\n",
            "[CV] alpha=0.1, loss=squared_hinge, penalty=none .....................\n",
            "[CV]  alpha=0.1, loss=squared_hinge, penalty=none, score=0.432, total=   0.5s\n",
            "[CV] alpha=0.1, loss=squared_hinge, penalty=none .....................\n",
            "[CV]  alpha=0.1, loss=squared_hinge, penalty=none, score=0.443, total=   0.5s\n",
            "[CV] alpha=0.1, loss=squared_hinge, penalty=none .....................\n",
            "[CV]  alpha=0.1, loss=squared_hinge, penalty=none, score=0.468, total=   0.5s\n",
            "[CV] alpha=0.1, loss=squared_hinge, penalty=elasticnet ...............\n",
            "[CV]  alpha=0.1, loss=squared_hinge, penalty=elasticnet, score=0.337, total=   0.7s\n",
            "[CV] alpha=0.1, loss=squared_hinge, penalty=elasticnet ...............\n",
            "[CV]  alpha=0.1, loss=squared_hinge, penalty=elasticnet, score=0.337, total=   0.7s\n",
            "[CV] alpha=0.1, loss=squared_hinge, penalty=elasticnet ...............\n",
            "[CV]  alpha=0.1, loss=squared_hinge, penalty=elasticnet, score=0.337, total=   0.7s\n",
            "[CV] alpha=0.1, loss=squared_hinge, penalty=elasticnet ...............\n",
            "[CV]  alpha=0.1, loss=squared_hinge, penalty=elasticnet, score=0.337, total=   0.7s\n",
            "[CV] alpha=0.1, loss=squared_hinge, penalty=elasticnet ...............\n",
            "[CV]  alpha=0.1, loss=squared_hinge, penalty=elasticnet, score=0.337, total=   0.7s\n",
            "[CV] alpha=0.1, loss=modified_huber, penalty=l2 ......................\n",
            "[CV]  alpha=0.1, loss=modified_huber, penalty=l2, score=0.337, total=   0.4s\n",
            "[CV] alpha=0.1, loss=modified_huber, penalty=l2 ......................\n",
            "[CV]  alpha=0.1, loss=modified_huber, penalty=l2, score=0.337, total=   0.4s\n",
            "[CV] alpha=0.1, loss=modified_huber, penalty=l2 ......................\n",
            "[CV]  alpha=0.1, loss=modified_huber, penalty=l2, score=0.337, total=   0.4s\n",
            "[CV] alpha=0.1, loss=modified_huber, penalty=l2 ......................\n",
            "[CV]  alpha=0.1, loss=modified_huber, penalty=l2, score=0.337, total=   0.4s\n",
            "[CV] alpha=0.1, loss=modified_huber, penalty=l2 ......................\n",
            "[CV]  alpha=0.1, loss=modified_huber, penalty=l2, score=0.337, total=   0.4s\n",
            "[CV] alpha=0.1, loss=modified_huber, penalty=l1 ......................\n",
            "[CV]  alpha=0.1, loss=modified_huber, penalty=l1, score=0.337, total=   0.7s\n",
            "[CV] alpha=0.1, loss=modified_huber, penalty=l1 ......................\n",
            "[CV]  alpha=0.1, loss=modified_huber, penalty=l1, score=0.337, total=   0.7s\n",
            "[CV] alpha=0.1, loss=modified_huber, penalty=l1 ......................\n",
            "[CV]  alpha=0.1, loss=modified_huber, penalty=l1, score=0.337, total=   0.7s\n",
            "[CV] alpha=0.1, loss=modified_huber, penalty=l1 ......................\n",
            "[CV]  alpha=0.1, loss=modified_huber, penalty=l1, score=0.337, total=   0.7s\n",
            "[CV] alpha=0.1, loss=modified_huber, penalty=l1 ......................\n",
            "[CV]  alpha=0.1, loss=modified_huber, penalty=l1, score=0.337, total=   0.8s\n",
            "[CV] alpha=0.1, loss=modified_huber, penalty=none ....................\n",
            "[CV]  alpha=0.1, loss=modified_huber, penalty=none, score=0.422, total=   0.4s\n",
            "[CV] alpha=0.1, loss=modified_huber, penalty=none ....................\n",
            "[CV]  alpha=0.1, loss=modified_huber, penalty=none, score=0.438, total=   0.5s\n",
            "[CV] alpha=0.1, loss=modified_huber, penalty=none ....................\n",
            "[CV]  alpha=0.1, loss=modified_huber, penalty=none, score=0.435, total=   0.5s\n",
            "[CV] alpha=0.1, loss=modified_huber, penalty=none ....................\n",
            "[CV]  alpha=0.1, loss=modified_huber, penalty=none, score=0.409, total=   0.5s\n",
            "[CV] alpha=0.1, loss=modified_huber, penalty=none ....................\n",
            "[CV]  alpha=0.1, loss=modified_huber, penalty=none, score=0.459, total=   0.5s\n",
            "[CV] alpha=0.1, loss=modified_huber, penalty=elasticnet ..............\n",
            "[CV]  alpha=0.1, loss=modified_huber, penalty=elasticnet, score=0.337, total=   0.7s\n",
            "[CV] alpha=0.1, loss=modified_huber, penalty=elasticnet ..............\n",
            "[CV]  alpha=0.1, loss=modified_huber, penalty=elasticnet, score=0.337, total=   0.7s\n",
            "[CV] alpha=0.1, loss=modified_huber, penalty=elasticnet ..............\n",
            "[CV]  alpha=0.1, loss=modified_huber, penalty=elasticnet, score=0.337, total=   0.7s\n",
            "[CV] alpha=0.1, loss=modified_huber, penalty=elasticnet ..............\n",
            "[CV]  alpha=0.1, loss=modified_huber, penalty=elasticnet, score=0.337, total=   0.7s\n",
            "[CV] alpha=0.1, loss=modified_huber, penalty=elasticnet ..............\n",
            "[CV]  alpha=0.1, loss=modified_huber, penalty=elasticnet, score=0.337, total=   0.8s\n"
          ],
          "name": "stdout"
        },
        {
          "output_type": "stream",
          "text": [
            "[Parallel(n_jobs=1)]: Done 320 out of 320 | elapsed:  3.4min finished\n"
          ],
          "name": "stderr"
        },
        {
          "output_type": "stream",
          "text": [
            "0.8976666666666666\n",
            "SGDClassifier(alpha=0.0001, average=False, class_weight=None,\n",
            "              early_stopping=False, epsilon=0.1, eta0=0.0, fit_intercept=True,\n",
            "              l1_ratio=0.15, learning_rate='optimal', loss='hinge',\n",
            "              max_iter=1000, n_iter_no_change=5, n_jobs=None,\n",
            "              penalty='elasticnet', power_t=0.5, random_state=None,\n",
            "              shuffle=True, tol=0.001, validation_fraction=0.1, verbose=0,\n",
            "              warm_start=False)\n"
          ],
          "name": "stdout"
        }
      ]
    },
    {
      "cell_type": "code",
      "metadata": {
        "colab": {
          "base_uri": "https://localhost:8080/"
        },
        "id": "CZUKoz06OzMY",
        "outputId": "5d1a76b5-53a4-45a4-9195-1717917f54c9"
      },
      "source": [
        "predicted_cv_sgd = cv_sgd.predict(X_test_tfidf)\n",
        "print(\"정확도: \", accuracy_score(y_test, predicted_cv_sgd))"
      ],
      "execution_count": null,
      "outputs": [
        {
          "output_type": "stream",
          "text": [
            "정확도:  0.9095\n"
          ],
          "name": "stdout"
        }
      ]
    },
    {
      "cell_type": "markdown",
      "metadata": {
        "id": "AESelaQwqQ9C"
      },
      "source": [
        "## GridSearch: Logistic Regression\n",
        "https://www.kaggle.com/enespolat/grid-search-with-logistic-regression"
      ]
    },
    {
      "cell_type": "code",
      "metadata": {
        "colab": {
          "base_uri": "https://localhost:8080/"
        },
        "id": "luvai3ttriRv",
        "outputId": "c715269f-e9fb-4181-c282-52ac932eb9c9"
      },
      "source": [
        "grid = {\n",
        "    'C': [1e-4, 1e-3, 1e-2, 1e-1, 1e0],\n",
        "    'penalty': ['l2', 'l1'],\n",
        "    'n_jobs': [-1],\n",
        "    'solver': ['newton-cg','lbfgs', 'sag', 'saga']\n",
        "}\n",
        "model_logistic=LogisticRegression()\n",
        "cv_logistic=GridSearchCV(model_logistic,grid,cv=5, verbose=3)\n",
        "# verbose 3이 가장 친절하게 알려준다.\n",
        "cv_logistic.fit(X_train_tfidf,y_train)\n",
        "\n",
        "print(\"tuned hpyerparameters :(best parameters) \",cv_logistic.best_params_)\n",
        "print(\"accuracy :\",cv_logistic.best_score_)"
      ],
      "execution_count": null,
      "outputs": [
        {
          "output_type": "stream",
          "text": [
            "Fitting 5 folds for each of 40 candidates, totalling 200 fits\n",
            "[CV] C=0.0001, n_jobs=-1, penalty=l2, solver=newton-cg ...............\n"
          ],
          "name": "stdout"
        },
        {
          "output_type": "stream",
          "text": [
            "[Parallel(n_jobs=1)]: Using backend SequentialBackend with 1 concurrent workers.\n"
          ],
          "name": "stderr"
        },
        {
          "output_type": "stream",
          "text": [
            "[CV]  C=0.0001, n_jobs=-1, penalty=l2, solver=newton-cg, score=0.335, total=   4.4s\n",
            "[CV] C=0.0001, n_jobs=-1, penalty=l2, solver=newton-cg ...............\n"
          ],
          "name": "stdout"
        },
        {
          "output_type": "stream",
          "text": [
            "[Parallel(n_jobs=1)]: Done   1 out of   1 | elapsed:    4.4s remaining:    0.0s\n"
          ],
          "name": "stderr"
        },
        {
          "output_type": "stream",
          "text": [
            "[CV]  C=0.0001, n_jobs=-1, penalty=l2, solver=newton-cg, score=0.335, total=   4.0s\n",
            "[CV] C=0.0001, n_jobs=-1, penalty=l2, solver=newton-cg ...............\n"
          ],
          "name": "stdout"
        },
        {
          "output_type": "stream",
          "text": [
            "[Parallel(n_jobs=1)]: Done   2 out of   2 | elapsed:    8.4s remaining:    0.0s\n"
          ],
          "name": "stderr"
        },
        {
          "output_type": "stream",
          "text": [
            "[CV]  C=0.0001, n_jobs=-1, penalty=l2, solver=newton-cg, score=0.335, total=   3.7s\n",
            "[CV] C=0.0001, n_jobs=-1, penalty=l2, solver=newton-cg ...............\n",
            "[CV]  C=0.0001, n_jobs=-1, penalty=l2, solver=newton-cg, score=0.335, total=   3.7s\n",
            "[CV] C=0.0001, n_jobs=-1, penalty=l2, solver=newton-cg ...............\n",
            "[CV]  C=0.0001, n_jobs=-1, penalty=l2, solver=newton-cg, score=0.335, total=   3.7s\n",
            "[CV] C=0.0001, n_jobs=-1, penalty=l2, solver=lbfgs ...................\n",
            "[CV]  C=0.0001, n_jobs=-1, penalty=l2, solver=lbfgs, score=0.335, total=   5.4s\n",
            "[CV] C=0.0001, n_jobs=-1, penalty=l2, solver=lbfgs ...................\n",
            "[CV]  C=0.0001, n_jobs=-1, penalty=l2, solver=lbfgs, score=0.335, total=   5.3s\n",
            "[CV] C=0.0001, n_jobs=-1, penalty=l2, solver=lbfgs ...................\n",
            "[CV]  C=0.0001, n_jobs=-1, penalty=l2, solver=lbfgs, score=0.335, total=   5.5s\n",
            "[CV] C=0.0001, n_jobs=-1, penalty=l2, solver=lbfgs ...................\n",
            "[CV]  C=0.0001, n_jobs=-1, penalty=l2, solver=lbfgs, score=0.335, total=   5.5s\n",
            "[CV] C=0.0001, n_jobs=-1, penalty=l2, solver=lbfgs ...................\n",
            "[CV]  C=0.0001, n_jobs=-1, penalty=l2, solver=lbfgs, score=0.335, total=   5.0s\n",
            "[CV] C=0.0001, n_jobs=-1, penalty=l2, solver=sag .....................\n",
            "[CV]  C=0.0001, n_jobs=-1, penalty=l2, solver=sag, score=0.335, total= 1.7min\n",
            "[CV] C=0.0001, n_jobs=-1, penalty=l2, solver=sag .....................\n",
            "[CV]  C=0.0001, n_jobs=-1, penalty=l2, solver=sag, score=0.335, total= 1.9min\n",
            "[CV] C=0.0001, n_jobs=-1, penalty=l2, solver=sag .....................\n",
            "[CV]  C=0.0001, n_jobs=-1, penalty=l2, solver=sag, score=0.335, total= 1.8min\n",
            "[CV] C=0.0001, n_jobs=-1, penalty=l2, solver=sag .....................\n",
            "[CV]  C=0.0001, n_jobs=-1, penalty=l2, solver=sag, score=0.335, total= 1.8min\n",
            "[CV] C=0.0001, n_jobs=-1, penalty=l2, solver=sag .....................\n",
            "[CV]  C=0.0001, n_jobs=-1, penalty=l2, solver=sag, score=0.335, total= 1.8min\n",
            "[CV] C=0.0001, n_jobs=-1, penalty=l2, solver=saga ....................\n",
            "[CV]  C=0.0001, n_jobs=-1, penalty=l2, solver=saga, score=0.335, total= 1.8min\n",
            "[CV] C=0.0001, n_jobs=-1, penalty=l2, solver=saga ....................\n",
            "[CV]  C=0.0001, n_jobs=-1, penalty=l2, solver=saga, score=0.335, total= 2.3min\n",
            "[CV] C=0.0001, n_jobs=-1, penalty=l2, solver=saga ....................\n",
            "[CV]  C=0.0001, n_jobs=-1, penalty=l2, solver=saga, score=0.335, total= 1.3min\n",
            "[CV] C=0.0001, n_jobs=-1, penalty=l2, solver=saga ....................\n",
            "[CV]  C=0.0001, n_jobs=-1, penalty=l2, solver=saga, score=0.335, total= 1.8min\n",
            "[CV] C=0.0001, n_jobs=-1, penalty=l2, solver=saga ....................\n",
            "[CV]  C=0.0001, n_jobs=-1, penalty=l2, solver=saga, score=0.335, total= 2.4min\n",
            "[CV] C=0.0001, n_jobs=-1, penalty=l1, solver=newton-cg ...............\n",
            "[CV]  C=0.0001, n_jobs=-1, penalty=l1, solver=newton-cg, score=nan, total=   0.0s\n",
            "[CV] C=0.0001, n_jobs=-1, penalty=l1, solver=newton-cg ...............\n",
            "[CV]  C=0.0001, n_jobs=-1, penalty=l1, solver=newton-cg, score=nan, total=   0.0s\n",
            "[CV] C=0.0001, n_jobs=-1, penalty=l1, solver=newton-cg ...............\n",
            "[CV]  C=0.0001, n_jobs=-1, penalty=l1, solver=newton-cg, score=nan, total=   0.0s\n",
            "[CV] C=0.0001, n_jobs=-1, penalty=l1, solver=newton-cg ...............\n",
            "[CV]  C=0.0001, n_jobs=-1, penalty=l1, solver=newton-cg, score=nan, total=   0.0s\n",
            "[CV] C=0.0001, n_jobs=-1, penalty=l1, solver=newton-cg ...............\n",
            "[CV]  C=0.0001, n_jobs=-1, penalty=l1, solver=newton-cg, score=nan, total=   0.0s\n",
            "[CV] C=0.0001, n_jobs=-1, penalty=l1, solver=lbfgs ...................\n",
            "[CV]  C=0.0001, n_jobs=-1, penalty=l1, solver=lbfgs, score=nan, total=   0.0s\n",
            "[CV] C=0.0001, n_jobs=-1, penalty=l1, solver=lbfgs ...................\n",
            "[CV]  C=0.0001, n_jobs=-1, penalty=l1, solver=lbfgs, score=nan, total=   0.0s\n",
            "[CV] C=0.0001, n_jobs=-1, penalty=l1, solver=lbfgs ...................\n",
            "[CV]  C=0.0001, n_jobs=-1, penalty=l1, solver=lbfgs, score=nan, total=   0.0s\n",
            "[CV] C=0.0001, n_jobs=-1, penalty=l1, solver=lbfgs ...................\n",
            "[CV]  C=0.0001, n_jobs=-1, penalty=l1, solver=lbfgs, score=nan, total=   0.0s\n",
            "[CV] C=0.0001, n_jobs=-1, penalty=l1, solver=lbfgs ...................\n",
            "[CV]  C=0.0001, n_jobs=-1, penalty=l1, solver=lbfgs, score=nan, total=   0.0s\n",
            "[CV] C=0.0001, n_jobs=-1, penalty=l1, solver=sag .....................\n",
            "[CV]  C=0.0001, n_jobs=-1, penalty=l1, solver=sag, score=nan, total=   0.0s\n",
            "[CV] C=0.0001, n_jobs=-1, penalty=l1, solver=sag .....................\n",
            "[CV]  C=0.0001, n_jobs=-1, penalty=l1, solver=sag, score=nan, total=   0.0s\n",
            "[CV] C=0.0001, n_jobs=-1, penalty=l1, solver=sag .....................\n",
            "[CV]  C=0.0001, n_jobs=-1, penalty=l1, solver=sag, score=nan, total=   0.0s\n",
            "[CV] C=0.0001, n_jobs=-1, penalty=l1, solver=sag .....................\n",
            "[CV]  C=0.0001, n_jobs=-1, penalty=l1, solver=sag, score=nan, total=   0.0s\n",
            "[CV] C=0.0001, n_jobs=-1, penalty=l1, solver=sag .....................\n",
            "[CV]  C=0.0001, n_jobs=-1, penalty=l1, solver=sag, score=nan, total=   0.0s\n",
            "[CV] C=0.0001, n_jobs=-1, penalty=l1, solver=saga ....................\n"
          ],
          "name": "stdout"
        },
        {
          "output_type": "stream",
          "text": [
            "/usr/local/lib/python3.7/dist-packages/sklearn/model_selection/_validation.py:536: FitFailedWarning: Estimator fit failed. The score on this train-test partition for these parameters will be set to nan. Details: \n",
            "ValueError: Solver newton-cg supports only 'l2' or 'none' penalties, got l1 penalty.\n",
            "\n",
            "  FitFailedWarning)\n",
            "/usr/local/lib/python3.7/dist-packages/sklearn/model_selection/_validation.py:536: FitFailedWarning: Estimator fit failed. The score on this train-test partition for these parameters will be set to nan. Details: \n",
            "ValueError: Solver lbfgs supports only 'l2' or 'none' penalties, got l1 penalty.\n",
            "\n",
            "  FitFailedWarning)\n",
            "/usr/local/lib/python3.7/dist-packages/sklearn/model_selection/_validation.py:536: FitFailedWarning: Estimator fit failed. The score on this train-test partition for these parameters will be set to nan. Details: \n",
            "ValueError: Solver sag supports only 'l2' or 'none' penalties, got l1 penalty.\n",
            "\n",
            "  FitFailedWarning)\n"
          ],
          "name": "stderr"
        },
        {
          "output_type": "stream",
          "text": [
            "[CV]  C=0.0001, n_jobs=-1, penalty=l1, solver=saga, score=0.335, total=   0.3s\n",
            "[CV] C=0.0001, n_jobs=-1, penalty=l1, solver=saga ....................\n",
            "[CV]  C=0.0001, n_jobs=-1, penalty=l1, solver=saga, score=0.292, total=   0.3s\n",
            "[CV] C=0.0001, n_jobs=-1, penalty=l1, solver=saga ....................\n",
            "[CV]  C=0.0001, n_jobs=-1, penalty=l1, solver=saga, score=0.135, total=   0.3s\n",
            "[CV] C=0.0001, n_jobs=-1, penalty=l1, solver=saga ....................\n",
            "[CV]  C=0.0001, n_jobs=-1, penalty=l1, solver=saga, score=0.335, total=   0.3s\n",
            "[CV] C=0.0001, n_jobs=-1, penalty=l1, solver=saga ....................\n",
            "[CV]  C=0.0001, n_jobs=-1, penalty=l1, solver=saga, score=0.335, total=   0.3s\n",
            "[CV] C=0.001, n_jobs=-1, penalty=l2, solver=newton-cg ................\n",
            "[CV]  C=0.001, n_jobs=-1, penalty=l2, solver=newton-cg, score=0.335, total=   4.8s\n",
            "[CV] C=0.001, n_jobs=-1, penalty=l2, solver=newton-cg ................\n",
            "[CV]  C=0.001, n_jobs=-1, penalty=l2, solver=newton-cg, score=0.335, total=   4.7s\n",
            "[CV] C=0.001, n_jobs=-1, penalty=l2, solver=newton-cg ................\n",
            "[CV]  C=0.001, n_jobs=-1, penalty=l2, solver=newton-cg, score=0.335, total=   4.8s\n",
            "[CV] C=0.001, n_jobs=-1, penalty=l2, solver=newton-cg ................\n",
            "[CV]  C=0.001, n_jobs=-1, penalty=l2, solver=newton-cg, score=0.335, total=   4.7s\n",
            "[CV] C=0.001, n_jobs=-1, penalty=l2, solver=newton-cg ................\n",
            "[CV]  C=0.001, n_jobs=-1, penalty=l2, solver=newton-cg, score=0.335, total=   4.8s\n",
            "[CV] C=0.001, n_jobs=-1, penalty=l2, solver=lbfgs ....................\n",
            "[CV]  C=0.001, n_jobs=-1, penalty=l2, solver=lbfgs, score=0.335, total=   3.9s\n",
            "[CV] C=0.001, n_jobs=-1, penalty=l2, solver=lbfgs ....................\n",
            "[CV]  C=0.001, n_jobs=-1, penalty=l2, solver=lbfgs, score=0.335, total=   3.9s\n",
            "[CV] C=0.001, n_jobs=-1, penalty=l2, solver=lbfgs ....................\n",
            "[CV]  C=0.001, n_jobs=-1, penalty=l2, solver=lbfgs, score=0.335, total=   3.9s\n",
            "[CV] C=0.001, n_jobs=-1, penalty=l2, solver=lbfgs ....................\n",
            "[CV]  C=0.001, n_jobs=-1, penalty=l2, solver=lbfgs, score=0.335, total=   3.9s\n",
            "[CV] C=0.001, n_jobs=-1, penalty=l2, solver=lbfgs ....................\n",
            "[CV]  C=0.001, n_jobs=-1, penalty=l2, solver=lbfgs, score=0.335, total=   3.9s\n",
            "[CV] C=0.001, n_jobs=-1, penalty=l2, solver=sag ......................\n",
            "[CV]  C=0.001, n_jobs=-1, penalty=l2, solver=sag, score=0.335, total=  17.8s\n",
            "[CV] C=0.001, n_jobs=-1, penalty=l2, solver=sag ......................\n",
            "[CV]  C=0.001, n_jobs=-1, penalty=l2, solver=sag, score=0.335, total=  18.7s\n",
            "[CV] C=0.001, n_jobs=-1, penalty=l2, solver=sag ......................\n",
            "[CV]  C=0.001, n_jobs=-1, penalty=l2, solver=sag, score=0.335, total=  17.8s\n",
            "[CV] C=0.001, n_jobs=-1, penalty=l2, solver=sag ......................\n",
            "[CV]  C=0.001, n_jobs=-1, penalty=l2, solver=sag, score=0.335, total=  18.7s\n",
            "[CV] C=0.001, n_jobs=-1, penalty=l2, solver=sag ......................\n",
            "[CV]  C=0.001, n_jobs=-1, penalty=l2, solver=sag, score=0.335, total=  17.7s\n",
            "[CV] C=0.001, n_jobs=-1, penalty=l2, solver=saga .....................\n",
            "[CV]  C=0.001, n_jobs=-1, penalty=l2, solver=saga, score=0.335, total=   8.3s\n",
            "[CV] C=0.001, n_jobs=-1, penalty=l2, solver=saga .....................\n",
            "[CV]  C=0.001, n_jobs=-1, penalty=l2, solver=saga, score=0.335, total=   8.4s\n",
            "[CV] C=0.001, n_jobs=-1, penalty=l2, solver=saga .....................\n",
            "[CV]  C=0.001, n_jobs=-1, penalty=l2, solver=saga, score=0.335, total=  10.7s\n",
            "[CV] C=0.001, n_jobs=-1, penalty=l2, solver=saga .....................\n",
            "[CV]  C=0.001, n_jobs=-1, penalty=l2, solver=saga, score=0.335, total=   9.8s\n",
            "[CV] C=0.001, n_jobs=-1, penalty=l2, solver=saga .....................\n",
            "[CV]  C=0.001, n_jobs=-1, penalty=l2, solver=saga, score=0.335, total=   9.4s\n",
            "[CV] C=0.001, n_jobs=-1, penalty=l1, solver=newton-cg ................\n",
            "[CV]  C=0.001, n_jobs=-1, penalty=l1, solver=newton-cg, score=nan, total=   0.0s\n",
            "[CV] C=0.001, n_jobs=-1, penalty=l1, solver=newton-cg ................\n",
            "[CV]  C=0.001, n_jobs=-1, penalty=l1, solver=newton-cg, score=nan, total=   0.0s\n",
            "[CV] C=0.001, n_jobs=-1, penalty=l1, solver=newton-cg ................\n",
            "[CV]  C=0.001, n_jobs=-1, penalty=l1, solver=newton-cg, score=nan, total=   0.0s\n",
            "[CV] C=0.001, n_jobs=-1, penalty=l1, solver=newton-cg ................\n",
            "[CV]  C=0.001, n_jobs=-1, penalty=l1, solver=newton-cg, score=nan, total=   0.0s\n",
            "[CV] C=0.001, n_jobs=-1, penalty=l1, solver=newton-cg ................\n",
            "[CV]  C=0.001, n_jobs=-1, penalty=l1, solver=newton-cg, score=nan, total=   0.0s\n",
            "[CV] C=0.001, n_jobs=-1, penalty=l1, solver=lbfgs ....................\n",
            "[CV]  C=0.001, n_jobs=-1, penalty=l1, solver=lbfgs, score=nan, total=   0.0s\n",
            "[CV] C=0.001, n_jobs=-1, penalty=l1, solver=lbfgs ....................\n",
            "[CV]  C=0.001, n_jobs=-1, penalty=l1, solver=lbfgs, score=nan, total=   0.0s\n",
            "[CV] C=0.001, n_jobs=-1, penalty=l1, solver=lbfgs ....................\n",
            "[CV]  C=0.001, n_jobs=-1, penalty=l1, solver=lbfgs, score=nan, total=   0.0s\n",
            "[CV] C=0.001, n_jobs=-1, penalty=l1, solver=lbfgs ....................\n",
            "[CV]  C=0.001, n_jobs=-1, penalty=l1, solver=lbfgs, score=nan, total=   0.0s\n",
            "[CV] C=0.001, n_jobs=-1, penalty=l1, solver=lbfgs ....................\n",
            "[CV]  C=0.001, n_jobs=-1, penalty=l1, solver=lbfgs, score=nan, total=   0.0s\n",
            "[CV] C=0.001, n_jobs=-1, penalty=l1, solver=sag ......................\n",
            "[CV]  C=0.001, n_jobs=-1, penalty=l1, solver=sag, score=nan, total=   0.0s\n",
            "[CV] C=0.001, n_jobs=-1, penalty=l1, solver=sag ......................\n",
            "[CV]  C=0.001, n_jobs=-1, penalty=l1, solver=sag, score=nan, total=   0.0s\n",
            "[CV] C=0.001, n_jobs=-1, penalty=l1, solver=sag ......................\n",
            "[CV]  C=0.001, n_jobs=-1, penalty=l1, solver=sag, score=nan, total=   0.0s\n",
            "[CV] C=0.001, n_jobs=-1, penalty=l1, solver=sag ......................\n",
            "[CV]  C=0.001, n_jobs=-1, penalty=l1, solver=sag, score=nan, total=   0.0s\n",
            "[CV] C=0.001, n_jobs=-1, penalty=l1, solver=sag ......................\n",
            "[CV]  C=0.001, n_jobs=-1, penalty=l1, solver=sag, score=nan, total=   0.0s\n",
            "[CV] C=0.001, n_jobs=-1, penalty=l1, solver=saga .....................\n",
            "[CV]  C=0.001, n_jobs=-1, penalty=l1, solver=saga, score=0.335, total=   0.4s\n",
            "[CV] C=0.001, n_jobs=-1, penalty=l1, solver=saga .....................\n",
            "[CV]  C=0.001, n_jobs=-1, penalty=l1, solver=saga, score=0.335, total=   0.4s\n",
            "[CV] C=0.001, n_jobs=-1, penalty=l1, solver=saga .....................\n",
            "[CV]  C=0.001, n_jobs=-1, penalty=l1, solver=saga, score=0.335, total=   0.4s\n",
            "[CV] C=0.001, n_jobs=-1, penalty=l1, solver=saga .....................\n",
            "[CV]  C=0.001, n_jobs=-1, penalty=l1, solver=saga, score=0.335, total=   0.3s\n",
            "[CV] C=0.001, n_jobs=-1, penalty=l1, solver=saga .....................\n",
            "[CV]  C=0.001, n_jobs=-1, penalty=l1, solver=saga, score=0.335, total=   0.4s\n",
            "[CV] C=0.01, n_jobs=-1, penalty=l2, solver=newton-cg .................\n",
            "[CV]  C=0.01, n_jobs=-1, penalty=l2, solver=newton-cg, score=0.335, total=   6.3s\n",
            "[CV] C=0.01, n_jobs=-1, penalty=l2, solver=newton-cg .................\n",
            "[CV]  C=0.01, n_jobs=-1, penalty=l2, solver=newton-cg, score=0.335, total=   6.4s\n",
            "[CV] C=0.01, n_jobs=-1, penalty=l2, solver=newton-cg .................\n",
            "[CV]  C=0.01, n_jobs=-1, penalty=l2, solver=newton-cg, score=0.335, total=   6.3s\n",
            "[CV] C=0.01, n_jobs=-1, penalty=l2, solver=newton-cg .................\n",
            "[CV]  C=0.01, n_jobs=-1, penalty=l2, solver=newton-cg, score=0.335, total=   6.3s\n",
            "[CV] C=0.01, n_jobs=-1, penalty=l2, solver=newton-cg .................\n",
            "[CV]  C=0.01, n_jobs=-1, penalty=l2, solver=newton-cg, score=0.335, total=   6.2s\n",
            "[CV] C=0.01, n_jobs=-1, penalty=l2, solver=lbfgs .....................\n",
            "[CV]  C=0.01, n_jobs=-1, penalty=l2, solver=lbfgs, score=0.335, total=   5.8s\n",
            "[CV] C=0.01, n_jobs=-1, penalty=l2, solver=lbfgs .....................\n",
            "[CV]  C=0.01, n_jobs=-1, penalty=l2, solver=lbfgs, score=0.335, total=   5.6s\n",
            "[CV] C=0.01, n_jobs=-1, penalty=l2, solver=lbfgs .....................\n",
            "[CV]  C=0.01, n_jobs=-1, penalty=l2, solver=lbfgs, score=0.335, total=   5.8s\n",
            "[CV] C=0.01, n_jobs=-1, penalty=l2, solver=lbfgs .....................\n",
            "[CV]  C=0.01, n_jobs=-1, penalty=l2, solver=lbfgs, score=0.335, total=   5.9s\n",
            "[CV] C=0.01, n_jobs=-1, penalty=l2, solver=lbfgs .....................\n",
            "[CV]  C=0.01, n_jobs=-1, penalty=l2, solver=lbfgs, score=0.335, total=   5.8s\n",
            "[CV] C=0.01, n_jobs=-1, penalty=l2, solver=sag .......................\n",
            "[CV]  C=0.01, n_jobs=-1, penalty=l2, solver=sag, score=0.335, total=   2.6s\n",
            "[CV] C=0.01, n_jobs=-1, penalty=l2, solver=sag .......................\n",
            "[CV]  C=0.01, n_jobs=-1, penalty=l2, solver=sag, score=0.335, total=   2.6s\n",
            "[CV] C=0.01, n_jobs=-1, penalty=l2, solver=sag .......................\n",
            "[CV]  C=0.01, n_jobs=-1, penalty=l2, solver=sag, score=0.335, total=   2.8s\n",
            "[CV] C=0.01, n_jobs=-1, penalty=l2, solver=sag .......................\n",
            "[CV]  C=0.01, n_jobs=-1, penalty=l2, solver=sag, score=0.335, total=   2.7s\n",
            "[CV] C=0.01, n_jobs=-1, penalty=l2, solver=sag .......................\n",
            "[CV]  C=0.01, n_jobs=-1, penalty=l2, solver=sag, score=0.335, total=   2.6s\n",
            "[CV] C=0.01, n_jobs=-1, penalty=l2, solver=saga ......................\n",
            "[CV]  C=0.01, n_jobs=-1, penalty=l2, solver=saga, score=0.335, total=   2.0s\n",
            "[CV] C=0.01, n_jobs=-1, penalty=l2, solver=saga ......................\n",
            "[CV]  C=0.01, n_jobs=-1, penalty=l2, solver=saga, score=0.335, total=   2.1s\n",
            "[CV] C=0.01, n_jobs=-1, penalty=l2, solver=saga ......................\n",
            "[CV]  C=0.01, n_jobs=-1, penalty=l2, solver=saga, score=0.335, total=   2.3s\n",
            "[CV] C=0.01, n_jobs=-1, penalty=l2, solver=saga ......................\n",
            "[CV]  C=0.01, n_jobs=-1, penalty=l2, solver=saga, score=0.335, total=   2.3s\n",
            "[CV] C=0.01, n_jobs=-1, penalty=l2, solver=saga ......................\n",
            "[CV]  C=0.01, n_jobs=-1, penalty=l2, solver=saga, score=0.335, total=   2.1s\n",
            "[CV] C=0.01, n_jobs=-1, penalty=l1, solver=newton-cg .................\n",
            "[CV]  C=0.01, n_jobs=-1, penalty=l1, solver=newton-cg, score=nan, total=   0.0s\n",
            "[CV] C=0.01, n_jobs=-1, penalty=l1, solver=newton-cg .................\n",
            "[CV]  C=0.01, n_jobs=-1, penalty=l1, solver=newton-cg, score=nan, total=   0.0s\n",
            "[CV] C=0.01, n_jobs=-1, penalty=l1, solver=newton-cg .................\n",
            "[CV]  C=0.01, n_jobs=-1, penalty=l1, solver=newton-cg, score=nan, total=   0.0s\n",
            "[CV] C=0.01, n_jobs=-1, penalty=l1, solver=newton-cg .................\n",
            "[CV]  C=0.01, n_jobs=-1, penalty=l1, solver=newton-cg, score=nan, total=   0.0s\n",
            "[CV] C=0.01, n_jobs=-1, penalty=l1, solver=newton-cg .................\n",
            "[CV]  C=0.01, n_jobs=-1, penalty=l1, solver=newton-cg, score=nan, total=   0.0s\n",
            "[CV] C=0.01, n_jobs=-1, penalty=l1, solver=lbfgs .....................\n",
            "[CV]  C=0.01, n_jobs=-1, penalty=l1, solver=lbfgs, score=nan, total=   0.0s\n",
            "[CV] C=0.01, n_jobs=-1, penalty=l1, solver=lbfgs .....................\n",
            "[CV]  C=0.01, n_jobs=-1, penalty=l1, solver=lbfgs, score=nan, total=   0.0s\n",
            "[CV] C=0.01, n_jobs=-1, penalty=l1, solver=lbfgs .....................\n",
            "[CV]  C=0.01, n_jobs=-1, penalty=l1, solver=lbfgs, score=nan, total=   0.0s\n",
            "[CV] C=0.01, n_jobs=-1, penalty=l1, solver=lbfgs .....................\n",
            "[CV]  C=0.01, n_jobs=-1, penalty=l1, solver=lbfgs, score=nan, total=   0.0s\n",
            "[CV] C=0.01, n_jobs=-1, penalty=l1, solver=lbfgs .....................\n",
            "[CV]  C=0.01, n_jobs=-1, penalty=l1, solver=lbfgs, score=nan, total=   0.0s\n",
            "[CV] C=0.01, n_jobs=-1, penalty=l1, solver=sag .......................\n",
            "[CV]  C=0.01, n_jobs=-1, penalty=l1, solver=sag, score=nan, total=   0.0s\n",
            "[CV] C=0.01, n_jobs=-1, penalty=l1, solver=sag .......................\n",
            "[CV]  C=0.01, n_jobs=-1, penalty=l1, solver=sag, score=nan, total=   0.0s\n",
            "[CV] C=0.01, n_jobs=-1, penalty=l1, solver=sag .......................\n",
            "[CV]  C=0.01, n_jobs=-1, penalty=l1, solver=sag, score=nan, total=   0.0s\n",
            "[CV] C=0.01, n_jobs=-1, penalty=l1, solver=sag .......................\n",
            "[CV]  C=0.01, n_jobs=-1, penalty=l1, solver=sag, score=nan, total=   0.0s\n",
            "[CV] C=0.01, n_jobs=-1, penalty=l1, solver=sag .......................\n",
            "[CV]  C=0.01, n_jobs=-1, penalty=l1, solver=sag, score=nan, total=   0.0s\n",
            "[CV] C=0.01, n_jobs=-1, penalty=l1, solver=saga ......................\n",
            "[CV]  C=0.01, n_jobs=-1, penalty=l1, solver=saga, score=0.335, total=   0.8s\n",
            "[CV] C=0.01, n_jobs=-1, penalty=l1, solver=saga ......................\n",
            "[CV]  C=0.01, n_jobs=-1, penalty=l1, solver=saga, score=0.335, total=   0.7s\n",
            "[CV] C=0.01, n_jobs=-1, penalty=l1, solver=saga ......................\n",
            "[CV]  C=0.01, n_jobs=-1, penalty=l1, solver=saga, score=0.335, total=   0.8s\n",
            "[CV] C=0.01, n_jobs=-1, penalty=l1, solver=saga ......................\n",
            "[CV]  C=0.01, n_jobs=-1, penalty=l1, solver=saga, score=0.335, total=   0.8s\n",
            "[CV] C=0.01, n_jobs=-1, penalty=l1, solver=saga ......................\n",
            "[CV]  C=0.01, n_jobs=-1, penalty=l1, solver=saga, score=0.335, total=   0.8s\n",
            "[CV] C=0.1, n_jobs=-1, penalty=l2, solver=newton-cg ..................\n",
            "[CV]  C=0.1, n_jobs=-1, penalty=l2, solver=newton-cg, score=0.475, total=   5.6s\n",
            "[CV] C=0.1, n_jobs=-1, penalty=l2, solver=newton-cg ..................\n",
            "[CV]  C=0.1, n_jobs=-1, penalty=l2, solver=newton-cg, score=0.473, total=   5.5s\n",
            "[CV] C=0.1, n_jobs=-1, penalty=l2, solver=newton-cg ..................\n",
            "[CV]  C=0.1, n_jobs=-1, penalty=l2, solver=newton-cg, score=0.474, total=   5.5s\n",
            "[CV] C=0.1, n_jobs=-1, penalty=l2, solver=newton-cg ..................\n",
            "[CV]  C=0.1, n_jobs=-1, penalty=l2, solver=newton-cg, score=0.478, total=   5.6s\n",
            "[CV] C=0.1, n_jobs=-1, penalty=l2, solver=newton-cg ..................\n",
            "[CV]  C=0.1, n_jobs=-1, penalty=l2, solver=newton-cg, score=0.480, total=   5.6s\n",
            "[CV] C=0.1, n_jobs=-1, penalty=l2, solver=lbfgs ......................\n",
            "[CV]  C=0.1, n_jobs=-1, penalty=l2, solver=lbfgs, score=0.475, total=  13.4s\n",
            "[CV] C=0.1, n_jobs=-1, penalty=l2, solver=lbfgs ......................\n",
            "[CV]  C=0.1, n_jobs=-1, penalty=l2, solver=lbfgs, score=0.473, total=  13.2s\n",
            "[CV] C=0.1, n_jobs=-1, penalty=l2, solver=lbfgs ......................\n",
            "[CV]  C=0.1, n_jobs=-1, penalty=l2, solver=lbfgs, score=0.474, total=  13.7s\n",
            "[CV] C=0.1, n_jobs=-1, penalty=l2, solver=lbfgs ......................\n",
            "[CV]  C=0.1, n_jobs=-1, penalty=l2, solver=lbfgs, score=0.477, total=  13.6s\n",
            "[CV] C=0.1, n_jobs=-1, penalty=l2, solver=lbfgs ......................\n",
            "[CV]  C=0.1, n_jobs=-1, penalty=l2, solver=lbfgs, score=0.480, total=  14.4s\n",
            "[CV] C=0.1, n_jobs=-1, penalty=l2, solver=sag ........................\n",
            "[CV]  C=0.1, n_jobs=-1, penalty=l2, solver=sag, score=0.475, total=   1.0s\n",
            "[CV] C=0.1, n_jobs=-1, penalty=l2, solver=sag ........................\n",
            "[CV]  C=0.1, n_jobs=-1, penalty=l2, solver=sag, score=0.473, total=   1.0s\n",
            "[CV] C=0.1, n_jobs=-1, penalty=l2, solver=sag ........................\n",
            "[CV]  C=0.1, n_jobs=-1, penalty=l2, solver=sag, score=0.474, total=   1.0s\n",
            "[CV] C=0.1, n_jobs=-1, penalty=l2, solver=sag ........................\n",
            "[CV]  C=0.1, n_jobs=-1, penalty=l2, solver=sag, score=0.478, total=   1.0s\n",
            "[CV] C=0.1, n_jobs=-1, penalty=l2, solver=sag ........................\n",
            "[CV]  C=0.1, n_jobs=-1, penalty=l2, solver=sag, score=0.480, total=   1.0s\n",
            "[CV] C=0.1, n_jobs=-1, penalty=l2, solver=saga .......................\n",
            "[CV]  C=0.1, n_jobs=-1, penalty=l2, solver=saga, score=0.475, total=   1.5s\n",
            "[CV] C=0.1, n_jobs=-1, penalty=l2, solver=saga .......................\n",
            "[CV]  C=0.1, n_jobs=-1, penalty=l2, solver=saga, score=0.473, total=   1.3s\n",
            "[CV] C=0.1, n_jobs=-1, penalty=l2, solver=saga .......................\n",
            "[CV]  C=0.1, n_jobs=-1, penalty=l2, solver=saga, score=0.474, total=   1.4s\n",
            "[CV] C=0.1, n_jobs=-1, penalty=l2, solver=saga .......................\n",
            "[CV]  C=0.1, n_jobs=-1, penalty=l2, solver=saga, score=0.477, total=   1.4s\n",
            "[CV] C=0.1, n_jobs=-1, penalty=l2, solver=saga .......................\n",
            "[CV]  C=0.1, n_jobs=-1, penalty=l2, solver=saga, score=0.480, total=   1.4s\n",
            "[CV] C=0.1, n_jobs=-1, penalty=l1, solver=newton-cg ..................\n",
            "[CV]  C=0.1, n_jobs=-1, penalty=l1, solver=newton-cg, score=nan, total=   0.0s\n",
            "[CV] C=0.1, n_jobs=-1, penalty=l1, solver=newton-cg ..................\n",
            "[CV]  C=0.1, n_jobs=-1, penalty=l1, solver=newton-cg, score=nan, total=   0.0s\n",
            "[CV] C=0.1, n_jobs=-1, penalty=l1, solver=newton-cg ..................\n",
            "[CV]  C=0.1, n_jobs=-1, penalty=l1, solver=newton-cg, score=nan, total=   0.0s\n",
            "[CV] C=0.1, n_jobs=-1, penalty=l1, solver=newton-cg ..................\n",
            "[CV]  C=0.1, n_jobs=-1, penalty=l1, solver=newton-cg, score=nan, total=   0.0s\n",
            "[CV] C=0.1, n_jobs=-1, penalty=l1, solver=newton-cg ..................\n",
            "[CV]  C=0.1, n_jobs=-1, penalty=l1, solver=newton-cg, score=nan, total=   0.0s\n",
            "[CV] C=0.1, n_jobs=-1, penalty=l1, solver=lbfgs ......................\n",
            "[CV]  C=0.1, n_jobs=-1, penalty=l1, solver=lbfgs, score=nan, total=   0.0s\n",
            "[CV] C=0.1, n_jobs=-1, penalty=l1, solver=lbfgs ......................\n",
            "[CV]  C=0.1, n_jobs=-1, penalty=l1, solver=lbfgs, score=nan, total=   0.0s\n",
            "[CV] C=0.1, n_jobs=-1, penalty=l1, solver=lbfgs ......................\n",
            "[CV]  C=0.1, n_jobs=-1, penalty=l1, solver=lbfgs, score=nan, total=   0.0s\n",
            "[CV] C=0.1, n_jobs=-1, penalty=l1, solver=lbfgs ......................\n",
            "[CV]  C=0.1, n_jobs=-1, penalty=l1, solver=lbfgs, score=nan, total=   0.0s\n",
            "[CV] C=0.1, n_jobs=-1, penalty=l1, solver=lbfgs ......................\n",
            "[CV]  C=0.1, n_jobs=-1, penalty=l1, solver=lbfgs, score=nan, total=   0.0s\n",
            "[CV] C=0.1, n_jobs=-1, penalty=l1, solver=sag ........................\n",
            "[CV]  C=0.1, n_jobs=-1, penalty=l1, solver=sag, score=nan, total=   0.0s\n",
            "[CV] C=0.1, n_jobs=-1, penalty=l1, solver=sag ........................\n",
            "[CV]  C=0.1, n_jobs=-1, penalty=l1, solver=sag, score=nan, total=   0.0s\n",
            "[CV] C=0.1, n_jobs=-1, penalty=l1, solver=sag ........................\n",
            "[CV]  C=0.1, n_jobs=-1, penalty=l1, solver=sag, score=nan, total=   0.0s\n",
            "[CV] C=0.1, n_jobs=-1, penalty=l1, solver=sag ........................\n",
            "[CV]  C=0.1, n_jobs=-1, penalty=l1, solver=sag, score=nan, total=   0.0s\n",
            "[CV] C=0.1, n_jobs=-1, penalty=l1, solver=sag ........................\n",
            "[CV]  C=0.1, n_jobs=-1, penalty=l1, solver=sag, score=nan, total=   0.0s\n",
            "[CV] C=0.1, n_jobs=-1, penalty=l1, solver=saga .......................\n",
            "[CV]  C=0.1, n_jobs=-1, penalty=l1, solver=saga, score=0.335, total=   1.1s\n",
            "[CV] C=0.1, n_jobs=-1, penalty=l1, solver=saga .......................\n",
            "[CV]  C=0.1, n_jobs=-1, penalty=l1, solver=saga, score=0.335, total=   1.1s\n",
            "[CV] C=0.1, n_jobs=-1, penalty=l1, solver=saga .......................\n",
            "[CV]  C=0.1, n_jobs=-1, penalty=l1, solver=saga, score=0.335, total=   1.2s\n",
            "[CV] C=0.1, n_jobs=-1, penalty=l1, solver=saga .......................\n",
            "[CV]  C=0.1, n_jobs=-1, penalty=l1, solver=saga, score=0.335, total=   1.1s\n",
            "[CV] C=0.1, n_jobs=-1, penalty=l1, solver=saga .......................\n",
            "[CV]  C=0.1, n_jobs=-1, penalty=l1, solver=saga, score=0.335, total=   1.0s\n",
            "[CV] C=1.0, n_jobs=-1, penalty=l2, solver=newton-cg ..................\n",
            "[CV]  C=1.0, n_jobs=-1, penalty=l2, solver=newton-cg, score=0.701, total=   9.8s\n",
            "[CV] C=1.0, n_jobs=-1, penalty=l2, solver=newton-cg ..................\n",
            "[CV]  C=1.0, n_jobs=-1, penalty=l2, solver=newton-cg, score=0.698, total=   9.3s\n",
            "[CV] C=1.0, n_jobs=-1, penalty=l2, solver=newton-cg ..................\n",
            "[CV]  C=1.0, n_jobs=-1, penalty=l2, solver=newton-cg, score=0.687, total=   9.8s\n",
            "[CV] C=1.0, n_jobs=-1, penalty=l2, solver=newton-cg ..................\n",
            "[CV]  C=1.0, n_jobs=-1, penalty=l2, solver=newton-cg, score=0.686, total=   8.6s\n",
            "[CV] C=1.0, n_jobs=-1, penalty=l2, solver=newton-cg ..................\n",
            "[CV]  C=1.0, n_jobs=-1, penalty=l2, solver=newton-cg, score=0.689, total=   9.8s\n",
            "[CV] C=1.0, n_jobs=-1, penalty=l2, solver=lbfgs ......................\n",
            "[CV]  C=1.0, n_jobs=-1, penalty=l2, solver=lbfgs, score=0.701, total=  34.0s\n",
            "[CV] C=1.0, n_jobs=-1, penalty=l2, solver=lbfgs ......................\n",
            "[CV]  C=1.0, n_jobs=-1, penalty=l2, solver=lbfgs, score=0.698, total=  35.0s\n",
            "[CV] C=1.0, n_jobs=-1, penalty=l2, solver=lbfgs ......................\n",
            "[CV]  C=1.0, n_jobs=-1, penalty=l2, solver=lbfgs, score=0.686, total=  33.7s\n",
            "[CV] C=1.0, n_jobs=-1, penalty=l2, solver=lbfgs ......................\n",
            "[CV]  C=1.0, n_jobs=-1, penalty=l2, solver=lbfgs, score=0.686, total=  33.9s\n",
            "[CV] C=1.0, n_jobs=-1, penalty=l2, solver=lbfgs ......................\n",
            "[CV]  C=1.0, n_jobs=-1, penalty=l2, solver=lbfgs, score=0.689, total=  33.7s\n",
            "[CV] C=1.0, n_jobs=-1, penalty=l2, solver=sag ........................\n",
            "[CV]  C=1.0, n_jobs=-1, penalty=l2, solver=sag, score=0.701, total=   1.1s\n",
            "[CV] C=1.0, n_jobs=-1, penalty=l2, solver=sag ........................\n",
            "[CV]  C=1.0, n_jobs=-1, penalty=l2, solver=sag, score=0.698, total=   1.1s\n",
            "[CV] C=1.0, n_jobs=-1, penalty=l2, solver=sag ........................\n",
            "[CV]  C=1.0, n_jobs=-1, penalty=l2, solver=sag, score=0.687, total=   1.1s\n",
            "[CV] C=1.0, n_jobs=-1, penalty=l2, solver=sag ........................\n",
            "[CV]  C=1.0, n_jobs=-1, penalty=l2, solver=sag, score=0.686, total=   1.2s\n",
            "[CV] C=1.0, n_jobs=-1, penalty=l2, solver=sag ........................\n",
            "[CV]  C=1.0, n_jobs=-1, penalty=l2, solver=sag, score=0.689, total=   1.2s\n",
            "[CV] C=1.0, n_jobs=-1, penalty=l2, solver=saga .......................\n",
            "[CV]  C=1.0, n_jobs=-1, penalty=l2, solver=saga, score=0.701, total=   1.4s\n",
            "[CV] C=1.0, n_jobs=-1, penalty=l2, solver=saga .......................\n",
            "[CV]  C=1.0, n_jobs=-1, penalty=l2, solver=saga, score=0.698, total=   1.4s\n",
            "[CV] C=1.0, n_jobs=-1, penalty=l2, solver=saga .......................\n",
            "[CV]  C=1.0, n_jobs=-1, penalty=l2, solver=saga, score=0.687, total=   1.4s\n",
            "[CV] C=1.0, n_jobs=-1, penalty=l2, solver=saga .......................\n",
            "[CV]  C=1.0, n_jobs=-1, penalty=l2, solver=saga, score=0.686, total=   1.3s\n",
            "[CV] C=1.0, n_jobs=-1, penalty=l2, solver=saga .......................\n",
            "[CV]  C=1.0, n_jobs=-1, penalty=l2, solver=saga, score=0.690, total=   1.3s\n",
            "[CV] C=1.0, n_jobs=-1, penalty=l1, solver=newton-cg ..................\n",
            "[CV]  C=1.0, n_jobs=-1, penalty=l1, solver=newton-cg, score=nan, total=   0.0s\n",
            "[CV] C=1.0, n_jobs=-1, penalty=l1, solver=newton-cg ..................\n",
            "[CV]  C=1.0, n_jobs=-1, penalty=l1, solver=newton-cg, score=nan, total=   0.0s\n",
            "[CV] C=1.0, n_jobs=-1, penalty=l1, solver=newton-cg ..................\n",
            "[CV]  C=1.0, n_jobs=-1, penalty=l1, solver=newton-cg, score=nan, total=   0.0s\n",
            "[CV] C=1.0, n_jobs=-1, penalty=l1, solver=newton-cg ..................\n",
            "[CV]  C=1.0, n_jobs=-1, penalty=l1, solver=newton-cg, score=nan, total=   0.0s\n",
            "[CV] C=1.0, n_jobs=-1, penalty=l1, solver=newton-cg ..................\n",
            "[CV]  C=1.0, n_jobs=-1, penalty=l1, solver=newton-cg, score=nan, total=   0.0s\n",
            "[CV] C=1.0, n_jobs=-1, penalty=l1, solver=lbfgs ......................\n",
            "[CV]  C=1.0, n_jobs=-1, penalty=l1, solver=lbfgs, score=nan, total=   0.0s\n",
            "[CV] C=1.0, n_jobs=-1, penalty=l1, solver=lbfgs ......................\n",
            "[CV]  C=1.0, n_jobs=-1, penalty=l1, solver=lbfgs, score=nan, total=   0.0s\n",
            "[CV] C=1.0, n_jobs=-1, penalty=l1, solver=lbfgs ......................\n",
            "[CV]  C=1.0, n_jobs=-1, penalty=l1, solver=lbfgs, score=nan, total=   0.0s\n",
            "[CV] C=1.0, n_jobs=-1, penalty=l1, solver=lbfgs ......................\n",
            "[CV]  C=1.0, n_jobs=-1, penalty=l1, solver=lbfgs, score=nan, total=   0.0s\n",
            "[CV] C=1.0, n_jobs=-1, penalty=l1, solver=lbfgs ......................\n",
            "[CV]  C=1.0, n_jobs=-1, penalty=l1, solver=lbfgs, score=nan, total=   0.0s\n",
            "[CV] C=1.0, n_jobs=-1, penalty=l1, solver=sag ........................\n",
            "[CV]  C=1.0, n_jobs=-1, penalty=l1, solver=sag, score=nan, total=   0.0s\n",
            "[CV] C=1.0, n_jobs=-1, penalty=l1, solver=sag ........................\n",
            "[CV]  C=1.0, n_jobs=-1, penalty=l1, solver=sag, score=nan, total=   0.0s\n",
            "[CV] C=1.0, n_jobs=-1, penalty=l1, solver=sag ........................\n",
            "[CV]  C=1.0, n_jobs=-1, penalty=l1, solver=sag, score=nan, total=   0.0s\n",
            "[CV] C=1.0, n_jobs=-1, penalty=l1, solver=sag ........................\n",
            "[CV]  C=1.0, n_jobs=-1, penalty=l1, solver=sag, score=nan, total=   0.0s\n",
            "[CV] C=1.0, n_jobs=-1, penalty=l1, solver=sag ........................\n",
            "[CV]  C=1.0, n_jobs=-1, penalty=l1, solver=sag, score=nan, total=   0.0s\n",
            "[CV] C=1.0, n_jobs=-1, penalty=l1, solver=saga .......................\n",
            "[CV]  C=1.0, n_jobs=-1, penalty=l1, solver=saga, score=0.881, total=  10.8s\n",
            "[CV] C=1.0, n_jobs=-1, penalty=l1, solver=saga .......................\n",
            "[CV]  C=1.0, n_jobs=-1, penalty=l1, solver=saga, score=0.881, total=  10.9s\n",
            "[CV] C=1.0, n_jobs=-1, penalty=l1, solver=saga .......................\n",
            "[CV]  C=1.0, n_jobs=-1, penalty=l1, solver=saga, score=0.869, total=  10.8s\n",
            "[CV] C=1.0, n_jobs=-1, penalty=l1, solver=saga .......................\n",
            "[CV]  C=1.0, n_jobs=-1, penalty=l1, solver=saga, score=0.867, total=  11.0s\n",
            "[CV] C=1.0, n_jobs=-1, penalty=l1, solver=saga .......................\n",
            "[CV]  C=1.0, n_jobs=-1, penalty=l1, solver=saga, score=0.879, total=  10.8s\n"
          ],
          "name": "stdout"
        },
        {
          "output_type": "stream",
          "text": [
            "[Parallel(n_jobs=1)]: Done 200 out of 200 | elapsed: 30.5min finished\n"
          ],
          "name": "stderr"
        },
        {
          "output_type": "stream",
          "text": [
            "tuned hpyerparameters :(best parameters)  {'C': 1.0, 'n_jobs': -1, 'penalty': 'l1', 'solver': 'saga'}\n",
            "accuracy : 0.87525\n"
          ],
          "name": "stdout"
        },
        {
          "output_type": "stream",
          "text": [
            "/usr/local/lib/python3.7/dist-packages/sklearn/linear_model/_sag.py:330: ConvergenceWarning: The max_iter was reached which means the coef_ did not converge\n",
            "  \"the coef_ did not converge\", ConvergenceWarning)\n"
          ],
          "name": "stderr"
        }
      ]
    },
    {
      "cell_type": "code",
      "metadata": {
        "colab": {
          "base_uri": "https://localhost:8080/"
        },
        "id": "A_1Ts9AkakQB",
        "outputId": "e53d6c75-03c1-437b-ee20-3f66d7321081"
      },
      "source": [
        "predicted_cv_logistic = cv_logistic.predict(X_test_tfidf)\n",
        "print(\"정확도: \", accuracy_score(y_test, predicted_cv_logistic))"
      ],
      "execution_count": null,
      "outputs": [
        {
          "output_type": "stream",
          "text": [
            "정확도:  0.8865\n"
          ],
          "name": "stdout"
        }
      ]
    },
    {
      "cell_type": "markdown",
      "metadata": {
        "id": "7Vt6ctfpjbSQ"
      },
      "source": [
        "## GridSearch: MultinomialNB\n",
        "https://www.kaggle.com/enespolat/grid-search-with-logistic-regression"
      ]
    },
    {
      "cell_type": "code",
      "metadata": {
        "colab": {
          "base_uri": "https://localhost:8080/"
        },
        "id": "2pvMTNp8jbSR",
        "outputId": "f96f9cd6-560c-484c-a6dd-8f2261e3173f"
      },
      "source": [
        "grid = {\n",
        "    'alpha': [1e-4, 1e-3, 1e-2, 1e-1, 1e0],\n",
        "    'class_prior': [None, [0.1,0.9], [0.2, 0.8], [0.3, 0.7], [0.4, 0.6]],\n",
        "    'fit_prior': [True, False]\n",
        "}\n",
        "model_multinomial=MultinomialNB()\n",
        "cv_multinomial=GridSearchCV(model_multinomial,grid,cv=5, verbose=3)\n",
        "# verbose 3이 가장 친절하게 알려준다.\n",
        "cv_multinomial.fit(X_train_val_tfidf,y_train_val)\n",
        "\n",
        "print(\"tuned hpyerparameters :(best parameters) \",cv_multinomial.best_params_)\n",
        "print(\"accuracy :\",cv_multinomial.best_score_)"
      ],
      "execution_count": null,
      "outputs": [
        {
          "output_type": "stream",
          "text": [
            "Fitting 5 folds for each of 50 candidates, totalling 250 fits\n",
            "[CV] alpha=0.0001, class_prior=None, fit_prior=True ..................\n",
            "[CV]  alpha=0.0001, class_prior=None, fit_prior=True, score=0.400, total=   0.1s\n",
            "[CV] alpha=0.0001, class_prior=None, fit_prior=True ..................\n"
          ],
          "name": "stdout"
        },
        {
          "output_type": "stream",
          "text": [
            "[Parallel(n_jobs=1)]: Using backend SequentialBackend with 1 concurrent workers.\n",
            "[Parallel(n_jobs=1)]: Done   1 out of   1 | elapsed:    0.1s remaining:    0.0s\n",
            "[Parallel(n_jobs=1)]: Done   2 out of   2 | elapsed:    0.2s remaining:    0.0s\n"
          ],
          "name": "stderr"
        },
        {
          "output_type": "stream",
          "text": [
            "[CV]  alpha=0.0001, class_prior=None, fit_prior=True, score=0.400, total=   0.1s\n",
            "[CV] alpha=0.0001, class_prior=None, fit_prior=True ..................\n",
            "[CV]  alpha=0.0001, class_prior=None, fit_prior=True, score=0.389, total=   0.1s\n",
            "[CV] alpha=0.0001, class_prior=None, fit_prior=True ..................\n",
            "[CV]  alpha=0.0001, class_prior=None, fit_prior=True, score=0.402, total=   0.1s\n",
            "[CV] alpha=0.0001, class_prior=None, fit_prior=True ..................\n",
            "[CV]  alpha=0.0001, class_prior=None, fit_prior=True, score=0.576, total=   0.1s\n",
            "[CV] alpha=0.0001, class_prior=None, fit_prior=False .................\n",
            "[CV]  alpha=0.0001, class_prior=None, fit_prior=False, score=0.308, total=   0.1s\n",
            "[CV] alpha=0.0001, class_prior=None, fit_prior=False .................\n",
            "[CV]  alpha=0.0001, class_prior=None, fit_prior=False, score=0.314, total=   0.1s\n",
            "[CV] alpha=0.0001, class_prior=None, fit_prior=False .................\n",
            "[CV]  alpha=0.0001, class_prior=None, fit_prior=False, score=0.306, total=   0.1s\n",
            "[CV] alpha=0.0001, class_prior=None, fit_prior=False .................\n",
            "[CV]  alpha=0.0001, class_prior=None, fit_prior=False, score=0.311, total=   0.1s\n",
            "[CV] alpha=0.0001, class_prior=None, fit_prior=False .................\n",
            "[CV]  alpha=0.0001, class_prior=None, fit_prior=False, score=0.531, total=   0.1s\n",
            "[CV] alpha=0.0001, class_prior=[0.1, 0.9], fit_prior=True ............\n"
          ],
          "name": "stdout"
        },
        {
          "output_type": "stream",
          "text": [
            "/usr/local/lib/python3.7/dist-packages/sklearn/model_selection/_validation.py:536: FitFailedWarning: Estimator fit failed. The score on this train-test partition for these parameters will be set to nan. Details: \n",
            "ValueError: Number of priors must match number of classes.\n",
            "\n",
            "  FitFailedWarning)\n",
            "/usr/local/lib/python3.7/dist-packages/sklearn/model_selection/_validation.py:536: FitFailedWarning: Estimator fit failed. The score on this train-test partition for these parameters will be set to nan. Details: \n",
            "ValueError: Number of priors must match number of classes.\n",
            "\n",
            "  FitFailedWarning)\n",
            "/usr/local/lib/python3.7/dist-packages/sklearn/model_selection/_validation.py:536: FitFailedWarning: Estimator fit failed. The score on this train-test partition for these parameters will be set to nan. Details: \n",
            "ValueError: Number of priors must match number of classes.\n",
            "\n",
            "  FitFailedWarning)\n"
          ],
          "name": "stderr"
        },
        {
          "output_type": "stream",
          "text": [
            "[CV]  alpha=0.0001, class_prior=[0.1, 0.9], fit_prior=True, score=nan, total=   0.1s\n",
            "[CV] alpha=0.0001, class_prior=[0.1, 0.9], fit_prior=True ............\n",
            "[CV]  alpha=0.0001, class_prior=[0.1, 0.9], fit_prior=True, score=nan, total=   0.1s\n",
            "[CV] alpha=0.0001, class_prior=[0.1, 0.9], fit_prior=True ............\n",
            "[CV]  alpha=0.0001, class_prior=[0.1, 0.9], fit_prior=True, score=nan, total=   0.1s\n",
            "[CV] alpha=0.0001, class_prior=[0.1, 0.9], fit_prior=True ............\n"
          ],
          "name": "stdout"
        },
        {
          "output_type": "stream",
          "text": [
            "/usr/local/lib/python3.7/dist-packages/sklearn/model_selection/_validation.py:536: FitFailedWarning: Estimator fit failed. The score on this train-test partition for these parameters will be set to nan. Details: \n",
            "ValueError: Number of priors must match number of classes.\n",
            "\n",
            "  FitFailedWarning)\n",
            "/usr/local/lib/python3.7/dist-packages/sklearn/model_selection/_validation.py:536: FitFailedWarning: Estimator fit failed. The score on this train-test partition for these parameters will be set to nan. Details: \n",
            "ValueError: Number of priors must match number of classes.\n",
            "\n",
            "  FitFailedWarning)\n",
            "/usr/local/lib/python3.7/dist-packages/sklearn/model_selection/_validation.py:536: FitFailedWarning: Estimator fit failed. The score on this train-test partition for these parameters will be set to nan. Details: \n",
            "ValueError: Number of priors must match number of classes.\n",
            "\n",
            "  FitFailedWarning)\n"
          ],
          "name": "stderr"
        },
        {
          "output_type": "stream",
          "text": [
            "[CV]  alpha=0.0001, class_prior=[0.1, 0.9], fit_prior=True, score=nan, total=   0.1s\n",
            "[CV] alpha=0.0001, class_prior=[0.1, 0.9], fit_prior=True ............\n",
            "[CV]  alpha=0.0001, class_prior=[0.1, 0.9], fit_prior=True, score=nan, total=   0.1s\n",
            "[CV] alpha=0.0001, class_prior=[0.1, 0.9], fit_prior=False ...........\n",
            "[CV]  alpha=0.0001, class_prior=[0.1, 0.9], fit_prior=False, score=nan, total=   0.1s\n",
            "[CV] alpha=0.0001, class_prior=[0.1, 0.9], fit_prior=False ...........\n"
          ],
          "name": "stdout"
        },
        {
          "output_type": "stream",
          "text": [
            "/usr/local/lib/python3.7/dist-packages/sklearn/model_selection/_validation.py:536: FitFailedWarning: Estimator fit failed. The score on this train-test partition for these parameters will be set to nan. Details: \n",
            "ValueError: Number of priors must match number of classes.\n",
            "\n",
            "  FitFailedWarning)\n",
            "/usr/local/lib/python3.7/dist-packages/sklearn/model_selection/_validation.py:536: FitFailedWarning: Estimator fit failed. The score on this train-test partition for these parameters will be set to nan. Details: \n",
            "ValueError: Number of priors must match number of classes.\n",
            "\n",
            "  FitFailedWarning)\n",
            "/usr/local/lib/python3.7/dist-packages/sklearn/model_selection/_validation.py:536: FitFailedWarning: Estimator fit failed. The score on this train-test partition for these parameters will be set to nan. Details: \n",
            "ValueError: Number of priors must match number of classes.\n",
            "\n",
            "  FitFailedWarning)\n"
          ],
          "name": "stderr"
        },
        {
          "output_type": "stream",
          "text": [
            "[CV]  alpha=0.0001, class_prior=[0.1, 0.9], fit_prior=False, score=nan, total=   0.1s\n",
            "[CV] alpha=0.0001, class_prior=[0.1, 0.9], fit_prior=False ...........\n",
            "[CV]  alpha=0.0001, class_prior=[0.1, 0.9], fit_prior=False, score=nan, total=   0.1s\n",
            "[CV] alpha=0.0001, class_prior=[0.1, 0.9], fit_prior=False ...........\n",
            "[CV]  alpha=0.0001, class_prior=[0.1, 0.9], fit_prior=False, score=nan, total=   0.1s\n",
            "[CV] alpha=0.0001, class_prior=[0.1, 0.9], fit_prior=False ...........\n"
          ],
          "name": "stdout"
        },
        {
          "output_type": "stream",
          "text": [
            "/usr/local/lib/python3.7/dist-packages/sklearn/model_selection/_validation.py:536: FitFailedWarning: Estimator fit failed. The score on this train-test partition for these parameters will be set to nan. Details: \n",
            "ValueError: Number of priors must match number of classes.\n",
            "\n",
            "  FitFailedWarning)\n",
            "/usr/local/lib/python3.7/dist-packages/sklearn/model_selection/_validation.py:536: FitFailedWarning: Estimator fit failed. The score on this train-test partition for these parameters will be set to nan. Details: \n",
            "ValueError: Number of priors must match number of classes.\n",
            "\n",
            "  FitFailedWarning)\n",
            "/usr/local/lib/python3.7/dist-packages/sklearn/model_selection/_validation.py:536: FitFailedWarning: Estimator fit failed. The score on this train-test partition for these parameters will be set to nan. Details: \n",
            "ValueError: Number of priors must match number of classes.\n",
            "\n",
            "  FitFailedWarning)\n"
          ],
          "name": "stderr"
        },
        {
          "output_type": "stream",
          "text": [
            "[CV]  alpha=0.0001, class_prior=[0.1, 0.9], fit_prior=False, score=nan, total=   0.1s\n",
            "[CV] alpha=0.0001, class_prior=[0.2, 0.8], fit_prior=True ............\n",
            "[CV]  alpha=0.0001, class_prior=[0.2, 0.8], fit_prior=True, score=nan, total=   0.1s\n",
            "[CV] alpha=0.0001, class_prior=[0.2, 0.8], fit_prior=True ............\n",
            "[CV]  alpha=0.0001, class_prior=[0.2, 0.8], fit_prior=True, score=nan, total=   0.1s\n",
            "[CV] alpha=0.0001, class_prior=[0.2, 0.8], fit_prior=True ............\n"
          ],
          "name": "stdout"
        },
        {
          "output_type": "stream",
          "text": [
            "/usr/local/lib/python3.7/dist-packages/sklearn/model_selection/_validation.py:536: FitFailedWarning: Estimator fit failed. The score on this train-test partition for these parameters will be set to nan. Details: \n",
            "ValueError: Number of priors must match number of classes.\n",
            "\n",
            "  FitFailedWarning)\n",
            "/usr/local/lib/python3.7/dist-packages/sklearn/model_selection/_validation.py:536: FitFailedWarning: Estimator fit failed. The score on this train-test partition for these parameters will be set to nan. Details: \n",
            "ValueError: Number of priors must match number of classes.\n",
            "\n",
            "  FitFailedWarning)\n",
            "/usr/local/lib/python3.7/dist-packages/sklearn/model_selection/_validation.py:536: FitFailedWarning: Estimator fit failed. The score on this train-test partition for these parameters will be set to nan. Details: \n",
            "ValueError: Number of priors must match number of classes.\n",
            "\n",
            "  FitFailedWarning)\n"
          ],
          "name": "stderr"
        },
        {
          "output_type": "stream",
          "text": [
            "[CV]  alpha=0.0001, class_prior=[0.2, 0.8], fit_prior=True, score=nan, total=   0.1s\n",
            "[CV] alpha=0.0001, class_prior=[0.2, 0.8], fit_prior=True ............\n",
            "[CV]  alpha=0.0001, class_prior=[0.2, 0.8], fit_prior=True, score=nan, total=   0.1s\n",
            "[CV] alpha=0.0001, class_prior=[0.2, 0.8], fit_prior=True ............\n",
            "[CV]  alpha=0.0001, class_prior=[0.2, 0.8], fit_prior=True, score=nan, total=   0.1s\n",
            "[CV] alpha=0.0001, class_prior=[0.2, 0.8], fit_prior=False ...........\n"
          ],
          "name": "stdout"
        },
        {
          "output_type": "stream",
          "text": [
            "/usr/local/lib/python3.7/dist-packages/sklearn/model_selection/_validation.py:536: FitFailedWarning: Estimator fit failed. The score on this train-test partition for these parameters will be set to nan. Details: \n",
            "ValueError: Number of priors must match number of classes.\n",
            "\n",
            "  FitFailedWarning)\n",
            "/usr/local/lib/python3.7/dist-packages/sklearn/model_selection/_validation.py:536: FitFailedWarning: Estimator fit failed. The score on this train-test partition for these parameters will be set to nan. Details: \n",
            "ValueError: Number of priors must match number of classes.\n",
            "\n",
            "  FitFailedWarning)\n",
            "/usr/local/lib/python3.7/dist-packages/sklearn/model_selection/_validation.py:536: FitFailedWarning: Estimator fit failed. The score on this train-test partition for these parameters will be set to nan. Details: \n",
            "ValueError: Number of priors must match number of classes.\n",
            "\n",
            "  FitFailedWarning)\n"
          ],
          "name": "stderr"
        },
        {
          "output_type": "stream",
          "text": [
            "[CV]  alpha=0.0001, class_prior=[0.2, 0.8], fit_prior=False, score=nan, total=   0.1s\n",
            "[CV] alpha=0.0001, class_prior=[0.2, 0.8], fit_prior=False ...........\n",
            "[CV]  alpha=0.0001, class_prior=[0.2, 0.8], fit_prior=False, score=nan, total=   0.1s\n",
            "[CV] alpha=0.0001, class_prior=[0.2, 0.8], fit_prior=False ...........\n",
            "[CV]  alpha=0.0001, class_prior=[0.2, 0.8], fit_prior=False, score=nan, total=   0.1s\n",
            "[CV] alpha=0.0001, class_prior=[0.2, 0.8], fit_prior=False ...........\n"
          ],
          "name": "stdout"
        },
        {
          "output_type": "stream",
          "text": [
            "/usr/local/lib/python3.7/dist-packages/sklearn/model_selection/_validation.py:536: FitFailedWarning: Estimator fit failed. The score on this train-test partition for these parameters will be set to nan. Details: \n",
            "ValueError: Number of priors must match number of classes.\n",
            "\n",
            "  FitFailedWarning)\n",
            "/usr/local/lib/python3.7/dist-packages/sklearn/model_selection/_validation.py:536: FitFailedWarning: Estimator fit failed. The score on this train-test partition for these parameters will be set to nan. Details: \n",
            "ValueError: Number of priors must match number of classes.\n",
            "\n",
            "  FitFailedWarning)\n",
            "/usr/local/lib/python3.7/dist-packages/sklearn/model_selection/_validation.py:536: FitFailedWarning: Estimator fit failed. The score on this train-test partition for these parameters will be set to nan. Details: \n",
            "ValueError: Number of priors must match number of classes.\n",
            "\n",
            "  FitFailedWarning)\n"
          ],
          "name": "stderr"
        },
        {
          "output_type": "stream",
          "text": [
            "[CV]  alpha=0.0001, class_prior=[0.2, 0.8], fit_prior=False, score=nan, total=   0.1s\n",
            "[CV] alpha=0.0001, class_prior=[0.2, 0.8], fit_prior=False ...........\n",
            "[CV]  alpha=0.0001, class_prior=[0.2, 0.8], fit_prior=False, score=nan, total=   0.1s\n",
            "[CV] alpha=0.0001, class_prior=[0.3, 0.7], fit_prior=True ............\n",
            "[CV]  alpha=0.0001, class_prior=[0.3, 0.7], fit_prior=True, score=nan, total=   0.1s\n",
            "[CV] alpha=0.0001, class_prior=[0.3, 0.7], fit_prior=True ............\n"
          ],
          "name": "stdout"
        },
        {
          "output_type": "stream",
          "text": [
            "/usr/local/lib/python3.7/dist-packages/sklearn/model_selection/_validation.py:536: FitFailedWarning: Estimator fit failed. The score on this train-test partition for these parameters will be set to nan. Details: \n",
            "ValueError: Number of priors must match number of classes.\n",
            "\n",
            "  FitFailedWarning)\n",
            "/usr/local/lib/python3.7/dist-packages/sklearn/model_selection/_validation.py:536: FitFailedWarning: Estimator fit failed. The score on this train-test partition for these parameters will be set to nan. Details: \n",
            "ValueError: Number of priors must match number of classes.\n",
            "\n",
            "  FitFailedWarning)\n",
            "/usr/local/lib/python3.7/dist-packages/sklearn/model_selection/_validation.py:536: FitFailedWarning: Estimator fit failed. The score on this train-test partition for these parameters will be set to nan. Details: \n",
            "ValueError: Number of priors must match number of classes.\n",
            "\n",
            "  FitFailedWarning)\n"
          ],
          "name": "stderr"
        },
        {
          "output_type": "stream",
          "text": [
            "[CV]  alpha=0.0001, class_prior=[0.3, 0.7], fit_prior=True, score=nan, total=   0.1s\n",
            "[CV] alpha=0.0001, class_prior=[0.3, 0.7], fit_prior=True ............\n",
            "[CV]  alpha=0.0001, class_prior=[0.3, 0.7], fit_prior=True, score=nan, total=   0.1s\n",
            "[CV] alpha=0.0001, class_prior=[0.3, 0.7], fit_prior=True ............\n",
            "[CV]  alpha=0.0001, class_prior=[0.3, 0.7], fit_prior=True, score=nan, total=   0.1s\n",
            "[CV] alpha=0.0001, class_prior=[0.3, 0.7], fit_prior=True ............\n"
          ],
          "name": "stdout"
        },
        {
          "output_type": "stream",
          "text": [
            "/usr/local/lib/python3.7/dist-packages/sklearn/model_selection/_validation.py:536: FitFailedWarning: Estimator fit failed. The score on this train-test partition for these parameters will be set to nan. Details: \n",
            "ValueError: Number of priors must match number of classes.\n",
            "\n",
            "  FitFailedWarning)\n",
            "/usr/local/lib/python3.7/dist-packages/sklearn/model_selection/_validation.py:536: FitFailedWarning: Estimator fit failed. The score on this train-test partition for these parameters will be set to nan. Details: \n",
            "ValueError: Number of priors must match number of classes.\n",
            "\n",
            "  FitFailedWarning)\n",
            "/usr/local/lib/python3.7/dist-packages/sklearn/model_selection/_validation.py:536: FitFailedWarning: Estimator fit failed. The score on this train-test partition for these parameters will be set to nan. Details: \n",
            "ValueError: Number of priors must match number of classes.\n",
            "\n",
            "  FitFailedWarning)\n"
          ],
          "name": "stderr"
        },
        {
          "output_type": "stream",
          "text": [
            "[CV]  alpha=0.0001, class_prior=[0.3, 0.7], fit_prior=True, score=nan, total=   0.1s\n",
            "[CV] alpha=0.0001, class_prior=[0.3, 0.7], fit_prior=False ...........\n",
            "[CV]  alpha=0.0001, class_prior=[0.3, 0.7], fit_prior=False, score=nan, total=   0.1s\n",
            "[CV] alpha=0.0001, class_prior=[0.3, 0.7], fit_prior=False ...........\n",
            "[CV]  alpha=0.0001, class_prior=[0.3, 0.7], fit_prior=False, score=nan, total=   0.1s\n",
            "[CV] alpha=0.0001, class_prior=[0.3, 0.7], fit_prior=False ...........\n"
          ],
          "name": "stdout"
        },
        {
          "output_type": "stream",
          "text": [
            "/usr/local/lib/python3.7/dist-packages/sklearn/model_selection/_validation.py:536: FitFailedWarning: Estimator fit failed. The score on this train-test partition for these parameters will be set to nan. Details: \n",
            "ValueError: Number of priors must match number of classes.\n",
            "\n",
            "  FitFailedWarning)\n",
            "/usr/local/lib/python3.7/dist-packages/sklearn/model_selection/_validation.py:536: FitFailedWarning: Estimator fit failed. The score on this train-test partition for these parameters will be set to nan. Details: \n",
            "ValueError: Number of priors must match number of classes.\n",
            "\n",
            "  FitFailedWarning)\n",
            "/usr/local/lib/python3.7/dist-packages/sklearn/model_selection/_validation.py:536: FitFailedWarning: Estimator fit failed. The score on this train-test partition for these parameters will be set to nan. Details: \n",
            "ValueError: Number of priors must match number of classes.\n",
            "\n",
            "  FitFailedWarning)\n"
          ],
          "name": "stderr"
        },
        {
          "output_type": "stream",
          "text": [
            "[CV]  alpha=0.0001, class_prior=[0.3, 0.7], fit_prior=False, score=nan, total=   0.1s\n",
            "[CV] alpha=0.0001, class_prior=[0.3, 0.7], fit_prior=False ...........\n",
            "[CV]  alpha=0.0001, class_prior=[0.3, 0.7], fit_prior=False, score=nan, total=   0.1s\n",
            "[CV] alpha=0.0001, class_prior=[0.3, 0.7], fit_prior=False ...........\n",
            "[CV]  alpha=0.0001, class_prior=[0.3, 0.7], fit_prior=False, score=nan, total=   0.1s\n",
            "[CV] alpha=0.0001, class_prior=[0.4, 0.6], fit_prior=True ............\n"
          ],
          "name": "stdout"
        },
        {
          "output_type": "stream",
          "text": [
            "/usr/local/lib/python3.7/dist-packages/sklearn/model_selection/_validation.py:536: FitFailedWarning: Estimator fit failed. The score on this train-test partition for these parameters will be set to nan. Details: \n",
            "ValueError: Number of priors must match number of classes.\n",
            "\n",
            "  FitFailedWarning)\n",
            "/usr/local/lib/python3.7/dist-packages/sklearn/model_selection/_validation.py:536: FitFailedWarning: Estimator fit failed. The score on this train-test partition for these parameters will be set to nan. Details: \n",
            "ValueError: Number of priors must match number of classes.\n",
            "\n",
            "  FitFailedWarning)\n",
            "/usr/local/lib/python3.7/dist-packages/sklearn/model_selection/_validation.py:536: FitFailedWarning: Estimator fit failed. The score on this train-test partition for these parameters will be set to nan. Details: \n",
            "ValueError: Number of priors must match number of classes.\n",
            "\n",
            "  FitFailedWarning)\n"
          ],
          "name": "stderr"
        },
        {
          "output_type": "stream",
          "text": [
            "[CV]  alpha=0.0001, class_prior=[0.4, 0.6], fit_prior=True, score=nan, total=   0.1s\n",
            "[CV] alpha=0.0001, class_prior=[0.4, 0.6], fit_prior=True ............\n",
            "[CV]  alpha=0.0001, class_prior=[0.4, 0.6], fit_prior=True, score=nan, total=   0.1s\n",
            "[CV] alpha=0.0001, class_prior=[0.4, 0.6], fit_prior=True ............\n",
            "[CV]  alpha=0.0001, class_prior=[0.4, 0.6], fit_prior=True, score=nan, total=   0.1s\n",
            "[CV] alpha=0.0001, class_prior=[0.4, 0.6], fit_prior=True ............\n"
          ],
          "name": "stdout"
        },
        {
          "output_type": "stream",
          "text": [
            "/usr/local/lib/python3.7/dist-packages/sklearn/model_selection/_validation.py:536: FitFailedWarning: Estimator fit failed. The score on this train-test partition for these parameters will be set to nan. Details: \n",
            "ValueError: Number of priors must match number of classes.\n",
            "\n",
            "  FitFailedWarning)\n",
            "/usr/local/lib/python3.7/dist-packages/sklearn/model_selection/_validation.py:536: FitFailedWarning: Estimator fit failed. The score on this train-test partition for these parameters will be set to nan. Details: \n",
            "ValueError: Number of priors must match number of classes.\n",
            "\n",
            "  FitFailedWarning)\n",
            "/usr/local/lib/python3.7/dist-packages/sklearn/model_selection/_validation.py:536: FitFailedWarning: Estimator fit failed. The score on this train-test partition for these parameters will be set to nan. Details: \n",
            "ValueError: Number of priors must match number of classes.\n",
            "\n",
            "  FitFailedWarning)\n"
          ],
          "name": "stderr"
        },
        {
          "output_type": "stream",
          "text": [
            "[CV]  alpha=0.0001, class_prior=[0.4, 0.6], fit_prior=True, score=nan, total=   0.1s\n",
            "[CV] alpha=0.0001, class_prior=[0.4, 0.6], fit_prior=True ............\n",
            "[CV]  alpha=0.0001, class_prior=[0.4, 0.6], fit_prior=True, score=nan, total=   0.1s\n",
            "[CV] alpha=0.0001, class_prior=[0.4, 0.6], fit_prior=False ...........\n",
            "[CV]  alpha=0.0001, class_prior=[0.4, 0.6], fit_prior=False, score=nan, total=   0.1s\n",
            "[CV] alpha=0.0001, class_prior=[0.4, 0.6], fit_prior=False ...........\n"
          ],
          "name": "stdout"
        },
        {
          "output_type": "stream",
          "text": [
            "/usr/local/lib/python3.7/dist-packages/sklearn/model_selection/_validation.py:536: FitFailedWarning: Estimator fit failed. The score on this train-test partition for these parameters will be set to nan. Details: \n",
            "ValueError: Number of priors must match number of classes.\n",
            "\n",
            "  FitFailedWarning)\n",
            "/usr/local/lib/python3.7/dist-packages/sklearn/model_selection/_validation.py:536: FitFailedWarning: Estimator fit failed. The score on this train-test partition for these parameters will be set to nan. Details: \n",
            "ValueError: Number of priors must match number of classes.\n",
            "\n",
            "  FitFailedWarning)\n",
            "/usr/local/lib/python3.7/dist-packages/sklearn/model_selection/_validation.py:536: FitFailedWarning: Estimator fit failed. The score on this train-test partition for these parameters will be set to nan. Details: \n",
            "ValueError: Number of priors must match number of classes.\n",
            "\n",
            "  FitFailedWarning)\n"
          ],
          "name": "stderr"
        },
        {
          "output_type": "stream",
          "text": [
            "[CV]  alpha=0.0001, class_prior=[0.4, 0.6], fit_prior=False, score=nan, total=   0.1s\n",
            "[CV] alpha=0.0001, class_prior=[0.4, 0.6], fit_prior=False ...........\n",
            "[CV]  alpha=0.0001, class_prior=[0.4, 0.6], fit_prior=False, score=nan, total=   0.1s\n",
            "[CV] alpha=0.0001, class_prior=[0.4, 0.6], fit_prior=False ...........\n",
            "[CV]  alpha=0.0001, class_prior=[0.4, 0.6], fit_prior=False, score=nan, total=   0.1s\n",
            "[CV] alpha=0.0001, class_prior=[0.4, 0.6], fit_prior=False ...........\n"
          ],
          "name": "stdout"
        },
        {
          "output_type": "stream",
          "text": [
            "/usr/local/lib/python3.7/dist-packages/sklearn/model_selection/_validation.py:536: FitFailedWarning: Estimator fit failed. The score on this train-test partition for these parameters will be set to nan. Details: \n",
            "ValueError: Number of priors must match number of classes.\n",
            "\n",
            "  FitFailedWarning)\n"
          ],
          "name": "stderr"
        },
        {
          "output_type": "stream",
          "text": [
            "[CV]  alpha=0.0001, class_prior=[0.4, 0.6], fit_prior=False, score=nan, total=   0.1s\n",
            "[CV] alpha=0.001, class_prior=None, fit_prior=True ...................\n",
            "[CV]  alpha=0.001, class_prior=None, fit_prior=True, score=0.354, total=   0.1s\n",
            "[CV] alpha=0.001, class_prior=None, fit_prior=True ...................\n",
            "[CV]  alpha=0.001, class_prior=None, fit_prior=True, score=0.351, total=   0.1s\n",
            "[CV] alpha=0.001, class_prior=None, fit_prior=True ...................\n",
            "[CV]  alpha=0.001, class_prior=None, fit_prior=True, score=0.344, total=   0.1s\n",
            "[CV] alpha=0.001, class_prior=None, fit_prior=True ...................\n",
            "[CV]  alpha=0.001, class_prior=None, fit_prior=True, score=0.351, total=   0.1s\n",
            "[CV] alpha=0.001, class_prior=None, fit_prior=True ...................\n",
            "[CV]  alpha=0.001, class_prior=None, fit_prior=True, score=0.559, total=   0.1s\n",
            "[CV] alpha=0.001, class_prior=None, fit_prior=False ..................\n",
            "[CV]  alpha=0.001, class_prior=None, fit_prior=False, score=0.258, total=   0.1s\n",
            "[CV] alpha=0.001, class_prior=None, fit_prior=False ..................\n",
            "[CV]  alpha=0.001, class_prior=None, fit_prior=False, score=0.258, total=   0.1s\n",
            "[CV] alpha=0.001, class_prior=None, fit_prior=False ..................\n",
            "[CV]  alpha=0.001, class_prior=None, fit_prior=False, score=0.251, total=   0.1s\n",
            "[CV] alpha=0.001, class_prior=None, fit_prior=False ..................\n",
            "[CV]  alpha=0.001, class_prior=None, fit_prior=False, score=0.255, total=   0.1s\n",
            "[CV] alpha=0.001, class_prior=None, fit_prior=False ..................\n",
            "[CV]  alpha=0.001, class_prior=None, fit_prior=False, score=0.519, total=   0.1s\n",
            "[CV] alpha=0.001, class_prior=[0.1, 0.9], fit_prior=True .............\n",
            "[CV]  alpha=0.001, class_prior=[0.1, 0.9], fit_prior=True, score=nan, total=   0.1s\n",
            "[CV] alpha=0.001, class_prior=[0.1, 0.9], fit_prior=True .............\n"
          ],
          "name": "stdout"
        },
        {
          "output_type": "stream",
          "text": [
            "/usr/local/lib/python3.7/dist-packages/sklearn/model_selection/_validation.py:536: FitFailedWarning: Estimator fit failed. The score on this train-test partition for these parameters will be set to nan. Details: \n",
            "ValueError: Number of priors must match number of classes.\n",
            "\n",
            "  FitFailedWarning)\n",
            "/usr/local/lib/python3.7/dist-packages/sklearn/model_selection/_validation.py:536: FitFailedWarning: Estimator fit failed. The score on this train-test partition for these parameters will be set to nan. Details: \n",
            "ValueError: Number of priors must match number of classes.\n",
            "\n",
            "  FitFailedWarning)\n",
            "/usr/local/lib/python3.7/dist-packages/sklearn/model_selection/_validation.py:536: FitFailedWarning: Estimator fit failed. The score on this train-test partition for these parameters will be set to nan. Details: \n",
            "ValueError: Number of priors must match number of classes.\n",
            "\n",
            "  FitFailedWarning)\n"
          ],
          "name": "stderr"
        },
        {
          "output_type": "stream",
          "text": [
            "[CV]  alpha=0.001, class_prior=[0.1, 0.9], fit_prior=True, score=nan, total=   0.1s\n",
            "[CV] alpha=0.001, class_prior=[0.1, 0.9], fit_prior=True .............\n",
            "[CV]  alpha=0.001, class_prior=[0.1, 0.9], fit_prior=True, score=nan, total=   0.1s\n",
            "[CV] alpha=0.001, class_prior=[0.1, 0.9], fit_prior=True .............\n",
            "[CV]  alpha=0.001, class_prior=[0.1, 0.9], fit_prior=True, score=nan, total=   0.1s\n",
            "[CV] alpha=0.001, class_prior=[0.1, 0.9], fit_prior=True .............\n"
          ],
          "name": "stdout"
        },
        {
          "output_type": "stream",
          "text": [
            "/usr/local/lib/python3.7/dist-packages/sklearn/model_selection/_validation.py:536: FitFailedWarning: Estimator fit failed. The score on this train-test partition for these parameters will be set to nan. Details: \n",
            "ValueError: Number of priors must match number of classes.\n",
            "\n",
            "  FitFailedWarning)\n",
            "/usr/local/lib/python3.7/dist-packages/sklearn/model_selection/_validation.py:536: FitFailedWarning: Estimator fit failed. The score on this train-test partition for these parameters will be set to nan. Details: \n",
            "ValueError: Number of priors must match number of classes.\n",
            "\n",
            "  FitFailedWarning)\n",
            "/usr/local/lib/python3.7/dist-packages/sklearn/model_selection/_validation.py:536: FitFailedWarning: Estimator fit failed. The score on this train-test partition for these parameters will be set to nan. Details: \n",
            "ValueError: Number of priors must match number of classes.\n",
            "\n",
            "  FitFailedWarning)\n"
          ],
          "name": "stderr"
        },
        {
          "output_type": "stream",
          "text": [
            "[CV]  alpha=0.001, class_prior=[0.1, 0.9], fit_prior=True, score=nan, total=   0.1s\n",
            "[CV] alpha=0.001, class_prior=[0.1, 0.9], fit_prior=False ............\n",
            "[CV]  alpha=0.001, class_prior=[0.1, 0.9], fit_prior=False, score=nan, total=   0.1s\n",
            "[CV] alpha=0.001, class_prior=[0.1, 0.9], fit_prior=False ............\n",
            "[CV]  alpha=0.001, class_prior=[0.1, 0.9], fit_prior=False, score=nan, total=   0.1s\n",
            "[CV] alpha=0.001, class_prior=[0.1, 0.9], fit_prior=False ............\n"
          ],
          "name": "stdout"
        },
        {
          "output_type": "stream",
          "text": [
            "/usr/local/lib/python3.7/dist-packages/sklearn/model_selection/_validation.py:536: FitFailedWarning: Estimator fit failed. The score on this train-test partition for these parameters will be set to nan. Details: \n",
            "ValueError: Number of priors must match number of classes.\n",
            "\n",
            "  FitFailedWarning)\n",
            "/usr/local/lib/python3.7/dist-packages/sklearn/model_selection/_validation.py:536: FitFailedWarning: Estimator fit failed. The score on this train-test partition for these parameters will be set to nan. Details: \n",
            "ValueError: Number of priors must match number of classes.\n",
            "\n",
            "  FitFailedWarning)\n",
            "/usr/local/lib/python3.7/dist-packages/sklearn/model_selection/_validation.py:536: FitFailedWarning: Estimator fit failed. The score on this train-test partition for these parameters will be set to nan. Details: \n",
            "ValueError: Number of priors must match number of classes.\n",
            "\n",
            "  FitFailedWarning)\n"
          ],
          "name": "stderr"
        },
        {
          "output_type": "stream",
          "text": [
            "[CV]  alpha=0.001, class_prior=[0.1, 0.9], fit_prior=False, score=nan, total=   0.1s\n",
            "[CV] alpha=0.001, class_prior=[0.1, 0.9], fit_prior=False ............\n",
            "[CV]  alpha=0.001, class_prior=[0.1, 0.9], fit_prior=False, score=nan, total=   0.1s\n",
            "[CV] alpha=0.001, class_prior=[0.1, 0.9], fit_prior=False ............\n",
            "[CV]  alpha=0.001, class_prior=[0.1, 0.9], fit_prior=False, score=nan, total=   0.1s\n",
            "[CV] alpha=0.001, class_prior=[0.2, 0.8], fit_prior=True .............\n"
          ],
          "name": "stdout"
        },
        {
          "output_type": "stream",
          "text": [
            "/usr/local/lib/python3.7/dist-packages/sklearn/model_selection/_validation.py:536: FitFailedWarning: Estimator fit failed. The score on this train-test partition for these parameters will be set to nan. Details: \n",
            "ValueError: Number of priors must match number of classes.\n",
            "\n",
            "  FitFailedWarning)\n",
            "/usr/local/lib/python3.7/dist-packages/sklearn/model_selection/_validation.py:536: FitFailedWarning: Estimator fit failed. The score on this train-test partition for these parameters will be set to nan. Details: \n",
            "ValueError: Number of priors must match number of classes.\n",
            "\n",
            "  FitFailedWarning)\n",
            "/usr/local/lib/python3.7/dist-packages/sklearn/model_selection/_validation.py:536: FitFailedWarning: Estimator fit failed. The score on this train-test partition for these parameters will be set to nan. Details: \n",
            "ValueError: Number of priors must match number of classes.\n",
            "\n",
            "  FitFailedWarning)\n"
          ],
          "name": "stderr"
        },
        {
          "output_type": "stream",
          "text": [
            "[CV]  alpha=0.001, class_prior=[0.2, 0.8], fit_prior=True, score=nan, total=   0.1s\n",
            "[CV] alpha=0.001, class_prior=[0.2, 0.8], fit_prior=True .............\n",
            "[CV]  alpha=0.001, class_prior=[0.2, 0.8], fit_prior=True, score=nan, total=   0.1s\n",
            "[CV] alpha=0.001, class_prior=[0.2, 0.8], fit_prior=True .............\n",
            "[CV]  alpha=0.001, class_prior=[0.2, 0.8], fit_prior=True, score=nan, total=   0.1s\n",
            "[CV] alpha=0.001, class_prior=[0.2, 0.8], fit_prior=True .............\n"
          ],
          "name": "stdout"
        },
        {
          "output_type": "stream",
          "text": [
            "/usr/local/lib/python3.7/dist-packages/sklearn/model_selection/_validation.py:536: FitFailedWarning: Estimator fit failed. The score on this train-test partition for these parameters will be set to nan. Details: \n",
            "ValueError: Number of priors must match number of classes.\n",
            "\n",
            "  FitFailedWarning)\n",
            "/usr/local/lib/python3.7/dist-packages/sklearn/model_selection/_validation.py:536: FitFailedWarning: Estimator fit failed. The score on this train-test partition for these parameters will be set to nan. Details: \n",
            "ValueError: Number of priors must match number of classes.\n",
            "\n",
            "  FitFailedWarning)\n",
            "/usr/local/lib/python3.7/dist-packages/sklearn/model_selection/_validation.py:536: FitFailedWarning: Estimator fit failed. The score on this train-test partition for these parameters will be set to nan. Details: \n",
            "ValueError: Number of priors must match number of classes.\n",
            "\n",
            "  FitFailedWarning)\n"
          ],
          "name": "stderr"
        },
        {
          "output_type": "stream",
          "text": [
            "[CV]  alpha=0.001, class_prior=[0.2, 0.8], fit_prior=True, score=nan, total=   0.1s\n",
            "[CV] alpha=0.001, class_prior=[0.2, 0.8], fit_prior=True .............\n",
            "[CV]  alpha=0.001, class_prior=[0.2, 0.8], fit_prior=True, score=nan, total=   0.1s\n",
            "[CV] alpha=0.001, class_prior=[0.2, 0.8], fit_prior=False ............\n",
            "[CV]  alpha=0.001, class_prior=[0.2, 0.8], fit_prior=False, score=nan, total=   0.1s\n",
            "[CV] alpha=0.001, class_prior=[0.2, 0.8], fit_prior=False ............\n"
          ],
          "name": "stdout"
        },
        {
          "output_type": "stream",
          "text": [
            "/usr/local/lib/python3.7/dist-packages/sklearn/model_selection/_validation.py:536: FitFailedWarning: Estimator fit failed. The score on this train-test partition for these parameters will be set to nan. Details: \n",
            "ValueError: Number of priors must match number of classes.\n",
            "\n",
            "  FitFailedWarning)\n",
            "/usr/local/lib/python3.7/dist-packages/sklearn/model_selection/_validation.py:536: FitFailedWarning: Estimator fit failed. The score on this train-test partition for these parameters will be set to nan. Details: \n",
            "ValueError: Number of priors must match number of classes.\n",
            "\n",
            "  FitFailedWarning)\n",
            "/usr/local/lib/python3.7/dist-packages/sklearn/model_selection/_validation.py:536: FitFailedWarning: Estimator fit failed. The score on this train-test partition for these parameters will be set to nan. Details: \n",
            "ValueError: Number of priors must match number of classes.\n",
            "\n",
            "  FitFailedWarning)\n"
          ],
          "name": "stderr"
        },
        {
          "output_type": "stream",
          "text": [
            "[CV]  alpha=0.001, class_prior=[0.2, 0.8], fit_prior=False, score=nan, total=   0.1s\n",
            "[CV] alpha=0.001, class_prior=[0.2, 0.8], fit_prior=False ............\n",
            "[CV]  alpha=0.001, class_prior=[0.2, 0.8], fit_prior=False, score=nan, total=   0.1s\n",
            "[CV] alpha=0.001, class_prior=[0.2, 0.8], fit_prior=False ............\n",
            "[CV]  alpha=0.001, class_prior=[0.2, 0.8], fit_prior=False, score=nan, total=   0.1s\n",
            "[CV] alpha=0.001, class_prior=[0.2, 0.8], fit_prior=False ............\n"
          ],
          "name": "stdout"
        },
        {
          "output_type": "stream",
          "text": [
            "/usr/local/lib/python3.7/dist-packages/sklearn/model_selection/_validation.py:536: FitFailedWarning: Estimator fit failed. The score on this train-test partition for these parameters will be set to nan. Details: \n",
            "ValueError: Number of priors must match number of classes.\n",
            "\n",
            "  FitFailedWarning)\n",
            "/usr/local/lib/python3.7/dist-packages/sklearn/model_selection/_validation.py:536: FitFailedWarning: Estimator fit failed. The score on this train-test partition for these parameters will be set to nan. Details: \n",
            "ValueError: Number of priors must match number of classes.\n",
            "\n",
            "  FitFailedWarning)\n",
            "/usr/local/lib/python3.7/dist-packages/sklearn/model_selection/_validation.py:536: FitFailedWarning: Estimator fit failed. The score on this train-test partition for these parameters will be set to nan. Details: \n",
            "ValueError: Number of priors must match number of classes.\n",
            "\n",
            "  FitFailedWarning)\n"
          ],
          "name": "stderr"
        },
        {
          "output_type": "stream",
          "text": [
            "[CV]  alpha=0.001, class_prior=[0.2, 0.8], fit_prior=False, score=nan, total=   0.1s\n",
            "[CV] alpha=0.001, class_prior=[0.3, 0.7], fit_prior=True .............\n",
            "[CV]  alpha=0.001, class_prior=[0.3, 0.7], fit_prior=True, score=nan, total=   0.1s\n",
            "[CV] alpha=0.001, class_prior=[0.3, 0.7], fit_prior=True .............\n",
            "[CV]  alpha=0.001, class_prior=[0.3, 0.7], fit_prior=True, score=nan, total=   0.1s\n",
            "[CV] alpha=0.001, class_prior=[0.3, 0.7], fit_prior=True .............\n"
          ],
          "name": "stdout"
        },
        {
          "output_type": "stream",
          "text": [
            "/usr/local/lib/python3.7/dist-packages/sklearn/model_selection/_validation.py:536: FitFailedWarning: Estimator fit failed. The score on this train-test partition for these parameters will be set to nan. Details: \n",
            "ValueError: Number of priors must match number of classes.\n",
            "\n",
            "  FitFailedWarning)\n",
            "/usr/local/lib/python3.7/dist-packages/sklearn/model_selection/_validation.py:536: FitFailedWarning: Estimator fit failed. The score on this train-test partition for these parameters will be set to nan. Details: \n",
            "ValueError: Number of priors must match number of classes.\n",
            "\n",
            "  FitFailedWarning)\n",
            "/usr/local/lib/python3.7/dist-packages/sklearn/model_selection/_validation.py:536: FitFailedWarning: Estimator fit failed. The score on this train-test partition for these parameters will be set to nan. Details: \n",
            "ValueError: Number of priors must match number of classes.\n",
            "\n",
            "  FitFailedWarning)\n"
          ],
          "name": "stderr"
        },
        {
          "output_type": "stream",
          "text": [
            "[CV]  alpha=0.001, class_prior=[0.3, 0.7], fit_prior=True, score=nan, total=   0.1s\n",
            "[CV] alpha=0.001, class_prior=[0.3, 0.7], fit_prior=True .............\n",
            "[CV]  alpha=0.001, class_prior=[0.3, 0.7], fit_prior=True, score=nan, total=   0.1s\n",
            "[CV] alpha=0.001, class_prior=[0.3, 0.7], fit_prior=True .............\n",
            "[CV]  alpha=0.001, class_prior=[0.3, 0.7], fit_prior=True, score=nan, total=   0.1s\n",
            "[CV] alpha=0.001, class_prior=[0.3, 0.7], fit_prior=False ............\n"
          ],
          "name": "stdout"
        },
        {
          "output_type": "stream",
          "text": [
            "/usr/local/lib/python3.7/dist-packages/sklearn/model_selection/_validation.py:536: FitFailedWarning: Estimator fit failed. The score on this train-test partition for these parameters will be set to nan. Details: \n",
            "ValueError: Number of priors must match number of classes.\n",
            "\n",
            "  FitFailedWarning)\n",
            "/usr/local/lib/python3.7/dist-packages/sklearn/model_selection/_validation.py:536: FitFailedWarning: Estimator fit failed. The score on this train-test partition for these parameters will be set to nan. Details: \n",
            "ValueError: Number of priors must match number of classes.\n",
            "\n",
            "  FitFailedWarning)\n",
            "/usr/local/lib/python3.7/dist-packages/sklearn/model_selection/_validation.py:536: FitFailedWarning: Estimator fit failed. The score on this train-test partition for these parameters will be set to nan. Details: \n",
            "ValueError: Number of priors must match number of classes.\n",
            "\n",
            "  FitFailedWarning)\n"
          ],
          "name": "stderr"
        },
        {
          "output_type": "stream",
          "text": [
            "[CV]  alpha=0.001, class_prior=[0.3, 0.7], fit_prior=False, score=nan, total=   0.1s\n",
            "[CV] alpha=0.001, class_prior=[0.3, 0.7], fit_prior=False ............\n",
            "[CV]  alpha=0.001, class_prior=[0.3, 0.7], fit_prior=False, score=nan, total=   0.1s\n",
            "[CV] alpha=0.001, class_prior=[0.3, 0.7], fit_prior=False ............\n",
            "[CV]  alpha=0.001, class_prior=[0.3, 0.7], fit_prior=False, score=nan, total=   0.1s\n",
            "[CV] alpha=0.001, class_prior=[0.3, 0.7], fit_prior=False ............\n"
          ],
          "name": "stdout"
        },
        {
          "output_type": "stream",
          "text": [
            "/usr/local/lib/python3.7/dist-packages/sklearn/model_selection/_validation.py:536: FitFailedWarning: Estimator fit failed. The score on this train-test partition for these parameters will be set to nan. Details: \n",
            "ValueError: Number of priors must match number of classes.\n",
            "\n",
            "  FitFailedWarning)\n",
            "/usr/local/lib/python3.7/dist-packages/sklearn/model_selection/_validation.py:536: FitFailedWarning: Estimator fit failed. The score on this train-test partition for these parameters will be set to nan. Details: \n",
            "ValueError: Number of priors must match number of classes.\n",
            "\n",
            "  FitFailedWarning)\n",
            "/usr/local/lib/python3.7/dist-packages/sklearn/model_selection/_validation.py:536: FitFailedWarning: Estimator fit failed. The score on this train-test partition for these parameters will be set to nan. Details: \n",
            "ValueError: Number of priors must match number of classes.\n",
            "\n",
            "  FitFailedWarning)\n"
          ],
          "name": "stderr"
        },
        {
          "output_type": "stream",
          "text": [
            "[CV]  alpha=0.001, class_prior=[0.3, 0.7], fit_prior=False, score=nan, total=   0.1s\n",
            "[CV] alpha=0.001, class_prior=[0.3, 0.7], fit_prior=False ............\n",
            "[CV]  alpha=0.001, class_prior=[0.3, 0.7], fit_prior=False, score=nan, total=   0.1s\n",
            "[CV] alpha=0.001, class_prior=[0.4, 0.6], fit_prior=True .............\n",
            "[CV]  alpha=0.001, class_prior=[0.4, 0.6], fit_prior=True, score=nan, total=   0.1s\n",
            "[CV] alpha=0.001, class_prior=[0.4, 0.6], fit_prior=True .............\n"
          ],
          "name": "stdout"
        },
        {
          "output_type": "stream",
          "text": [
            "/usr/local/lib/python3.7/dist-packages/sklearn/model_selection/_validation.py:536: FitFailedWarning: Estimator fit failed. The score on this train-test partition for these parameters will be set to nan. Details: \n",
            "ValueError: Number of priors must match number of classes.\n",
            "\n",
            "  FitFailedWarning)\n",
            "/usr/local/lib/python3.7/dist-packages/sklearn/model_selection/_validation.py:536: FitFailedWarning: Estimator fit failed. The score on this train-test partition for these parameters will be set to nan. Details: \n",
            "ValueError: Number of priors must match number of classes.\n",
            "\n",
            "  FitFailedWarning)\n",
            "/usr/local/lib/python3.7/dist-packages/sklearn/model_selection/_validation.py:536: FitFailedWarning: Estimator fit failed. The score on this train-test partition for these parameters will be set to nan. Details: \n",
            "ValueError: Number of priors must match number of classes.\n",
            "\n",
            "  FitFailedWarning)\n"
          ],
          "name": "stderr"
        },
        {
          "output_type": "stream",
          "text": [
            "[CV]  alpha=0.001, class_prior=[0.4, 0.6], fit_prior=True, score=nan, total=   0.1s\n",
            "[CV] alpha=0.001, class_prior=[0.4, 0.6], fit_prior=True .............\n",
            "[CV]  alpha=0.001, class_prior=[0.4, 0.6], fit_prior=True, score=nan, total=   0.1s\n",
            "[CV] alpha=0.001, class_prior=[0.4, 0.6], fit_prior=True .............\n",
            "[CV]  alpha=0.001, class_prior=[0.4, 0.6], fit_prior=True, score=nan, total=   0.1s\n",
            "[CV] alpha=0.001, class_prior=[0.4, 0.6], fit_prior=True .............\n"
          ],
          "name": "stdout"
        },
        {
          "output_type": "stream",
          "text": [
            "/usr/local/lib/python3.7/dist-packages/sklearn/model_selection/_validation.py:536: FitFailedWarning: Estimator fit failed. The score on this train-test partition for these parameters will be set to nan. Details: \n",
            "ValueError: Number of priors must match number of classes.\n",
            "\n",
            "  FitFailedWarning)\n",
            "/usr/local/lib/python3.7/dist-packages/sklearn/model_selection/_validation.py:536: FitFailedWarning: Estimator fit failed. The score on this train-test partition for these parameters will be set to nan. Details: \n",
            "ValueError: Number of priors must match number of classes.\n",
            "\n",
            "  FitFailedWarning)\n",
            "/usr/local/lib/python3.7/dist-packages/sklearn/model_selection/_validation.py:536: FitFailedWarning: Estimator fit failed. The score on this train-test partition for these parameters will be set to nan. Details: \n",
            "ValueError: Number of priors must match number of classes.\n",
            "\n",
            "  FitFailedWarning)\n"
          ],
          "name": "stderr"
        },
        {
          "output_type": "stream",
          "text": [
            "[CV]  alpha=0.001, class_prior=[0.4, 0.6], fit_prior=True, score=nan, total=   0.1s\n",
            "[CV] alpha=0.001, class_prior=[0.4, 0.6], fit_prior=False ............\n",
            "[CV]  alpha=0.001, class_prior=[0.4, 0.6], fit_prior=False, score=nan, total=   0.1s\n",
            "[CV] alpha=0.001, class_prior=[0.4, 0.6], fit_prior=False ............\n",
            "[CV]  alpha=0.001, class_prior=[0.4, 0.6], fit_prior=False, score=nan, total=   0.1s\n",
            "[CV] alpha=0.001, class_prior=[0.4, 0.6], fit_prior=False ............\n"
          ],
          "name": "stdout"
        },
        {
          "output_type": "stream",
          "text": [
            "/usr/local/lib/python3.7/dist-packages/sklearn/model_selection/_validation.py:536: FitFailedWarning: Estimator fit failed. The score on this train-test partition for these parameters will be set to nan. Details: \n",
            "ValueError: Number of priors must match number of classes.\n",
            "\n",
            "  FitFailedWarning)\n",
            "/usr/local/lib/python3.7/dist-packages/sklearn/model_selection/_validation.py:536: FitFailedWarning: Estimator fit failed. The score on this train-test partition for these parameters will be set to nan. Details: \n",
            "ValueError: Number of priors must match number of classes.\n",
            "\n",
            "  FitFailedWarning)\n",
            "/usr/local/lib/python3.7/dist-packages/sklearn/model_selection/_validation.py:536: FitFailedWarning: Estimator fit failed. The score on this train-test partition for these parameters will be set to nan. Details: \n",
            "ValueError: Number of priors must match number of classes.\n",
            "\n",
            "  FitFailedWarning)\n"
          ],
          "name": "stderr"
        },
        {
          "output_type": "stream",
          "text": [
            "[CV]  alpha=0.001, class_prior=[0.4, 0.6], fit_prior=False, score=nan, total=   0.1s\n",
            "[CV] alpha=0.001, class_prior=[0.4, 0.6], fit_prior=False ............\n",
            "[CV]  alpha=0.001, class_prior=[0.4, 0.6], fit_prior=False, score=nan, total=   0.1s\n",
            "[CV] alpha=0.001, class_prior=[0.4, 0.6], fit_prior=False ............\n",
            "[CV]  alpha=0.001, class_prior=[0.4, 0.6], fit_prior=False, score=nan, total=   0.1s\n",
            "[CV] alpha=0.01, class_prior=None, fit_prior=True ....................\n"
          ],
          "name": "stdout"
        },
        {
          "output_type": "stream",
          "text": [
            "/usr/local/lib/python3.7/dist-packages/sklearn/model_selection/_validation.py:536: FitFailedWarning: Estimator fit failed. The score on this train-test partition for these parameters will be set to nan. Details: \n",
            "ValueError: Number of priors must match number of classes.\n",
            "\n",
            "  FitFailedWarning)\n"
          ],
          "name": "stderr"
        },
        {
          "output_type": "stream",
          "text": [
            "[CV]  alpha=0.01, class_prior=None, fit_prior=True, score=0.441, total=   0.1s\n",
            "[CV] alpha=0.01, class_prior=None, fit_prior=True ....................\n",
            "[CV]  alpha=0.01, class_prior=None, fit_prior=True, score=0.444, total=   0.1s\n",
            "[CV] alpha=0.01, class_prior=None, fit_prior=True ....................\n",
            "[CV]  alpha=0.01, class_prior=None, fit_prior=True, score=0.438, total=   0.1s\n",
            "[CV] alpha=0.01, class_prior=None, fit_prior=True ....................\n",
            "[CV]  alpha=0.01, class_prior=None, fit_prior=True, score=0.436, total=   0.1s\n",
            "[CV] alpha=0.01, class_prior=None, fit_prior=True ....................\n",
            "[CV]  alpha=0.01, class_prior=None, fit_prior=True, score=0.619, total=   0.1s\n",
            "[CV] alpha=0.01, class_prior=None, fit_prior=False ...................\n",
            "[CV]  alpha=0.01, class_prior=None, fit_prior=False, score=0.298, total=   0.1s\n",
            "[CV] alpha=0.01, class_prior=None, fit_prior=False ...................\n",
            "[CV]  alpha=0.01, class_prior=None, fit_prior=False, score=0.292, total=   0.1s\n",
            "[CV] alpha=0.01, class_prior=None, fit_prior=False ...................\n",
            "[CV]  alpha=0.01, class_prior=None, fit_prior=False, score=0.286, total=   0.1s\n",
            "[CV] alpha=0.01, class_prior=None, fit_prior=False ...................\n",
            "[CV]  alpha=0.01, class_prior=None, fit_prior=False, score=0.291, total=   0.1s\n",
            "[CV] alpha=0.01, class_prior=None, fit_prior=False ...................\n",
            "[CV]  alpha=0.01, class_prior=None, fit_prior=False, score=0.561, total=   0.1s\n",
            "[CV] alpha=0.01, class_prior=[0.1, 0.9], fit_prior=True ..............\n",
            "[CV]  alpha=0.01, class_prior=[0.1, 0.9], fit_prior=True, score=nan, total=   0.1s\n",
            "[CV] alpha=0.01, class_prior=[0.1, 0.9], fit_prior=True ..............\n",
            "[CV]  alpha=0.01, class_prior=[0.1, 0.9], fit_prior=True, score=nan, total=   0.1s\n",
            "[CV] alpha=0.01, class_prior=[0.1, 0.9], fit_prior=True ..............\n"
          ],
          "name": "stdout"
        },
        {
          "output_type": "stream",
          "text": [
            "/usr/local/lib/python3.7/dist-packages/sklearn/model_selection/_validation.py:536: FitFailedWarning: Estimator fit failed. The score on this train-test partition for these parameters will be set to nan. Details: \n",
            "ValueError: Number of priors must match number of classes.\n",
            "\n",
            "  FitFailedWarning)\n",
            "/usr/local/lib/python3.7/dist-packages/sklearn/model_selection/_validation.py:536: FitFailedWarning: Estimator fit failed. The score on this train-test partition for these parameters will be set to nan. Details: \n",
            "ValueError: Number of priors must match number of classes.\n",
            "\n",
            "  FitFailedWarning)\n",
            "/usr/local/lib/python3.7/dist-packages/sklearn/model_selection/_validation.py:536: FitFailedWarning: Estimator fit failed. The score on this train-test partition for these parameters will be set to nan. Details: \n",
            "ValueError: Number of priors must match number of classes.\n",
            "\n",
            "  FitFailedWarning)\n"
          ],
          "name": "stderr"
        },
        {
          "output_type": "stream",
          "text": [
            "[CV]  alpha=0.01, class_prior=[0.1, 0.9], fit_prior=True, score=nan, total=   0.1s\n",
            "[CV] alpha=0.01, class_prior=[0.1, 0.9], fit_prior=True ..............\n",
            "[CV]  alpha=0.01, class_prior=[0.1, 0.9], fit_prior=True, score=nan, total=   0.1s\n",
            "[CV] alpha=0.01, class_prior=[0.1, 0.9], fit_prior=True ..............\n",
            "[CV]  alpha=0.01, class_prior=[0.1, 0.9], fit_prior=True, score=nan, total=   0.1s\n",
            "[CV] alpha=0.01, class_prior=[0.1, 0.9], fit_prior=False .............\n"
          ],
          "name": "stdout"
        },
        {
          "output_type": "stream",
          "text": [
            "/usr/local/lib/python3.7/dist-packages/sklearn/model_selection/_validation.py:536: FitFailedWarning: Estimator fit failed. The score on this train-test partition for these parameters will be set to nan. Details: \n",
            "ValueError: Number of priors must match number of classes.\n",
            "\n",
            "  FitFailedWarning)\n",
            "/usr/local/lib/python3.7/dist-packages/sklearn/model_selection/_validation.py:536: FitFailedWarning: Estimator fit failed. The score on this train-test partition for these parameters will be set to nan. Details: \n",
            "ValueError: Number of priors must match number of classes.\n",
            "\n",
            "  FitFailedWarning)\n",
            "/usr/local/lib/python3.7/dist-packages/sklearn/model_selection/_validation.py:536: FitFailedWarning: Estimator fit failed. The score on this train-test partition for these parameters will be set to nan. Details: \n",
            "ValueError: Number of priors must match number of classes.\n",
            "\n",
            "  FitFailedWarning)\n"
          ],
          "name": "stderr"
        },
        {
          "output_type": "stream",
          "text": [
            "[CV]  alpha=0.01, class_prior=[0.1, 0.9], fit_prior=False, score=nan, total=   0.1s\n",
            "[CV] alpha=0.01, class_prior=[0.1, 0.9], fit_prior=False .............\n",
            "[CV]  alpha=0.01, class_prior=[0.1, 0.9], fit_prior=False, score=nan, total=   0.1s\n",
            "[CV] alpha=0.01, class_prior=[0.1, 0.9], fit_prior=False .............\n",
            "[CV]  alpha=0.01, class_prior=[0.1, 0.9], fit_prior=False, score=nan, total=   0.1s\n",
            "[CV] alpha=0.01, class_prior=[0.1, 0.9], fit_prior=False .............\n"
          ],
          "name": "stdout"
        },
        {
          "output_type": "stream",
          "text": [
            "/usr/local/lib/python3.7/dist-packages/sklearn/model_selection/_validation.py:536: FitFailedWarning: Estimator fit failed. The score on this train-test partition for these parameters will be set to nan. Details: \n",
            "ValueError: Number of priors must match number of classes.\n",
            "\n",
            "  FitFailedWarning)\n",
            "/usr/local/lib/python3.7/dist-packages/sklearn/model_selection/_validation.py:536: FitFailedWarning: Estimator fit failed. The score on this train-test partition for these parameters will be set to nan. Details: \n",
            "ValueError: Number of priors must match number of classes.\n",
            "\n",
            "  FitFailedWarning)\n",
            "/usr/local/lib/python3.7/dist-packages/sklearn/model_selection/_validation.py:536: FitFailedWarning: Estimator fit failed. The score on this train-test partition for these parameters will be set to nan. Details: \n",
            "ValueError: Number of priors must match number of classes.\n",
            "\n",
            "  FitFailedWarning)\n"
          ],
          "name": "stderr"
        },
        {
          "output_type": "stream",
          "text": [
            "[CV]  alpha=0.01, class_prior=[0.1, 0.9], fit_prior=False, score=nan, total=   0.1s\n",
            "[CV] alpha=0.01, class_prior=[0.1, 0.9], fit_prior=False .............\n",
            "[CV]  alpha=0.01, class_prior=[0.1, 0.9], fit_prior=False, score=nan, total=   0.1s\n",
            "[CV] alpha=0.01, class_prior=[0.2, 0.8], fit_prior=True ..............\n",
            "[CV]  alpha=0.01, class_prior=[0.2, 0.8], fit_prior=True, score=nan, total=   0.1s\n",
            "[CV] alpha=0.01, class_prior=[0.2, 0.8], fit_prior=True ..............\n"
          ],
          "name": "stdout"
        },
        {
          "output_type": "stream",
          "text": [
            "/usr/local/lib/python3.7/dist-packages/sklearn/model_selection/_validation.py:536: FitFailedWarning: Estimator fit failed. The score on this train-test partition for these parameters will be set to nan. Details: \n",
            "ValueError: Number of priors must match number of classes.\n",
            "\n",
            "  FitFailedWarning)\n",
            "/usr/local/lib/python3.7/dist-packages/sklearn/model_selection/_validation.py:536: FitFailedWarning: Estimator fit failed. The score on this train-test partition for these parameters will be set to nan. Details: \n",
            "ValueError: Number of priors must match number of classes.\n",
            "\n",
            "  FitFailedWarning)\n",
            "/usr/local/lib/python3.7/dist-packages/sklearn/model_selection/_validation.py:536: FitFailedWarning: Estimator fit failed. The score on this train-test partition for these parameters will be set to nan. Details: \n",
            "ValueError: Number of priors must match number of classes.\n",
            "\n",
            "  FitFailedWarning)\n"
          ],
          "name": "stderr"
        },
        {
          "output_type": "stream",
          "text": [
            "[CV]  alpha=0.01, class_prior=[0.2, 0.8], fit_prior=True, score=nan, total=   0.1s\n",
            "[CV] alpha=0.01, class_prior=[0.2, 0.8], fit_prior=True ..............\n",
            "[CV]  alpha=0.01, class_prior=[0.2, 0.8], fit_prior=True, score=nan, total=   0.1s\n",
            "[CV] alpha=0.01, class_prior=[0.2, 0.8], fit_prior=True ..............\n",
            "[CV]  alpha=0.01, class_prior=[0.2, 0.8], fit_prior=True, score=nan, total=   0.1s\n",
            "[CV] alpha=0.01, class_prior=[0.2, 0.8], fit_prior=True ..............\n"
          ],
          "name": "stdout"
        },
        {
          "output_type": "stream",
          "text": [
            "/usr/local/lib/python3.7/dist-packages/sklearn/model_selection/_validation.py:536: FitFailedWarning: Estimator fit failed. The score on this train-test partition for these parameters will be set to nan. Details: \n",
            "ValueError: Number of priors must match number of classes.\n",
            "\n",
            "  FitFailedWarning)\n",
            "/usr/local/lib/python3.7/dist-packages/sklearn/model_selection/_validation.py:536: FitFailedWarning: Estimator fit failed. The score on this train-test partition for these parameters will be set to nan. Details: \n",
            "ValueError: Number of priors must match number of classes.\n",
            "\n",
            "  FitFailedWarning)\n",
            "/usr/local/lib/python3.7/dist-packages/sklearn/model_selection/_validation.py:536: FitFailedWarning: Estimator fit failed. The score on this train-test partition for these parameters will be set to nan. Details: \n",
            "ValueError: Number of priors must match number of classes.\n",
            "\n",
            "  FitFailedWarning)\n"
          ],
          "name": "stderr"
        },
        {
          "output_type": "stream",
          "text": [
            "[CV]  alpha=0.01, class_prior=[0.2, 0.8], fit_prior=True, score=nan, total=   0.1s\n",
            "[CV] alpha=0.01, class_prior=[0.2, 0.8], fit_prior=False .............\n",
            "[CV]  alpha=0.01, class_prior=[0.2, 0.8], fit_prior=False, score=nan, total=   0.1s\n",
            "[CV] alpha=0.01, class_prior=[0.2, 0.8], fit_prior=False .............\n",
            "[CV]  alpha=0.01, class_prior=[0.2, 0.8], fit_prior=False, score=nan, total=   0.1s\n",
            "[CV] alpha=0.01, class_prior=[0.2, 0.8], fit_prior=False .............\n"
          ],
          "name": "stdout"
        },
        {
          "output_type": "stream",
          "text": [
            "/usr/local/lib/python3.7/dist-packages/sklearn/model_selection/_validation.py:536: FitFailedWarning: Estimator fit failed. The score on this train-test partition for these parameters will be set to nan. Details: \n",
            "ValueError: Number of priors must match number of classes.\n",
            "\n",
            "  FitFailedWarning)\n",
            "/usr/local/lib/python3.7/dist-packages/sklearn/model_selection/_validation.py:536: FitFailedWarning: Estimator fit failed. The score on this train-test partition for these parameters will be set to nan. Details: \n",
            "ValueError: Number of priors must match number of classes.\n",
            "\n",
            "  FitFailedWarning)\n",
            "/usr/local/lib/python3.7/dist-packages/sklearn/model_selection/_validation.py:536: FitFailedWarning: Estimator fit failed. The score on this train-test partition for these parameters will be set to nan. Details: \n",
            "ValueError: Number of priors must match number of classes.\n",
            "\n",
            "  FitFailedWarning)\n"
          ],
          "name": "stderr"
        },
        {
          "output_type": "stream",
          "text": [
            "[CV]  alpha=0.01, class_prior=[0.2, 0.8], fit_prior=False, score=nan, total=   0.1s\n",
            "[CV] alpha=0.01, class_prior=[0.2, 0.8], fit_prior=False .............\n",
            "[CV]  alpha=0.01, class_prior=[0.2, 0.8], fit_prior=False, score=nan, total=   0.1s\n",
            "[CV] alpha=0.01, class_prior=[0.2, 0.8], fit_prior=False .............\n",
            "[CV]  alpha=0.01, class_prior=[0.2, 0.8], fit_prior=False, score=nan, total=   0.1s\n",
            "[CV] alpha=0.01, class_prior=[0.3, 0.7], fit_prior=True ..............\n"
          ],
          "name": "stdout"
        },
        {
          "output_type": "stream",
          "text": [
            "/usr/local/lib/python3.7/dist-packages/sklearn/model_selection/_validation.py:536: FitFailedWarning: Estimator fit failed. The score on this train-test partition for these parameters will be set to nan. Details: \n",
            "ValueError: Number of priors must match number of classes.\n",
            "\n",
            "  FitFailedWarning)\n",
            "/usr/local/lib/python3.7/dist-packages/sklearn/model_selection/_validation.py:536: FitFailedWarning: Estimator fit failed. The score on this train-test partition for these parameters will be set to nan. Details: \n",
            "ValueError: Number of priors must match number of classes.\n",
            "\n",
            "  FitFailedWarning)\n",
            "/usr/local/lib/python3.7/dist-packages/sklearn/model_selection/_validation.py:536: FitFailedWarning: Estimator fit failed. The score on this train-test partition for these parameters will be set to nan. Details: \n",
            "ValueError: Number of priors must match number of classes.\n",
            "\n",
            "  FitFailedWarning)\n"
          ],
          "name": "stderr"
        },
        {
          "output_type": "stream",
          "text": [
            "[CV]  alpha=0.01, class_prior=[0.3, 0.7], fit_prior=True, score=nan, total=   0.1s\n",
            "[CV] alpha=0.01, class_prior=[0.3, 0.7], fit_prior=True ..............\n",
            "[CV]  alpha=0.01, class_prior=[0.3, 0.7], fit_prior=True, score=nan, total=   0.1s\n",
            "[CV] alpha=0.01, class_prior=[0.3, 0.7], fit_prior=True ..............\n",
            "[CV]  alpha=0.01, class_prior=[0.3, 0.7], fit_prior=True, score=nan, total=   0.1s\n",
            "[CV] alpha=0.01, class_prior=[0.3, 0.7], fit_prior=True ..............\n"
          ],
          "name": "stdout"
        },
        {
          "output_type": "stream",
          "text": [
            "/usr/local/lib/python3.7/dist-packages/sklearn/model_selection/_validation.py:536: FitFailedWarning: Estimator fit failed. The score on this train-test partition for these parameters will be set to nan. Details: \n",
            "ValueError: Number of priors must match number of classes.\n",
            "\n",
            "  FitFailedWarning)\n",
            "/usr/local/lib/python3.7/dist-packages/sklearn/model_selection/_validation.py:536: FitFailedWarning: Estimator fit failed. The score on this train-test partition for these parameters will be set to nan. Details: \n",
            "ValueError: Number of priors must match number of classes.\n",
            "\n",
            "  FitFailedWarning)\n",
            "/usr/local/lib/python3.7/dist-packages/sklearn/model_selection/_validation.py:536: FitFailedWarning: Estimator fit failed. The score on this train-test partition for these parameters will be set to nan. Details: \n",
            "ValueError: Number of priors must match number of classes.\n",
            "\n",
            "  FitFailedWarning)\n"
          ],
          "name": "stderr"
        },
        {
          "output_type": "stream",
          "text": [
            "[CV]  alpha=0.01, class_prior=[0.3, 0.7], fit_prior=True, score=nan, total=   0.1s\n",
            "[CV] alpha=0.01, class_prior=[0.3, 0.7], fit_prior=True ..............\n",
            "[CV]  alpha=0.01, class_prior=[0.3, 0.7], fit_prior=True, score=nan, total=   0.1s\n",
            "[CV] alpha=0.01, class_prior=[0.3, 0.7], fit_prior=False .............\n",
            "[CV]  alpha=0.01, class_prior=[0.3, 0.7], fit_prior=False, score=nan, total=   0.1s\n",
            "[CV] alpha=0.01, class_prior=[0.3, 0.7], fit_prior=False .............\n"
          ],
          "name": "stdout"
        },
        {
          "output_type": "stream",
          "text": [
            "/usr/local/lib/python3.7/dist-packages/sklearn/model_selection/_validation.py:536: FitFailedWarning: Estimator fit failed. The score on this train-test partition for these parameters will be set to nan. Details: \n",
            "ValueError: Number of priors must match number of classes.\n",
            "\n",
            "  FitFailedWarning)\n",
            "/usr/local/lib/python3.7/dist-packages/sklearn/model_selection/_validation.py:536: FitFailedWarning: Estimator fit failed. The score on this train-test partition for these parameters will be set to nan. Details: \n",
            "ValueError: Number of priors must match number of classes.\n",
            "\n",
            "  FitFailedWarning)\n",
            "/usr/local/lib/python3.7/dist-packages/sklearn/model_selection/_validation.py:536: FitFailedWarning: Estimator fit failed. The score on this train-test partition for these parameters will be set to nan. Details: \n",
            "ValueError: Number of priors must match number of classes.\n",
            "\n",
            "  FitFailedWarning)\n"
          ],
          "name": "stderr"
        },
        {
          "output_type": "stream",
          "text": [
            "[CV]  alpha=0.01, class_prior=[0.3, 0.7], fit_prior=False, score=nan, total=   0.1s\n",
            "[CV] alpha=0.01, class_prior=[0.3, 0.7], fit_prior=False .............\n",
            "[CV]  alpha=0.01, class_prior=[0.3, 0.7], fit_prior=False, score=nan, total=   0.1s\n",
            "[CV] alpha=0.01, class_prior=[0.3, 0.7], fit_prior=False .............\n",
            "[CV]  alpha=0.01, class_prior=[0.3, 0.7], fit_prior=False, score=nan, total=   0.1s\n",
            "[CV] alpha=0.01, class_prior=[0.3, 0.7], fit_prior=False .............\n"
          ],
          "name": "stdout"
        },
        {
          "output_type": "stream",
          "text": [
            "/usr/local/lib/python3.7/dist-packages/sklearn/model_selection/_validation.py:536: FitFailedWarning: Estimator fit failed. The score on this train-test partition for these parameters will be set to nan. Details: \n",
            "ValueError: Number of priors must match number of classes.\n",
            "\n",
            "  FitFailedWarning)\n",
            "/usr/local/lib/python3.7/dist-packages/sklearn/model_selection/_validation.py:536: FitFailedWarning: Estimator fit failed. The score on this train-test partition for these parameters will be set to nan. Details: \n",
            "ValueError: Number of priors must match number of classes.\n",
            "\n",
            "  FitFailedWarning)\n",
            "/usr/local/lib/python3.7/dist-packages/sklearn/model_selection/_validation.py:536: FitFailedWarning: Estimator fit failed. The score on this train-test partition for these parameters will be set to nan. Details: \n",
            "ValueError: Number of priors must match number of classes.\n",
            "\n",
            "  FitFailedWarning)\n"
          ],
          "name": "stderr"
        },
        {
          "output_type": "stream",
          "text": [
            "[CV]  alpha=0.01, class_prior=[0.3, 0.7], fit_prior=False, score=nan, total=   0.1s\n",
            "[CV] alpha=0.01, class_prior=[0.4, 0.6], fit_prior=True ..............\n",
            "[CV]  alpha=0.01, class_prior=[0.4, 0.6], fit_prior=True, score=nan, total=   0.1s\n",
            "[CV] alpha=0.01, class_prior=[0.4, 0.6], fit_prior=True ..............\n",
            "[CV]  alpha=0.01, class_prior=[0.4, 0.6], fit_prior=True, score=nan, total=   0.1s\n",
            "[CV] alpha=0.01, class_prior=[0.4, 0.6], fit_prior=True ..............\n"
          ],
          "name": "stdout"
        },
        {
          "output_type": "stream",
          "text": [
            "/usr/local/lib/python3.7/dist-packages/sklearn/model_selection/_validation.py:536: FitFailedWarning: Estimator fit failed. The score on this train-test partition for these parameters will be set to nan. Details: \n",
            "ValueError: Number of priors must match number of classes.\n",
            "\n",
            "  FitFailedWarning)\n",
            "/usr/local/lib/python3.7/dist-packages/sklearn/model_selection/_validation.py:536: FitFailedWarning: Estimator fit failed. The score on this train-test partition for these parameters will be set to nan. Details: \n",
            "ValueError: Number of priors must match number of classes.\n",
            "\n",
            "  FitFailedWarning)\n",
            "/usr/local/lib/python3.7/dist-packages/sklearn/model_selection/_validation.py:536: FitFailedWarning: Estimator fit failed. The score on this train-test partition for these parameters will be set to nan. Details: \n",
            "ValueError: Number of priors must match number of classes.\n",
            "\n",
            "  FitFailedWarning)\n"
          ],
          "name": "stderr"
        },
        {
          "output_type": "stream",
          "text": [
            "[CV]  alpha=0.01, class_prior=[0.4, 0.6], fit_prior=True, score=nan, total=   0.1s\n",
            "[CV] alpha=0.01, class_prior=[0.4, 0.6], fit_prior=True ..............\n",
            "[CV]  alpha=0.01, class_prior=[0.4, 0.6], fit_prior=True, score=nan, total=   0.1s\n",
            "[CV] alpha=0.01, class_prior=[0.4, 0.6], fit_prior=True ..............\n",
            "[CV]  alpha=0.01, class_prior=[0.4, 0.6], fit_prior=True, score=nan, total=   0.1s\n",
            "[CV] alpha=0.01, class_prior=[0.4, 0.6], fit_prior=False .............\n"
          ],
          "name": "stdout"
        },
        {
          "output_type": "stream",
          "text": [
            "/usr/local/lib/python3.7/dist-packages/sklearn/model_selection/_validation.py:536: FitFailedWarning: Estimator fit failed. The score on this train-test partition for these parameters will be set to nan. Details: \n",
            "ValueError: Number of priors must match number of classes.\n",
            "\n",
            "  FitFailedWarning)\n",
            "/usr/local/lib/python3.7/dist-packages/sklearn/model_selection/_validation.py:536: FitFailedWarning: Estimator fit failed. The score on this train-test partition for these parameters will be set to nan. Details: \n",
            "ValueError: Number of priors must match number of classes.\n",
            "\n",
            "  FitFailedWarning)\n",
            "/usr/local/lib/python3.7/dist-packages/sklearn/model_selection/_validation.py:536: FitFailedWarning: Estimator fit failed. The score on this train-test partition for these parameters will be set to nan. Details: \n",
            "ValueError: Number of priors must match number of classes.\n",
            "\n",
            "  FitFailedWarning)\n"
          ],
          "name": "stderr"
        },
        {
          "output_type": "stream",
          "text": [
            "[CV]  alpha=0.01, class_prior=[0.4, 0.6], fit_prior=False, score=nan, total=   0.1s\n",
            "[CV] alpha=0.01, class_prior=[0.4, 0.6], fit_prior=False .............\n",
            "[CV]  alpha=0.01, class_prior=[0.4, 0.6], fit_prior=False, score=nan, total=   0.1s\n",
            "[CV] alpha=0.01, class_prior=[0.4, 0.6], fit_prior=False .............\n",
            "[CV]  alpha=0.01, class_prior=[0.4, 0.6], fit_prior=False, score=nan, total=   0.1s\n",
            "[CV] alpha=0.01, class_prior=[0.4, 0.6], fit_prior=False .............\n"
          ],
          "name": "stdout"
        },
        {
          "output_type": "stream",
          "text": [
            "/usr/local/lib/python3.7/dist-packages/sklearn/model_selection/_validation.py:536: FitFailedWarning: Estimator fit failed. The score on this train-test partition for these parameters will be set to nan. Details: \n",
            "ValueError: Number of priors must match number of classes.\n",
            "\n",
            "  FitFailedWarning)\n",
            "/usr/local/lib/python3.7/dist-packages/sklearn/model_selection/_validation.py:536: FitFailedWarning: Estimator fit failed. The score on this train-test partition for these parameters will be set to nan. Details: \n",
            "ValueError: Number of priors must match number of classes.\n",
            "\n",
            "  FitFailedWarning)\n",
            "/usr/local/lib/python3.7/dist-packages/sklearn/model_selection/_validation.py:536: FitFailedWarning: Estimator fit failed. The score on this train-test partition for these parameters will be set to nan. Details: \n",
            "ValueError: Number of priors must match number of classes.\n",
            "\n",
            "  FitFailedWarning)\n"
          ],
          "name": "stderr"
        },
        {
          "output_type": "stream",
          "text": [
            "[CV]  alpha=0.01, class_prior=[0.4, 0.6], fit_prior=False, score=nan, total=   0.1s\n",
            "[CV] alpha=0.01, class_prior=[0.4, 0.6], fit_prior=False .............\n",
            "[CV]  alpha=0.01, class_prior=[0.4, 0.6], fit_prior=False, score=nan, total=   0.1s\n",
            "[CV] alpha=0.1, class_prior=None, fit_prior=True .....................\n",
            "[CV]  alpha=0.1, class_prior=None, fit_prior=True, score=0.787, total=   0.1s\n",
            "[CV] alpha=0.1, class_prior=None, fit_prior=True .....................\n"
          ],
          "name": "stdout"
        },
        {
          "output_type": "stream",
          "text": [
            "/usr/local/lib/python3.7/dist-packages/sklearn/model_selection/_validation.py:536: FitFailedWarning: Estimator fit failed. The score on this train-test partition for these parameters will be set to nan. Details: \n",
            "ValueError: Number of priors must match number of classes.\n",
            "\n",
            "  FitFailedWarning)\n"
          ],
          "name": "stderr"
        },
        {
          "output_type": "stream",
          "text": [
            "[CV]  alpha=0.1, class_prior=None, fit_prior=True, score=0.793, total=   0.1s\n",
            "[CV] alpha=0.1, class_prior=None, fit_prior=True .....................\n",
            "[CV]  alpha=0.1, class_prior=None, fit_prior=True, score=0.789, total=   0.1s\n",
            "[CV] alpha=0.1, class_prior=None, fit_prior=True .....................\n",
            "[CV]  alpha=0.1, class_prior=None, fit_prior=True, score=0.781, total=   0.1s\n",
            "[CV] alpha=0.1, class_prior=None, fit_prior=True .....................\n",
            "[CV]  alpha=0.1, class_prior=None, fit_prior=True, score=0.768, total=   0.1s\n",
            "[CV] alpha=0.1, class_prior=None, fit_prior=False ....................\n",
            "[CV]  alpha=0.1, class_prior=None, fit_prior=False, score=0.664, total=   0.1s\n",
            "[CV] alpha=0.1, class_prior=None, fit_prior=False ....................\n",
            "[CV]  alpha=0.1, class_prior=None, fit_prior=False, score=0.662, total=   0.1s\n",
            "[CV] alpha=0.1, class_prior=None, fit_prior=False ....................\n",
            "[CV]  alpha=0.1, class_prior=None, fit_prior=False, score=0.664, total=   0.1s\n",
            "[CV] alpha=0.1, class_prior=None, fit_prior=False ....................\n",
            "[CV]  alpha=0.1, class_prior=None, fit_prior=False, score=0.671, total=   0.1s\n",
            "[CV] alpha=0.1, class_prior=None, fit_prior=False ....................\n",
            "[CV]  alpha=0.1, class_prior=None, fit_prior=False, score=0.743, total=   0.1s\n",
            "[CV] alpha=0.1, class_prior=[0.1, 0.9], fit_prior=True ...............\n"
          ],
          "name": "stdout"
        },
        {
          "output_type": "stream",
          "text": [
            "/usr/local/lib/python3.7/dist-packages/sklearn/model_selection/_validation.py:536: FitFailedWarning: Estimator fit failed. The score on this train-test partition for these parameters will be set to nan. Details: \n",
            "ValueError: Number of priors must match number of classes.\n",
            "\n",
            "  FitFailedWarning)\n",
            "/usr/local/lib/python3.7/dist-packages/sklearn/model_selection/_validation.py:536: FitFailedWarning: Estimator fit failed. The score on this train-test partition for these parameters will be set to nan. Details: \n",
            "ValueError: Number of priors must match number of classes.\n",
            "\n",
            "  FitFailedWarning)\n",
            "/usr/local/lib/python3.7/dist-packages/sklearn/model_selection/_validation.py:536: FitFailedWarning: Estimator fit failed. The score on this train-test partition for these parameters will be set to nan. Details: \n",
            "ValueError: Number of priors must match number of classes.\n",
            "\n",
            "  FitFailedWarning)\n"
          ],
          "name": "stderr"
        },
        {
          "output_type": "stream",
          "text": [
            "[CV]  alpha=0.1, class_prior=[0.1, 0.9], fit_prior=True, score=nan, total=   0.1s\n",
            "[CV] alpha=0.1, class_prior=[0.1, 0.9], fit_prior=True ...............\n",
            "[CV]  alpha=0.1, class_prior=[0.1, 0.9], fit_prior=True, score=nan, total=   0.1s\n",
            "[CV] alpha=0.1, class_prior=[0.1, 0.9], fit_prior=True ...............\n",
            "[CV]  alpha=0.1, class_prior=[0.1, 0.9], fit_prior=True, score=nan, total=   0.1s\n",
            "[CV] alpha=0.1, class_prior=[0.1, 0.9], fit_prior=True ...............\n"
          ],
          "name": "stdout"
        },
        {
          "output_type": "stream",
          "text": [
            "/usr/local/lib/python3.7/dist-packages/sklearn/model_selection/_validation.py:536: FitFailedWarning: Estimator fit failed. The score on this train-test partition for these parameters will be set to nan. Details: \n",
            "ValueError: Number of priors must match number of classes.\n",
            "\n",
            "  FitFailedWarning)\n",
            "/usr/local/lib/python3.7/dist-packages/sklearn/model_selection/_validation.py:536: FitFailedWarning: Estimator fit failed. The score on this train-test partition for these parameters will be set to nan. Details: \n",
            "ValueError: Number of priors must match number of classes.\n",
            "\n",
            "  FitFailedWarning)\n",
            "/usr/local/lib/python3.7/dist-packages/sklearn/model_selection/_validation.py:536: FitFailedWarning: Estimator fit failed. The score on this train-test partition for these parameters will be set to nan. Details: \n",
            "ValueError: Number of priors must match number of classes.\n",
            "\n",
            "  FitFailedWarning)\n"
          ],
          "name": "stderr"
        },
        {
          "output_type": "stream",
          "text": [
            "[CV]  alpha=0.1, class_prior=[0.1, 0.9], fit_prior=True, score=nan, total=   0.1s\n",
            "[CV] alpha=0.1, class_prior=[0.1, 0.9], fit_prior=True ...............\n",
            "[CV]  alpha=0.1, class_prior=[0.1, 0.9], fit_prior=True, score=nan, total=   0.1s\n",
            "[CV] alpha=0.1, class_prior=[0.1, 0.9], fit_prior=False ..............\n",
            "[CV]  alpha=0.1, class_prior=[0.1, 0.9], fit_prior=False, score=nan, total=   0.1s\n",
            "[CV] alpha=0.1, class_prior=[0.1, 0.9], fit_prior=False ..............\n"
          ],
          "name": "stdout"
        },
        {
          "output_type": "stream",
          "text": [
            "/usr/local/lib/python3.7/dist-packages/sklearn/model_selection/_validation.py:536: FitFailedWarning: Estimator fit failed. The score on this train-test partition for these parameters will be set to nan. Details: \n",
            "ValueError: Number of priors must match number of classes.\n",
            "\n",
            "  FitFailedWarning)\n",
            "/usr/local/lib/python3.7/dist-packages/sklearn/model_selection/_validation.py:536: FitFailedWarning: Estimator fit failed. The score on this train-test partition for these parameters will be set to nan. Details: \n",
            "ValueError: Number of priors must match number of classes.\n",
            "\n",
            "  FitFailedWarning)\n",
            "/usr/local/lib/python3.7/dist-packages/sklearn/model_selection/_validation.py:536: FitFailedWarning: Estimator fit failed. The score on this train-test partition for these parameters will be set to nan. Details: \n",
            "ValueError: Number of priors must match number of classes.\n",
            "\n",
            "  FitFailedWarning)\n"
          ],
          "name": "stderr"
        },
        {
          "output_type": "stream",
          "text": [
            "[CV]  alpha=0.1, class_prior=[0.1, 0.9], fit_prior=False, score=nan, total=   0.1s\n",
            "[CV] alpha=0.1, class_prior=[0.1, 0.9], fit_prior=False ..............\n",
            "[CV]  alpha=0.1, class_prior=[0.1, 0.9], fit_prior=False, score=nan, total=   0.1s\n",
            "[CV] alpha=0.1, class_prior=[0.1, 0.9], fit_prior=False ..............\n",
            "[CV]  alpha=0.1, class_prior=[0.1, 0.9], fit_prior=False, score=nan, total=   0.1s\n",
            "[CV] alpha=0.1, class_prior=[0.1, 0.9], fit_prior=False ..............\n"
          ],
          "name": "stdout"
        },
        {
          "output_type": "stream",
          "text": [
            "/usr/local/lib/python3.7/dist-packages/sklearn/model_selection/_validation.py:536: FitFailedWarning: Estimator fit failed. The score on this train-test partition for these parameters will be set to nan. Details: \n",
            "ValueError: Number of priors must match number of classes.\n",
            "\n",
            "  FitFailedWarning)\n",
            "/usr/local/lib/python3.7/dist-packages/sklearn/model_selection/_validation.py:536: FitFailedWarning: Estimator fit failed. The score on this train-test partition for these parameters will be set to nan. Details: \n",
            "ValueError: Number of priors must match number of classes.\n",
            "\n",
            "  FitFailedWarning)\n",
            "/usr/local/lib/python3.7/dist-packages/sklearn/model_selection/_validation.py:536: FitFailedWarning: Estimator fit failed. The score on this train-test partition for these parameters will be set to nan. Details: \n",
            "ValueError: Number of priors must match number of classes.\n",
            "\n",
            "  FitFailedWarning)\n"
          ],
          "name": "stderr"
        },
        {
          "output_type": "stream",
          "text": [
            "[CV]  alpha=0.1, class_prior=[0.1, 0.9], fit_prior=False, score=nan, total=   0.1s\n",
            "[CV] alpha=0.1, class_prior=[0.2, 0.8], fit_prior=True ...............\n",
            "[CV]  alpha=0.1, class_prior=[0.2, 0.8], fit_prior=True, score=nan, total=   0.1s\n",
            "[CV] alpha=0.1, class_prior=[0.2, 0.8], fit_prior=True ...............\n",
            "[CV]  alpha=0.1, class_prior=[0.2, 0.8], fit_prior=True, score=nan, total=   0.1s\n",
            "[CV] alpha=0.1, class_prior=[0.2, 0.8], fit_prior=True ...............\n"
          ],
          "name": "stdout"
        },
        {
          "output_type": "stream",
          "text": [
            "/usr/local/lib/python3.7/dist-packages/sklearn/model_selection/_validation.py:536: FitFailedWarning: Estimator fit failed. The score on this train-test partition for these parameters will be set to nan. Details: \n",
            "ValueError: Number of priors must match number of classes.\n",
            "\n",
            "  FitFailedWarning)\n",
            "/usr/local/lib/python3.7/dist-packages/sklearn/model_selection/_validation.py:536: FitFailedWarning: Estimator fit failed. The score on this train-test partition for these parameters will be set to nan. Details: \n",
            "ValueError: Number of priors must match number of classes.\n",
            "\n",
            "  FitFailedWarning)\n",
            "/usr/local/lib/python3.7/dist-packages/sklearn/model_selection/_validation.py:536: FitFailedWarning: Estimator fit failed. The score on this train-test partition for these parameters will be set to nan. Details: \n",
            "ValueError: Number of priors must match number of classes.\n",
            "\n",
            "  FitFailedWarning)\n"
          ],
          "name": "stderr"
        },
        {
          "output_type": "stream",
          "text": [
            "[CV]  alpha=0.1, class_prior=[0.2, 0.8], fit_prior=True, score=nan, total=   0.1s\n",
            "[CV] alpha=0.1, class_prior=[0.2, 0.8], fit_prior=True ...............\n",
            "[CV]  alpha=0.1, class_prior=[0.2, 0.8], fit_prior=True, score=nan, total=   0.1s\n",
            "[CV] alpha=0.1, class_prior=[0.2, 0.8], fit_prior=True ...............\n",
            "[CV]  alpha=0.1, class_prior=[0.2, 0.8], fit_prior=True, score=nan, total=   0.1s\n",
            "[CV] alpha=0.1, class_prior=[0.2, 0.8], fit_prior=False ..............\n"
          ],
          "name": "stdout"
        },
        {
          "output_type": "stream",
          "text": [
            "/usr/local/lib/python3.7/dist-packages/sklearn/model_selection/_validation.py:536: FitFailedWarning: Estimator fit failed. The score on this train-test partition for these parameters will be set to nan. Details: \n",
            "ValueError: Number of priors must match number of classes.\n",
            "\n",
            "  FitFailedWarning)\n",
            "/usr/local/lib/python3.7/dist-packages/sklearn/model_selection/_validation.py:536: FitFailedWarning: Estimator fit failed. The score on this train-test partition for these parameters will be set to nan. Details: \n",
            "ValueError: Number of priors must match number of classes.\n",
            "\n",
            "  FitFailedWarning)\n",
            "/usr/local/lib/python3.7/dist-packages/sklearn/model_selection/_validation.py:536: FitFailedWarning: Estimator fit failed. The score on this train-test partition for these parameters will be set to nan. Details: \n",
            "ValueError: Number of priors must match number of classes.\n",
            "\n",
            "  FitFailedWarning)\n"
          ],
          "name": "stderr"
        },
        {
          "output_type": "stream",
          "text": [
            "[CV]  alpha=0.1, class_prior=[0.2, 0.8], fit_prior=False, score=nan, total=   0.1s\n",
            "[CV] alpha=0.1, class_prior=[0.2, 0.8], fit_prior=False ..............\n",
            "[CV]  alpha=0.1, class_prior=[0.2, 0.8], fit_prior=False, score=nan, total=   0.1s\n",
            "[CV] alpha=0.1, class_prior=[0.2, 0.8], fit_prior=False ..............\n",
            "[CV]  alpha=0.1, class_prior=[0.2, 0.8], fit_prior=False, score=nan, total=   0.1s\n",
            "[CV] alpha=0.1, class_prior=[0.2, 0.8], fit_prior=False ..............\n"
          ],
          "name": "stdout"
        },
        {
          "output_type": "stream",
          "text": [
            "/usr/local/lib/python3.7/dist-packages/sklearn/model_selection/_validation.py:536: FitFailedWarning: Estimator fit failed. The score on this train-test partition for these parameters will be set to nan. Details: \n",
            "ValueError: Number of priors must match number of classes.\n",
            "\n",
            "  FitFailedWarning)\n",
            "/usr/local/lib/python3.7/dist-packages/sklearn/model_selection/_validation.py:536: FitFailedWarning: Estimator fit failed. The score on this train-test partition for these parameters will be set to nan. Details: \n",
            "ValueError: Number of priors must match number of classes.\n",
            "\n",
            "  FitFailedWarning)\n",
            "/usr/local/lib/python3.7/dist-packages/sklearn/model_selection/_validation.py:536: FitFailedWarning: Estimator fit failed. The score on this train-test partition for these parameters will be set to nan. Details: \n",
            "ValueError: Number of priors must match number of classes.\n",
            "\n",
            "  FitFailedWarning)\n"
          ],
          "name": "stderr"
        },
        {
          "output_type": "stream",
          "text": [
            "[CV]  alpha=0.1, class_prior=[0.2, 0.8], fit_prior=False, score=nan, total=   0.1s\n",
            "[CV] alpha=0.1, class_prior=[0.2, 0.8], fit_prior=False ..............\n",
            "[CV]  alpha=0.1, class_prior=[0.2, 0.8], fit_prior=False, score=nan, total=   0.1s\n",
            "[CV] alpha=0.1, class_prior=[0.3, 0.7], fit_prior=True ...............\n",
            "[CV]  alpha=0.1, class_prior=[0.3, 0.7], fit_prior=True, score=nan, total=   0.1s\n",
            "[CV] alpha=0.1, class_prior=[0.3, 0.7], fit_prior=True ...............\n"
          ],
          "name": "stdout"
        },
        {
          "output_type": "stream",
          "text": [
            "/usr/local/lib/python3.7/dist-packages/sklearn/model_selection/_validation.py:536: FitFailedWarning: Estimator fit failed. The score on this train-test partition for these parameters will be set to nan. Details: \n",
            "ValueError: Number of priors must match number of classes.\n",
            "\n",
            "  FitFailedWarning)\n",
            "/usr/local/lib/python3.7/dist-packages/sklearn/model_selection/_validation.py:536: FitFailedWarning: Estimator fit failed. The score on this train-test partition for these parameters will be set to nan. Details: \n",
            "ValueError: Number of priors must match number of classes.\n",
            "\n",
            "  FitFailedWarning)\n",
            "/usr/local/lib/python3.7/dist-packages/sklearn/model_selection/_validation.py:536: FitFailedWarning: Estimator fit failed. The score on this train-test partition for these parameters will be set to nan. Details: \n",
            "ValueError: Number of priors must match number of classes.\n",
            "\n",
            "  FitFailedWarning)\n"
          ],
          "name": "stderr"
        },
        {
          "output_type": "stream",
          "text": [
            "[CV]  alpha=0.1, class_prior=[0.3, 0.7], fit_prior=True, score=nan, total=   0.1s\n",
            "[CV] alpha=0.1, class_prior=[0.3, 0.7], fit_prior=True ...............\n",
            "[CV]  alpha=0.1, class_prior=[0.3, 0.7], fit_prior=True, score=nan, total=   0.1s\n",
            "[CV] alpha=0.1, class_prior=[0.3, 0.7], fit_prior=True ...............\n",
            "[CV]  alpha=0.1, class_prior=[0.3, 0.7], fit_prior=True, score=nan, total=   0.1s\n",
            "[CV] alpha=0.1, class_prior=[0.3, 0.7], fit_prior=True ...............\n"
          ],
          "name": "stdout"
        },
        {
          "output_type": "stream",
          "text": [
            "/usr/local/lib/python3.7/dist-packages/sklearn/model_selection/_validation.py:536: FitFailedWarning: Estimator fit failed. The score on this train-test partition for these parameters will be set to nan. Details: \n",
            "ValueError: Number of priors must match number of classes.\n",
            "\n",
            "  FitFailedWarning)\n",
            "/usr/local/lib/python3.7/dist-packages/sklearn/model_selection/_validation.py:536: FitFailedWarning: Estimator fit failed. The score on this train-test partition for these parameters will be set to nan. Details: \n",
            "ValueError: Number of priors must match number of classes.\n",
            "\n",
            "  FitFailedWarning)\n",
            "/usr/local/lib/python3.7/dist-packages/sklearn/model_selection/_validation.py:536: FitFailedWarning: Estimator fit failed. The score on this train-test partition for these parameters will be set to nan. Details: \n",
            "ValueError: Number of priors must match number of classes.\n",
            "\n",
            "  FitFailedWarning)\n"
          ],
          "name": "stderr"
        },
        {
          "output_type": "stream",
          "text": [
            "[CV]  alpha=0.1, class_prior=[0.3, 0.7], fit_prior=True, score=nan, total=   0.1s\n",
            "[CV] alpha=0.1, class_prior=[0.3, 0.7], fit_prior=False ..............\n",
            "[CV]  alpha=0.1, class_prior=[0.3, 0.7], fit_prior=False, score=nan, total=   0.1s\n",
            "[CV] alpha=0.1, class_prior=[0.3, 0.7], fit_prior=False ..............\n",
            "[CV]  alpha=0.1, class_prior=[0.3, 0.7], fit_prior=False, score=nan, total=   0.1s\n",
            "[CV] alpha=0.1, class_prior=[0.3, 0.7], fit_prior=False ..............\n"
          ],
          "name": "stdout"
        },
        {
          "output_type": "stream",
          "text": [
            "/usr/local/lib/python3.7/dist-packages/sklearn/model_selection/_validation.py:536: FitFailedWarning: Estimator fit failed. The score on this train-test partition for these parameters will be set to nan. Details: \n",
            "ValueError: Number of priors must match number of classes.\n",
            "\n",
            "  FitFailedWarning)\n",
            "/usr/local/lib/python3.7/dist-packages/sklearn/model_selection/_validation.py:536: FitFailedWarning: Estimator fit failed. The score on this train-test partition for these parameters will be set to nan. Details: \n",
            "ValueError: Number of priors must match number of classes.\n",
            "\n",
            "  FitFailedWarning)\n",
            "/usr/local/lib/python3.7/dist-packages/sklearn/model_selection/_validation.py:536: FitFailedWarning: Estimator fit failed. The score on this train-test partition for these parameters will be set to nan. Details: \n",
            "ValueError: Number of priors must match number of classes.\n",
            "\n",
            "  FitFailedWarning)\n"
          ],
          "name": "stderr"
        },
        {
          "output_type": "stream",
          "text": [
            "[CV]  alpha=0.1, class_prior=[0.3, 0.7], fit_prior=False, score=nan, total=   0.1s\n",
            "[CV] alpha=0.1, class_prior=[0.3, 0.7], fit_prior=False ..............\n",
            "[CV]  alpha=0.1, class_prior=[0.3, 0.7], fit_prior=False, score=nan, total=   0.1s\n",
            "[CV] alpha=0.1, class_prior=[0.3, 0.7], fit_prior=False ..............\n",
            "[CV]  alpha=0.1, class_prior=[0.3, 0.7], fit_prior=False, score=nan, total=   0.1s\n",
            "[CV] alpha=0.1, class_prior=[0.4, 0.6], fit_prior=True ...............\n"
          ],
          "name": "stdout"
        },
        {
          "output_type": "stream",
          "text": [
            "/usr/local/lib/python3.7/dist-packages/sklearn/model_selection/_validation.py:536: FitFailedWarning: Estimator fit failed. The score on this train-test partition for these parameters will be set to nan. Details: \n",
            "ValueError: Number of priors must match number of classes.\n",
            "\n",
            "  FitFailedWarning)\n",
            "/usr/local/lib/python3.7/dist-packages/sklearn/model_selection/_validation.py:536: FitFailedWarning: Estimator fit failed. The score on this train-test partition for these parameters will be set to nan. Details: \n",
            "ValueError: Number of priors must match number of classes.\n",
            "\n",
            "  FitFailedWarning)\n",
            "/usr/local/lib/python3.7/dist-packages/sklearn/model_selection/_validation.py:536: FitFailedWarning: Estimator fit failed. The score on this train-test partition for these parameters will be set to nan. Details: \n",
            "ValueError: Number of priors must match number of classes.\n",
            "\n",
            "  FitFailedWarning)\n"
          ],
          "name": "stderr"
        },
        {
          "output_type": "stream",
          "text": [
            "[CV]  alpha=0.1, class_prior=[0.4, 0.6], fit_prior=True, score=nan, total=   0.1s\n",
            "[CV] alpha=0.1, class_prior=[0.4, 0.6], fit_prior=True ...............\n",
            "[CV]  alpha=0.1, class_prior=[0.4, 0.6], fit_prior=True, score=nan, total=   0.1s\n",
            "[CV] alpha=0.1, class_prior=[0.4, 0.6], fit_prior=True ...............\n",
            "[CV]  alpha=0.1, class_prior=[0.4, 0.6], fit_prior=True, score=nan, total=   0.1s\n",
            "[CV] alpha=0.1, class_prior=[0.4, 0.6], fit_prior=True ...............\n"
          ],
          "name": "stdout"
        },
        {
          "output_type": "stream",
          "text": [
            "/usr/local/lib/python3.7/dist-packages/sklearn/model_selection/_validation.py:536: FitFailedWarning: Estimator fit failed. The score on this train-test partition for these parameters will be set to nan. Details: \n",
            "ValueError: Number of priors must match number of classes.\n",
            "\n",
            "  FitFailedWarning)\n",
            "/usr/local/lib/python3.7/dist-packages/sklearn/model_selection/_validation.py:536: FitFailedWarning: Estimator fit failed. The score on this train-test partition for these parameters will be set to nan. Details: \n",
            "ValueError: Number of priors must match number of classes.\n",
            "\n",
            "  FitFailedWarning)\n",
            "/usr/local/lib/python3.7/dist-packages/sklearn/model_selection/_validation.py:536: FitFailedWarning: Estimator fit failed. The score on this train-test partition for these parameters will be set to nan. Details: \n",
            "ValueError: Number of priors must match number of classes.\n",
            "\n",
            "  FitFailedWarning)\n"
          ],
          "name": "stderr"
        },
        {
          "output_type": "stream",
          "text": [
            "[CV]  alpha=0.1, class_prior=[0.4, 0.6], fit_prior=True, score=nan, total=   0.1s\n",
            "[CV] alpha=0.1, class_prior=[0.4, 0.6], fit_prior=True ...............\n",
            "[CV]  alpha=0.1, class_prior=[0.4, 0.6], fit_prior=True, score=nan, total=   0.1s\n",
            "[CV] alpha=0.1, class_prior=[0.4, 0.6], fit_prior=False ..............\n",
            "[CV]  alpha=0.1, class_prior=[0.4, 0.6], fit_prior=False, score=nan, total=   0.1s\n",
            "[CV] alpha=0.1, class_prior=[0.4, 0.6], fit_prior=False ..............\n"
          ],
          "name": "stdout"
        },
        {
          "output_type": "stream",
          "text": [
            "/usr/local/lib/python3.7/dist-packages/sklearn/model_selection/_validation.py:536: FitFailedWarning: Estimator fit failed. The score on this train-test partition for these parameters will be set to nan. Details: \n",
            "ValueError: Number of priors must match number of classes.\n",
            "\n",
            "  FitFailedWarning)\n",
            "/usr/local/lib/python3.7/dist-packages/sklearn/model_selection/_validation.py:536: FitFailedWarning: Estimator fit failed. The score on this train-test partition for these parameters will be set to nan. Details: \n",
            "ValueError: Number of priors must match number of classes.\n",
            "\n",
            "  FitFailedWarning)\n",
            "/usr/local/lib/python3.7/dist-packages/sklearn/model_selection/_validation.py:536: FitFailedWarning: Estimator fit failed. The score on this train-test partition for these parameters will be set to nan. Details: \n",
            "ValueError: Number of priors must match number of classes.\n",
            "\n",
            "  FitFailedWarning)\n"
          ],
          "name": "stderr"
        },
        {
          "output_type": "stream",
          "text": [
            "[CV]  alpha=0.1, class_prior=[0.4, 0.6], fit_prior=False, score=nan, total=   0.1s\n",
            "[CV] alpha=0.1, class_prior=[0.4, 0.6], fit_prior=False ..............\n",
            "[CV]  alpha=0.1, class_prior=[0.4, 0.6], fit_prior=False, score=nan, total=   0.1s\n",
            "[CV] alpha=0.1, class_prior=[0.4, 0.6], fit_prior=False ..............\n",
            "[CV]  alpha=0.1, class_prior=[0.4, 0.6], fit_prior=False, score=nan, total=   0.1s\n",
            "[CV] alpha=0.1, class_prior=[0.4, 0.6], fit_prior=False ..............\n"
          ],
          "name": "stdout"
        },
        {
          "output_type": "stream",
          "text": [
            "/usr/local/lib/python3.7/dist-packages/sklearn/model_selection/_validation.py:536: FitFailedWarning: Estimator fit failed. The score on this train-test partition for these parameters will be set to nan. Details: \n",
            "ValueError: Number of priors must match number of classes.\n",
            "\n",
            "  FitFailedWarning)\n"
          ],
          "name": "stderr"
        },
        {
          "output_type": "stream",
          "text": [
            "[CV]  alpha=0.1, class_prior=[0.4, 0.6], fit_prior=False, score=nan, total=   0.1s\n",
            "[CV] alpha=1.0, class_prior=None, fit_prior=True .....................\n",
            "[CV]  alpha=1.0, class_prior=None, fit_prior=True, score=0.614, total=   0.1s\n",
            "[CV] alpha=1.0, class_prior=None, fit_prior=True .....................\n",
            "[CV]  alpha=1.0, class_prior=None, fit_prior=True, score=0.616, total=   0.1s\n",
            "[CV] alpha=1.0, class_prior=None, fit_prior=True .....................\n",
            "[CV]  alpha=1.0, class_prior=None, fit_prior=True, score=0.610, total=   0.1s\n",
            "[CV] alpha=1.0, class_prior=None, fit_prior=True .....................\n",
            "[CV]  alpha=1.0, class_prior=None, fit_prior=True, score=0.617, total=   0.1s\n",
            "[CV] alpha=1.0, class_prior=None, fit_prior=True .....................\n",
            "[CV]  alpha=1.0, class_prior=None, fit_prior=True, score=0.637, total=   0.1s\n",
            "[CV] alpha=1.0, class_prior=None, fit_prior=False ....................\n",
            "[CV]  alpha=1.0, class_prior=None, fit_prior=False, score=0.817, total=   0.1s\n",
            "[CV] alpha=1.0, class_prior=None, fit_prior=False ....................\n",
            "[CV]  alpha=1.0, class_prior=None, fit_prior=False, score=0.806, total=   0.1s\n",
            "[CV] alpha=1.0, class_prior=None, fit_prior=False ....................\n",
            "[CV]  alpha=1.0, class_prior=None, fit_prior=False, score=0.809, total=   0.1s\n",
            "[CV] alpha=1.0, class_prior=None, fit_prior=False ....................\n",
            "[CV]  alpha=1.0, class_prior=None, fit_prior=False, score=0.811, total=   0.1s\n",
            "[CV] alpha=1.0, class_prior=None, fit_prior=False ....................\n",
            "[CV]  alpha=1.0, class_prior=None, fit_prior=False, score=0.785, total=   0.1s\n",
            "[CV] alpha=1.0, class_prior=[0.1, 0.9], fit_prior=True ...............\n",
            "[CV]  alpha=1.0, class_prior=[0.1, 0.9], fit_prior=True, score=nan, total=   0.1s\n",
            "[CV] alpha=1.0, class_prior=[0.1, 0.9], fit_prior=True ...............\n",
            "[CV]  alpha=1.0, class_prior=[0.1, 0.9], fit_prior=True, score=nan, total=   0.1s\n",
            "[CV] alpha=1.0, class_prior=[0.1, 0.9], fit_prior=True ...............\n",
            "[CV]  alpha=1.0, class_prior=[0.1, 0.9], fit_prior=True, score=nan, total=   0.1s\n",
            "[CV] alpha=1.0, class_prior=[0.1, 0.9], fit_prior=True ...............\n"
          ],
          "name": "stdout"
        },
        {
          "output_type": "stream",
          "text": [
            "/usr/local/lib/python3.7/dist-packages/sklearn/model_selection/_validation.py:536: FitFailedWarning: Estimator fit failed. The score on this train-test partition for these parameters will be set to nan. Details: \n",
            "ValueError: Number of priors must match number of classes.\n",
            "\n",
            "  FitFailedWarning)\n",
            "/usr/local/lib/python3.7/dist-packages/sklearn/model_selection/_validation.py:536: FitFailedWarning: Estimator fit failed. The score on this train-test partition for these parameters will be set to nan. Details: \n",
            "ValueError: Number of priors must match number of classes.\n",
            "\n",
            "  FitFailedWarning)\n",
            "/usr/local/lib/python3.7/dist-packages/sklearn/model_selection/_validation.py:536: FitFailedWarning: Estimator fit failed. The score on this train-test partition for these parameters will be set to nan. Details: \n",
            "ValueError: Number of priors must match number of classes.\n",
            "\n",
            "  FitFailedWarning)\n",
            "/usr/local/lib/python3.7/dist-packages/sklearn/model_selection/_validation.py:536: FitFailedWarning: Estimator fit failed. The score on this train-test partition for these parameters will be set to nan. Details: \n",
            "ValueError: Number of priors must match number of classes.\n",
            "\n",
            "  FitFailedWarning)\n"
          ],
          "name": "stderr"
        },
        {
          "output_type": "stream",
          "text": [
            "[CV]  alpha=1.0, class_prior=[0.1, 0.9], fit_prior=True, score=nan, total=   0.1s\n",
            "[CV] alpha=1.0, class_prior=[0.1, 0.9], fit_prior=True ...............\n",
            "[CV]  alpha=1.0, class_prior=[0.1, 0.9], fit_prior=True, score=nan, total=   0.1s\n",
            "[CV] alpha=1.0, class_prior=[0.1, 0.9], fit_prior=False ..............\n",
            "[CV]  alpha=1.0, class_prior=[0.1, 0.9], fit_prior=False, score=nan, total=   0.1s\n",
            "[CV] alpha=1.0, class_prior=[0.1, 0.9], fit_prior=False ..............\n",
            "[CV]  alpha=1.0, class_prior=[0.1, 0.9], fit_prior=False, score=nan, total=   0.1s\n",
            "[CV] alpha=1.0, class_prior=[0.1, 0.9], fit_prior=False ..............\n"
          ],
          "name": "stdout"
        },
        {
          "output_type": "stream",
          "text": [
            "/usr/local/lib/python3.7/dist-packages/sklearn/model_selection/_validation.py:536: FitFailedWarning: Estimator fit failed. The score on this train-test partition for these parameters will be set to nan. Details: \n",
            "ValueError: Number of priors must match number of classes.\n",
            "\n",
            "  FitFailedWarning)\n",
            "/usr/local/lib/python3.7/dist-packages/sklearn/model_selection/_validation.py:536: FitFailedWarning: Estimator fit failed. The score on this train-test partition for these parameters will be set to nan. Details: \n",
            "ValueError: Number of priors must match number of classes.\n",
            "\n",
            "  FitFailedWarning)\n",
            "/usr/local/lib/python3.7/dist-packages/sklearn/model_selection/_validation.py:536: FitFailedWarning: Estimator fit failed. The score on this train-test partition for these parameters will be set to nan. Details: \n",
            "ValueError: Number of priors must match number of classes.\n",
            "\n",
            "  FitFailedWarning)\n",
            "/usr/local/lib/python3.7/dist-packages/sklearn/model_selection/_validation.py:536: FitFailedWarning: Estimator fit failed. The score on this train-test partition for these parameters will be set to nan. Details: \n",
            "ValueError: Number of priors must match number of classes.\n",
            "\n",
            "  FitFailedWarning)\n"
          ],
          "name": "stderr"
        },
        {
          "output_type": "stream",
          "text": [
            "[CV]  alpha=1.0, class_prior=[0.1, 0.9], fit_prior=False, score=nan, total=   0.1s\n",
            "[CV] alpha=1.0, class_prior=[0.1, 0.9], fit_prior=False ..............\n",
            "[CV]  alpha=1.0, class_prior=[0.1, 0.9], fit_prior=False, score=nan, total=   0.1s\n",
            "[CV] alpha=1.0, class_prior=[0.1, 0.9], fit_prior=False ..............\n",
            "[CV]  alpha=1.0, class_prior=[0.1, 0.9], fit_prior=False, score=nan, total=   0.1s\n",
            "[CV] alpha=1.0, class_prior=[0.2, 0.8], fit_prior=True ...............\n",
            "[CV]  alpha=1.0, class_prior=[0.2, 0.8], fit_prior=True, score=nan, total=   0.1s\n",
            "[CV] alpha=1.0, class_prior=[0.2, 0.8], fit_prior=True ...............\n"
          ],
          "name": "stdout"
        },
        {
          "output_type": "stream",
          "text": [
            "/usr/local/lib/python3.7/dist-packages/sklearn/model_selection/_validation.py:536: FitFailedWarning: Estimator fit failed. The score on this train-test partition for these parameters will be set to nan. Details: \n",
            "ValueError: Number of priors must match number of classes.\n",
            "\n",
            "  FitFailedWarning)\n",
            "/usr/local/lib/python3.7/dist-packages/sklearn/model_selection/_validation.py:536: FitFailedWarning: Estimator fit failed. The score on this train-test partition for these parameters will be set to nan. Details: \n",
            "ValueError: Number of priors must match number of classes.\n",
            "\n",
            "  FitFailedWarning)\n",
            "/usr/local/lib/python3.7/dist-packages/sklearn/model_selection/_validation.py:536: FitFailedWarning: Estimator fit failed. The score on this train-test partition for these parameters will be set to nan. Details: \n",
            "ValueError: Number of priors must match number of classes.\n",
            "\n",
            "  FitFailedWarning)\n",
            "/usr/local/lib/python3.7/dist-packages/sklearn/model_selection/_validation.py:536: FitFailedWarning: Estimator fit failed. The score on this train-test partition for these parameters will be set to nan. Details: \n",
            "ValueError: Number of priors must match number of classes.\n",
            "\n",
            "  FitFailedWarning)\n"
          ],
          "name": "stderr"
        },
        {
          "output_type": "stream",
          "text": [
            "[CV]  alpha=1.0, class_prior=[0.2, 0.8], fit_prior=True, score=nan, total=   0.1s\n",
            "[CV] alpha=1.0, class_prior=[0.2, 0.8], fit_prior=True ...............\n",
            "[CV]  alpha=1.0, class_prior=[0.2, 0.8], fit_prior=True, score=nan, total=   0.1s\n",
            "[CV] alpha=1.0, class_prior=[0.2, 0.8], fit_prior=True ...............\n",
            "[CV]  alpha=1.0, class_prior=[0.2, 0.8], fit_prior=True, score=nan, total=   0.1s\n",
            "[CV] alpha=1.0, class_prior=[0.2, 0.8], fit_prior=True ...............\n",
            "[CV]  alpha=1.0, class_prior=[0.2, 0.8], fit_prior=True, score=nan, total=   0.1s\n",
            "[CV] alpha=1.0, class_prior=[0.2, 0.8], fit_prior=False ..............\n"
          ],
          "name": "stdout"
        },
        {
          "output_type": "stream",
          "text": [
            "/usr/local/lib/python3.7/dist-packages/sklearn/model_selection/_validation.py:536: FitFailedWarning: Estimator fit failed. The score on this train-test partition for these parameters will be set to nan. Details: \n",
            "ValueError: Number of priors must match number of classes.\n",
            "\n",
            "  FitFailedWarning)\n",
            "/usr/local/lib/python3.7/dist-packages/sklearn/model_selection/_validation.py:536: FitFailedWarning: Estimator fit failed. The score on this train-test partition for these parameters will be set to nan. Details: \n",
            "ValueError: Number of priors must match number of classes.\n",
            "\n",
            "  FitFailedWarning)\n",
            "/usr/local/lib/python3.7/dist-packages/sklearn/model_selection/_validation.py:536: FitFailedWarning: Estimator fit failed. The score on this train-test partition for these parameters will be set to nan. Details: \n",
            "ValueError: Number of priors must match number of classes.\n",
            "\n",
            "  FitFailedWarning)\n",
            "/usr/local/lib/python3.7/dist-packages/sklearn/model_selection/_validation.py:536: FitFailedWarning: Estimator fit failed. The score on this train-test partition for these parameters will be set to nan. Details: \n",
            "ValueError: Number of priors must match number of classes.\n",
            "\n",
            "  FitFailedWarning)\n"
          ],
          "name": "stderr"
        },
        {
          "output_type": "stream",
          "text": [
            "[CV]  alpha=1.0, class_prior=[0.2, 0.8], fit_prior=False, score=nan, total=   0.1s\n",
            "[CV] alpha=1.0, class_prior=[0.2, 0.8], fit_prior=False ..............\n",
            "[CV]  alpha=1.0, class_prior=[0.2, 0.8], fit_prior=False, score=nan, total=   0.1s\n",
            "[CV] alpha=1.0, class_prior=[0.2, 0.8], fit_prior=False ..............\n",
            "[CV]  alpha=1.0, class_prior=[0.2, 0.8], fit_prior=False, score=nan, total=   0.1s\n",
            "[CV] alpha=1.0, class_prior=[0.2, 0.8], fit_prior=False ..............\n",
            "[CV]  alpha=1.0, class_prior=[0.2, 0.8], fit_prior=False, score=nan, total=   0.1s\n",
            "[CV] alpha=1.0, class_prior=[0.2, 0.8], fit_prior=False ..............\n"
          ],
          "name": "stdout"
        },
        {
          "output_type": "stream",
          "text": [
            "/usr/local/lib/python3.7/dist-packages/sklearn/model_selection/_validation.py:536: FitFailedWarning: Estimator fit failed. The score on this train-test partition for these parameters will be set to nan. Details: \n",
            "ValueError: Number of priors must match number of classes.\n",
            "\n",
            "  FitFailedWarning)\n",
            "/usr/local/lib/python3.7/dist-packages/sklearn/model_selection/_validation.py:536: FitFailedWarning: Estimator fit failed. The score on this train-test partition for these parameters will be set to nan. Details: \n",
            "ValueError: Number of priors must match number of classes.\n",
            "\n",
            "  FitFailedWarning)\n",
            "/usr/local/lib/python3.7/dist-packages/sklearn/model_selection/_validation.py:536: FitFailedWarning: Estimator fit failed. The score on this train-test partition for these parameters will be set to nan. Details: \n",
            "ValueError: Number of priors must match number of classes.\n",
            "\n",
            "  FitFailedWarning)\n",
            "/usr/local/lib/python3.7/dist-packages/sklearn/model_selection/_validation.py:536: FitFailedWarning: Estimator fit failed. The score on this train-test partition for these parameters will be set to nan. Details: \n",
            "ValueError: Number of priors must match number of classes.\n",
            "\n",
            "  FitFailedWarning)\n"
          ],
          "name": "stderr"
        },
        {
          "output_type": "stream",
          "text": [
            "[CV]  alpha=1.0, class_prior=[0.2, 0.8], fit_prior=False, score=nan, total=   0.1s\n",
            "[CV] alpha=1.0, class_prior=[0.3, 0.7], fit_prior=True ...............\n",
            "[CV]  alpha=1.0, class_prior=[0.3, 0.7], fit_prior=True, score=nan, total=   0.1s\n",
            "[CV] alpha=1.0, class_prior=[0.3, 0.7], fit_prior=True ...............\n",
            "[CV]  alpha=1.0, class_prior=[0.3, 0.7], fit_prior=True, score=nan, total=   0.1s\n",
            "[CV] alpha=1.0, class_prior=[0.3, 0.7], fit_prior=True ...............\n",
            "[CV]  alpha=1.0, class_prior=[0.3, 0.7], fit_prior=True, score=nan, total=   0.1s\n",
            "[CV] alpha=1.0, class_prior=[0.3, 0.7], fit_prior=True ...............\n"
          ],
          "name": "stdout"
        },
        {
          "output_type": "stream",
          "text": [
            "/usr/local/lib/python3.7/dist-packages/sklearn/model_selection/_validation.py:536: FitFailedWarning: Estimator fit failed. The score on this train-test partition for these parameters will be set to nan. Details: \n",
            "ValueError: Number of priors must match number of classes.\n",
            "\n",
            "  FitFailedWarning)\n",
            "/usr/local/lib/python3.7/dist-packages/sklearn/model_selection/_validation.py:536: FitFailedWarning: Estimator fit failed. The score on this train-test partition for these parameters will be set to nan. Details: \n",
            "ValueError: Number of priors must match number of classes.\n",
            "\n",
            "  FitFailedWarning)\n",
            "/usr/local/lib/python3.7/dist-packages/sklearn/model_selection/_validation.py:536: FitFailedWarning: Estimator fit failed. The score on this train-test partition for these parameters will be set to nan. Details: \n",
            "ValueError: Number of priors must match number of classes.\n",
            "\n",
            "  FitFailedWarning)\n",
            "/usr/local/lib/python3.7/dist-packages/sklearn/model_selection/_validation.py:536: FitFailedWarning: Estimator fit failed. The score on this train-test partition for these parameters will be set to nan. Details: \n",
            "ValueError: Number of priors must match number of classes.\n",
            "\n",
            "  FitFailedWarning)\n"
          ],
          "name": "stderr"
        },
        {
          "output_type": "stream",
          "text": [
            "[CV]  alpha=1.0, class_prior=[0.3, 0.7], fit_prior=True, score=nan, total=   0.1s\n",
            "[CV] alpha=1.0, class_prior=[0.3, 0.7], fit_prior=True ...............\n",
            "[CV]  alpha=1.0, class_prior=[0.3, 0.7], fit_prior=True, score=nan, total=   0.1s\n",
            "[CV] alpha=1.0, class_prior=[0.3, 0.7], fit_prior=False ..............\n",
            "[CV]  alpha=1.0, class_prior=[0.3, 0.7], fit_prior=False, score=nan, total=   0.1s\n",
            "[CV] alpha=1.0, class_prior=[0.3, 0.7], fit_prior=False ..............\n",
            "[CV]  alpha=1.0, class_prior=[0.3, 0.7], fit_prior=False, score=nan, total=   0.1s\n",
            "[CV] alpha=1.0, class_prior=[0.3, 0.7], fit_prior=False ..............\n"
          ],
          "name": "stdout"
        },
        {
          "output_type": "stream",
          "text": [
            "/usr/local/lib/python3.7/dist-packages/sklearn/model_selection/_validation.py:536: FitFailedWarning: Estimator fit failed. The score on this train-test partition for these parameters will be set to nan. Details: \n",
            "ValueError: Number of priors must match number of classes.\n",
            "\n",
            "  FitFailedWarning)\n",
            "/usr/local/lib/python3.7/dist-packages/sklearn/model_selection/_validation.py:536: FitFailedWarning: Estimator fit failed. The score on this train-test partition for these parameters will be set to nan. Details: \n",
            "ValueError: Number of priors must match number of classes.\n",
            "\n",
            "  FitFailedWarning)\n",
            "/usr/local/lib/python3.7/dist-packages/sklearn/model_selection/_validation.py:536: FitFailedWarning: Estimator fit failed. The score on this train-test partition for these parameters will be set to nan. Details: \n",
            "ValueError: Number of priors must match number of classes.\n",
            "\n",
            "  FitFailedWarning)\n",
            "/usr/local/lib/python3.7/dist-packages/sklearn/model_selection/_validation.py:536: FitFailedWarning: Estimator fit failed. The score on this train-test partition for these parameters will be set to nan. Details: \n",
            "ValueError: Number of priors must match number of classes.\n",
            "\n",
            "  FitFailedWarning)\n"
          ],
          "name": "stderr"
        },
        {
          "output_type": "stream",
          "text": [
            "[CV]  alpha=1.0, class_prior=[0.3, 0.7], fit_prior=False, score=nan, total=   0.1s\n",
            "[CV] alpha=1.0, class_prior=[0.3, 0.7], fit_prior=False ..............\n",
            "[CV]  alpha=1.0, class_prior=[0.3, 0.7], fit_prior=False, score=nan, total=   0.1s\n",
            "[CV] alpha=1.0, class_prior=[0.3, 0.7], fit_prior=False ..............\n",
            "[CV]  alpha=1.0, class_prior=[0.3, 0.7], fit_prior=False, score=nan, total=   0.1s\n",
            "[CV] alpha=1.0, class_prior=[0.4, 0.6], fit_prior=True ...............\n",
            "[CV]  alpha=1.0, class_prior=[0.4, 0.6], fit_prior=True, score=nan, total=   0.1s\n",
            "[CV] alpha=1.0, class_prior=[0.4, 0.6], fit_prior=True ...............\n"
          ],
          "name": "stdout"
        },
        {
          "output_type": "stream",
          "text": [
            "/usr/local/lib/python3.7/dist-packages/sklearn/model_selection/_validation.py:536: FitFailedWarning: Estimator fit failed. The score on this train-test partition for these parameters will be set to nan. Details: \n",
            "ValueError: Number of priors must match number of classes.\n",
            "\n",
            "  FitFailedWarning)\n",
            "/usr/local/lib/python3.7/dist-packages/sklearn/model_selection/_validation.py:536: FitFailedWarning: Estimator fit failed. The score on this train-test partition for these parameters will be set to nan. Details: \n",
            "ValueError: Number of priors must match number of classes.\n",
            "\n",
            "  FitFailedWarning)\n",
            "/usr/local/lib/python3.7/dist-packages/sklearn/model_selection/_validation.py:536: FitFailedWarning: Estimator fit failed. The score on this train-test partition for these parameters will be set to nan. Details: \n",
            "ValueError: Number of priors must match number of classes.\n",
            "\n",
            "  FitFailedWarning)\n",
            "/usr/local/lib/python3.7/dist-packages/sklearn/model_selection/_validation.py:536: FitFailedWarning: Estimator fit failed. The score on this train-test partition for these parameters will be set to nan. Details: \n",
            "ValueError: Number of priors must match number of classes.\n",
            "\n",
            "  FitFailedWarning)\n"
          ],
          "name": "stderr"
        },
        {
          "output_type": "stream",
          "text": [
            "[CV]  alpha=1.0, class_prior=[0.4, 0.6], fit_prior=True, score=nan, total=   0.1s\n",
            "[CV] alpha=1.0, class_prior=[0.4, 0.6], fit_prior=True ...............\n",
            "[CV]  alpha=1.0, class_prior=[0.4, 0.6], fit_prior=True, score=nan, total=   0.1s\n",
            "[CV] alpha=1.0, class_prior=[0.4, 0.6], fit_prior=True ...............\n",
            "[CV]  alpha=1.0, class_prior=[0.4, 0.6], fit_prior=True, score=nan, total=   0.1s\n",
            "[CV] alpha=1.0, class_prior=[0.4, 0.6], fit_prior=True ...............\n",
            "[CV]  alpha=1.0, class_prior=[0.4, 0.6], fit_prior=True, score=nan, total=   0.1s\n",
            "[CV] alpha=1.0, class_prior=[0.4, 0.6], fit_prior=False ..............\n"
          ],
          "name": "stdout"
        },
        {
          "output_type": "stream",
          "text": [
            "/usr/local/lib/python3.7/dist-packages/sklearn/model_selection/_validation.py:536: FitFailedWarning: Estimator fit failed. The score on this train-test partition for these parameters will be set to nan. Details: \n",
            "ValueError: Number of priors must match number of classes.\n",
            "\n",
            "  FitFailedWarning)\n",
            "/usr/local/lib/python3.7/dist-packages/sklearn/model_selection/_validation.py:536: FitFailedWarning: Estimator fit failed. The score on this train-test partition for these parameters will be set to nan. Details: \n",
            "ValueError: Number of priors must match number of classes.\n",
            "\n",
            "  FitFailedWarning)\n",
            "/usr/local/lib/python3.7/dist-packages/sklearn/model_selection/_validation.py:536: FitFailedWarning: Estimator fit failed. The score on this train-test partition for these parameters will be set to nan. Details: \n",
            "ValueError: Number of priors must match number of classes.\n",
            "\n",
            "  FitFailedWarning)\n",
            "/usr/local/lib/python3.7/dist-packages/sklearn/model_selection/_validation.py:536: FitFailedWarning: Estimator fit failed. The score on this train-test partition for these parameters will be set to nan. Details: \n",
            "ValueError: Number of priors must match number of classes.\n",
            "\n",
            "  FitFailedWarning)\n"
          ],
          "name": "stderr"
        },
        {
          "output_type": "stream",
          "text": [
            "[CV]  alpha=1.0, class_prior=[0.4, 0.6], fit_prior=False, score=nan, total=   0.1s\n",
            "[CV] alpha=1.0, class_prior=[0.4, 0.6], fit_prior=False ..............\n",
            "[CV]  alpha=1.0, class_prior=[0.4, 0.6], fit_prior=False, score=nan, total=   0.1s\n",
            "[CV] alpha=1.0, class_prior=[0.4, 0.6], fit_prior=False ..............\n",
            "[CV]  alpha=1.0, class_prior=[0.4, 0.6], fit_prior=False, score=nan, total=   0.1s\n",
            "[CV] alpha=1.0, class_prior=[0.4, 0.6], fit_prior=False ..............\n",
            "[CV]  alpha=1.0, class_prior=[0.4, 0.6], fit_prior=False, score=nan, total=   0.1s\n",
            "[CV] alpha=1.0, class_prior=[0.4, 0.6], fit_prior=False ..............\n"
          ],
          "name": "stdout"
        },
        {
          "output_type": "stream",
          "text": [
            "/usr/local/lib/python3.7/dist-packages/sklearn/model_selection/_validation.py:536: FitFailedWarning: Estimator fit failed. The score on this train-test partition for these parameters will be set to nan. Details: \n",
            "ValueError: Number of priors must match number of classes.\n",
            "\n",
            "  FitFailedWarning)\n",
            "/usr/local/lib/python3.7/dist-packages/sklearn/model_selection/_validation.py:536: FitFailedWarning: Estimator fit failed. The score on this train-test partition for these parameters will be set to nan. Details: \n",
            "ValueError: Number of priors must match number of classes.\n",
            "\n",
            "  FitFailedWarning)\n",
            "/usr/local/lib/python3.7/dist-packages/sklearn/model_selection/_validation.py:536: FitFailedWarning: Estimator fit failed. The score on this train-test partition for these parameters will be set to nan. Details: \n",
            "ValueError: Number of priors must match number of classes.\n",
            "\n",
            "  FitFailedWarning)\n",
            "/usr/local/lib/python3.7/dist-packages/sklearn/model_selection/_validation.py:536: FitFailedWarning: Estimator fit failed. The score on this train-test partition for these parameters will be set to nan. Details: \n",
            "ValueError: Number of priors must match number of classes.\n",
            "\n",
            "  FitFailedWarning)\n",
            "[Parallel(n_jobs=1)]: Done 250 out of 250 | elapsed:   20.8s finished\n"
          ],
          "name": "stderr"
        },
        {
          "output_type": "stream",
          "text": [
            "[CV]  alpha=1.0, class_prior=[0.4, 0.6], fit_prior=False, score=nan, total=   0.1s\n",
            "tuned hpyerparameters :(best parameters)  {'alpha': 1.0, 'class_prior': None, 'fit_prior': False}\n",
            "accuracy : 0.8055555555555556\n"
          ],
          "name": "stdout"
        }
      ]
    },
    {
      "cell_type": "code",
      "metadata": {
        "colab": {
          "base_uri": "https://localhost:8080/"
        },
        "id": "JxLpdjpPjbSS",
        "outputId": "c260bb07-19e0-4a37-9a57-9f3ea2982f2a"
      },
      "source": [
        "predicted_cv_multinomial = cv_multinomial.predict(X_test_tfidf)\n",
        "print(\"정확도: \", accuracy_score(y_test, predicted_cv_multinomial))"
      ],
      "execution_count": null,
      "outputs": [
        {
          "output_type": "stream",
          "text": [
            "정확도:  0.765\n"
          ],
          "name": "stdout"
        }
      ]
    },
    {
      "cell_type": "code",
      "metadata": {
        "id": "sYtayQX8XKVu"
      },
      "source": [
        ""
      ],
      "execution_count": null,
      "outputs": []
    }
  ]
}
