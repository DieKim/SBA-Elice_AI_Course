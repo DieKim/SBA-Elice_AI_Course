{
  "nbformat": 4,
  "nbformat_minor": 0,
  "metadata": {
    "accelerator": "GPU",
    "colab": {
      "name": "Bidirectional_LSTM.ipynb",
      "provenance": [],
      "collapsed_sections": [],
      "toc_visible": true,
      "include_colab_link": true
    },
    "kernelspec": {
      "display_name": "Python 3",
      "language": "python",
      "name": "python3"
    },
    "language_info": {
      "codemirror_mode": {
        "name": "ipython",
        "version": 3
      },
      "file_extension": ".py",
      "mimetype": "text/x-python",
      "name": "python",
      "nbconvert_exporter": "python",
      "pygments_lexer": "ipython3",
      "version": "3.7.3"
    }
  },
  "cells": [
    {
      "cell_type": "markdown",
      "metadata": {
        "id": "view-in-github",
        "colab_type": "text"
      },
      "source": [
        "<a href=\"https://colab.research.google.com/github/DieKim/SBA-Elice_Project_NLP/blob/main/sba_project_emoing/Bidirectional_LSTM.ipynb\" target=\"_parent\"><img src=\"https://colab.research.google.com/assets/colab-badge.svg\" alt=\"Open In Colab\"/></a>"
      ]
    },
    {
      "cell_type": "markdown",
      "metadata": {
        "id": "-lz_RqtIgfmb"
      },
      "source": [
        "# 준비"
      ]
    },
    {
      "cell_type": "code",
      "metadata": {
        "colab": {
          "base_uri": "https://localhost:8080/"
        },
        "id": "dVwebaotglgE",
        "outputId": "e7fc4f20-7dc3-4e2b-c717-6fc99259f89b"
      },
      "source": [
        "from google.colab import drive\n",
        "drive.mount('/content/drive/')"
      ],
      "execution_count": null,
      "outputs": [
        {
          "output_type": "stream",
          "text": [
            "Mounted at /content/drive/\n"
          ],
          "name": "stdout"
        }
      ]
    },
    {
      "cell_type": "code",
      "metadata": {
        "id": "19CfhHtygioA"
      },
      "source": [
        "import numpy as np\n",
        "import keras\n",
        "from  keras.preprocessing.text import Tokenizer\n",
        "from keras.preprocessing.sequence import pad_sequences\n",
        "import os\n",
        "import pandas as pd\n",
        "from keras.utils import to_categorical\n",
        "import matplotlib.pyplot as plt\n",
        "from sklearn.metrics import classification_report"
      ],
      "execution_count": null,
      "outputs": []
    },
    {
      "cell_type": "code",
      "metadata": {
        "id": "f0u4rElohEnP"
      },
      "source": [
        "df_train = pd.read_csv('/content/drive/MyDrive/sentimental_analysis_project/data/train.txt', header =None, sep =';', names = ['Sentence','Emotion'], encoding='utf-8')\n",
        "df_test = pd.read_csv('/content/drive/MyDrive/sentimental_analysis_project/data/test.txt', header = None, sep =';', names = ['Sentence','Emotion'],encoding='utf-8')\n",
        "df_val=pd.read_csv('/content/drive/MyDrive/sentimental_analysis_project/data/val.txt',header=None,sep=';',names=['Sentence','Emotion'],encoding='utf-8')"
      ],
      "execution_count": null,
      "outputs": []
    },
    {
      "cell_type": "code",
      "metadata": {
        "colab": {
          "base_uri": "https://localhost:8080/"
        },
        "id": "Pc3R2OUYhwjM",
        "outputId": "769b05a1-6d00-4b40-b9d6-874cc88ff4b9"
      },
      "source": [
        "df_train['Emotion'].value_counts()"
      ],
      "execution_count": null,
      "outputs": [
        {
          "output_type": "execute_result",
          "data": {
            "text/plain": [
              "joy         5362\n",
              "sadness     4666\n",
              "anger       2159\n",
              "fear        1937\n",
              "love        1304\n",
              "surprise     572\n",
              "Name: Emotion, dtype: int64"
            ]
          },
          "metadata": {
            "tags": []
          },
          "execution_count": 4
        }
      ]
    },
    {
      "cell_type": "code",
      "metadata": {
        "id": "LsY93lDMhNyc"
      },
      "source": [
        "X=df_train['Sentence']"
      ],
      "execution_count": null,
      "outputs": []
    },
    {
      "cell_type": "code",
      "metadata": {
        "id": "UgmXL23khifB"
      },
      "source": [
        "lst=[]\n",
        "for i in X:\n",
        "  lst.append(len(i))"
      ],
      "execution_count": null,
      "outputs": []
    },
    {
      "cell_type": "code",
      "metadata": {
        "colab": {
          "base_uri": "https://localhost:8080/",
          "height": 287
        },
        "id": "Y3kpORAwh4Tu",
        "outputId": "b3a60049-7d91-4ea8-e324-bffe0056b1e5"
      },
      "source": [
        "len1=pd.DataFrame(lst)\n",
        "len1.describe()"
      ],
      "execution_count": null,
      "outputs": [
        {
          "output_type": "execute_result",
          "data": {
            "text/html": [
              "<div>\n",
              "<style scoped>\n",
              "    .dataframe tbody tr th:only-of-type {\n",
              "        vertical-align: middle;\n",
              "    }\n",
              "\n",
              "    .dataframe tbody tr th {\n",
              "        vertical-align: top;\n",
              "    }\n",
              "\n",
              "    .dataframe thead th {\n",
              "        text-align: right;\n",
              "    }\n",
              "</style>\n",
              "<table border=\"1\" class=\"dataframe\">\n",
              "  <thead>\n",
              "    <tr style=\"text-align: right;\">\n",
              "      <th></th>\n",
              "      <th>0</th>\n",
              "    </tr>\n",
              "  </thead>\n",
              "  <tbody>\n",
              "    <tr>\n",
              "      <th>count</th>\n",
              "      <td>16000.000000</td>\n",
              "    </tr>\n",
              "    <tr>\n",
              "      <th>mean</th>\n",
              "      <td>96.845812</td>\n",
              "    </tr>\n",
              "    <tr>\n",
              "      <th>std</th>\n",
              "      <td>55.904953</td>\n",
              "    </tr>\n",
              "    <tr>\n",
              "      <th>min</th>\n",
              "      <td>7.000000</td>\n",
              "    </tr>\n",
              "    <tr>\n",
              "      <th>25%</th>\n",
              "      <td>53.000000</td>\n",
              "    </tr>\n",
              "    <tr>\n",
              "      <th>50%</th>\n",
              "      <td>86.000000</td>\n",
              "    </tr>\n",
              "    <tr>\n",
              "      <th>75%</th>\n",
              "      <td>129.000000</td>\n",
              "    </tr>\n",
              "    <tr>\n",
              "      <th>max</th>\n",
              "      <td>300.000000</td>\n",
              "    </tr>\n",
              "  </tbody>\n",
              "</table>\n",
              "</div>"
            ],
            "text/plain": [
              "                  0\n",
              "count  16000.000000\n",
              "mean      96.845812\n",
              "std       55.904953\n",
              "min        7.000000\n",
              "25%       53.000000\n",
              "50%       86.000000\n",
              "75%      129.000000\n",
              "max      300.000000"
            ]
          },
          "metadata": {
            "tags": []
          },
          "execution_count": 7
        }
      ]
    },
    {
      "cell_type": "code",
      "metadata": {
        "id": "Rotkc8j2h5WS"
      },
      "source": [
        "cts=[]\n",
        "for i in range(7,301):\n",
        "   ct=0\n",
        "   for k in lst:\n",
        "     if k==i:\n",
        "       ct+=1\n",
        "   cts.append(ct)"
      ],
      "execution_count": null,
      "outputs": []
    },
    {
      "cell_type": "code",
      "metadata": {
        "colab": {
          "base_uri": "https://localhost:8080/",
          "height": 265
        },
        "id": "WGNm1B0xh7hq",
        "outputId": "40622d35-3bd4-47c2-8739-3e411fffee6d"
      },
      "source": [
        "plt.bar(range(7,301),cts)\n",
        "plt.show()"
      ],
      "execution_count": null,
      "outputs": [
        {
          "output_type": "display_data",
          "data": {
            "image/png": "[encoded data removed]",
            "text/plain": [
              "<Figure size 432x288 with 1 Axes>"
            ]
          },
          "metadata": {
            "tags": [],
            "needs_background": "light"
          }
        }
      ]
    },
    {
      "cell_type": "markdown",
      "metadata": {
        "id": "qwACsDJGhMLQ"
      },
      "source": [
        "# 전처리"
      ]
    },
    {
      "cell_type": "code",
      "metadata": {
        "id": "8-ZoIlAzh9au"
      },
      "source": [
        "# Tokenizer\n",
        "tokenizer=Tokenizer(15212,lower=True,oov_token='UNK')\n",
        "tokenizer.fit_on_texts(X)"
      ],
      "execution_count": null,
      "outputs": []
    },
    {
      "cell_type": "code",
      "metadata": {
        "colab": {
          "base_uri": "https://localhost:8080/"
        },
        "id": "H0hnvzhyiFn0",
        "outputId": "4b965e64-f805-4b4e-b0cf-1bee36232d56"
      },
      "source": [
        "len(tokenizer.word_index)"
      ],
      "execution_count": null,
      "outputs": [
        {
          "output_type": "execute_result",
          "data": {
            "text/plain": [
              "15213"
            ]
          },
          "metadata": {
            "tags": []
          },
          "execution_count": 11
        }
      ]
    },
    {
      "cell_type": "code",
      "metadata": {
        "id": "T436dViniGup"
      },
      "source": [
        "X_train=tokenizer.texts_to_sequences(X)\n",
        "X_train_pad=pad_sequences(X_train,maxlen=80,padding='post')"
      ],
      "execution_count": null,
      "outputs": []
    },
    {
      "cell_type": "code",
      "metadata": {
        "id": "BK02H1JsiI9x"
      },
      "source": [
        "df_train['Emotion']=df_train.Emotion.replace({'joy':0,'anger':1,'love':2,'sadness':3,'fear':4,'surprise':5})"
      ],
      "execution_count": null,
      "outputs": []
    },
    {
      "cell_type": "code",
      "metadata": {
        "id": "4jZXXyWHiNM4"
      },
      "source": [
        "Y_train=df_train['Emotion'].values"
      ],
      "execution_count": null,
      "outputs": []
    },
    {
      "cell_type": "code",
      "metadata": {
        "colab": {
          "base_uri": "https://localhost:8080/"
        },
        "id": "22Av0LEtiPEw",
        "outputId": "4b88de99-9028-4406-fc2c-9b00a65f71a2"
      },
      "source": [
        "# One hot Encoding\n",
        "Y_train_f=to_categorical(Y_train)\n",
        "Y_train_f[:6]"
      ],
      "execution_count": null,
      "outputs": [
        {
          "output_type": "execute_result",
          "data": {
            "text/plain": [
              "array([[0., 0., 0., 1., 0., 0.],\n",
              "       [0., 0., 0., 1., 0., 0.],\n",
              "       [0., 1., 0., 0., 0., 0.],\n",
              "       [0., 0., 1., 0., 0., 0.],\n",
              "       [0., 1., 0., 0., 0., 0.],\n",
              "       [0., 0., 0., 1., 0., 0.]], dtype=float32)"
            ]
          },
          "metadata": {
            "tags": []
          },
          "execution_count": 15
        }
      ]
    },
    {
      "cell_type": "code",
      "metadata": {
        "id": "w95FhIXQiaQG"
      },
      "source": [
        "X_val=df_val['Sentence']\n",
        "Y_val=df_val.Emotion.replace({'joy':0,'anger':1,'love':2,'sadness':3,'fear':4,'surprise':5})"
      ],
      "execution_count": null,
      "outputs": []
    },
    {
      "cell_type": "code",
      "metadata": {
        "id": "Sx4wN3k9ieG6"
      },
      "source": [
        "# padding\n",
        "X_val_f=tokenizer.texts_to_sequences(X_val)\n",
        "X_val_pad=pad_sequences(X_val_f,maxlen=80,padding='post')"
      ],
      "execution_count": null,
      "outputs": []
    },
    {
      "cell_type": "code",
      "metadata": {
        "colab": {
          "base_uri": "https://localhost:8080/"
        },
        "id": "v9bxFJKTif1w",
        "outputId": "18356437-a74c-45b9-edf3-1eb0e202a391"
      },
      "source": [
        "Y_val_f=to_categorical(Y_val)\n",
        "Y_val_f[:6]"
      ],
      "execution_count": null,
      "outputs": [
        {
          "output_type": "execute_result",
          "data": {
            "text/plain": [
              "array([[0., 0., 0., 1., 0., 0.],\n",
              "       [0., 0., 0., 1., 0., 0.],\n",
              "       [0., 0., 1., 0., 0., 0.],\n",
              "       [0., 1., 0., 0., 0., 0.],\n",
              "       [1., 0., 0., 0., 0., 0.],\n",
              "       [1., 0., 0., 0., 0., 0.]], dtype=float32)"
            ]
          },
          "metadata": {
            "tags": []
          },
          "execution_count": 18
        }
      ]
    },
    {
      "cell_type": "markdown",
      "metadata": {
        "id": "86U64FXsikCi"
      },
      "source": [
        "# 모델 적합"
      ]
    },
    {
      "cell_type": "code",
      "metadata": {
        "id": "j9mqMnnmihZG"
      },
      "source": [
        "from keras.models import Sequential\n",
        "from keras.layers import LSTM,Bidirectional,Dense,Embedding,Dropout"
      ],
      "execution_count": null,
      "outputs": []
    },
    {
      "cell_type": "code",
      "metadata": {
        "colab": {
          "base_uri": "https://localhost:8080/"
        },
        "id": "N8e4DMxoilfu",
        "outputId": "5cdb8e69-d4ec-4052-fc36-7272995c0de4"
      },
      "source": [
        "model=Sequential()\n",
        "model.add(Embedding(15212,64,input_length=80))\n",
        "model.add(Dropout(0.6))\n",
        "model.add(Bidirectional(LSTM(80,return_sequences=True)))\n",
        "model.add(Bidirectional(LSTM(160)))\n",
        "model.add(Dense(6,activation='softmax'))\n",
        "print(model.summary())"
      ],
      "execution_count": null,
      "outputs": [
        {
          "output_type": "stream",
          "text": [
            "Model: \"sequential\"\n",
            "_________________________________________________________________\n",
            "Layer (type)                 Output Shape              Param #   \n",
            "=================================================================\n",
            "embedding (Embedding)        (None, 80, 64)            973568    \n",
            "_________________________________________________________________\n",
            "dropout (Dropout)            (None, 80, 64)            0         \n",
            "_________________________________________________________________\n",
            "bidirectional (Bidirectional (None, 80, 160)           92800     \n",
            "_________________________________________________________________\n",
            "bidirectional_1 (Bidirection (None, 320)               410880    \n",
            "_________________________________________________________________\n",
            "dense (Dense)                (None, 6)                 1926      \n",
            "=================================================================\n",
            "Total params: 1,479,174\n",
            "Trainable params: 1,479,174\n",
            "Non-trainable params: 0\n",
            "_________________________________________________________________\n",
            "None\n"
          ],
          "name": "stdout"
        }
      ]
    },
    {
      "cell_type": "code",
      "metadata": {
        "id": "5BSVcE8PinZq"
      },
      "source": [
        "model.compile(optimizer='adam',loss='categorical_crossentropy',metrics=['accuracy'])"
      ],
      "execution_count": null,
      "outputs": []
    },
    {
      "cell_type": "code",
      "metadata": {
        "colab": {
          "base_uri": "https://localhost:8080/"
        },
        "id": "MsYcGcd_iu6W",
        "outputId": "a25ddc71-86ee-4658-a071-d8e85bbab7ff"
      },
      "source": [
        "hist=model.fit(X_train_pad,Y_train_f,epochs=12, validation_data=(X_val_pad,Y_val_f))"
      ],
      "execution_count": null,
      "outputs": [
        {
          "output_type": "stream",
          "text": [
            "Epoch 1/12\n",
            "500/500 [==============================] - 94s 120ms/step - loss: 1.4654 - accuracy: 0.4057 - val_loss: 0.6419 - val_accuracy: 0.7885\n",
            "Epoch 2/12\n",
            "500/500 [==============================] - 58s 117ms/step - loss: 0.5727 - accuracy: 0.7967 - val_loss: 0.3465 - val_accuracy: 0.8830\n",
            "Epoch 3/12\n",
            "500/500 [==============================] - 58s 116ms/step - loss: 0.3071 - accuracy: 0.8957 - val_loss: 0.2633 - val_accuracy: 0.9075\n",
            "Epoch 4/12\n",
            "500/500 [==============================] - 58s 116ms/step - loss: 0.2197 - accuracy: 0.9261 - val_loss: 0.2556 - val_accuracy: 0.9110\n",
            "Epoch 5/12\n",
            "500/500 [==============================] - 58s 116ms/step - loss: 0.1870 - accuracy: 0.9337 - val_loss: 0.2275 - val_accuracy: 0.9205\n",
            "Epoch 6/12\n",
            "500/500 [==============================] - 58s 116ms/step - loss: 0.1401 - accuracy: 0.9476 - val_loss: 0.2303 - val_accuracy: 0.9170\n",
            "Epoch 7/12\n",
            "500/500 [==============================] - 58s 117ms/step - loss: 0.1310 - accuracy: 0.9507 - val_loss: 0.2043 - val_accuracy: 0.9285\n",
            "Epoch 8/12\n",
            "500/500 [==============================] - 60s 119ms/step - loss: 0.1081 - accuracy: 0.9592 - val_loss: 0.1968 - val_accuracy: 0.9285\n",
            "Epoch 9/12\n",
            "500/500 [==============================] - 59s 119ms/step - loss: 0.0965 - accuracy: 0.9667 - val_loss: 0.2250 - val_accuracy: 0.9230\n",
            "Epoch 10/12\n",
            "500/500 [==============================] - 60s 119ms/step - loss: 0.0849 - accuracy: 0.9684 - val_loss: 0.2318 - val_accuracy: 0.9170\n",
            "Epoch 11/12\n",
            "500/500 [==============================] - 60s 119ms/step - loss: 0.0783 - accuracy: 0.9708 - val_loss: 0.2245 - val_accuracy: 0.9250\n",
            "Epoch 12/12\n",
            "500/500 [==============================] - 59s 119ms/step - loss: 0.0667 - accuracy: 0.9751 - val_loss: 0.2380 - val_accuracy: 0.9230\n"
          ],
          "name": "stdout"
        }
      ]
    },
    {
      "cell_type": "code",
      "metadata": {
        "colab": {
          "base_uri": "https://localhost:8080/",
          "height": 264
        },
        "id": "IaZU7FvYiwi4",
        "outputId": "e833e73f-e80e-446d-a3c2-d00f60ff7369"
      },
      "source": [
        "plt.plot(hist.history['accuracy'],c='b',label='train')\n",
        "plt.plot(hist.history['val_accuracy'],c='r',label='validation')\n",
        "plt.legend(loc='lower right')\n",
        "plt.show()"
      ],
      "execution_count": null,
      "outputs": [
        {
          "output_type": "display_data",
          "data": {
            "image/png": "[encoded data removed]",
            "text/plain": [
              "<Figure size 432x288 with 1 Axes>"
            ]
          },
          "metadata": {
            "tags": [],
            "needs_background": "light"
          }
        }
      ]
    },
    {
      "cell_type": "code",
      "metadata": {
        "colab": {
          "base_uri": "https://localhost:8080/",
          "height": 264
        },
        "id": "97uXUiy6i6I1",
        "outputId": "f9abed4d-ea23-474d-a801-53c5f75fd5bf"
      },
      "source": [
        "plt.plot(hist.history['loss'],c='orange',label='train')\n",
        "plt.plot(hist.history['val_loss'],c='g',label='validation')\n",
        "plt.legend(loc='upper right')\n",
        "plt.show()"
      ],
      "execution_count": null,
      "outputs": [
        {
          "output_type": "display_data",
          "data": {
            "image/png": "[encoded data removed]",
            "text/plain": [
              "<Figure size 432x288 with 1 Axes>"
            ]
          },
          "metadata": {
            "tags": [],
            "needs_background": "light"
          }
        }
      ]
    },
    {
      "cell_type": "markdown",
      "metadata": {
        "id": "dQ-QiIMLi_M_"
      },
      "source": [
        "# 모델 평가"
      ]
    },
    {
      "cell_type": "code",
      "metadata": {
        "id": "Oaoa4Wvci6Lz"
      },
      "source": [
        "X_test=df_test['Sentence']\n",
        "Y_test=df_test.Emotion.replace({'joy':0,'anger':1,'love':2,'sadness':3,'fear':4,'surprise':5})"
      ],
      "execution_count": null,
      "outputs": []
    },
    {
      "cell_type": "code",
      "metadata": {
        "id": "UHCe-Z4_i6OF"
      },
      "source": [
        "X_test_f=tokenizer.texts_to_sequences(X_test)\n",
        "X_test_pad=pad_sequences(X_test_f,maxlen=80,padding='post')"
      ],
      "execution_count": null,
      "outputs": []
    },
    {
      "cell_type": "code",
      "metadata": {
        "id": "oItLlxwMjLHg"
      },
      "source": [
        "Y_test_f=to_categorical(Y_test)"
      ],
      "execution_count": null,
      "outputs": []
    },
    {
      "cell_type": "code",
      "metadata": {
        "colab": {
          "base_uri": "https://localhost:8080/"
        },
        "id": "mFpY3NRljMkq",
        "outputId": "7af9b8af-12e4-42ec-94c5-eff2700cb4b8"
      },
      "source": [
        "test_loss, test_accuracy = model.evaluate(X_test_pad, Y_test_f)\n",
        "print('test set accuracy: ', test_accuracy)"
      ],
      "execution_count": null,
      "outputs": [
        {
          "output_type": "stream",
          "text": [
            "63/63 [==============================] - 2s 35ms/step - loss: 0.2391 - accuracy: 0.9225\n",
            "test set accuracy:  0.9225000143051147\n"
          ],
          "name": "stdout"
        }
      ]
    },
    {
      "cell_type": "markdown",
      "metadata": {
        "id": "hUPHUywHkGE7"
      },
      "source": [
        "# For Submission"
      ]
    },
    {
      "cell_type": "code",
      "metadata": {
        "id": "I8XFjK30kII4"
      },
      "source": [
        "df_score = pd.read_csv('/content/drive/MyDrive/sentimental_analysis_project/data/score.csv',header=0, sep=';',names=['Sentence'],encoding='utf-8')"
      ],
      "execution_count": null,
      "outputs": []
    },
    {
      "cell_type": "code",
      "metadata": {
        "id": "MU12CX8bo2hi"
      },
      "source": [
        "X=df_score['Sentence']"
      ],
      "execution_count": null,
      "outputs": []
    },
    {
      "cell_type": "code",
      "metadata": {
        "id": "_CZVTeweo_SM"
      },
      "source": [
        "tokenizer=Tokenizer(15212,lower=True,oov_token='UNK')\n",
        "tokenizer.fit_on_texts(X)\n",
        "X_score=tokenizer.texts_to_sequences(X)\n",
        "X_score_pad=pad_sequences(X_score,maxlen=80,padding='post')"
      ],
      "execution_count": null,
      "outputs": []
    },
    {
      "cell_type": "code",
      "metadata": {
        "id": "qra35wS7o_Uy"
      },
      "source": [
        "score_prediction = model.predict(X_score_pad)"
      ],
      "execution_count": null,
      "outputs": []
    },
    {
      "cell_type": "code",
      "metadata": {
        "colab": {
          "base_uri": "https://localhost:8080/"
        },
        "id": "vYELCMDho_XX",
        "outputId": "f83c4ea2-ed92-4d54-97cd-92b15e6a47c0"
      },
      "source": [
        "score_prediction_label = [np.argmax(score_prediction[i]) for i in range(len(score_prediction))]\n",
        "len(score_prediction_label)"
      ],
      "execution_count": null,
      "outputs": [
        {
          "output_type": "execute_result",
          "data": {
            "text/plain": [
              "1000"
            ]
          },
          "metadata": {
            "tags": []
          },
          "execution_count": 136
        }
      ]
    },
    {
      "cell_type": "code",
      "metadata": {
        "id": "4faB4SBYo_Zt"
      },
      "source": [
        "submission_df = pd.DataFrame({\"Emotion\" : score_prediction_label})\n",
        "submission_df\n",
        "\n",
        "submission_df.to_csv('/content/drive/MyDrive/sentimental_analysis_project/data/submission.csv', index=False)"
      ],
      "execution_count": null,
      "outputs": []
    },
    {
      "cell_type": "code",
      "metadata": {
        "id": "mYNYksXgpoLo"
      },
      "source": [
        "#################################################################"
      ],
      "execution_count": null,
      "outputs": []
    },
    {
      "cell_type": "code",
      "metadata": {
        "id": "BlIsnaKGtwi0"
      },
      "source": [
        "import nltk\n",
        "from nltk.corpus import stopwords\n",
        "from nltk import sent_tokenize, word_tokenize\n",
        "from wordcloud import WordCloud, STOPWORDS, ImageColorGenerator\n",
        "from collections import Counter\n",
        "from nltk.tokenize import RegexpTokenizer, word_tokenize\n",
        "from nltk.stem import PorterStemmer\n",
        "import re"
      ],
      "execution_count": null,
      "outputs": []
    },
    {
      "cell_type": "code",
      "metadata": {
        "colab": {
          "base_uri": "https://localhost:8080/"
        },
        "id": "pQ3aHDzHtZRb",
        "outputId": "469745e4-4fe0-428a-d28c-12d75f30cfec"
      },
      "source": [
        "nltk.download('punkt')\n",
        "nltk.download('stopwords')\n",
        "\n",
        "stop_words = set(stopwords.words('english')) # stopwords\n",
        "stemmer = PorterStemmer()"
      ],
      "execution_count": null,
      "outputs": [
        {
          "output_type": "stream",
          "text": [
            "[nltk_data] Downloading package punkt to /root/nltk_data...\n",
            "[nltk_data]   Package punkt is already up-to-date!\n",
            "[nltk_data] Downloading package stopwords to /root/nltk_data...\n",
            "[nltk_data]   Package stopwords is already up-to-date!\n"
          ],
          "name": "stdout"
        }
      ]
    },
    {
      "cell_type": "code",
      "metadata": {
        "id": "39Tdz8r9tp7l"
      },
      "source": [
        "stemming_sentence_score = []\n",
        "\n",
        "for sentence in df_score['Sentence']:\n",
        "## training데이터에서 했던것처럼, word_tokenizer와 stemmer를 사용하여 word token sequence로 만들어주세요\n",
        "  word_token = word_tokenize(sentence) # toknize\n",
        "  word_token = [word for word in word_token if not word in stop_words] # remove stopwords\n",
        "  word_token = [stemmer.stem(word) for word in word_token] # stemming(어간추출)\n",
        "  stemming_sentence_score.append(word_token)"
      ],
      "execution_count": null,
      "outputs": []
    },
    {
      "cell_type": "code",
      "metadata": {
        "id": "mXAQTrcbuTXv"
      },
      "source": [
        "# stemming_sentence_score,를 bow로 표현하기\n",
        "X_score = tokenizer.texts_to_sequences(stemming_sentence_score)"
      ],
      "execution_count": null,
      "outputs": []
    },
    {
      "cell_type": "code",
      "metadata": {
        "id": "MlMvlfXtuhvT"
      },
      "source": [
        "# X_score를 padding을 붙여 일정길이로 만들어주기\n",
        "X_score_pad = pad_sequences(X_score, maxlen=35, padding='post')"
      ],
      "execution_count": null,
      "outputs": []
    },
    {
      "cell_type": "code",
      "metadata": {
        "id": "n0e5Sy_Uui6R"
      },
      "source": [
        "# 모델에서 라벨 추측하기\n",
        "score_prediction = model.predict(X_score_pad)"
      ],
      "execution_count": null,
      "outputs": []
    },
    {
      "cell_type": "code",
      "metadata": {
        "colab": {
          "base_uri": "https://localhost:8080/"
        },
        "id": "v5Fvfmh5ukfj",
        "outputId": "caba7b4a-297a-4759-f784-b74363722e37"
      },
      "source": [
        "# 최고값 뽑아내기\n",
        "score_prediction_label = [np.argmax(score_prediction[i]) for i in range(len(score_prediction))]\n",
        "len(score_prediction_label)"
      ],
      "execution_count": null,
      "outputs": [
        {
          "output_type": "execute_result",
          "data": {
            "text/plain": [
              "1000"
            ]
          },
          "metadata": {
            "tags": []
          },
          "execution_count": 73
        }
      ]
    },
    {
      "cell_type": "code",
      "metadata": {
        "id": "qhjzqbdzulv-"
      },
      "source": [
        "# 결과값 저장\n",
        "submission_df = pd.DataFrame({\"Emotion\" : score_prediction_label})\n",
        "submission_df\n",
        "\n",
        "submission_df.to_csv('/content/drive/MyDrive/sentimental_analysis_project/data/submission.csv', index=False)"
      ],
      "execution_count": null,
      "outputs": []
    },
    {
      "cell_type": "code",
      "metadata": {
        "id": "TqKCbco3uoEq"
      },
      "source": [
        "##################################################################################"
      ],
      "execution_count": null,
      "outputs": []
    },
    {
      "cell_type": "code",
      "metadata": {
        "id": "qkHWO6mdL6rb"
      },
      "source": [
        "# 데이터셋 불러오기\n",
        "df_score = pd.read_csv(('/content/drive/MyDrive/sentimental_analysis_project/data/score.csv',header=0, sep=';',names=['Sentence'],encoding='utf-8')\n",
        "stemming_sentence_score = []\n",
        "\n",
        "for sentence in df_score['Sentence']:\n",
        "    ## training데이터에서 했던것처럼, word_tokenizer와 stemmer를 사용하여 word token sequence로 만들어주세요\n",
        "    word_token = word_tokenize(sentence) # toknize\n",
        "    word_token = [word for word in word_token if not word in stop_words] # remove stopwords\n",
        "    word_token = [stemmer.stem(word) for word in word_token] # stemming(어간추출)\n",
        "    \n",
        "    stemming_sentence_score.append(word_token)\n",
        "\n",
        "## stemming_sentence_score,를 bow로 표현하기\n",
        "X_score = tokenizer.texts_to_sequences(stemming_sentence_score)\n",
        "\n",
        "## X_score를 padding을 붙여 일정길이로 만들어주기\n",
        "X_score_pad = pad_sequences(X_score, maxlen=35, padding='post')"
      ],
      "execution_count": null,
      "outputs": []
    },
    {
      "cell_type": "code",
      "metadata": {
        "id": "oKHvxwmmMBRp"
      },
      "source": [
        "# 모델에서 라벨 추측하기\n",
        "score_prediction = model.predict(X_score_pad)\n",
        "\n",
        "score_prediction = pd.Series(score_prediction.flatten())\n",
        "score_prediction.value_counts()"
      ],
      "execution_count": null,
      "outputs": []
    },
    {
      "cell_type": "code",
      "metadata": {
        "id": "oGkNR_MxMDo0"
      },
      "source": [
        "# 결과값 저장 \n",
        "submission_df = pd.DataFrame({\"Emotion\" : score_prediction_label})\n",
        "submission_df\n",
        "\n",
        "submission_df.to_csv('/content/drive/MyDrive/sentimental_analysis_project/data/submission.csv', index=False,)"
      ],
      "execution_count": null,
      "outputs": []
    }
  ]
}